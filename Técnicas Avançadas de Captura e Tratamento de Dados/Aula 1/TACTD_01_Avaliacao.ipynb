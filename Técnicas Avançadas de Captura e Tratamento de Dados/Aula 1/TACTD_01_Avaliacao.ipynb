{
  "cells": [
    {
      "cell_type": "markdown",
      "metadata": {
        "id": "view-in-github",
        "colab_type": "text"
      },
      "source": [
        "<a href=\"https://colab.research.google.com/github/Biangelica/Data-Science-MBA-CEMEAI/blob/main/T%C3%A9cnicas%20Avan%C3%A7adas%20de%20Captura%20e%20Tratamento%20de%20Dados/Aula%201/TACTD_01_Avaliacao.ipynb\" target=\"_parent\"><img src=\"https://colab.research.google.com/assets/colab-badge.svg\" alt=\"Open In Colab\"/></a>"
      ]
    },
    {
      "cell_type": "markdown",
      "metadata": {
        "id": "Z-jkYL_F26Lr"
      },
      "source": [
        "# MBA em Ciência de Dados\n",
        "# Técnicas Avançadas de Captura e Tratamento de Dados\n",
        "\n",
        "### <span style=\"color:darkred\">Módulo I - Dados Estruturados, Não Estruturados e problemas típicos em bases de dados</span>\n",
        "\n",
        "\n",
        "## <span style=\"color:darkred\">Avaliação com soluções</span>\n",
        "\n",
        "Moacir Antonelli Ponti\n",
        "\n",
        "CeMEAI - ICMC/USP São Carlos\n",
        "\n",
        "\n",
        "---"
      ]
    },
    {
      "cell_type": "code",
      "execution_count": 1,
      "metadata": {
        "id": "AhRHZf0026Ls"
      },
      "outputs": [],
      "source": [
        "# carregando a biblioteca necessária\n",
        "import pandas as pd\n",
        "import matplotlib.pyplot as plt\n",
        "import numpy as np"
      ]
    },
    {
      "cell_type": "markdown",
      "metadata": {
        "id": "6M8DOh2226Lt"
      },
      "source": [
        "\n",
        "Considere a base de dados disponível em `TACTD-01-Base-Avaliacao2024.csv`. Essa base contém dados de profissionais da área da saúde incluindo: nome, sexo, ano de nascimento, religião, país e cidade de residência, país de origem, idade ao final de 2022, salário e ano do primeiro emprego."
      ]
    },
    {
      "cell_type": "markdown",
      "metadata": {
        "id": "vDAb8G6G26Lt"
      },
      "source": [
        "### Questão 1)\n",
        "\n",
        "Considere a base de dados disponível em `TACTD-01-Base-Avaliacao2024.csv`.\n",
        "\n",
        "Analise o atributo 'Sex' buscando por dados incorretos, considerando que são corretos apenas 'F' e 'M' (em letras maiúsculas). Corrija os que forem possível corrigir.\n",
        "\n",
        "Após o tratamento, analise as linhas com dados faltantes no atributo 'Sex', i.e. linhas que não sejam 'F' nem 'M', inspecionando em conjunto com as colunas: Year of Birth, Country of Residency e City (analisar apenas essas colunas).\n",
        "\n",
        "Com essa análise podemos dizer que os dados faltantes:\n",
        "\n",
        " (a) São do tipo completamente aleatório (MCAR)<br>\n",
        " (b) São do tipo (condicionalmente) aleatório (MAR)<br>\n",
        " (c) São do tipo não aleatório<br>\n",
        " (d) Não há dados faltantes<br>\n",
        " (e) Metade são do tipo (condicionalmente) aleatório (MAR) e a outra metade completamente aleatório (MCAR)<br>"
      ]
    },
    {
      "cell_type": "code",
      "execution_count": 3,
      "metadata": {
        "id": "i5MZv0Sc26Lu"
      },
      "outputs": [],
      "source": [
        "df = pd.read_csv(\"TACTD-01-Base-Avaliacao2024.csv\")"
      ]
    },
    {
      "cell_type": "code",
      "execution_count": 10,
      "metadata": {
        "colab": {
          "base_uri": "https://localhost:8080/"
        },
        "id": "ZdkO2lUa26Lu",
        "outputId": "d47a6ab2-6eb2-4296-d63d-010410992e4c"
      },
      "outputs": [
        {
          "output_type": "execute_result",
          "data": {
            "text/plain": [
              "array(['M', 'F', 'masc', 'f', 'm', nan], dtype=object)"
            ]
          },
          "metadata": {},
          "execution_count": 10
        }
      ],
      "source": [
        "## seu codigo\n",
        "df['Sex'].unique()\n",
        "\n",
        "#(c) São do tipo não aleatório"
      ]
    },
    {
      "cell_type": "code",
      "source": [
        "df['Sex'] = df['Sex'].str.upper()\n",
        "\n",
        "df['Sex'] =  df['Sex'].replace('MASC', 'M')\n",
        "\n",
        "sex_na = df[~df['Sex'].isin(['F', 'M'])]\n",
        "\n",
        "df = df.dropna(subset=['Sex'])\n",
        "\n",
        "df['Sex'].unique()"
      ],
      "metadata": {
        "colab": {
          "base_uri": "https://localhost:8080/"
        },
        "id": "dghXNjfm40lN",
        "outputId": "8f7a6198-7c79-401a-b24d-83f3818484ba"
      },
      "execution_count": 57,
      "outputs": [
        {
          "output_type": "execute_result",
          "data": {
            "text/plain": [
              "array(['M', 'F'], dtype=object)"
            ]
          },
          "metadata": {},
          "execution_count": 57
        }
      ]
    },
    {
      "cell_type": "code",
      "source": [
        "columns = ['Sex', 'Year of Birth', 'Country of Residency', 'City']\n",
        "print(sex_na[columns])"
      ],
      "metadata": {
        "colab": {
          "base_uri": "https://localhost:8080/"
        },
        "id": "_CIJNWCB5Dig",
        "outputId": "71eb96cb-dcce-4359-96ec-5a5a83fa35b1"
      },
      "execution_count": 58,
      "outputs": [
        {
          "output_type": "stream",
          "name": "stdout",
          "text": [
            "Empty DataFrame\n",
            "Columns: [Sex, Year of Birth, Country of Residency, City]\n",
            "Index: []\n"
          ]
        }
      ]
    },
    {
      "cell_type": "code",
      "source": [
        "file_path = \"TACTD-01-Base-Avaliacao2024.csv\"\n",
        "data = pd.read_csv(file_path)\n",
        "\n",
        "# Analisar valores únicos em 'Sex' e contar ocorrências\n",
        "print(\"Valores únicos em 'Sex' e suas contagens antes da correção:\")\n",
        "print(data['Sex'].value_counts())\n",
        "\n",
        "# Corrigir valores incorretos para 'F' ou 'M'\n",
        "data['Sex'] = data['Sex'].replace(['masc', 'f', 'm'], ['M', 'F', 'M'])\n",
        "\n",
        "# Verificar novamente os valores únicos após correção\n",
        "print(\"\\nValores únicos em 'Sex' e suas contagens após a correção:\")\n",
        "print(data['Sex'].value_counts())\n",
        "\n",
        "missing_sex = data[~data['Sex'].isin(['F', 'M'])]\n",
        "\n",
        "# Mostrar essas linhas junto com 'Year of Birth', 'Country of Residency' e 'City'\n",
        "columns_to_show = ['Sex', 'Year of Birth', 'Country of Residency', 'City']\n",
        "print(\"\\nLinhas com dados faltantes em 'Sex' e suas informações:\")\n",
        "print(missing_sex[columns_to_show])\n"
      ],
      "metadata": {
        "colab": {
          "base_uri": "https://localhost:8080/"
        },
        "id": "Gk75qZRQA6iF",
        "outputId": "099dc60a-91f6-4988-b173-e0040d2e9e70"
      },
      "execution_count": 59,
      "outputs": [
        {
          "output_type": "stream",
          "name": "stdout",
          "text": [
            "Valores únicos em 'Sex' e suas contagens antes da correção:\n",
            "Sex\n",
            "F       45\n",
            "M       35\n",
            "masc     6\n",
            "f        2\n",
            "m        2\n",
            "Name: count, dtype: int64\n",
            "\n",
            "Valores únicos em 'Sex' e suas contagens após a correção:\n",
            "Sex\n",
            "F    47\n",
            "M    43\n",
            "Name: count, dtype: int64\n",
            "\n",
            "Linhas com dados faltantes em 'Sex' e suas informações:\n",
            "     Sex  Year of Birth  Country of Residency         City\n",
            "90   NaN           1986               England   Birmingham\n",
            "91   NaN           1987                Mexico     Acapulco\n",
            "92   NaN           1987               England   Birmingham\n",
            "93   NaN           1987                   USA  New Orleans\n",
            "94   NaN           1987                Brazil    São Paulo\n",
            "95   NaN           1987                Brazil    São Paulo\n",
            "96   NaN           1987             Australia     Brisbane\n",
            "97   NaN           1988                   USA  New Orleans\n",
            "98   NaN           1988                   USA  New Orleans\n",
            "99   NaN           1989                   USA  New Orleans\n",
            "100  NaN           1989                Brazil    São Paulo\n",
            "101  NaN           1990              Scotland    Edinburgh\n",
            "102  NaN           1990  United Arab Emirates        Dubai\n",
            "103  NaN           2010               England          _Dh\n"
          ]
        }
      ]
    },
    {
      "cell_type": "markdown",
      "metadata": {
        "id": "6K_RQokF26Lu"
      },
      "source": [
        "---\n",
        "\n",
        "### Questão 2)\n",
        "\n",
        "Considere a base de dados disponível em `TACTD-01-Base-Avaliacao2024` (carregue a versão original), e analise os dados no atributo 'Religion' por dados incorretos.\n",
        "1. Corrija os que for possível corrigir\n",
        "2. Marque como nulos/nans os incorretos que não foram passíveis de correção.\n",
        "\n",
        "Após os processos acima, podemos afirmar que houve:\n",
        "\n",
        " (a) 8 dados faltantes ao final, sendo 6 inicialmente errôneos, 2 dados corrigidos<br>\n",
        " (b) 8 dados faltantes ao final, sendo 4 inicialmente errôneos, nenhum corrigido<br>\n",
        " (c) 8 dados faltantes ao final, sendo 4 inicialmente errôneos, 3 dados corrigidos<br>\n",
        " (d) 9 dados faltantes ao final, sendo 6 inicialmente errôneos, 2 dados corrigidos<br>\n",
        " (e) 9 dados faltantes ao final, sendo 4 inicialmente errôneos, nenhum corrigido\n",
        ""
      ]
    },
    {
      "cell_type": "code",
      "execution_count": 40,
      "metadata": {
        "id": "PtKsHa4r26Lu"
      },
      "outputs": [],
      "source": [
        "df = pd.read_csv(\"TACTD-01-Base-Avaliacao2024.csv\")"
      ]
    },
    {
      "cell_type": "code",
      "execution_count": 43,
      "metadata": {
        "colab": {
          "base_uri": "https://localhost:8080/"
        },
        "id": "7QIRssJN26Lu",
        "outputId": "6ed1f5e6-6ae6-4959-97b2-16382cba1a49"
      },
      "outputs": [
        {
          "output_type": "execute_result",
          "data": {
            "text/plain": [
              "array(['Christian', nan, 'Jew', 'd', 'Crstian', 'Muslim', 'Buddhist',\n",
              "       'asdf', 'Jwe', '----', 'Ac%#'], dtype=object)"
            ]
          },
          "metadata": {},
          "execution_count": 43
        }
      ],
      "source": [
        "# codigo\n",
        "df['Religion'].unique()\n",
        "\n",
        "#2 corrigidos 'Crstian' 'Jwe'\n",
        "#4 'asdf' '----' 'Ac%#' 'd'\n",
        "\n",
        "# (d) 9 dados faltantes ao final, sendo 6 inicialmente errôneos, 2 dados corrigidos\n"
      ]
    },
    {
      "cell_type": "code",
      "source": [
        "df['Religion'] =  df['Religion'].replace('Crstian', 'Christian')\n",
        "df['Religion'] =  df['Religion'].replace('Jwe', 'Jew')\n",
        "\n",
        "Rel = df[~df['Religion'].isin(['Christian', 'Jew', 'Muslim', 'Buddhist'])]\n",
        "\n",
        "df.loc[df['Religion'].isin(Rel['Religion']), 'Religion'] = pd.NA\n",
        "\n",
        "df['Religion'].unique()\n",
        "\n",
        "print(df['Religion'].isnull().sum())"
      ],
      "metadata": {
        "colab": {
          "base_uri": "https://localhost:8080/"
        },
        "id": "4MMHTBSh8AIJ",
        "outputId": "0d9a4f7f-025c-40af-a5b9-62e0995dcf4c"
      },
      "execution_count": 44,
      "outputs": [
        {
          "output_type": "stream",
          "name": "stdout",
          "text": [
            "9\n"
          ]
        }
      ]
    },
    {
      "cell_type": "markdown",
      "metadata": {
        "id": "D6HKM3E026Lu"
      },
      "source": [
        "---\n",
        "### Questão 3)\n",
        "\n",
        "Quais dos items abaixo são características de dados estruturados?\n",
        "\n",
        "I - Endereçamento direto de dados individuais<br>\n",
        "II - Grande Flexibilidade na coleta/captura dos dados<br>\n",
        "III - Alta redundância<br>\n",
        "IV - Maior riqueza e variedade de informação devido ao baixo controle<br>\n",
        "V - Adequados para armazenamento e recuperação a partir de bases de dados relacionais<br>\n",
        "\n",
        "(a) I, II<br>\n",
        "(b) I, V<br>\n",
        "(c) I, IV, V<br>\n",
        "(d) II, III, V<br>\n",
        "(e) todos os items<br>\n"
      ]
    },
    {
      "cell_type": "markdown",
      "source": [
        "**RESPOSTA: (b) I, V**"
      ],
      "metadata": {
        "id": "cLmP1UlK-YcY"
      }
    },
    {
      "cell_type": "markdown",
      "metadata": {
        "id": "jvyJwfFh26Lu"
      },
      "source": [
        "---\n",
        "\n",
        "### Questão 4)\n",
        "\n",
        "Considere a base de dados disponível em `TACTD-01-Base-Avaliacao2024.csv`, e analise os dados no atributo `Salary` por meio do gráfico de caixa e depois visualizando as linhas contendo outliers mostrados no gráfico de caixa.\n",
        "\n",
        "O atributo possui:\n",
        "\n",
        "(a) 2 outliers globais<br>\n",
        "(b) 3 outliers globais<br>\n",
        "(c) 4 outliers globais<br>\n",
        "(d) 5 outliers globais<br>\n",
        "(e) 6 outliers globais<br>"
      ]
    },
    {
      "cell_type": "code",
      "execution_count": 46,
      "metadata": {
        "id": "E4Yp_Z7L26Lu"
      },
      "outputs": [],
      "source": [
        "df = pd.read_csv(\"TACTD-01-Base-Avaliacao2024.csv\")"
      ]
    },
    {
      "cell_type": "code",
      "execution_count": 50,
      "metadata": {
        "colab": {
          "base_uri": "https://localhost:8080/",
          "height": 545
        },
        "id": "aPHRxoz526Lu",
        "outputId": "cf38287d-fa8d-49e6-d0c8-db9ef8b410b0"
      },
      "outputs": [
        {
          "output_type": "display_data",
          "data": {
            "text/plain": [
              "<Figure size 800x600 with 1 Axes>"
            ],
            "image/png": "[encoded data removed]"
          },
          "metadata": {}
        }
      ],
      "source": [
        "## seu codigo\n",
        "plt.figure(figsize=(8, 6))\n",
        "df.boxplot(column=['Salary'])\n",
        "plt.title('Boxplot de Salary')\n",
        "plt.ylabel('Salary')\n",
        "plt.show()\n",
        "\n",
        "\n",
        "#(a) 2 outliers globais"
      ]
    },
    {
      "cell_type": "markdown",
      "metadata": {
        "id": "HZZZV9ZV26Lv"
      },
      "source": [
        "## Questão 5)\n",
        "\n",
        "Considere a base de dados disponível em `TACTD-01-Base-Avaliacao2024.csv`, e busque por linhas duplicadas considerando apenas os dados nas colunas `Name`, `Sex`, `City` e `Year of Birth`.\n",
        "\n",
        "A seguir, busque por atributos não informativos (redundantes/constantes) em todas as colunas. Quantas linhas duplicadas foram encontradas, e qual(is) atributo(s) pode(m) ser considerado(s) não informativo(s)?\n",
        "\n",
        "(a) 1 linha duplicada; atributos não informativos: Continent of Origin<br>\n",
        "(b) 1 linha duplicada; atributos não informativos: Profession e Country of Origin<br>\n",
        "(c) 4 linhas duplicadas; atributos não informativos: Current Age 2022, Continent of Origin<br>\n",
        "(d) 5 linhas duplicadas; atributos não informativos: Country of Origin<br>\n",
        "(e) 5 linhas duplicadas; atributos não informativos: Current Age 2022 e Continent of Origin<br>"
      ]
    },
    {
      "cell_type": "code",
      "execution_count": null,
      "metadata": {
        "id": "x56SKkU126Lv"
      },
      "outputs": [],
      "source": [
        "df = pd.read_csv(\"TACTD-01-Base-Avaliacao2024.csv\")"
      ]
    },
    {
      "cell_type": "code",
      "execution_count": 53,
      "metadata": {
        "colab": {
          "base_uri": "https://localhost:8080/"
        },
        "id": "R51va-Js26Lv",
        "outputId": "f302ce4e-885a-47c5-aa04-e04b6f4a4668"
      },
      "outputs": [
        {
          "output_type": "stream",
          "name": "stdout",
          "text": [
            "Linhas duplicadas considerando 'Name', 'Sex', 'City' e 'Year of Birth':\n",
            "              Name Sex  Year of Birth Country of Residency   Religion  \\\n",
            "18  Apolonia Abler   F           1967               Canada  Christian   \n",
            "19  Apolonia Abler   F           1967               Canada  Christian   \n",
            "20  Apolonia Abler   F           1967               Canada  Christian   \n",
            "65  Ruby Singleton   F           1982                  USA  Christian   \n",
            "66  Ruby Singleton   F           1982                  USA  Christian   \n",
            "71    Carlos Cobre   M           1983               Brazil  Christian   \n",
            "72    Carlos Cobre   M           1983               Brazil  Christian   \n",
            "\n",
            "           City Country of Origin Continent of Origin      Profession  \\\n",
            "18    Vancouver         Australia             Oceania  Police Officer   \n",
            "19    Vancouver         Australia             Oceania  Police Officer   \n",
            "20    Vancouver         Australia             Oceania  Police Officer   \n",
            "65  New Orleans         Australia             Oceania         Teacher   \n",
            "66  New Orleans         Australia             Oceania         Teacher   \n",
            "71    São Paulo         Australia             Oceania    Photographer   \n",
            "72    São Paulo         Australia             Oceania      Accountant   \n",
            "\n",
            "    Current Age 2022   Salary  Year first employment  \n",
            "18                55  41200.0                 2003.0  \n",
            "19                55  47469.2                 1993.0  \n",
            "20                55  47469.2                 2003.0  \n",
            "65                40  41000.0                 2014.0  \n",
            "66                40  41000.0                 2014.0  \n",
            "71                39  51314.7                 2012.0  \n",
            "72                39  51412.8                 2012.0  \n",
            "\n",
            "Atributos não informativos (redundantes/constantes):\n",
            "Index(['Continent of Origin'], dtype='object')\n"
          ]
        }
      ],
      "source": [
        "## seu codigo\n",
        "\n",
        "colum = ['Name', 'Sex', 'City', 'Year of Birth']\n",
        "\n",
        "duplicadas = df[df.duplicated(subset=colum, keep=False)]\n",
        "\n",
        "print(\"Linhas duplicadas considerando 'Name', 'Sex', 'City' e 'Year of Birth':\")\n",
        "print(duplicadas)\n",
        "\n",
        "non_informative_columns = df.columns[df.nunique() == 1]\n",
        "\n",
        "print(\"\\nAtributos não informativos (redundantes/constantes):\")\n",
        "print(non_informative_columns)"
      ]
    },
    {
      "cell_type": "code",
      "execution_count": 54,
      "metadata": {
        "colab": {
          "base_uri": "https://localhost:8080/"
        },
        "id": "eXjUlPsZ26Lv",
        "outputId": "c52f0882-0736-4ed2-edbf-e24285def917"
      },
      "outputs": [
        {
          "output_type": "stream",
          "name": "stdout",
          "text": [
            "\n",
            "Número de linhas duplicadas encontradas: 7\n",
            "Atributos não informativos (redundantes/constantes): Index(['Continent of Origin'], dtype='object')\n"
          ]
        }
      ],
      "source": [
        "# Imprimir número de linhas duplicadas e atributos não informativos\n",
        "print(\"\\nNúmero de linhas duplicadas encontradas:\", len(duplicadas))\n",
        "print(\"Atributos não informativos (redundantes/constantes):\", non_informative_columns)\n"
      ]
    }
  ],
  "metadata": {
    "kernelspec": {
      "display_name": "Python 3 (ipykernel)",
      "language": "python",
      "name": "python3"
    },
    "language_info": {
      "codemirror_mode": {
        "name": "ipython",
        "version": 3
      },
      "file_extension": ".py",
      "mimetype": "text/x-python",
      "name": "python",
      "nbconvert_exporter": "python",
      "pygments_lexer": "ipython3",
      "version": "3.11.8"
    },
    "colab": {
      "provenance": [],
      "include_colab_link": true
    }
  },
  "nbformat": 4,
  "nbformat_minor": 0
}