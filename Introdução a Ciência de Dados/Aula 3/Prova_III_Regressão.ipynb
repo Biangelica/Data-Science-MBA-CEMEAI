{
  "nbformat": 4,
  "nbformat_minor": 0,
  "metadata": {
    "colab": {
      "provenance": [],
      "authorship_tag": "ABX9TyNvcaOg57Pgbt7bvmSjzjeo",
      "include_colab_link": true
    },
    "kernelspec": {
      "name": "python3",
      "display_name": "Python 3"
    },
    "language_info": {
      "name": "python"
    }
  },
  "cells": [
    {
      "cell_type": "markdown",
      "metadata": {
        "id": "view-in-github",
        "colab_type": "text"
      },
      "source": [
        "<a href=\"https://colab.research.google.com/github/Biangelica/Data-Science-MBA-CEMEAI/blob/main/Introdu%C3%A7%C3%A3o%20a%20Ci%C3%AAncia%20de%20Dados/Aula%203/Prova_III_Regress%C3%A3o.ipynb\" target=\"_parent\"><img src=\"https://colab.research.google.com/assets/colab-badge.svg\" alt=\"Open In Colab\"/></a>"
      ]
    },
    {
      "cell_type": "markdown",
      "source": [
        "1) Com relação ao modelo de regressão, assinale a alternativa correta.\n",
        "\n",
        "Questão\n",
        "\n",
        "a.\n",
        "Valores de R2 próximo de 0 indicam que uma grande proporção da variabilidade dos dados são explicadas pelo modelo de regressão.\n",
        "\n",
        "\n",
        "b.\n",
        "A medida R2 é uma medida de associação não-linear.\n",
        "\n",
        "\n",
        "c.\n",
        "A acurácia é uma medida que pode ser usada no modelo de regressão.\n",
        "\n",
        "\n",
        "d.\n",
        "Não é possível usar o teste de hipóteses no modelo de regressão.\n",
        "\n",
        "\n",
        "e.\n",
        "O resíduo é definido pela diferença entre o valor real (do conjunto de treinamento) e o valor predito."
      ],
      "metadata": {
        "id": "HGzCFmVKlpOa"
      }
    },
    {
      "cell_type": "markdown",
      "source": [
        "***Resposta:***\n",
        "\n",
        "A alternativa correta é:\n",
        "\n",
        "e. O resíduo é definido pela diferença entre o valor real (do conjunto de treinamento) e o valor predito.\n",
        "\n",
        "*   A opção (a) está incorreta, pois valores de R² próximos de 0 indicam que uma pequena proporção da variabilidade dos dados é explicada pelo modelo de regressão.\n",
        "\n",
        "*   A opção (b) está incorreta, pois o R² é uma medida de associação linear entre as variáveis dependentes e independentes.\n",
        "\n",
        "\n",
        "*   A opção (c) está incorreta, pois a acurácia é mais comumente usada em problemas de classificação, não em modelos de regressão.\n",
        "\n",
        "*   A opção (d) está incorreta, pois é possível usar o teste de hipóteses no modelo de regressão para avaliar a significância dos coeficientes.\n",
        "\n"
      ],
      "metadata": {
        "id": "gRVsqA_QlupA"
      }
    },
    {
      "cell_type": "markdown",
      "source": [
        "2) Assinale a alternativa correta.\n",
        "\n",
        "Questão 2Resposta\n",
        "\n",
        "a.\n",
        "A regularização é feita ajustando o coeficiente R2.\n",
        "\n",
        "\n",
        "b.\n",
        "Lasso mantém os valores dos parâmetros pequenos e diferentes de zero.\n",
        "\n",
        "\n",
        "c.\n",
        "Em um modelo de regressão, nunca ocorre overfitting.\n",
        "\n",
        "\n",
        "d.\n",
        "Um modelo de regressão linear é linear nos parâmetros e não nas variáveis, que podem ser não lineares (ex. X2, sen(X), ln(X)).\n",
        "\n",
        "\n",
        "e.\n",
        "Ridge regression pode ser usada para selecionar atributos."
      ],
      "metadata": {
        "id": "bUvj-2RtmbQc"
      }
    },
    {
      "cell_type": "markdown",
      "source": [
        "***Resposta:***\n",
        "\n",
        "A alternativa correta é:\n",
        "\n",
        "d. Um modelo de regressão linear é linear nos parâmetros e não nas variáveis, que podem ser não lineares (ex. X^2, sen(X), ln(X)).\n",
        "\n",
        "\n",
        "\n",
        "*   A opção (a) está incorreta, pois a regularização não é feita ajustando o coeficiente R². A regularização é uma técnica usada para evitar o overfitting, geralmente ajustando os coeficientes dos parâmetros.\n",
        "*   A opção (b) está incorreta, pois o Lasso tem a propriedade de estimar alguns coeficientes como exatamente zero, mantendo outros pequenos, mas diferentes de zero.\n",
        "*   A opção (c) está incorreta, pois overfitting pode ocorrer em modelos de regressão quando o modelo se ajusta demais aos dados de treinamento, perdendo generalização para novos dados.\n",
        "*   A opção (e) está incorreta, pois a Ridge regression é usada principalmente para lidar com multicolinearidade e reduzir a complexidade do modelo, não para seleção de atributos.\n",
        "\n",
        "\n",
        "\n",
        "\n",
        "\n",
        "\n",
        "\n",
        "\n",
        "\n"
      ],
      "metadata": {
        "id": "7ScyBR7nmj78"
      }
    },
    {
      "cell_type": "markdown",
      "source": [
        "3) Considere o conjunto de dados: X = [0, 1, 2, 3, 4, 5, 6, 7, 8, 9, 10, 11, 12, 13, 14, 15], Y = [0, 3,4,5,10,8,12,15,15,19,22,21,26,28,27,29]. Calcule os coeficiente 𝑏0 e 𝑏1 na regressão linear, como vimos na aula. Ou seja, no modelo: 𝑌≈𝑏0+𝑏1𝑋 ajustado a esses dados. (Veja o exemplo no notebook. Escolha o valor mais próximo das alternativas)."
      ],
      "metadata": {
        "id": "dVWQkLqLnAt2"
      }
    },
    {
      "cell_type": "markdown",
      "source": [
        "***Resposta:***\n",
        "Para calcular os coeficientes\n",
        "b0\n",
        "  e\n",
        "b1\n",
        "  na regressão linear simples, podemos usar as fórmulas de mínimos quadrados ordinários (OLS):\n",
        "\n",
        "\n",
        "  b\n",
        "1\n",
        "​\n",
        " =\n",
        "∑\n",
        "i=1\n",
        "n\n",
        "​\n",
        " (x\n",
        "i\n",
        "​\n",
        " −\n",
        "x\n",
        "ˉ\n",
        " )\n",
        "2\n",
        "\n",
        "∑\n",
        "i=1\n",
        "n\n",
        "​\n",
        " (x\n",
        "i\n",
        "​\n",
        " −\n",
        "x\n",
        "ˉ\n",
        " )(y\n",
        "i\n",
        "​\n",
        " −\n",
        "y\n",
        "ˉ\n",
        "​\n",
        " )\n",
        "​\n",
        "\n",
        "b\n",
        "0\n",
        "​\n",
        " =\n",
        "y\n",
        "ˉ\n",
        "​\n",
        " −b\n",
        "1\n",
        "​\n",
        "  \n",
        "\n"
      ],
      "metadata": {
        "id": "eV8cCLAhpJuD"
      }
    },
    {
      "cell_type": "markdown",
      "source": [
        "![image.png](data:image/png;base64,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)"
      ],
      "metadata": {
        "id": "nKPsaCKIqLf8"
      }
    },
    {
      "cell_type": "code",
      "source": [
        "import matplotlib.pyplot as plt\n",
        "import numpy as np\n",
        "from statistics import variance\n",
        "import math\n",
        "\n",
        "x = np.array([0, 1, 2, 3, 4, 5, 6, 7, 8, 9, 10, 11, 12, 13, 14, 15])\n",
        "y = np.array([0, 3,4,5,10,8,12,15,15,19,22,21,26,28,27,29])\n",
        "\n",
        "\n",
        "# Calcular médias\n",
        "x_mean = np.mean(x)\n",
        "y_mean = np.mean(y)\n",
        "\n",
        "# Calcular coeficiente b1\n",
        "numerator = np.sum((x - x_mean) * (y - y_mean))\n",
        "denominator = np.sum((x - x_mean) ** 2)\n",
        "b1 = numerator / denominator\n",
        "\n",
        "\n",
        "# Calcular coeficiente b0\n",
        "b0 = y_mean - b1 * x_mean\n",
        "\n",
        "print(\"b0:\", round(b0, 2), \"b1:\", round(b1, 2))\n",
        "\n",
        "plt.plot(x, y, 'bo')\n",
        "plt.xlabel(\"x\", fontsize = 15)\n",
        "plt.ylabel(\"y\", fontsize = 15)\n",
        "plt.show(True)"
      ],
      "metadata": {
        "colab": {
          "base_uri": "https://localhost:8080/",
          "height": 473
        },
        "id": "Di6xvwTEnKVD",
        "outputId": "87321702-9c0c-4268-9b49-3ab8fe4ad077"
      },
      "execution_count": null,
      "outputs": [
        {
          "output_type": "stream",
          "name": "stdout",
          "text": [
            "b0: 0.16 b1: 2.01\n"
          ]
        },
        {
          "output_type": "display_data",
          "data": {
            "text/plain": [
              "<Figure size 640x480 with 1 Axes>"
            ],
            "image/png": "[encoded data removed]"
          },
          "metadata": {}
        }
      ]
    },
    {
      "cell_type": "markdown",
      "source": [
        "4) Ainda considerando os dados anteriores, qual o valor de R2?"
      ],
      "metadata": {
        "id": "gP5ZsvMNpDOb"
      }
    },
    {
      "cell_type": "code",
      "source": [
        "# Calcular os valores preditos pela regressão\n",
        "y_pred = b0 + b1 * x\n",
        "\n",
        "# Calcular R^2\n",
        "ss_total = np.sum((y - np.mean(y))**2)\n",
        "ss_res = np.sum((y - y_pred)**2)\n",
        "r_squared = 1 - (ss_res / ss_total)\n",
        "\n",
        "print(\"R^2:\", round(r_squared, 4))"
      ],
      "metadata": {
        "colab": {
          "base_uri": "https://localhost:8080/"
        },
        "id": "cMFfjdqQo8r7",
        "outputId": "a50bda7a-857a-4e6e-f0a6-d9f50b9675b1"
      },
      "execution_count": null,
      "outputs": [
        {
          "output_type": "stream",
          "name": "stdout",
          "text": [
            "R^2: 0.9808\n"
          ]
        }
      ]
    }
  ]
}