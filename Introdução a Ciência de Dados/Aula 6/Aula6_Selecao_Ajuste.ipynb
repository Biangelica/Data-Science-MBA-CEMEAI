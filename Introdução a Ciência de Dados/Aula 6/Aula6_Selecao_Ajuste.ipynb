{
  "cells": [
    {
      "cell_type": "markdown",
      "metadata": {
        "id": "view-in-github",
        "colab_type": "text"
      },
      "source": [
        "<a href=\"https://colab.research.google.com/github/Biangelica/Data-Science-MBA-CEMEAI/blob/main/Introdu%C3%A7%C3%A3o%20a%20Ci%C3%AAncia%20de%20Dados/Aula%206/Aula6_Selecao_Ajuste.ipynb\" target=\"_parent\"><img src=\"https://colab.research.google.com/assets/colab-badge.svg\" alt=\"Open In Colab\"/></a>"
      ]
    },
    {
      "cell_type": "markdown",
      "metadata": {
        "id": "Ha4aqz-RxPx_"
      },
      "source": [
        "# Ciência de Dados: Seleção e ajuste de modelos"
      ]
    },
    {
      "cell_type": "markdown",
      "metadata": {
        "id": "-EMYL5UdxPyC"
      },
      "source": [
        "Francisco Aparecido Rodrigues, francisco@icmc.usp.br.<br>\n",
        "Universidade de São Paulo, São Carlos, Brasil.<br>\n",
        "https://sites.icmc.usp.br/francisco <br>\n",
        "Copyright: Creative Commons"
      ]
    },
    {
      "cell_type": "markdown",
      "metadata": {
        "id": "Pkpt9rQ6xPyC"
      },
      "source": [
        "<hr>"
      ]
    },
    {
      "cell_type": "markdown",
      "metadata": {
        "id": "UleJ0GehxPyD"
      },
      "source": [
        "Em muitos métodos de classificação e regressão, precisamos definir os valores dos hiperparâmetros dos modelos, que são parâmetros ajustados pelo usuário. Exemplos desses métodos são o algoritmo k-vizinhos, onde precisamos definir o valor $k$, e o número de árvores no algoritmo florestas aleatórias. No caso de regressão, o desafio é identificar as variáveis mais significativas. Além disso, quando vamos selecionar modelos, é importante que usamos os mesmos conjuntos de dados de forma a termos uma comparação justa. Nessa aula, vamos aprender some seleção e ajuste modelos."
      ]
    },
    {
      "cell_type": "markdown",
      "metadata": {
        "id": "FURO52SrxPyD"
      },
      "source": [
        "## Classificação"
      ]
    },
    {
      "cell_type": "markdown",
      "metadata": {
        "id": "ZCVoGHMMxPyD"
      },
      "source": [
        "Se dividirmos o conjunto de dados em apenas duas partes, uma teste e outra para treinamento, método chamado **holdout**, depedendo da execução do classificador, podemos obter diferentes resultados. A seguir, mostramos o desempenho do classificar knn de acordo com a execução. Notem que os valores se distribuem de acordo com uma distribuição de probabilidades que se aproxima de uma distribuição Gaussiana."
      ]
    },
    {
      "cell_type": "code",
      "execution_count": 3,
      "metadata": {
        "colab": {
          "base_uri": "https://localhost:8080/",
          "height": 411
        },
        "id": "jBaIx5skxPyE",
        "outputId": "5d10ae49-69bd-449d-a69f-12dcff8349eb"
      },
      "outputs": [
        {
          "output_type": "stream",
          "name": "stdout",
          "text": [
            "Acuracia media: 0.822258064516129\n"
          ]
        },
        {
          "output_type": "display_data",
          "data": {
            "text/plain": [
              "<Figure size 600x400 with 1 Axes>"
            ],
            "image/png": "[encoded data removed]"
          },
          "metadata": {}
        }
      ],
      "source": [
        "import pandas as pd\n",
        "import numpy as np\n",
        "import matplotlib.pyplot as plt\n",
        "from sklearn.model_selection import train_test_split\n",
        "from sklearn.naive_bayes import GaussianNB\n",
        "from sklearn.metrics import accuracy_score\n",
        "\n",
        "data = pd.read_csv('vertebralcolumn-3C.csv', header=(0))\n",
        "#data = pd.read_csv('data/Iris.csv', header=(0))\n",
        "\n",
        "data = data.to_numpy()\n",
        "nrow,ncol = data.shape\n",
        "y = data[:,-1]\n",
        "X = data[:,0:ncol-1]\n",
        "\n",
        "p = 0.7 # fracao de elementos no conjunto de treinamento\n",
        "Ns = 500 # numero de execucoes da classificacao\n",
        "vacc = []\n",
        "for n in range(0, Ns):\n",
        "    X_train, X_test, y_train, y_test = train_test_split(X, y, train_size = p)\n",
        "    model = GaussianNB()\n",
        "    model.fit(X_train, y_train)\n",
        "    y_pred = model.predict(X_test)\n",
        "    score = accuracy_score(y_pred, y_test)\n",
        "    vacc.append(score)\n",
        "print('Acuracia media:', np.mean(vacc))\n",
        "plt.figure(figsize=(6,4))\n",
        "plt.hist(vacc, color='blue',alpha=0.7, rwidth=0.85, density= 'True')\n",
        "plt.xticks(color='k', size=10)\n",
        "plt.yticks(color='k', size=10)\n",
        "plt.xlabel('Accuracy', fontsize = 15)\n",
        "plt.ylabel('Density', fontsize = 15)\n",
        "plt.show(True)"
      ]
    },
    {
      "cell_type": "markdown",
      "metadata": {
        "id": "TwEcBm9FxPyF"
      },
      "source": [
        "Portanto, podemos ter uma alta ou baixa acurácia, dependendo da execução."
      ]
    },
    {
      "cell_type": "markdown",
      "metadata": {
        "id": "C7x43h_8xPyG"
      },
      "source": [
        "Além disso, a escolha dos parâmetros do modelo também é influenciada pela execução. Vamos considerar um exemplo. No classificador k-vizinhos, o hiperparâmetro $k$ influencia na classificação e a escolha do melhor valor de $k$ pode depender da execução, se usar o método hold-out, conforme vemos a seguir."
      ]
    },
    {
      "cell_type": "code",
      "execution_count": null,
      "metadata": {
        "id": "8NB1LE__xPyG",
        "outputId": "dcf524f0-af89-4a0c-a92c-0361978c2ae6"
      },
      "outputs": [
        {
          "data": {
            "image/png": "[encoded data removed]",
            "text/plain": [
              "<Figure size 600x400 with 1 Axes>"
            ]
          },
          "metadata": {},
          "output_type": "display_data"
        }
      ],
      "source": [
        "import pandas as pd\n",
        "import numpy as np\n",
        "import matplotlib.pyplot as plt\n",
        "from sklearn.model_selection import train_test_split\n",
        "from sklearn.naive_bayes import GaussianNB\n",
        "from sklearn.metrics import accuracy_score\n",
        "from sklearn.neighbors import KNeighborsClassifier\n",
        "\n",
        "data = pd.read_csv('data/vertebralcolumn-3C.csv', header=(0))\n",
        "#data = pd.read_csv('data/Iris.csv', header=(0))\n",
        "\n",
        "data = data.to_numpy()\n",
        "nrow,ncol = data.shape\n",
        "y = data[:,-1]\n",
        "X = data[:,0:ncol-1]\n",
        "\n",
        "p = 0.7 # fracao de elementos no conjunto de treinamento\n",
        "Ns = 5 # numero de execucoes da classificacao\n",
        "vk = []\n",
        "for n in range(0, Ns):\n",
        "    X_train, X_test, y_train, y_test = train_test_split(X, y, train_size = p)\n",
        "    vbest = []\n",
        "    for k in range(1, 10):\n",
        "        model = KNeighborsClassifier(n_neighbors=k, metric = 'euclidean')\n",
        "        model.fit(X_train, y_train)\n",
        "        y_pred = model.predict(X_test)\n",
        "        score = accuracy_score(y_pred, y_test)\n",
        "        vbest.append(score)\n",
        "    vk.append(np.argmax(vbest)+1)\n",
        "\n",
        "plt.figure(figsize=(6,4))\n",
        "plt.hist(vk, color='blue',alpha=0.7, rwidth=0.85, density= 'True')\n",
        "plt.xticks(color='k', size=10)\n",
        "plt.yticks(color='k', size=10)\n",
        "plt.xlabel('k', fontsize = 15)\n",
        "plt.ylabel('Density', fontsize = 15)\n",
        "plt.show(True)"
      ]
    },
    {
      "cell_type": "markdown",
      "metadata": {
        "id": "5v5tMkLJxPyG"
      },
      "source": [
        "Portanto, dependendo da execução, podemos encontrar um valor diferente para $k$, de modo a obter a melhor acurácia. Logo, não podemos obter o melhor modelo de uma maneira adequada."
      ]
    },
    {
      "cell_type": "markdown",
      "metadata": {
        "id": "DTHaHF5oxPyG"
      },
      "source": [
        "Para evitarmos essa dependência da execução e diminuirmos a variância, podemos usar os métodos de validação cruzada. Nesse método, dividimos os dados de treinamento em fold (grupos) de tamanho fixo, onde usamos k-1 folds para treinamento e um deles para validação, conforme a figura abaixo. Usamos todas as configurações possíveis."
      ]
    },
    {
      "cell_type": "markdown",
      "metadata": {
        "id": "1yerKwWhxPyG"
      },
      "source": [
        "![image.png](attachment:image.png)"
      ]
    },
    {
      "cell_type": "markdown",
      "metadata": {
        "id": "cgDu0tdwxPyH"
      },
      "source": [
        "Vamos usar o método de validação cruzada na prática."
      ]
    },
    {
      "cell_type": "code",
      "execution_count": null,
      "metadata": {
        "id": "WB5PCvCexPyH",
        "outputId": "ac021ca9-69d8-426a-a96c-4f3f7a871c69"
      },
      "outputs": [
        {
          "name": "stdout",
          "output_type": "stream",
          "text": [
            "Acuracia: 0.3870967741935484\n",
            "Acuracia: 0.6451612903225806\n",
            "Acuracia: 0.9354838709677419\n",
            "Acuracia: 0.9354838709677419\n",
            "Acuracia: 1.0\n",
            "Acuracia: 1.0\n",
            "Acuracia: 0.9354838709677419\n",
            "Acuracia: 0.6129032258064516\n",
            "Acuracia: 0.6129032258064516\n",
            "Acuracia: 0.5806451612903226\n",
            "\n",
            "Acuracia media: 0.7645161290322581\n",
            "Devido padrão da acurácia: 0.20858275045583496\n"
          ]
        }
      ],
      "source": [
        "from sklearn.model_selection import KFold\n",
        "\n",
        "cv = KFold(n_splits=10) # cria a sequência de folds\n",
        "vacc = []\n",
        "for train_index, test_index in cv.split(X, y):\n",
        "    x_train, x_test = X[train_index], X[test_index]\n",
        "    y_train, y_test = y[train_index], y[test_index]\n",
        "    model = GaussianNB()\n",
        "    model.fit(x_train,y_train)\n",
        "    y_pred = model.predict(x_test)\n",
        "    score = accuracy_score(y_pred, y_test)\n",
        "    print(\"Acuracia:\",score)\n",
        "    vacc.append(score)\n",
        "print('\\nAcuracia media:', np.mean(vacc))\n",
        "print('Devido padrão da acurácia:', np.std(vacc))"
      ]
    },
    {
      "cell_type": "markdown",
      "metadata": {
        "id": "5S_GjCJRxPyH"
      },
      "source": [
        "Caso os dados sejam desbalanceado, podemos usar ainda a validação cruzada estratificada."
      ]
    },
    {
      "cell_type": "code",
      "execution_count": null,
      "metadata": {
        "id": "mJFoPD-fxPyH",
        "outputId": "0d7e7f14-2363-404d-d4a8-9f9fb9e45c21"
      },
      "outputs": [
        {
          "name": "stdout",
          "output_type": "stream",
          "text": [
            "Acuracia: 0.8387096774193549\n",
            "Acuracia: 0.8064516129032258\n",
            "Acuracia: 0.7419354838709677\n",
            "Acuracia: 0.8064516129032258\n",
            "Acuracia: 0.9032258064516129\n",
            "Acuracia: 0.8387096774193549\n",
            "Acuracia: 0.7741935483870968\n",
            "Acuracia: 0.7741935483870968\n",
            "Acuracia: 0.8387096774193549\n",
            "Acuracia: 0.9354838709677419\n",
            "\n",
            "Acurácia media: 0.8258064516129032\n",
            "Desvio padrão da acurácia: 0.05624385733600869\n"
          ]
        }
      ],
      "source": [
        "from sklearn.model_selection import StratifiedKFold\n",
        "cv = StratifiedKFold(n_splits=10, shuffle=True, random_state=1)\n",
        "\n",
        "vacc = []\n",
        "for train_index, test_index in cv.split(X, y):\n",
        "    x_train, x_test = X[train_index], X[test_index]\n",
        "    y_train, y_test = y[train_index], y[test_index]\n",
        "    model = GaussianNB()\n",
        "    model.fit(x_train,y_train)\n",
        "    y_pred = model.predict(x_test)\n",
        "    score = accuracy_score(y_pred, y_test)\n",
        "    print(\"Acuracia:\",score)\n",
        "    vacc.append(score)\n",
        "print('\\nAcurácia media:', np.mean(vacc))\n",
        "print('Desvio padrão da acurácia:', np.std(vacc))"
      ]
    },
    {
      "cell_type": "markdown",
      "metadata": {
        "id": "zqDFZLyHxPyH"
      },
      "source": [
        "Para escolhermos os melhores hiperparâmetros do modelo usando validação cruzada, podemos usar o método GridSearch da biblioteca sckit-learn. Vamos considerar vários valores de k."
      ]
    },
    {
      "cell_type": "code",
      "execution_count": null,
      "metadata": {
        "id": "Bq3uXH0pxPyH",
        "outputId": "c871c994-0be4-4ed2-d497-d2e6edbce128"
      },
      "outputs": [
        {
          "name": "stdout",
          "output_type": "stream",
          "text": [
            "Best parameters: {'metric': 'euclidean', 'n_neighbors': 8, 'weights': 'distance'}\n",
            "Accuracy: 1.0\n"
          ]
        }
      ],
      "source": [
        "from sklearn.model_selection import GridSearchCV\n",
        "hparameters = {'n_neighbors': range(1,11),\n",
        "              'metric': ['euclidean', 'cityblock', 'cosine', 'manhattan', 'minkowski'],\n",
        "              'weights':['uniform', 'distance']\n",
        "             }\n",
        "model = KNeighborsClassifier()\n",
        "best_model = GridSearchCV(model, hparameters, cv = 10, scoring = 'accuracy', n_jobs = -1)\n",
        "best_model.fit(X,y)\n",
        "y_pred = best_model.predict(X)\n",
        "print('Best parameters:', best_model.best_params_)\n",
        "print('Accuracy:', accuracy_score(y_pred, y))"
      ]
    },
    {
      "cell_type": "markdown",
      "metadata": {
        "id": "2ECcZ2HdxPyH"
      },
      "source": [
        "Notem que nos exemplos anteriores, ainda não dividimos os dados em teste e treinamento. Usamos todo o cojunto de dados como treinamento. No entanto, na prática, devemos inicialmente separar os dados em dois conjuntos. Depois, selecionamos os melhores hipeparâmetros usando o gridsearch. Finalmente, ajustamos o modelo usando esses hiperarâmetros e fazer a classificação no conjunto de teste."
      ]
    },
    {
      "cell_type": "code",
      "execution_count": null,
      "metadata": {
        "id": "RAei_X5-xPyI",
        "outputId": "4c59adab-208e-4676-c5ad-616832dc17e3"
      },
      "outputs": [
        {
          "name": "stdout",
          "output_type": "stream",
          "text": [
            "Best parameters: {'metric': 'euclidean', 'n_neighbors': 10, 'weights': 'distance'}\n",
            "Accuracy: 0.8548387096774194\n"
          ]
        }
      ],
      "source": [
        "import pandas as pd\n",
        "import numpy as np\n",
        "import matplotlib.pyplot as plt\n",
        "from sklearn.model_selection import train_test_split\n",
        "from sklearn.model_selection import GridSearchCV\n",
        "from sklearn.neighbors import KNeighborsClassifier\n",
        "\n",
        "data = pd.read_csv('data/vertebralcolumn-3C.csv', header=(0))\n",
        "#data = pd.read_csv('data/Iris.csv', header=(0))\n",
        "\n",
        "data = data.to_numpy()\n",
        "nrow,ncol = data.shape\n",
        "y = data[:,-1]\n",
        "X = data[:,0:ncol-1]\n",
        "\n",
        "Ns = 10 #number of executions\n",
        "vacc = []\n",
        "p = 0.8 # fracao de elementos no conjunto de treinamento\n",
        "X_train, X_test, y_train, y_test = train_test_split(X, y, train_size = p)\n",
        "\n",
        "hparameters = {'n_neighbors': range(1,11),\n",
        "              'metric': ['euclidean', 'cityblock', 'cosine', 'manhattan', 'minkowski'],\n",
        "              'weights':['uniform', 'distance']\n",
        "             }\n",
        "model = KNeighborsClassifier()\n",
        "best_model = GridSearchCV(model, hparameters, cv = 10, scoring = 'accuracy', n_jobs = -1)\n",
        "best_model.fit(X_train,y_train)\n",
        "y_pred = best_model.predict(X_test)\n",
        "print('Best parameters:', best_model.best_params_)\n",
        "print('Accuracy:', accuracy_score(y_pred, y_test))"
      ]
    },
    {
      "cell_type": "markdown",
      "metadata": {
        "id": "jgyIM2TYxPyI"
      },
      "source": [
        "Para reforçarmos essa metodologia, vamos considerar outro classificador."
      ]
    },
    {
      "cell_type": "code",
      "execution_count": null,
      "metadata": {
        "id": "A49N094-xPyI",
        "outputId": "777592e0-964d-4db4-f794-4158d11f6be1"
      },
      "outputs": [
        {
          "name": "stdout",
          "output_type": "stream",
          "text": [
            "Best parameters: {'criterion': 'entropy', 'max_depth': 8, 'max_features': 'log2', 'n_estimators': 200}\n",
            "Accuracy: 0.9193548387096774\n"
          ]
        }
      ],
      "source": [
        "import pandas as pd\n",
        "import numpy as np\n",
        "import matplotlib.pyplot as plt\n",
        "from sklearn.model_selection import train_test_split\n",
        "from sklearn.model_selection import GridSearchCV\n",
        "from sklearn.ensemble import RandomForestClassifier\n",
        "from sklearn.metrics import accuracy_score\n",
        "\n",
        "data = pd.read_csv('data/vertebralcolumn-3C.csv', header=(0))\n",
        "#data = pd.read_csv('data/Iris.csv', header=(0))\n",
        "\n",
        "data = data.to_numpy()\n",
        "nrow,ncol = data.shape\n",
        "y = data[:,-1]\n",
        "X = data[:,0:ncol-1]\n",
        "\n",
        "vacc = []\n",
        "p = 0.8 # fracao de elementos no conjunto de treinamento\n",
        "X_train, X_test, y_train, y_test = train_test_split(X, y, train_size = p)\n",
        "\n",
        "hparameters = {\n",
        "    'n_estimators': [50, 100, 200],\n",
        "    'max_features': ['sqrt', 'log2'],\n",
        "    'max_depth' : [4,5,6,7,8],\n",
        "    'criterion' :['gini', 'entropy']\n",
        "}\n",
        "model = RandomForestClassifier()\n",
        "best_model = GridSearchCV(model, hparameters, cv = 10, scoring = 'accuracy', n_jobs = -1)\n",
        "best_model.fit(X_train,y_train)\n",
        "y_pred = best_model.predict(X_test)\n",
        "print('Best parameters:', best_model.best_params_)\n",
        "print('Accuracy:', accuracy_score(y_pred, y_test))"
      ]
    },
    {
      "cell_type": "markdown",
      "metadata": {
        "id": "hOwHPZi6xPyI"
      },
      "source": [
        "## Regressão"
      ]
    },
    {
      "cell_type": "markdown",
      "metadata": {
        "id": "ZNdlEmg6xPyI"
      },
      "source": [
        "Podemos usar validação cruzada para selecionar o melhor modelo de regressão. A ideia é similar ao caso da classificação. Vamos inicialmente comparar vários modelos."
      ]
    },
    {
      "cell_type": "markdown",
      "metadata": {
        "id": "wLb1ZfUJxPyI"
      },
      "source": [
        "Vamos importar as bibliotecas necessárias."
      ]
    },
    {
      "cell_type": "code",
      "execution_count": null,
      "metadata": {
        "id": "77yo9Rn9xPyJ"
      },
      "outputs": [],
      "source": [
        "import numpy as np\n",
        "import pandas as pd\n",
        "from sklearn.linear_model import Ridge\n",
        "from sklearn.model_selection import RepeatedKFold\n",
        "from sklearn.model_selection import GridSearchCV\n",
        "from sklearn.metrics import explained_variance_score,mean_absolute_error,r2_score\n",
        "from sklearn.model_selection import train_test_split\n",
        "from time import time\n",
        "# modelos de regressão\n",
        "from sklearn.linear_model import LinearRegression, Ridge,Lasso\n",
        "from sklearn.neighbors import KNeighborsRegressor\n",
        "from sklearn.ensemble import RandomForestRegressor\n",
        "from sklearn.tree import DecisionTreeRegressor"
      ]
    },
    {
      "cell_type": "markdown",
      "metadata": {
        "id": "UqX3GtFUxPyJ"
      },
      "source": [
        "Os dados da base de casas de Boston serão considerados."
      ]
    },
    {
      "cell_type": "code",
      "execution_count": null,
      "metadata": {
        "id": "YxCWJmEBxPyJ",
        "outputId": "f106bae1-b17b-4fb2-fd34-f40b00dfe974"
      },
      "outputs": [
        {
          "data": {
            "text/html": [
              "<div>\n",
              "<style scoped>\n",
              "    .dataframe tbody tr th:only-of-type {\n",
              "        vertical-align: middle;\n",
              "    }\n",
              "\n",
              "    .dataframe tbody tr th {\n",
              "        vertical-align: top;\n",
              "    }\n",
              "\n",
              "    .dataframe thead th {\n",
              "        text-align: right;\n",
              "    }\n",
              "</style>\n",
              "<table border=\"1\" class=\"dataframe\">\n",
              "  <thead>\n",
              "    <tr style=\"text-align: right;\">\n",
              "      <th></th>\n",
              "      <th>Unnamed: 0</th>\n",
              "      <th>CRIM</th>\n",
              "      <th>ZN</th>\n",
              "      <th>INDUS</th>\n",
              "      <th>CHAS</th>\n",
              "      <th>NOX</th>\n",
              "      <th>RM</th>\n",
              "      <th>AGE</th>\n",
              "      <th>DIS</th>\n",
              "      <th>RAD</th>\n",
              "      <th>TAX</th>\n",
              "      <th>PTRATIO</th>\n",
              "      <th>B</th>\n",
              "      <th>LSTAT</th>\n",
              "      <th>Target</th>\n",
              "    </tr>\n",
              "  </thead>\n",
              "  <tbody>\n",
              "    <tr>\n",
              "      <th>0</th>\n",
              "      <td>0</td>\n",
              "      <td>0.00632</td>\n",
              "      <td>18.0</td>\n",
              "      <td>2.31</td>\n",
              "      <td>0.0</td>\n",
              "      <td>0.538</td>\n",
              "      <td>6.575</td>\n",
              "      <td>65.2</td>\n",
              "      <td>4.0900</td>\n",
              "      <td>1.0</td>\n",
              "      <td>296.0</td>\n",
              "      <td>15.3</td>\n",
              "      <td>396.90</td>\n",
              "      <td>4.98</td>\n",
              "      <td>24.0</td>\n",
              "    </tr>\n",
              "    <tr>\n",
              "      <th>1</th>\n",
              "      <td>1</td>\n",
              "      <td>0.02731</td>\n",
              "      <td>0.0</td>\n",
              "      <td>7.07</td>\n",
              "      <td>0.0</td>\n",
              "      <td>0.469</td>\n",
              "      <td>6.421</td>\n",
              "      <td>78.9</td>\n",
              "      <td>4.9671</td>\n",
              "      <td>2.0</td>\n",
              "      <td>242.0</td>\n",
              "      <td>17.8</td>\n",
              "      <td>396.90</td>\n",
              "      <td>9.14</td>\n",
              "      <td>21.6</td>\n",
              "    </tr>\n",
              "    <tr>\n",
              "      <th>2</th>\n",
              "      <td>2</td>\n",
              "      <td>0.02729</td>\n",
              "      <td>0.0</td>\n",
              "      <td>7.07</td>\n",
              "      <td>0.0</td>\n",
              "      <td>0.469</td>\n",
              "      <td>7.185</td>\n",
              "      <td>61.1</td>\n",
              "      <td>4.9671</td>\n",
              "      <td>2.0</td>\n",
              "      <td>242.0</td>\n",
              "      <td>17.8</td>\n",
              "      <td>392.83</td>\n",
              "      <td>4.03</td>\n",
              "      <td>34.7</td>\n",
              "    </tr>\n",
              "    <tr>\n",
              "      <th>3</th>\n",
              "      <td>3</td>\n",
              "      <td>0.03237</td>\n",
              "      <td>0.0</td>\n",
              "      <td>2.18</td>\n",
              "      <td>0.0</td>\n",
              "      <td>0.458</td>\n",
              "      <td>6.998</td>\n",
              "      <td>45.8</td>\n",
              "      <td>6.0622</td>\n",
              "      <td>3.0</td>\n",
              "      <td>222.0</td>\n",
              "      <td>18.7</td>\n",
              "      <td>394.63</td>\n",
              "      <td>2.94</td>\n",
              "      <td>33.4</td>\n",
              "    </tr>\n",
              "    <tr>\n",
              "      <th>4</th>\n",
              "      <td>4</td>\n",
              "      <td>0.06905</td>\n",
              "      <td>0.0</td>\n",
              "      <td>2.18</td>\n",
              "      <td>0.0</td>\n",
              "      <td>0.458</td>\n",
              "      <td>7.147</td>\n",
              "      <td>54.2</td>\n",
              "      <td>6.0622</td>\n",
              "      <td>3.0</td>\n",
              "      <td>222.0</td>\n",
              "      <td>18.7</td>\n",
              "      <td>396.90</td>\n",
              "      <td>5.33</td>\n",
              "      <td>36.2</td>\n",
              "    </tr>\n",
              "    <tr>\n",
              "      <th>5</th>\n",
              "      <td>5</td>\n",
              "      <td>0.02985</td>\n",
              "      <td>0.0</td>\n",
              "      <td>2.18</td>\n",
              "      <td>0.0</td>\n",
              "      <td>0.458</td>\n",
              "      <td>6.430</td>\n",
              "      <td>58.7</td>\n",
              "      <td>6.0622</td>\n",
              "      <td>3.0</td>\n",
              "      <td>222.0</td>\n",
              "      <td>18.7</td>\n",
              "      <td>394.12</td>\n",
              "      <td>5.21</td>\n",
              "      <td>28.7</td>\n",
              "    </tr>\n",
              "    <tr>\n",
              "      <th>6</th>\n",
              "      <td>6</td>\n",
              "      <td>0.08829</td>\n",
              "      <td>12.5</td>\n",
              "      <td>7.87</td>\n",
              "      <td>0.0</td>\n",
              "      <td>0.524</td>\n",
              "      <td>6.012</td>\n",
              "      <td>66.6</td>\n",
              "      <td>5.5605</td>\n",
              "      <td>5.0</td>\n",
              "      <td>311.0</td>\n",
              "      <td>15.2</td>\n",
              "      <td>395.60</td>\n",
              "      <td>12.43</td>\n",
              "      <td>22.9</td>\n",
              "    </tr>\n",
              "    <tr>\n",
              "      <th>7</th>\n",
              "      <td>7</td>\n",
              "      <td>0.14455</td>\n",
              "      <td>12.5</td>\n",
              "      <td>7.87</td>\n",
              "      <td>0.0</td>\n",
              "      <td>0.524</td>\n",
              "      <td>6.172</td>\n",
              "      <td>96.1</td>\n",
              "      <td>5.9505</td>\n",
              "      <td>5.0</td>\n",
              "      <td>311.0</td>\n",
              "      <td>15.2</td>\n",
              "      <td>396.90</td>\n",
              "      <td>19.15</td>\n",
              "      <td>27.1</td>\n",
              "    </tr>\n",
              "    <tr>\n",
              "      <th>8</th>\n",
              "      <td>8</td>\n",
              "      <td>0.21124</td>\n",
              "      <td>12.5</td>\n",
              "      <td>7.87</td>\n",
              "      <td>0.0</td>\n",
              "      <td>0.524</td>\n",
              "      <td>5.631</td>\n",
              "      <td>100.0</td>\n",
              "      <td>6.0821</td>\n",
              "      <td>5.0</td>\n",
              "      <td>311.0</td>\n",
              "      <td>15.2</td>\n",
              "      <td>386.63</td>\n",
              "      <td>29.93</td>\n",
              "      <td>16.5</td>\n",
              "    </tr>\n",
              "    <tr>\n",
              "      <th>9</th>\n",
              "      <td>9</td>\n",
              "      <td>0.17004</td>\n",
              "      <td>12.5</td>\n",
              "      <td>7.87</td>\n",
              "      <td>0.0</td>\n",
              "      <td>0.524</td>\n",
              "      <td>6.004</td>\n",
              "      <td>85.9</td>\n",
              "      <td>6.5921</td>\n",
              "      <td>5.0</td>\n",
              "      <td>311.0</td>\n",
              "      <td>15.2</td>\n",
              "      <td>386.71</td>\n",
              "      <td>17.10</td>\n",
              "      <td>18.9</td>\n",
              "    </tr>\n",
              "  </tbody>\n",
              "</table>\n",
              "</div>"
            ],
            "text/plain": [
              "   Unnamed: 0     CRIM    ZN  INDUS  CHAS    NOX     RM    AGE     DIS  RAD  \\\n",
              "0           0  0.00632  18.0   2.31   0.0  0.538  6.575   65.2  4.0900  1.0   \n",
              "1           1  0.02731   0.0   7.07   0.0  0.469  6.421   78.9  4.9671  2.0   \n",
              "2           2  0.02729   0.0   7.07   0.0  0.469  7.185   61.1  4.9671  2.0   \n",
              "3           3  0.03237   0.0   2.18   0.0  0.458  6.998   45.8  6.0622  3.0   \n",
              "4           4  0.06905   0.0   2.18   0.0  0.458  7.147   54.2  6.0622  3.0   \n",
              "5           5  0.02985   0.0   2.18   0.0  0.458  6.430   58.7  6.0622  3.0   \n",
              "6           6  0.08829  12.5   7.87   0.0  0.524  6.012   66.6  5.5605  5.0   \n",
              "7           7  0.14455  12.5   7.87   0.0  0.524  6.172   96.1  5.9505  5.0   \n",
              "8           8  0.21124  12.5   7.87   0.0  0.524  5.631  100.0  6.0821  5.0   \n",
              "9           9  0.17004  12.5   7.87   0.0  0.524  6.004   85.9  6.5921  5.0   \n",
              "\n",
              "     TAX  PTRATIO       B  LSTAT  Target  \n",
              "0  296.0     15.3  396.90   4.98    24.0  \n",
              "1  242.0     17.8  396.90   9.14    21.6  \n",
              "2  242.0     17.8  392.83   4.03    34.7  \n",
              "3  222.0     18.7  394.63   2.94    33.4  \n",
              "4  222.0     18.7  396.90   5.33    36.2  \n",
              "5  222.0     18.7  394.12   5.21    28.7  \n",
              "6  311.0     15.2  395.60  12.43    22.9  \n",
              "7  311.0     15.2  396.90  19.15    27.1  \n",
              "8  311.0     15.2  386.63  29.93    16.5  \n",
              "9  311.0     15.2  386.71  17.10    18.9  "
            ]
          },
          "execution_count": 9,
          "metadata": {},
          "output_type": "execute_result"
        }
      ],
      "source": [
        "url = 'https://raw.githubusercontent.com/Sketchjar/MachineLearningHD/main/boston_data.csv'\n",
        "df = pd.read_csv(url)\n",
        "df.head(10)"
      ]
    },
    {
      "cell_type": "markdown",
      "metadata": {
        "id": "JUtOxXGvxPyJ"
      },
      "source": [
        "Vamos definir os conjuntos X e y:"
      ]
    },
    {
      "cell_type": "code",
      "execution_count": null,
      "metadata": {
        "id": "LhjLKFJaxPyJ"
      },
      "outputs": [],
      "source": [
        "data = df.values\n",
        "X, y = data[:, :-1], data[:, -1]"
      ]
    },
    {
      "cell_type": "markdown",
      "metadata": {
        "id": "Eb-7wH0YxPyK"
      },
      "source": [
        "Podemos realizar a padronização dos dados."
      ]
    },
    {
      "cell_type": "code",
      "execution_count": null,
      "metadata": {
        "id": "jMYwxX7gxPyK"
      },
      "outputs": [],
      "source": [
        "#Perform Scaling\n",
        "from sklearn.preprocessing import StandardScaler\n",
        "sc = StandardScaler()\n",
        "X_sc = sc.fit_transform(X)"
      ]
    },
    {
      "cell_type": "markdown",
      "metadata": {
        "id": "7YWEiNKkxPyK"
      },
      "source": [
        "Selecionando os conjuntos de treinamento e teste:"
      ]
    },
    {
      "cell_type": "code",
      "execution_count": null,
      "metadata": {
        "id": "lvnv9zDKxPyK"
      },
      "outputs": [],
      "source": [
        "#Splitting the data into train and test split\n",
        "X_train, X_test, y_train, y_test = train_test_split(X_sc, y, test_size=0.2, random_state=42)"
      ]
    },
    {
      "cell_type": "markdown",
      "metadata": {
        "id": "UrPBl6awxPyK"
      },
      "source": [
        "Vamos inicialmente comparar diversoms modelos de regressão e depois fazer o ajuste do modelo selcionado."
      ]
    },
    {
      "cell_type": "code",
      "execution_count": null,
      "metadata": {
        "id": "A7at4WgFxPyK"
      },
      "outputs": [],
      "source": [
        "regressors = [\n",
        "    KNeighborsRegressor(),\n",
        "    RandomForestRegressor(),\n",
        "    DecisionTreeRegressor(),\n",
        "    LinearRegression(),\n",
        "    Lasso(),\n",
        "    Ridge()\n",
        "]"
      ]
    },
    {
      "cell_type": "code",
      "execution_count": null,
      "metadata": {
        "id": "L3DLHXSJxPyK",
        "outputId": "213ad6af-4ce9-48f0-8a9b-ebcd74f83620"
      },
      "outputs": [
        {
          "name": "stdout",
          "output_type": "stream",
          "text": [
            "KNeighborsRegressor()\n",
            "\tTraining time: 0.001s\n",
            "\tPrediction time: 0.001s\n",
            "\tExplained variance: 0.7174701843340899\n",
            "\tMean absolute error: 2.6305882352941174\n",
            "\tR2 score: 0.7127831521637411\n",
            "\n",
            "RandomForestRegressor()\n",
            "\tTraining time: 0.221s\n",
            "\tPrediction time: 0.005s\n",
            "\tExplained variance: 0.8698520003311294\n",
            "\tMean absolute error: 2.129960784313725\n",
            "\tR2 score: 0.8697239557983208\n",
            "\n",
            "DecisionTreeRegressor()\n",
            "\tTraining time: 0.003s\n",
            "\tPrediction time: 0.000s\n",
            "\tExplained variance: 0.7100084764081083\n",
            "\tMean absolute error: 2.569607843137255\n",
            "\tR2 score: 0.7098694267210378\n",
            "\n",
            "LinearRegression()\n",
            "\tTraining time: 1.929s\n",
            "\tPrediction time: 0.000s\n",
            "\tExplained variance: 0.6667009534619168\n",
            "\tMean absolute error: 3.200754757340821\n",
            "\tR2 score: 0.6659408703343037\n",
            "\n",
            "Lasso()\n",
            "\tTraining time: 0.004s\n",
            "\tPrediction time: 0.000s\n",
            "\tExplained variance: 0.6248316409950724\n",
            "\tMean absolute error: 3.4648495282337395\n",
            "\tR2 score: 0.6242880160354785\n",
            "\n",
            "Ridge()\n",
            "\tTraining time: 0.005s\n",
            "\tPrediction time: 0.000s\n",
            "\tExplained variance: 0.6665968598157073\n",
            "\tMean absolute error: 3.197174713098874\n",
            "\tR2 score: 0.6658229028148389\n",
            "\n"
          ]
        }
      ],
      "source": [
        "head = 10\n",
        "for model in regressors[:head]:\n",
        "    start = time()\n",
        "    model.fit(X_train, y_train)\n",
        "    train_time = time() - start\n",
        "    start = time()\n",
        "    y_pred = model.predict(X_test)\n",
        "    predict_time = time()-start\n",
        "    print(model)\n",
        "    print(\"\\tTraining time: %0.3fs\" % train_time)\n",
        "    print(\"\\tPrediction time: %0.3fs\" % predict_time)\n",
        "    print(\"\\tExplained variance:\", explained_variance_score(y_test, y_pred))\n",
        "    print(\"\\tMean absolute error:\", mean_absolute_error(y_test, y_pred))\n",
        "    print(\"\\tR2 score:\", r2_score(y_test, y_pred))\n",
        "    print()"
      ]
    },
    {
      "cell_type": "markdown",
      "metadata": {
        "id": "HxwhAf9MxPyL"
      },
      "source": [
        "Conforme observamos, o modelo florestas aleatórias ofereceu o melhor resultado. Assim, vamos fazer o ajuste desse modelo. Observem que consideramos apenas uma classificação simples, usando os hiperâmetros que são padrão do modelo. Para uma análise mais detalhada, podemos selecionar os melhores hiparparâmetros para cada modelo. Deixamos essa ideia como possível exercício. Vamos então fazer o ajuste do modelo florestas aleatórias."
      ]
    },
    {
      "cell_type": "code",
      "execution_count": null,
      "metadata": {
        "id": "i6w2RX-IxPyP"
      },
      "outputs": [],
      "source": [
        "from sklearn.metrics import mean_squared_error\n",
        "\n",
        "rf_param_grid = {\n",
        "    'max_depth': [5, 10, 20], # Maximum number of levels in each decision tree\n",
        "    'max_features': [2, 3], # Maximum number of features considered for splitting a node\n",
        "    'min_samples_leaf': [1, 3, 4, 5], # Minimum number of data points allowed in a leaf node\n",
        "    'n_estimators': [10, 50, 100] # Number of trees in the forest\n",
        "}\n",
        "\n",
        "# Instantiate a Random Forest Regressor\n",
        "rf_reg = RandomForestRegressor(random_state = 42)\n",
        "\n",
        "# Setup grid search\n",
        "rf_grid = GridSearchCV(estimator = rf_reg, param_grid = rf_param_grid, cv=10, refit=True)\n",
        "\n",
        "# Fit the grid search model on training dataset\n",
        "rf_grid.fit(X_train, y_train)\n",
        "\n",
        "# Get best RF estimator based on best parameters, and use RF regressor to predict on test set\n",
        "rf_best = rf_grid.best_estimator_\n",
        "y_pred = rf_best.predict(X_test)"
      ]
    },
    {
      "cell_type": "code",
      "execution_count": null,
      "metadata": {
        "id": "_KZIfL2qxPyQ",
        "outputId": "71040d2f-02c4-4118-e962-cd1fdbd96303"
      },
      "outputs": [
        {
          "name": "stdout",
          "output_type": "stream",
          "text": [
            "R2: 0.8652622124447489\n",
            "MAE: 2.022970588235296\n",
            "RMSE: 3.1433790252017717\n"
          ]
        }
      ],
      "source": [
        "from sklearn import metrics\n",
        "\n",
        "print('R2:', metrics.r2_score(y_test, y_pred))\n",
        "print('MAE:', metrics.mean_absolute_error(y_test, y_pred))\n",
        "print('RMSE:', np.sqrt(metrics.mean_squared_error(y_test, y_pred)))"
      ]
    },
    {
      "cell_type": "code",
      "execution_count": null,
      "metadata": {
        "id": "XJxCReMRxPyQ",
        "outputId": "4dc32834-e4ff-4d46-a61e-1a35c4f23a7b"
      },
      "outputs": [
        {
          "data": {
            "image/png": "[encoded data removed]",
            "text/plain": [
              "<Figure size 640x480 with 1 Axes>"
            ]
          },
          "metadata": {},
          "output_type": "display_data"
        }
      ],
      "source": [
        "import matplotlib.pyplot as plt\n",
        "\n",
        "fig = plt.figure()\n",
        "l = plt.plot(y_pred, y_test, 'bo')\n",
        "plt.setp(l, markersize=10)\n",
        "plt.setp(l, markerfacecolor='C0')\n",
        "\n",
        "plt.ylabel(\"Dados\", fontsize=15)\n",
        "plt.xlabel(\"Predição\", fontsize=15)\n",
        "\n",
        "# mostra os valores preditos e originais\n",
        "xl = np.arange(min(y_test), 1.2*max(y_test),(max(y_test)-min(y_test))/10)\n",
        "yl = xl\n",
        "plt.plot(xl, yl, 'r--')\n",
        "\n",
        "plt.show(True)\n",
        "# salva a figura em um arquivo\n",
        "fig.savefig('regression.jpg')"
      ]
    },
    {
      "cell_type": "markdown",
      "metadata": {
        "id": "jyzIbV6AxPyQ"
      },
      "source": [
        "Observamos que a regressão foi bastante adequada."
      ]
    },
    {
      "cell_type": "markdown",
      "metadata": {
        "id": "PpvFpMs4xPyQ"
      },
      "source": [
        "## Exercícios de fixação"
      ]
    },
    {
      "cell_type": "markdown",
      "metadata": {
        "id": "Z7dZ8e2IxPyR"
      },
      "source": [
        "Não é necessário entregar os exercícios abaixo, mas é importante resolvê-los para fixar os conteúdos estudados."
      ]
    },
    {
      "cell_type": "markdown",
      "metadata": {
        "id": "4hGegG0QxPyR"
      },
      "source": [
        "1 - Realize a classificação da base Vehicles usando validação cruzada e o método grid_search para escolher os melhores hiperparâmetros do modelo regressão logística e knn."
      ]
    },
    {
      "cell_type": "markdown",
      "metadata": {
        "id": "PFXcTP9DxPyR"
      },
      "source": [
        "2 - Verifique se o número de folds, usado na validação cruzada, influencia na classificação da base winequality-red. Use o modelo de regressão logística."
      ]
    },
    {
      "cell_type": "markdown",
      "metadata": {
        "id": "uIP0EmEgxPyR"
      },
      "source": [
        "3 - Repida a seleção do modelo de regressão na base Advertising.csv."
      ]
    }
  ],
  "metadata": {
    "kernelspec": {
      "display_name": "Python 3 (ipykernel)",
      "language": "python",
      "name": "python3"
    },
    "language_info": {
      "codemirror_mode": {
        "name": "ipython",
        "version": 3
      },
      "file_extension": ".py",
      "mimetype": "text/x-python",
      "name": "python",
      "nbconvert_exporter": "python",
      "pygments_lexer": "ipython3",
      "version": "3.8.8"
    },
    "colab": {
      "provenance": [],
      "include_colab_link": true
    }
  },
  "nbformat": 4,
  "nbformat_minor": 0
}