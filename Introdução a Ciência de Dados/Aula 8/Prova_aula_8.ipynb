{
  "nbformat": 4,
  "nbformat_minor": 0,
  "metadata": {
    "colab": {
      "provenance": [],
      "authorship_tag": "ABX9TyNE3e8b90UqXnWnOFR9VNlC",
      "include_colab_link": true
    },
    "kernelspec": {
      "name": "python3",
      "display_name": "Python 3"
    },
    "language_info": {
      "name": "python"
    }
  },
  "cells": [
    {
      "cell_type": "markdown",
      "metadata": {
        "id": "view-in-github",
        "colab_type": "text"
      },
      "source": [
        "<a href=\"https://colab.research.google.com/github/Biangelica/Data-Science-MBA-CEMEAI/blob/main/Introdu%C3%A7%C3%A3o%20a%20Ci%C3%AAncia%20de%20Dados/Aula%208/Prova_aula_8.ipynb\" target=\"_parent\"><img src=\"https://colab.research.google.com/assets/colab-badge.svg\" alt=\"Open In Colab\"/></a>"
      ]
    },
    {
      "cell_type": "markdown",
      "source": [
        "Com relação a um projeto de Ciência de Dados, assinale a alternativa correta.\n",
        "\n",
        "\n",
        "\n",
        "a.\n",
        "A separação dos conjuntos de teste e treinamento é feita após a limpeza dos dados.\n",
        "\n",
        "\n",
        "b.\n",
        "Se há dados faltantes, podemos usar o conjunto de teste para ajustá-los usando um modelo de regressão.\n",
        "\n",
        "\n",
        "c.\n",
        "A seleção dos atributos nunca melhora o valor da acurácia na classificação.\n",
        "\n",
        "\n",
        "d.\n",
        "A regressão é feita antes da seleção dos conjuntos de treinamento e teste.\n",
        "\n",
        "\n",
        "e.\n",
        "A análise exploratória é feita antes da limpeza dos dados."
      ],
      "metadata": {
        "id": "s8g9bO9W-JmA"
      }
    },
    {
      "cell_type": "markdown",
      "source": [
        "Resposta\n",
        "**A análise exploratória é feita antes da limpeza dos dados.**"
      ],
      "metadata": {
        "id": "5vkOhDQp-rdG"
      }
    },
    {
      "cell_type": "markdown",
      "source": [
        "Com relação a um projeto de Ciência de Dados, assinale a alternativa incorreta.\n",
        "\n",
        "\n",
        "\n",
        "a.\n",
        "A seleção de atributos é feita no conjunto de teste.\n",
        "\n",
        "\n",
        "b.\n",
        "A validação cruzada é usada na seleção do modelo.\n",
        "\n",
        "\n",
        "c.\n",
        "A seleção de atributos permite simplificar o modelo.\n",
        "\n",
        "\n",
        "d.\n",
        "A avaliação do modelo é feita no conjunto de teste.\n",
        "\n",
        "\n",
        "e.\n",
        "Estatística descritiva ajuda a entender os dados e a relação entre os atributos."
      ],
      "metadata": {
        "id": "mg8PM3Oi-Mi-"
      }
    },
    {
      "cell_type": "markdown",
      "source": [
        "Resposta: **A seleção de atributos é feita no conjunto de teste.**"
      ],
      "metadata": {
        "id": "OaVRB_MR-vZJ"
      }
    },
    {
      "cell_type": "markdown",
      "source": [
        "Assinale a sequência correta dos passos em um projeto de Ciência de Dados:\n",
        "\n",
        "\n",
        "a.\n",
        "1 – Limpeza dos dados, 2 - Estatística descritiva, 3 - Aprendizado supervisionado\n",
        "\n",
        "\n",
        "b.\n",
        "1 - Avaliação do modelo. 2- Estatística descritiva. 3- Análise exploratória.\n",
        "\n",
        "\n",
        "c.\n",
        "1 - Análise exploratória. 2- Limpeza. 3 – Transformação dos dados.\n",
        "\n",
        "\n",
        "d.\n",
        "1 - Validação cruzada. 2 – Limpeza. 3 - Regressão.\n",
        "\n",
        "\n",
        "e.\n",
        "1 - Análise exploratória. 2 – Classificação. 3 – Limpeza dos dados."
      ],
      "metadata": {
        "id": "lV863j8B-Phu"
      }
    },
    {
      "cell_type": "markdown",
      "source": [
        "Resposta **1 - Análise exploratória. 2- Limpeza. 3 – Transformação dos dados.**"
      ],
      "metadata": {
        "id": "kRBaG5sx-6Q3"
      }
    },
    {
      "cell_type": "markdown",
      "source": [
        "Considere a base de dados da Vehicle.  Usando o algoritmo random forest, qual é o atributo mais importante para a classificação? Considere o código abaixo para ler e preparar os dados.\n",
        "\n"
      ],
      "metadata": {
        "id": "szEiXmqT-S4e"
      }
    },
    {
      "cell_type": "code",
      "source": [
        "import random\n",
        "random.seed(42)\n",
        "import pandas as pd\n",
        "import numpy as np\n",
        "import matplotlib.pyplot as plt\n",
        "\n",
        "data = pd.read_csv('Vehicle.csv', header=(0))\n",
        "\n",
        "# remove NaN\n",
        "data = data.dropna(axis='rows') #\n",
        "# armazena o nome das classes\n",
        "classes = np.array(pd.unique(data[data.columns[-1]]), dtype=str)  #name of the clases\n",
        "features_names = data.columns\n",
        "\n",
        "data = data.to_numpy()\n",
        "nrow,ncol = data.shape\n",
        "y = data[:,-1]\n",
        "X = data[:,0:ncol-1]\n",
        "\n",
        "from sklearn.preprocessing import StandardScaler\n",
        "scaler = StandardScaler().fit(X)\n",
        "X = scaler.transform(X)\n",
        "\n",
        "from sklearn.model_selection import train_test_split\n",
        "p = 0.2 # fracao de elementos no conjunto de teste\n",
        "x_train, x_test, y_train, y_test = train_test_split(X, y, test_size = p, random_state = 42)"
      ],
      "metadata": {
        "id": "5bsemQ0x-asG"
      },
      "execution_count": 2,
      "outputs": []
    },
    {
      "cell_type": "markdown",
      "source": [
        "a.\n",
        "Max.L.Ra\n",
        "\n",
        "\n",
        "b.\n",
        "Comp\n",
        "\n",
        "\n",
        "c.\n",
        "Scat.Ra\n",
        "\n",
        "\n",
        "d.\n",
        "D.Circ\n",
        "\n",
        "\n",
        "e.\n",
        "Max.L.Rect\n",
        "\n",
        "\n"
      ],
      "metadata": {
        "id": "uj8oVVxq-bsP"
      }
    },
    {
      "cell_type": "code",
      "execution_count": 3,
      "metadata": {
        "colab": {
          "base_uri": "https://localhost:8080/"
        },
        "id": "7vRkM2YT9wSR",
        "outputId": "d456356d-275a-4f8f-ea02-c0237fffca9d"
      },
      "outputs": [
        {
          "output_type": "stream",
          "name": "stdout",
          "text": [
            "Atributo mais importante para a classificação:\n",
            "    Feature  Importance\n",
            "5  Max.L.Ra    0.100153\n"
          ]
        }
      ],
      "source": [
        "from sklearn.ensemble import RandomForestClassifier\n",
        "\n",
        "# Criando e treinando o modelo Random Forest\n",
        "random_forest = RandomForestClassifier(random_state=42)\n",
        "random_forest.fit(x_train, y_train)\n",
        "\n",
        "# Obtendo a importância dos atributos\n",
        "feature_importances = random_forest.feature_importances_\n",
        "\n",
        "# Criando um DataFrame para melhor visualização\n",
        "importance_df = pd.DataFrame({'Feature': features_names[:-1], 'Importance': feature_importances})\n",
        "\n",
        "# Ordenando os atributos por importância\n",
        "importance_df = importance_df.sort_values(by='Importance', ascending=False)\n",
        "\n",
        "# Mostrando o atributo mais importante\n",
        "print(\"Atributo mais importante para a classificação:\")\n",
        "print(importance_df.head(1))\n"
      ]
    }
  ]
}