{
  "nbformat": 4,
  "nbformat_minor": 0,
  "metadata": {
    "colab": {
      "provenance": [],
      "authorship_tag": "ABX9TyNNwx/2tPKmmRdArOhbTlll"
    },
    "kernelspec": {
      "name": "python3",
      "display_name": "Python 3"
    },
    "language_info": {
      "name": "python"
    }
  },
  "cells": [
    {
      "cell_type": "markdown",
      "source": [
        "Considere a base de dados banana_quality.data. A variável alvo é a qualidade da banana (última coluna nos dados). Realize a classificação usando o algoritmo Regressão Logística e determine a acurácia. Use como hiperparâmetros: solver = 'lbfgs', max_iter = 10000. Considere 20% dos dados no conjunto de teste (use random_state = 42 dentro da função train_test_split).\n",
        "\n",
        "\n",
        "\n",
        "Qual o valor da acurácia? (Escolha o valor mais próximo).\n",
        "\n",
        "a.\n",
        "0,3\n",
        "\n",
        "b.\n",
        "0,5\n",
        "\n",
        "c.\n",
        "0,9\n",
        "\n",
        "d.\n",
        "0,6\n",
        "\n",
        "e.\n",
        "0,2"
      ],
      "metadata": {
        "id": "n9QVSLgB6gth"
      }
    },
    {
      "cell_type": "code",
      "execution_count": 40,
      "metadata": {
        "id": "tD-NFQhH6det"
      },
      "outputs": [],
      "source": [
        "import pandas as pd\n",
        "from sklearn.model_selection import train_test_split\n",
        "from sklearn.linear_model import LogisticRegression\n",
        "from sklearn.metrics import accuracy_score\n",
        "\n",
        "import pandas as pd\n",
        "from sklearn.model_selection import train_test_split\n",
        "from sklearn.linear_model import LinearRegression\n",
        "from sklearn.metrics import r2_score"
      ]
    },
    {
      "cell_type": "code",
      "source": [
        "df = pd.read_csv('banana_quality.csv')"
      ],
      "metadata": {
        "id": "byxH1opq65P5"
      },
      "execution_count": 29,
      "outputs": []
    },
    {
      "cell_type": "code",
      "source": [
        "val_null = df.isnull().sum()\n",
        "print(\"Valores Ausentes:\\n\", val_null)\n",
        "\n",
        "val_duplicados = df.duplicated().sum()\n",
        "print(\"Valores Duplicados:\\n\", val_duplicados)\n"
      ],
      "metadata": {
        "colab": {
          "base_uri": "https://localhost:8080/"
        },
        "id": "AX5d9jo3_60v",
        "outputId": "f3d9914a-8ee5-44fe-f083-03484ef7fde1"
      },
      "execution_count": 30,
      "outputs": [
        {
          "output_type": "stream",
          "name": "stdout",
          "text": [
            "Valores Ausentes:\n",
            " Size           0\n",
            "Weight         0\n",
            "Sweetness      0\n",
            "Softness       0\n",
            "HarvestTime    0\n",
            "Ripeness       0\n",
            "Acidity        0\n",
            "Quality        0\n",
            "dtype: int64\n",
            "Valores Duplicados:\n",
            " 0\n"
          ]
        }
      ]
    },
    {
      "cell_type": "code",
      "source": [
        "x = df.drop('Quality', axis=1)\n",
        "y = df['Quality']"
      ],
      "metadata": {
        "id": "9VPs5hQo_24s"
      },
      "execution_count": 31,
      "outputs": []
    },
    {
      "cell_type": "code",
      "source": [
        "x_train, x_test, y_train, y_test = train_test_split(x, y, test_size=0.2, random_state=42)\n",
        "modelo = LogisticRegression(solver='lbfgs', max_iter=10000)\n",
        "modelo.fit(x_train, y_train)\n",
        "predicao = modelo.predict(x_test)\n",
        "acuracia = accuracy_score(y_test, predicao)\n",
        "print(\"Acurácia: \", acuracia)"
      ],
      "metadata": {
        "colab": {
          "base_uri": "https://localhost:8080/"
        },
        "id": "fldL3qEf-DOY",
        "outputId": "e30aa5bf-281e-4992-8cfb-581c197a76b2"
      },
      "execution_count": 36,
      "outputs": [
        {
          "output_type": "stream",
          "name": "stdout",
          "text": [
            "Acurácia:  0.879375\n"
          ]
        }
      ]
    },
    {
      "cell_type": "markdown",
      "source": [
        "Considere a base de dados de bananas novamente. Remova a última coluna dos dados (\"Quality\") e construa um modelo de regressão linear múltipla (LinearRegression) para predizer a variável \"Acidity\". Calcule o coeficiente R2. Considere 20% dos dados no conjunto de teste (use random_state = 42 dentro da função train_test_split).\n",
        "\n",
        "Qual o valor do R2? (Escolha o valor mais próximo).\n",
        "\n",
        "a.\n",
        "0,8\n",
        "\n",
        "\n",
        "b.\n",
        "0,3\n",
        "\n",
        "\n",
        "c.\n",
        "1,0\n",
        "\n",
        "\n",
        "d.\n",
        "0,7\n",
        "\n",
        "\n",
        "e.\n",
        "0,9"
      ],
      "metadata": {
        "id": "RmuSUFgzBjzJ"
      }
    },
    {
      "cell_type": "code",
      "source": [
        "df = pd.read_csv('banana_quality.csv')\n",
        "df = df.drop('Quality', axis=1)\n",
        "\n",
        "x = df.drop('Acidity', axis=1)\n",
        "y = df['Acidity']"
      ],
      "metadata": {
        "id": "f-RlAaY2Bnnf"
      },
      "execution_count": 39,
      "outputs": []
    },
    {
      "cell_type": "code",
      "source": [
        "x_train, x_test, y_train, y_test = train_test_split(x, y, test_size=0.2, random_state=42)\n",
        "modelo = LinearRegression()\n",
        "modelo.fit(x_train, y_train)\n",
        "predicao = modelo.predict(x_test)\n",
        "\n",
        "r2 = r2_score(y_test, predicao)\n",
        "\n",
        "print(\"Coeficiente R² da Regressão Linear Múltipla:\", r2)"
      ],
      "metadata": {
        "colab": {
          "base_uri": "https://localhost:8080/"
        },
        "id": "qKev490KCKcX",
        "outputId": "ee539120-f957-4326-90c1-84edeedf8e96"
      },
      "execution_count": 43,
      "outputs": [
        {
          "output_type": "stream",
          "name": "stdout",
          "text": [
            "Coeficiente R² da Regressão Linear Múltipla: 0.3326426957967734\n"
          ]
        }
      ]
    }
  ]
}