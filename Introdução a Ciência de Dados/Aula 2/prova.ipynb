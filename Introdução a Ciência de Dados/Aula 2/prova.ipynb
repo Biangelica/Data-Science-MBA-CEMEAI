{
  "nbformat": 4,
  "nbformat_minor": 0,
  "metadata": {
    "colab": {
      "provenance": [],
      "authorship_tag": "ABX9TyMe/LE9yQcAyJVFVbrC7Imn",
      "include_colab_link": true
    },
    "kernelspec": {
      "name": "python3",
      "display_name": "Python 3"
    },
    "language_info": {
      "name": "python"
    }
  },
  "cells": [
    {
      "cell_type": "markdown",
      "metadata": {
        "id": "view-in-github",
        "colab_type": "text"
      },
      "source": [
        "<a href=\"https://colab.research.google.com/github/Biangelica/Data-Science-MBA-CEMEAI/blob/main/Introdu%C3%A7%C3%A3o%20a%20Ci%C3%AAncia%20de%20Dados/Aula%202/prova.ipynb\" target=\"_parent\"><img src=\"https://colab.research.google.com/assets/colab-badge.svg\" alt=\"Open In Colab\"/></a>"
      ]
    },
    {
      "cell_type": "code",
      "execution_count": 1,
      "metadata": {
        "colab": {
          "base_uri": "https://localhost:8080/"
        },
        "id": "7R7R4dw_IaYR",
        "outputId": "3b463dfc-32d0-4c65-fbe7-3aff01052b56"
      },
      "outputs": [
        {
          "output_type": "stream",
          "name": "stdout",
          "text": [
            "Média: 2.948717948717949\n",
            "Mediana: 2\n"
          ]
        }
      ],
      "source": [
        "import numpy as np\n",
        "import statistics\n",
        "\n",
        "#Determine a média e a mediana arredondada do conjunto de dados\n",
        "\n",
        "X = [0, 0, 2, 3, 1, 2, 4, 5, 6, 8, 0, 0, 7, 0, 1, 2, 1, 1, 5, 3, 1, 0, 7, 3, 0, 0, 2, 3, 4, 5, 6, 7, 8, 9, 1, 1, 2, 2, 3]\n",
        "\n",
        "# Calculando a média\n",
        "media = np.mean(X)\n",
        "print(\"Média:\", media)\n",
        "\n",
        "# Calculando a mediana\n",
        "mediana = statistics.median(X)\n",
        "print(\"Mediana:\", mediana)"
      ]
    },
    {
      "cell_type": "code",
      "source": [
        "import numpy as np\n",
        "\n",
        " # Calcule a variância e distância interquantil do conjunto de dados:\n",
        "\n",
        "X = [0, 0, 2, 3, 1, 2, 4, 5, 6, 8, 0, 0, 7, 0, 1, 2, 1, 1, 5, 3, 1, 0, 7, 3, 0, 0, 2, 3, 4, 5, 6, 7, 8, 9, 1, 1, 2, 2, 3]\n",
        "\n",
        "# Calculando a variância\n",
        "variancia = np.var(X)\n",
        "print(\"Variância:\", variancia)\n",
        "\n",
        "# Calculando os quartis\n",
        "quartis = np.quantile(X, [0.25, 0.75])\n",
        "\n",
        "# Calculando a distância interquartil\n",
        "distancia_interquartil = quartis[1] - quartis[0]\n",
        "print(\"Distância Interquartil:\", distancia_interquartil)"
      ],
      "metadata": {
        "colab": {
          "base_uri": "https://localhost:8080/"
        },
        "id": "pUz-n_8kIzZ2",
        "outputId": "751548e2-956a-49f0-b52c-b0a6c5a941a4"
      },
      "execution_count": 3,
      "outputs": [
        {
          "output_type": "stream",
          "name": "stdout",
          "text": [
            "Variância: 6.971729125575278\n",
            "Distância Interquartil: 4.0\n"
          ]
        }
      ]
    },
    {
      "cell_type": "markdown",
      "source": [
        "Coeficiente de Pearson (r): Mede a relação linear entre duas variáveis. Vai de -1 a +1, onde +1 indica uma correlação positiva perfeita, -1 indica uma correlação negativa perfeita, e 0 indica ausência de correlação linear.\n",
        "\n",
        "Coeficiente de Spearman (ρ): Mede a relação monotônica entre duas variáveis, ou seja, se uma variável aumenta, a outra também tende a aumentar (ou diminuir). Assim como Pearson, varia de -1 a +1, mas não requer que a relação seja linear.\n",
        "\n",
        "Para a função x^2x\n",
        "2\n",
        " , sabemos que existe uma relação quadrática perfeita entre xx e x^2x\n",
        "2\n",
        " , então a correlação de Pearson seria 1.0 e a de Spearman também seria 1.0. Portanto, a resposta correta seria a opção:\n",
        "\n",
        "b. 1.0 e 1.0"
      ],
      "metadata": {
        "id": "ofQOXqr5Jrvd"
      }
    }
  ]
}