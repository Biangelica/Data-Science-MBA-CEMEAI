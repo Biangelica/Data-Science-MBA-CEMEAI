{
  "nbformat": 4,
  "nbformat_minor": 0,
  "metadata": {
    "colab": {
      "provenance": [],
      "authorship_tag": "ABX9TyPhB7SsukHjeJSwzDCZ8Ybp",
      "include_colab_link": true
    },
    "kernelspec": {
      "name": "python3",
      "display_name": "Python 3"
    },
    "language_info": {
      "name": "python"
    }
  },
  "cells": [
    {
      "cell_type": "markdown",
      "metadata": {
        "id": "view-in-github",
        "colab_type": "text"
      },
      "source": [
        "<a href=\"https://colab.research.google.com/github/Biangelica/Data-Science-MBA-CEMEAI/blob/main/Introdu%C3%A7%C3%A3o%20a%20Ci%C3%AAncia%20de%20Dados/Aula%205/%20Prova.ipynb\" target=\"_parent\"><img src=\"https://colab.research.google.com/assets/colab-badge.svg\" alt=\"Open In Colab\"/></a>"
      ]
    },
    {
      "cell_type": "markdown",
      "source": [
        "Questão 1 )\n",
        "\n",
        "Considere os dados da vertebralcolumn-2C e o código abaixo. Use uma árvore de decisão com o critério Gini, isto é, use: model = tree.DecisionTreeClassifier(criterion = 'gini', random_state = 101)\n",
        "\n",
        "Determine o valor o valor da medida Precision. Arredonde para a primeira casa decimal."
      ],
      "metadata": {
        "id": "RgpMpwZsOMk0"
      }
    },
    {
      "cell_type": "code",
      "execution_count": 23,
      "metadata": {
        "colab": {
          "base_uri": "https://localhost:8080/"
        },
        "id": "GtkBlRNQOE8s",
        "outputId": "079c71f5-2cd6-4db7-83b4-276f295e44ee"
      },
      "outputs": [
        {
          "output_type": "stream",
          "name": "stdout",
          "text": [
            "Precision: 0.7677068723702665\n"
          ]
        }
      ],
      "source": [
        "import random\n",
        "import pandas as pd\n",
        "import numpy as np\n",
        "import matplotlib.pyplot as plt\n",
        "from sklearn.model_selection import train_test_split\n",
        "from sklearn.tree import DecisionTreeClassifier\n",
        "from sklearn.metrics import precision_score\n",
        "\n",
        "random.seed(42)\n",
        "data = pd.read_csv('vertebralcolumn-2C.csv', header=(0))\n",
        "\n",
        "data = data.to_numpy()\n",
        "nrow, ncol = data.shape\n",
        "y = data[:, -1]\n",
        "y = pd.get_dummies(y)\n",
        "X = data[:, 0:ncol - 1]\n",
        "\n",
        "p = 0.2  # fracao de elementos no conjunto de teste\n",
        "x_train, x_test, y_train, y_test = train_test_split(X, y, test_size=p, random_state=2)\n",
        "\n",
        "# Criar o modelo de árvore de decisão com critério Gini\n",
        "model = DecisionTreeClassifier(criterion='gini', random_state=101)\n",
        "model.fit(x_train, y_train)\n",
        "\n",
        "# Prever os valores para os dados de teste\n",
        "y_pred = model.predict(x_test)\n",
        "\n",
        "# Calcular a precisão\n",
        "precision = precision_score(y_test, y_pred, average='weighted')\n",
        "\n",
        "print(\"Precision:\", precision)"
      ]
    },
    {
      "cell_type": "markdown",
      "source": [
        "Questão 2)\n",
        "\n",
        "Considere os dados do exercício anterior. Qual o valor da medida AUC (área sob a curva ROC) quando usamos o algoritmo random forest com 100 árvores? Arredonde para a primeira casa decimal."
      ],
      "metadata": {
        "id": "lQe0WC0vO8gs"
      }
    },
    {
      "cell_type": "code",
      "source": [
        "import random\n",
        "import pandas as pd\n",
        "import numpy as np\n",
        "import matplotlib.pyplot as plt\n",
        "from sklearn.model_selection import train_test_split\n",
        "from sklearn.ensemble import RandomForestClassifier\n",
        "from sklearn.metrics import roc_auc_score\n",
        "\n",
        "model = RandomForestClassifier(n_estimators=100, random_state=42)\n",
        "model.fit(x_train, y_train)\n",
        "y_prob = model.predict_proba(x_test)\n",
        "\n",
        "\n",
        "# Ajustando as probabilidades para o formato correto\n",
        "\n",
        "y_prob_1d = y_prob[:, 1]\n",
        "\n",
        "# Convertendo y_test para 1D array\n",
        "y_test_1d = np.argmax(y_test.to_numpy(), axis=1)\n",
        "\n",
        "auc = roc_auc_score(y_test_1d, y_prob_1d)\n",
        "\n",
        "print(\"AUC:\", round(auc, 1))\n"
      ],
      "metadata": {
        "id": "vO48LMkXPVeb"
      },
      "execution_count": null,
      "outputs": []
    },
    {
      "cell_type": "markdown",
      "source": [
        "Questão 3)\n",
        "Com relação às árvores de decisão, indique a alternativa correta:\n",
        "\n",
        "\n",
        "a. É um método de simples entendimento e interpretação: modelo “caixa branca”.\n",
        "\n",
        "\n",
        "*   Árvores de decisão são métodos de \"caixa branca\" porque as regras de decisão aprendidas são facilmente interpretáveis e explicáveis. Isso significa que podemos entender facilmente como as decisões estão sendo tomadas com base nas condições dos dados.\n",
        "*   Árvores de decisão não são métodos paramétricos, pois não fazem suposições explícitas sobre a distribuição dos dados.\n",
        "*   Elas podem ser usadas com dados nominais (categóricos) e numéricos, não sendo restritas a apenas um tipo de dado.\n",
        "*   Não é necessário normalizar os dados ao usar árvores de decisão, pois elas não são sensíveis à escala dos dados.\n",
        "\n",
        "\n",
        "\n",
        "\n",
        "\n",
        "\n",
        "\n"
      ],
      "metadata": {
        "id": "BK9EIut9SRpW"
      }
    },
    {
      "cell_type": "markdown",
      "source": [
        "Questão 4) Com relação à curva ROC:\n",
        "\n",
        "\n",
        "a. Só pode ser usada em classificação binária.\n",
        "\n",
        "\n",
        "\n",
        "*   A curva ROC (Receiver Operating Characteristic) é uma métrica utilizada para avaliar modelos de classificação, especificamente em problemas de classificação binária, onde temos duas classes, positiva e negativa.\n",
        "*   A curva ROC não é usada em modelos de regressão. Ela é específica para modelos de classificação.\n",
        "*   Ela não retorna o mesmo valor que a medida de precisão. A ROC é uma curva que mostra a relação entre a taxa de verdadeiros positivos (sensibilidade) e a taxa de falsos positivos (1 - especificidade) para diferentes limiares de classificação.\n",
        "*   A curva ROC não é uma técnica de agrupamento de dados. Ela é uma métrica de avaliação para classificação.\n",
        "*   Ela não está limitada a problemas de classificação binária. Pode ser usada em problemas de classificação com mais de duas classes (multiclasse), mas é mais comumente utilizada na classificação binária.\n",
        "\n",
        "\n",
        "\n",
        "\n",
        "\n"
      ],
      "metadata": {
        "id": "9DF4ExPvSx1Q"
      }
    }
  ]
}