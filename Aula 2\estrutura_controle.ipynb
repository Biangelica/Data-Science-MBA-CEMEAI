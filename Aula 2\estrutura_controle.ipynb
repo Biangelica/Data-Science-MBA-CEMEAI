{
  "cells": [
    {
      "cell_type": "markdown",
      "metadata": {
        "id": "view-in-github",
        "colab_type": "text"
      },
      "source": [
        "<a href=\"https://colab.research.google.com/github/Biangelica/Data-Science-MBA-CEMEAI/blob/main/Aula%202%5Cestrutura_controle.ipynb\" target=\"_parent\"><img src=\"https://colab.research.google.com/assets/colab-badge.svg\" alt=\"Open In Colab\"/></a>"
      ]
    },
    {
      "cell_type": "markdown",
      "id": "c0ad7312",
      "metadata": {
        "id": "c0ad7312"
      },
      "source": [
        "# <font color='blue'> Introdução a Programação com Python </font>\n",
        "    \n",
        "## <font color='blue'> Estrutura de Controle</font>\n",
        "\n",
        "### Material produzido por Luis Gustavo Nonato"
      ]
    },
    {
      "cell_type": "markdown",
      "id": "168e00ee",
      "metadata": {
        "id": "168e00ee"
      },
      "source": [
        "### Conteúdo\n",
        "- <font color='blue'>  if elif else </font> e bloco de controle\n",
        "- Combinação de expressões booleanas (<font color='blue'> and </font> e <font color='blue'> or </font>)\n",
        "- Operador <font color='blue'>  in </font> e método <font color='blue'> count </font> para strings"
      ]
    },
    {
      "cell_type": "markdown",
      "id": "628e2071",
      "metadata": {
        "id": "628e2071"
      },
      "source": [
        "A estrutura de controle <font color='blue'> if </font> é utilizada para decidir se um bloco de código será executado ou não. A sintaxe da estrutura <font color='blue'> if </font> é da forma:\n",
        "```python\n",
        "if (expressão booleana):\n",
        "    bloco de código\n",
        "```\n",
        "\n",
        "**Importante:** O bloco de código que está condicionado ao <font color='blue'> if </font> é marcado por meio de indentação (espaço a esquerda de cada linha de comando). Todos os comandos dentro do bloco devem estar indentados da mesma forma."
      ]
    },
    {
      "cell_type": "code",
      "execution_count": null,
      "id": "239e9c84",
      "metadata": {
        "id": "239e9c84",
        "outputId": "968f6270-47b2-4a24-a64d-2a63629d9274"
      },
      "outputs": [
        {
          "name": "stdout",
          "output_type": "stream",
          "text": [
            "O valor 3 satisfaz a expressão booleana\n",
            "portanto este bloco de código é executado\n",
            "\n",
            "Este comando não está condicionado ao if, portanto sempre será executado\n"
          ]
        }
      ],
      "source": [
        "a = 3\n",
        "\n",
        "if a > 2:\n",
        "    print(\"O valor\",a, \"satisfaz a expressão booleana\")\n",
        "    print(\"portanto este bloco de código é executado\")\n",
        "\n",
        "print(\"\\nEste comando não está condicionado ao if, portanto sempre será executado\")"
      ]
    },
    {
      "cell_type": "markdown",
      "id": "de7461b3",
      "metadata": {
        "id": "de7461b3"
      },
      "source": [
        "Note no código acima que o bloco\n",
        "```python\n",
        "    print(\"O valor\",a, \"satisfaz a expressão booleana\")\n",
        "    print(\"portanto este bloco de código é executado\")\n",
        "```\n",
        "está indentado e só será executado caso a expressão booleana for verdadeira. Tente mudar o valor da variável `a` para 1 e veja o que acontece.\n",
        "\n",
        "Lembre-se, a indentação tem que ser a mesma para todo o bloco dentro do <font color='blue'> if </font>, caso contrário uma mansagem de erro será lançada."
      ]
    },
    {
      "cell_type": "code",
      "execution_count": null,
      "id": "dfccfe3c",
      "metadata": {
        "id": "dfccfe3c",
        "outputId": "b7036987-36c2-4212-c952-1e0e58575bf1"
      },
      "outputs": [
        {
          "name": "stdout",
          "output_type": "stream",
          "text": [
            "O valor 3 satisfaz a expressão booleana\n",
            "portanto este bloco de código é executado\n",
            "\n",
            " Este comando não está condicionado ao if, portanto sempre será executado\n"
          ]
        }
      ],
      "source": [
        "a = 3\n",
        "\n",
        "if a > 2:\n",
        "  print(\"O valor\",a, \"satisfaz a expressão booleana\")\n",
        "   print(\"portanto este bloco de código é executado\")\n",
        "\n",
        "print(\"\\n Este comando não está condicionado ao if, portanto sempre será executado\")"
      ]
    },
    {
      "cell_type": "markdown",
      "id": "3b10b09e",
      "metadata": {
        "id": "3b10b09e"
      },
      "source": [
        "A estrutura <font color='blue'> if </font> possui a condicionante <font color='blue'> else </font> que premite executar um bloco de código caso a expressão booleana não seja verdadeira. A sintaxe neste caso é da forma:\n",
        "```python\n",
        "if (expressão booleana):\n",
        "    bloco de código 1\n",
        "else:\n",
        "    bloco de código 2\n",
        "```\n",
        "Assim, o `bloco de código 1` será executado caso a expressão booleana seja verdadeira e, se a expressão for falsa, o `bloco de código 2` será executado."
      ]
    },
    {
      "cell_type": "code",
      "execution_count": null,
      "id": "add7f7f1",
      "metadata": {
        "id": "add7f7f1",
        "outputId": "9058f4d4-bf8f-4cf5-fc98-862ad0536f4d"
      },
      "outputs": [
        {
          "name": "stdout",
          "output_type": "stream",
          "text": [
            "O valor 1 NÃO satisfaz a expressão booleana\n",
            "portanto este SEGUNDO bloco é executado\n",
            "aqui tem outra frase que será sempre executada\n"
          ]
        }
      ],
      "source": [
        "a = 1\n",
        "\n",
        "if a > 2:\n",
        "    print(\"O valor\",a, \"satisfaz a expressão booleana\")\n",
        "    print(\"portanto este PRIMEIRO bloco de código é executado\")\n",
        "else:\n",
        "    print(\"O valor\",a, \"NÃO satisfaz a expressão booleana\")\n",
        "    print(\"portanto este SEGUNDO bloco é executado\")\n",
        "\n",
        "print(\"aqui tem outra frase que será sempre executada\")"
      ]
    },
    {
      "cell_type": "markdown",
      "id": "413ab2a8",
      "metadata": {
        "id": "413ab2a8"
      },
      "source": [
        "A estrutura <font color='blue'> if </font> possui ainda a condicionante <font color='blue'> elif </font> que permite encadear múltiplas expressões booleanas. A sintaxe é a seguinte:\n",
        "```python\n",
        "if (expressão booleana 1):\n",
        "    bloco de código 1\n",
        "elif (expressão booleana 2):\n",
        "    bloco de código 2\n",
        "else:\n",
        "    bloco de código 3\n",
        "```\n",
        "Neste caso, o `bloco de código 1` será executado caso a `expressão booleana 1` seja verdadeira, se não for, a `expressão booleana 2` é avaliada e, caso seja verdadeira o `bloco de código 2` será executado. Se tanto a `expressão booleana 1` quanto a `expressão booleana 2` foram falsas, o `bloco de código 3` é executado."
      ]
    },
    {
      "cell_type": "code",
      "execution_count": null,
      "id": "332e49b3",
      "metadata": {
        "id": "332e49b3",
        "outputId": "2e779397-9115-4f3f-f1cf-7e08cc034398"
      },
      "outputs": [
        {
          "name": "stdout",
          "output_type": "stream",
          "text": [
            "Os valores 1 2 NÃO satisfazem as expressões booleanas do if e do elif\n",
            "portanto este último bloco é executado\n"
          ]
        }
      ],
      "source": [
        "a = 1\n",
        "b = 2\n",
        "\n",
        "if a > 2:\n",
        "    print(\"O valor\",a, \"satisfaz a expressão booleana deste primeiro if\")\n",
        "    print(\"portanto este PRIMEIRO bloco de código é executado\")\n",
        "elif b < 2:\n",
        "    print(\"O valor\",b, \"satisfaz a expressão booleana do elif\")\n",
        "    print(\"portanto este SEGUNDO bloco de código é executado\")\n",
        "else:\n",
        "    print(\"Os valores\",a,b, \"NÃO satisfazem as expressões booleanas do if e do elif\")\n",
        "    print(\"portanto este último bloco é executado\")"
      ]
    },
    {
      "cell_type": "markdown",
      "id": "b3a5acb5",
      "metadata": {
        "id": "b3a5acb5"
      },
      "source": [
        "Pode-se utilizar múltiplos <font color='blue'> elif </font>, que serão avaliados na ordem em que aparecem dentro da estrutura <font color='blue'> if </font>."
      ]
    },
    {
      "cell_type": "code",
      "execution_count": null,
      "id": "2f2317a8",
      "metadata": {
        "id": "2f2317a8",
        "outputId": "b68664f7-9423-4a3b-8d85-9f3e9175c284"
      },
      "outputs": [
        {
          "name": "stdout",
          "output_type": "stream",
          "text": [
            "Os valores 1 2 3 NÃO satisfazem as expressões booleanas do if e dos dois elif\n",
            "portanto este último bloco é executado\n"
          ]
        }
      ],
      "source": [
        "a = 1\n",
        "b = 2\n",
        "\n",
        "if a > 2:\n",
        "    print(\"O valor\",a, \"satisfaz a expressão booleana do if\")\n",
        "    print(\"portanto este PRIMEIRO bloco de código é executado\")\n",
        "elif b < 2:\n",
        "    print(\"O valor\",b, \"satisfaz a expressão booleana do primeiro elif\")\n",
        "    print(\"portanto este SEGUNDO bloco de código é executado\")\n",
        "elif a+b > 3:\n",
        "    print(\"O valor\",a+b, \"satisfaz a expressão booleana do segundo elif\")\n",
        "    print(\"portanto este TERCEIRO bloco de código é executado\")\n",
        "else:\n",
        "    print(\"Os valores\",a,b,a+b, \"NÃO satisfazem as expressões booleanas do if e dos dois elif\")\n",
        "    print(\"portanto este último bloco é executado\")"
      ]
    },
    {
      "cell_type": "markdown",
      "id": "6d07446d",
      "metadata": {
        "id": "6d07446d"
      },
      "source": [
        "### <font color='blue'> and </font> e <font color='blue'> or </font>"
      ]
    },
    {
      "cell_type": "markdown",
      "id": "703f1b75",
      "metadata": {
        "id": "703f1b75"
      },
      "source": [
        "Expressões booleanas podem ser combinadas por meio dos operadores binários <font color='blue'> and </font> e <font color='blue'> or </font>. Tais operadores geram resultados conforme descrito abaixo:\n",
        "\n",
        "| (expressão booleana 1) | <font color='blue'> and </font> | (expressão booleana 2)| : |RESULTADO|\n",
        "|:-:|:-:|:-:|:-:|:-:|\n",
        "| TRUE |  | TRUE | : |<font color='blue'> TRUE </font> |\n",
        "| TRUE |  | FALSE | : |<font color='blue'> FALSE </font> |\n",
        "| FALSE |  | TRUE | : |<font color='blue'> FALSE </font> |\n",
        "| FALSE |  | FALSE | : |<font color='blue'> FALSE </font> |\n",
        "\n",
        "| (expressão booleana 1) | <font color='blue'> or </font> | (expressão booleana 2)| : |RESULTADO|\n",
        "|:-:|:-:|:-:|:-:|:-:|\n",
        "| TRUE |  | TRUE | : |<font color='blue'> TRUE </font> |\n",
        "| TRUE |  | FALSE | : |<font color='blue'> TRUE </font> |\n",
        "| FALSE |  | TRUE | : |<font color='blue'> TRUE </font> |\n",
        "| FALSE |  | FALSE | : |<font color='blue'> FALSE </font> |"
      ]
    },
    {
      "cell_type": "code",
      "execution_count": null,
      "id": "99d2de67",
      "metadata": {
        "id": "99d2de67",
        "outputId": "83bf875a-3299-4e94-eb2e-fea913cb1261"
      },
      "outputs": [
        {
          "name": "stdout",
          "output_type": "stream",
          "text": [
            "False\n",
            "Pelo menos uma das duas condições NÃO foi satisfeita\n",
            "Nenhuma das duas condições foi satisfeita\n"
          ]
        }
      ],
      "source": [
        "x = -1\n",
        "y = 7\n",
        "\n",
        "#print(x >= 0 and y <= 10)\n",
        "\n",
        "if x >= 0 and y <= 10:\n",
        "    print('As duas condições foram satisfeitas')\n",
        "else:\n",
        "    print('Pelo menos uma das duas condições NÃO foi satisfeita')\n",
        "\n",
        "if x >= 0 or y < 5:\n",
        "    print('Pelo menos uma das duas condições foi satisfeita')\n",
        "else:\n",
        "    print('Nenhuma das duas condições foi satisfeita')"
      ]
    },
    {
      "cell_type": "code",
      "execution_count": null,
      "id": "4152222f",
      "metadata": {
        "id": "4152222f",
        "outputId": "d7c60119-bf13-4290-99f1-c0115887987a"
      },
      "outputs": [
        {
          "name": "stdout",
          "output_type": "stream",
          "text": [
            "deu ruim\n"
          ]
        }
      ],
      "source": [
        "if (x < 0 or y > 5) and x > 0:\n",
        "    print('combinação do \"and\" com \"or\"')\n",
        "else:\n",
        "    print('deu ruim')"
      ]
    },
    {
      "cell_type": "markdown",
      "id": "3d7d3606",
      "metadata": {
        "id": "3d7d3606"
      },
      "source": [
        "O código abaixo gera um número inteiro de forma randômica no intervalo entre 0 e 99, imprimindo um subintervalo que contém o número."
      ]
    },
    {
      "cell_type": "code",
      "execution_count": null,
      "id": "61cf6042",
      "metadata": {
        "id": "61cf6042",
        "outputId": "ed4184c1-2af9-47c7-b861-7beb7d200844"
      },
      "outputs": [
        {
          "name": "stdout",
          "output_type": "stream",
          "text": [
            "O número  15  está no intervalo [0,30]\n"
          ]
        }
      ],
      "source": [
        "import random\n",
        "\n",
        "numero = random.randrange(1, 100)\n",
        "\n",
        "if numero <= 30:\n",
        "    print('O número ',numero,' está no intervalo [0,30]')\n",
        "elif numero > 30 and numero <= 60:\n",
        "    print('O número ',numero,' está no intervalo [31,60]')\n",
        "else:\n",
        "    print('O número ',numero,' está no intervalo [61,99]')"
      ]
    },
    {
      "cell_type": "markdown",
      "id": "cba15159",
      "metadata": {
        "id": "cba15159"
      },
      "source": [
        "### <font color='blue'> in </font> e <font color='blue'> count </font>"
      ]
    },
    {
      "cell_type": "markdown",
      "id": "f9a37726",
      "metadata": {
        "id": "f9a37726"
      },
      "source": [
        "O operador <font color='blue'> in </font> permite verificar se uma string está contida em outra. O método <font color='blue'> count </font>, conta o número de vezes que uma string aparece em outra string. Por exemplo:"
      ]
    },
    {
      "cell_type": "code",
      "execution_count": null,
      "id": "806e4bd9",
      "metadata": {
        "id": "806e4bd9",
        "outputId": "33a78551-b802-40af-fe3f-13981cb2374f"
      },
      "outputs": [
        {
          "name": "stdout",
          "output_type": "stream",
          "text": [
            "True\n",
            "2\n"
          ]
        }
      ],
      "source": [
        "frase = \"Luis Gustavo Nonato é o professor deste curso de introducao a programacao\"\n",
        "print(\"cao\" in frase)\n",
        "print(frase.count('cao'))"
      ]
    },
    {
      "cell_type": "markdown",
      "id": "ab0a1c4e",
      "metadata": {
        "id": "ab0a1c4e"
      },
      "source": [
        "Dada uma frase qualquer, vamos verificar se ela possui todas as vogais e quantas vezes cada vogal aparece."
      ]
    },
    {
      "cell_type": "code",
      "execution_count": null,
      "id": "a8769eb4",
      "metadata": {
        "id": "a8769eb4",
        "outputId": "831754f1-5ee0-4d21-bb8d-e6e22004e1cd"
      },
      "outputs": [
        {
          "name": "stdout",
          "output_type": "stream",
          "text": [
            "A vogal \"a\" aparece na frase 6 vezes\n",
            "A vogal \"e\" aparece na frase 2 vezes\n",
            "A vogal \"i\" aparece na frase 1 vezes\n",
            "A vogal \"o\" aparece na frase 4 vezes\n",
            "A vogal \"u\" não aparece na frase\n"
          ]
        }
      ],
      "source": [
        "frase = \"Esta frase nao contem todas as vogais\"\n",
        "\n",
        "if ('a' in frase):\n",
        "    print('A vogal \"a\" aparece na frase',frase.count('a'),'vezes')\n",
        "else:\n",
        "    print('A vogal \"a\" não aparece na frase')\n",
        "\n",
        "if ('e' in frase):\n",
        "    print('A vogal \"e\" aparece na frase',frase.count('e'),'vezes')\n",
        "else:\n",
        "    print('A vogal \"e\" não aparece na frase')\n",
        "\n",
        "if ('i' in frase):\n",
        "    print('A vogal \"i\" aparece na frase',frase.count('i'),'vezes')\n",
        "else:\n",
        "    print('A vogal \"i\" não aparece na frase')\n",
        "\n",
        "if ('o' in frase):\n",
        "    print('A vogal \"o\" aparece na frase',frase.count('o'),'vezes')\n",
        "else:\n",
        "    print('A vogal \"o\" não aparece na frase')\n",
        "\n",
        "if ('u' in frase):\n",
        "    print('A vogal \"u\" aparece na frase',frase.count('u'),'vezes')\n",
        "else:\n",
        "    print('A vogal \"u\" não aparece na frase')"
      ]
    }
  ],
  "metadata": {
    "kernelspec": {
      "display_name": "Python 3",
      "language": "python",
      "name": "python3"
    },
    "language_info": {
      "codemirror_mode": {
        "name": "ipython",
        "version": 3
      },
      "file_extension": ".py",
      "mimetype": "text/x-python",
      "name": "python",
      "nbconvert_exporter": "python",
      "pygments_lexer": "ipython3",
      "version": "3.8.8"
    },
    "colab": {
      "provenance": [],
      "include_colab_link": true
    }
  },
  "nbformat": 4,
  "nbformat_minor": 5
}