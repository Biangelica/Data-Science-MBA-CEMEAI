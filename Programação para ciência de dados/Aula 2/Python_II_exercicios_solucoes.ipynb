{
  "nbformat": 4,
  "nbformat_minor": 0,
  "metadata": {
    "kernelspec": {
      "display_name": "Python 3",
      "language": "python",
      "name": "python3"
    },
    "language_info": {
      "codemirror_mode": {
        "name": "ipython",
        "version": 3
      },
      "file_extension": ".py",
      "mimetype": "text/x-python",
      "name": "python",
      "nbconvert_exporter": "python",
      "pygments_lexer": "ipython3",
      "version": "3.8.5"
    },
    "colab": {
      "provenance": [],
      "include_colab_link": true
    }
  },
  "cells": [
    {
      "cell_type": "markdown",
      "metadata": {
        "id": "view-in-github",
        "colab_type": "text"
      },
      "source": [
        "<a href=\"https://colab.research.google.com/github/Biangelica/Data-Science-MBA-CEMEAI/blob/main/Programa%C3%A7%C3%A3o%20para%20ci%C3%AAncia%20de%20dados/Aula%202/Python_II_exercicios_solucoes.ipynb\" target=\"_parent\"><img src=\"https://colab.research.google.com/assets/colab-badge.svg\" alt=\"Open In Colab\"/></a>"
      ]
    },
    {
      "cell_type": "markdown",
      "metadata": {
        "id": "_pb63wCuFD_M"
      },
      "source": [
        "# <span style=\"color:blue\"> MBA em Ciência de Dados</span>\n",
        "# <span style=\"color:blue\">Programação para Ciência de Dados</span>\n",
        "\n",
        "## <span style=\"color:blue\">Exercícios Python Parte II</span>\n",
        "**Material Produzido por Luis Gustavo Nonato**<br>\n",
        "**Cemeai - ICMC/USP São Carlos**"
      ]
    },
    {
      "cell_type": "markdown",
      "metadata": {
        "id": "HmpyB6l7FD_U"
      },
      "source": [
        "#### <span style=\"color:red\">Recomenda-se fortemente que os exercícios sejam feitos sem consultar as respostas antecipadamente.</span>"
      ]
    },
    {
      "cell_type": "markdown",
      "metadata": {
        "id": "GFJ7TwuyFD_U"
      },
      "source": [
        "### Exercício 1)"
      ]
    },
    {
      "cell_type": "markdown",
      "metadata": {
        "id": "i7q-9FlsFD_V"
      },
      "source": [
        "**1.1** No código abaixo, explique por que o valor da variável `y` não é o mesmo que o valor de `x` após a operação `x = x+1`."
      ]
    },
    {
      "cell_type": "code",
      "metadata": {
        "id": "EuED9kzwFD_V",
        "outputId": "f0a38045-5dcd-4b53-9201-690866747ff0"
      },
      "source": [
        "x = 3\n",
        "y = x\n",
        "print(x,y)\n",
        "x = x+1\n",
        "print(x,y)"
      ],
      "execution_count": null,
      "outputs": [
        {
          "output_type": "stream",
          "text": [
            "3 3\n",
            "4 3\n"
          ],
          "name": "stdout"
        }
      ]
    },
    {
      "cell_type": "markdown",
      "metadata": {
        "id": "fSPFIdLvFD_W"
      },
      "source": [
        "**Resposta:**\n",
        "Na atribuição `x=3`, um endereço de memória é criado para armazenar o valor 3 e uma referência para este endereço é armazenada na váriável `x`. A atribuição `y = x` faz com que `y` também seja uma referência para o endereço de memória onde o valor 3 está armazendo.\n",
        "\n",
        "A operação `x+1` recupera o valor 3 referenciado por `x`, adicionado 1 e o resultado 4 é colocado em um novo endereço de memória. Com a atribuição `x = x+1`, a variável `x` passa a referenciar este novo endereço de memória. A variável `y`, por sua vez, continua sendo uma referência para o endereço de memória onde o valor 3 está armazenado.\n",
        "\n",
        "Imprima os endereços referênciados por `x` e `y` e verá que são diferentes."
      ]
    },
    {
      "cell_type": "code",
      "metadata": {
        "id": "hy2NrknrFD_X",
        "outputId": "43696ffe-f34d-47a9-fc3e-d33f20ead8bf"
      },
      "source": [
        "print(id(x))\n",
        "print(id(y))"
      ],
      "execution_count": null,
      "outputs": [
        {
          "output_type": "stream",
          "text": [
            "4445435088\n",
            "4445435056\n"
          ],
          "name": "stdout"
        }
      ]
    },
    {
      "cell_type": "markdown",
      "metadata": {
        "id": "WUGfP00MFD_X"
      },
      "source": [
        "**1.2** No código abaixo, explique por que o conteúdo da variável `y` também é afetado quando um novo elemento é adicionado à lista referenciada por `x`."
      ]
    },
    {
      "cell_type": "code",
      "metadata": {
        "id": "luIXCJKMFD_Y",
        "outputId": "2f313814-1800-46cb-c18b-ce795e7fa99d"
      },
      "source": [
        "x = [3]\n",
        "y = x\n",
        "print(x,y)\n",
        "x.append(1)\n",
        "print(x,y)"
      ],
      "execution_count": null,
      "outputs": [
        {
          "output_type": "stream",
          "text": [
            "[3] [3]\n",
            "[3, 1] [3, 1]\n"
          ],
          "name": "stdout"
        }
      ]
    },
    {
      "cell_type": "markdown",
      "metadata": {
        "id": "zlilxaTMFD_Y"
      },
      "source": [
        "**Resposta:** A atribuição `x = [3]` cria uma lista em memória e atribui o endereço desta memória a variável `x`. O endereço onde o elemento 3 da lista está armazenado é diferente do endereço de memória da lista. A atribuição `y = x` faz com que `y` também seja uma referência para o endereço de memória onde a lista está armazenada.\n",
        "\n",
        "A operação `x.append(1)` adiciona um novo elemento à lista, porém o endereço de memória da lista não muda. Como `y` referencia este endereço, `y` tem acesso ao conteúdo alterado pela operação `x.append(1)`."
      ]
    },
    {
      "cell_type": "markdown",
      "metadata": {
        "id": "KEicPW9eFD_Y"
      },
      "source": [
        "**1.3** No código abaixo, explique por que o conteúdo da variável `y` NÃO É afetado após a operação `x = x+[1]`."
      ]
    },
    {
      "cell_type": "code",
      "metadata": {
        "id": "ib3uajciFD_Z",
        "outputId": "b4baf9ab-5261-4da0-fbe4-fab5071a247d"
      },
      "source": [
        "x = [3]\n",
        "y = x\n",
        "print(x,y)\n",
        "x = x+[1]\n",
        "print(x,y)"
      ],
      "execution_count": null,
      "outputs": [
        {
          "output_type": "stream",
          "text": [
            "[3] [3]\n",
            "[3, 1] [3]\n"
          ],
          "name": "stdout"
        }
      ]
    },
    {
      "cell_type": "markdown",
      "metadata": {
        "id": "NICFkYXmFD_Z"
      },
      "source": [
        "**Resposta:** A operação `x+[1]` recupera a lista referênciada por `x` e a concatena com a lista `[1]`, porém, a concatenação resulta em uma nova lista, que é armazenada em um novo endereço de memória. A atribuição `x = x+[1]` faz com que `x` referencie este novo endereço de memória.\n",
        "\n",
        "A variável `y`, por sua vez, continua referenciando o endereço de memória onde a lista `[3]` foi armazenada, de modo que os endereços referenciados por `x` e `y` são diferentes."
      ]
    },
    {
      "cell_type": "markdown",
      "metadata": {
        "id": "U57S58bFFD_Z"
      },
      "source": [
        "### Exercício 2)\n",
        "Considere a lista `pessoas` abaixo. Escreva um códico para remover todos os nomes da lista que começam com as letras 'A' e 'M', inserindo estes nomes em uma nova lista chamada `pessoasAM`."
      ]
    },
    {
      "cell_type": "code",
      "metadata": {
        "id": "RqpR4awSFD_Z",
        "outputId": "ab80cb55-fc87-43b8-d2d2-277d613c1c00"
      },
      "source": [
        "# Solucao 1: utilizando laço 'for'\n",
        "pessoas = ['Miguel','Sophia','Davi','Alice','Arthur','Julia','Pedro','Isabella','Gabriel',\n",
        "           'Manuela','Laura']\n",
        "\n",
        "pessoasAM = []\n",
        "for n in pessoas:\n",
        "    if n[0] == 'A' or n[0] == 'M':\n",
        "        pessoasAM.append(n)\n",
        "\n",
        "for n in pessoasAM:\n",
        "    if n in pessoas:\n",
        "        pessoas.remove(n)  # estamos assumindo que não existem nomes repetidos na lista.\n",
        "\n",
        "print(pessoas)\n",
        "print(pessoasAM)"
      ],
      "execution_count": null,
      "outputs": [
        {
          "output_type": "stream",
          "text": [
            "['Sophia', 'Davi', 'Julia', 'Pedro', 'Isabella', 'Gabriel', 'Laura']\n",
            "['Miguel', 'Alice', 'Arthur', 'Manuela']\n"
          ],
          "name": "stdout"
        }
      ]
    },
    {
      "cell_type": "code",
      "metadata": {
        "id": "BCDwd48jFD_a",
        "outputId": "27faa6bd-6928-4690-a7a7-728d41678385"
      },
      "source": [
        "# Solucao 2: utilizando comprehension\n",
        "pessoas = ['Miguel','Sophia','Davi','Alice','Arthur','Julia','Pedro','Isabella','Gabriel','Manuela','Laura']\n",
        "\n",
        "pessoasAM = [n for n in pessoas if (n[0]=='A' or n[0]=='M')]\n",
        "pessoas = [n for n in pessoas if n not in pessoasAM]\n",
        "\n",
        "print(pessoas)\n",
        "print(pessoasAM)"
      ],
      "execution_count": null,
      "outputs": [
        {
          "output_type": "stream",
          "text": [
            "['Sophia', 'Davi', 'Julia', 'Pedro', 'Isabella', 'Gabriel', 'Laura']\n",
            "['Miguel', 'Alice', 'Arthur', 'Manuela']\n"
          ],
          "name": "stdout"
        }
      ]
    },
    {
      "cell_type": "markdown",
      "metadata": {
        "id": "1ubFlMoEFD_a"
      },
      "source": [
        "### Exercício 3)\n",
        "Crie um dicionário cujas chaves são as strings da lista `pessoas`, sendo o comprimento das strings correspondentes o valor associado a chave. Utilize comprehension para criar o dicionário. Por exemplo:\n",
        "```python\n",
        "{'Miguel': 6, 'Sophia': 6, 'Davi': 4,...}\n",
        "```"
      ]
    },
    {
      "cell_type": "code",
      "metadata": {
        "id": "1TxzGJ2SFD_a",
        "outputId": "9e3cfbc3-7c75-4fed-99b3-a20150221226"
      },
      "source": [
        "pessoas = ['Miguel','Sophia','Davi','Alice','Arthur','Julia','Pedro','Isabella','Gabriel','Manuela','Laura']\n",
        "\n",
        "dict_pessoas = {p : len(p) for p in pessoas}\n",
        "print(dict_pessoas)"
      ],
      "execution_count": null,
      "outputs": [
        {
          "output_type": "stream",
          "text": [
            "{'Miguel': 6, 'Sophia': 6, 'Davi': 4, 'Alice': 5, 'Arthur': 6, 'Julia': 5, 'Pedro': 5, 'Isabella': 8, 'Gabriel': 7, 'Manuela': 7, 'Laura': 5}\n"
          ],
          "name": "stdout"
        }
      ]
    },
    {
      "cell_type": "markdown",
      "metadata": {
        "id": "-dZuMXf9FD_b"
      },
      "source": [
        "### Exercício 4)\n",
        "Considere a lista `pessoas` abaixo. Modifique os elementos da lista fazendo que com que o último caracter de cada elemento fique maiúsculo caso tal caractere seja uma vogal. Utilize o método <font color='blue'>'.upper'</font> de objetos string para converter um caracter em maiúsculo. Por exemplo, o método <font color='blue'>'.upper'</font> no código abaixo:\n",
        "```python\n",
        "x = 'abc'.upper()\n",
        "print(x)\n",
        "```\n",
        "resulta em `ABC`. Você não deve utilizar um laço <font color='blue'>'for'</font>, apenas comprehension."
      ]
    },
    {
      "cell_type": "code",
      "metadata": {
        "id": "6r9_zDhYFD_b",
        "outputId": "64f0b006-4a4b-4878-9cac-f25b6cff6214"
      },
      "source": [
        "pessoas = ['Miguel','Sophia','Davi','Alice','Arthur','Julia','Pedro','Isabella','Gabriel','Manuela','Laura']\n",
        "\n",
        "pessoas_upper = [n[:-1]+n[-1].upper() if n[-1] in 'aeiou' else n for n in pessoas]\n",
        "print(pessoas_upper)"
      ],
      "execution_count": null,
      "outputs": [
        {
          "output_type": "stream",
          "text": [
            "['Miguel', 'SophiA', 'DavI', 'AlicE', 'Arthur', 'JuliA', 'PedrO', 'IsabellA', 'Gabriel', 'ManuelA', 'LaurA']\n"
          ],
          "name": "stdout"
        }
      ]
    },
    {
      "cell_type": "markdown",
      "metadata": {
        "id": "_SGsdHjRFD_b"
      },
      "source": [
        "### Exercício 5)\n",
        "Escreva uma função chamda `div3e5` que recebe como parâmetro um número. Se o número for divisível por 3 a função retorna `div3`, se for divisível por 5 retorna `div5`, se for divisível por 3 e 5 retorna `div3div5`, senão retorna o próprio número. Aplique a função na lista `teste` abaixo e utilize comprehension para gerar uma nova lista com os resultados correspondentes. Por exemplo, dada a lista:\n",
        "```python\n",
        "[30, 21, 21, 49, 39, 49, 19,  5, 17,  4]\n",
        "```\n",
        "o código deve produzir\n",
        "```python\n",
        "['div3div5', 'div3', 'div3', 49, 'div3', 49, 19, 'div5', 17, 4]\n",
        "```"
      ]
    },
    {
      "cell_type": "code",
      "metadata": {
        "id": "AO9QdmmKFD_b",
        "outputId": "322a0b71-ef64-41f2-bd85-6e45aace4d5f"
      },
      "source": [
        "teste = [4, 7, 33, 20, 30, 34, 15, 3, 17, 39, 21, 26, 32, 10, 34, 42, 41, 18, 7, 36]\n",
        "\n",
        "def div3e5(x):\n",
        "    s = ''\n",
        "    if x%3 == 0:\n",
        "        s = 'div3'\n",
        "    if x%5 == 0:\n",
        "        s = s+'div5'\n",
        "    if s == '':\n",
        "        s = x\n",
        "    return(s)\n",
        "\n",
        "l = [div3e5(i) for i in teste]\n",
        "print(l)\n",
        "print(teste)"
      ],
      "execution_count": null,
      "outputs": [
        {
          "output_type": "stream",
          "text": [
            "[4, 7, 'div3', 'div5', 'div3div5', 34, 'div3div5', 'div3', 17, 'div3', 'div3', 26, 32, 'div5', 34, 'div3', 41, 'div3', 7, 'div3']\n",
            "[4, 7, 33, 20, 30, 34, 15, 3, 17, 39, 21, 26, 32, 10, 34, 42, 41, 18, 7, 36]\n"
          ],
          "name": "stdout"
        }
      ]
    },
    {
      "cell_type": "markdown",
      "metadata": {
        "id": "Z-qgU9uTFD_c"
      },
      "source": [
        "### Exercício 6)\n",
        "Considere a lista `numeros` abaixo que contém números inteiros entre 0 e 5. Escreva uma função chamda `ocorrencias` que recebe a lista `numeros` como parâmetro e retorna um dicionário onde as chaves são números de 0 a 5 e os valores associados correspondem ao número de vezes que a chave aparece na lista. Por exemplo, o código abaixo:\n",
        "```python\n",
        "numeros = [2, 1, 1, 2, 0, 2, 0, 1, 4, 1]\n",
        "print(ocorrencias(numeros))\n",
        "```\n",
        "deve gerar o seguinte resultado:\n",
        "```python\n",
        "{0: 2, 1: 4, 2: 3, 3: 0, 4: 1, 5: 0}\n",
        "```\n",
        "Tente não utilizar um laço <font color='blue'>'for'</font>, mas sim comprehension para dicionários."
      ]
    },
    {
      "cell_type": "code",
      "metadata": {
        "id": "RBHcMKczFD_c",
        "outputId": "f55349c4-4775-4e1e-b4f9-82520667a84d"
      },
      "source": [
        "numeros = [1, 5, 1, 4, 3, 2, 4, 0, 0, 0, 3, 0, 2, 1, 0, 0, 4, 0, 5, 4]\n",
        "\n",
        "def ocorrencias(l):\n",
        "    d = {i:l.count(i) for i in range(6)}\n",
        "    return(d)\n",
        "\n",
        "print(ocorrencias(numeros))"
      ],
      "execution_count": null,
      "outputs": [
        {
          "output_type": "stream",
          "text": [
            "{0: 7, 1: 3, 2: 2, 3: 2, 4: 4, 5: 2}\n"
          ],
          "name": "stdout"
        }
      ]
    },
    {
      "cell_type": "markdown",
      "metadata": {
        "id": "DLuCOIJ6FD_c"
      },
      "source": [
        "### Exercício 7)\n",
        "Escreva uma função `retorna_maiuscula` que receba um caractere como parâmetro e retorne o caracter em maiúsculo caso ele seja uma vogal. Utilize a função `retorna_maiuscula` para converter todas as vogais de uma string em maiúsculas. Não utilize um laço <font color='blue'>'for'</font> em seu código.\n",
        "\n",
        "__Dica:__ Armazene os resultados da função `retorna_maiuscula` em uma lista e utilize a função <font color='blue'>.join</font> para converter a lista em uma string."
      ]
    },
    {
      "cell_type": "code",
      "metadata": {
        "id": "aHJs5IG-FD_d",
        "outputId": "6aff2443-2309-4e97-d108-b2ad0a70e742"
      },
      "source": [
        "def retorna_maiuscula(s):\n",
        "    if s in 'aeiou':\n",
        "        return(s.upper())\n",
        "    else:\n",
        "        return(s)\n",
        "\n",
        "st = 'string para testar a funcao'\n",
        "stm = ''.join([retorna_maiuscula(c) for c in st])\n",
        "print(stm)"
      ],
      "execution_count": null,
      "outputs": [
        {
          "output_type": "stream",
          "text": [
            "strIng pArA tEstAr A fUncAO\n"
          ],
          "name": "stdout"
        }
      ]
    },
    {
      "cell_type": "markdown",
      "metadata": {
        "id": "jU8BCZrAFD_d"
      },
      "source": [
        "### Exercício 8)\n",
        "Repita o exercício 6) utilizando a função <font color='blue'>'lambda'</font> ao invés de uma função definida pelo comando <font color='blue'>'def'</font>."
      ]
    },
    {
      "cell_type": "code",
      "metadata": {
        "id": "1Zf-rWCwFD_e",
        "outputId": "e3baf9d0-7e26-447e-cc03-0259e36c7f5b"
      },
      "source": [
        "st = 'string para testar a funcao'\n",
        "\n",
        "f = lambda s:s.upper() if s in 'aeiou'else s\n",
        "stm =''.join([f(i) for i in st])\n",
        "print(stm)"
      ],
      "execution_count": null,
      "outputs": [
        {
          "output_type": "stream",
          "text": [
            "strIng pArA tEstAr A fUncAO\n"
          ],
          "name": "stdout"
        }
      ]
    },
    {
      "cell_type": "markdown",
      "metadata": {
        "id": "crNb_GJNFD_e"
      },
      "source": [
        "### Exercício 9)\n",
        "Escreva uma função `intersecao` que recebe duas listas como parâmetros e retorna uma outra lista contendo apenas os elementos que aparencem em ambas, sem repetição de elementos.\n",
        "Por exemplo, o código abaixo:\n",
        "```python\n",
        "s1 = ['a', 'f', 'o', 'i', 'n', 'f', 'g', 'a', 'o', 'i']\n",
        "s2 = ['l', 'k', 'j', 'f', 'a', 'j', 'i']\n",
        "print(intersecao(s1,s2))\n",
        "```\n",
        "deve resultar em\n",
        "```python\n",
        "['a', 'f', 'i']\n",
        "```\n",
        "__Dica:__ Utilize dicionário para encontrar os elementos únicos em cada lista. Você também pode converter a lista para uma váriavel tipo conjunto utilizando o comando <font color='blue'>set</font> disponível no python. Conjuntos não possuem elementos repetidos."
      ]
    },
    {
      "cell_type": "code",
      "metadata": {
        "id": "is6o9qzxFD_e",
        "outputId": "dd556200-0c7a-4e85-d787-d8eae4edbb75"
      },
      "source": [
        "def intersecao(l1,l2):\n",
        "          # utiliza dicionario para encontrar os elementos unicos de cada lista\n",
        "    d_l1 = {c:c for c in l1}\n",
        "    d_l2 = {c:c for c in l2}\n",
        "          # converte os valores do dicionario em listas (poderia ter convertido as chaves)\n",
        "    unicos_l1 = list(d_l1.values())\n",
        "    unicos_l2 = list(d_l2.values())\n",
        "          # utiliza comprehension para gerar a lista com interseções\n",
        "    ambas = [c for c in unicos_l1 if c in unicos_l2]\n",
        "    return(ambas)\n",
        "\n",
        "s1 = ['a', 'f', 'o', 'i', 'n', 'f', 'g', 'a', 'o', 'i']\n",
        "s2 = ['l', 'k', 'j', 'f', 'a', 'j', 'i']\n",
        "\n",
        "print(intersecao(s1,s2))"
      ],
      "execution_count": null,
      "outputs": [
        {
          "output_type": "stream",
          "text": [
            "['a', 'f', 'i']\n"
          ],
          "name": "stdout"
        }
      ]
    },
    {
      "cell_type": "code",
      "metadata": {
        "id": "bKEA7s0WFD_f",
        "outputId": "7a0d879f-c83e-40aa-aff2-03e6d64db714"
      },
      "source": [
        "# solução utilizando o método 'unique'\n",
        "\n",
        "def intersecao(l1,l2):\n",
        "          # utiliza dicionario para encontrar os elementos unicos de cada lista\n",
        "    unicos_l1 = set(l1)\n",
        "    unicos_l2 = set(l2)\n",
        "          # utiliza comprehension para gerar a lista com interseções\n",
        "    ambas = [c for c in unicos_l1 if c in unicos_l2]\n",
        "    return(ambas)\n",
        "\n",
        "s1 = ['a', 'f', 'o', 'i', 'n', 'f', 'g', 'a', 'o', 'i']\n",
        "s2 = ['l', 'k', 'j', 'f', 'a', 'j', 'i']\n",
        "\n",
        "print(intersecao(s1,s2))"
      ],
      "execution_count": null,
      "outputs": [
        {
          "output_type": "stream",
          "text": [
            "['f', 'i', 'a']\n"
          ],
          "name": "stdout"
        }
      ]
    },
    {
      "cell_type": "markdown",
      "metadata": {
        "id": "eKeD4iqJFD_f"
      },
      "source": [
        "### Exercício 10)\n",
        "As funções <font color='blue'>lambda</font>, também chamada de _funções anônimas_, são muito utilizadas quando se invoca um método (ou função) que aceita outra função como parâmetro. Por exemplo, a função <font color='blue'>sorted</font> aceita uma função com parâmetro, a qual é aplicada aos elementos da lista antes que a ordenação seja feita. Por exemplo:\n",
        "```python\n",
        "numeros = [0.11, -0.11, 0.4, 0.11, -0.57, -0.05, 0.85, -0.27, -0.07, -0.78]\n",
        "print(sorted(numeros,key=lambda x:x**2))\n",
        "```\n",
        "resulta nos elementos ordenados, mas como se eles estivessem elevados ao quadrado, ou seja, o resultado é:\n",
        "```python\n",
        "[-0.05, -0.07, 0.11, -0.11, 0.11, -0.27, 0.4, -0.57, -0.78, 0.85]\n",
        "```\n",
        "pois quando elevados ao quadrado e ordenados, os elementos da lista `numeros` resultam em:\n",
        "```python\n",
        "[0.0025, 0.0049, 0.0121, 0.0121, 0.0121, 0.0729, 0.1600, 0.3248, 0.6084, 0.7224]\n",
        "```\n",
        "\n",
        "Utilize a função <font color='blue'>lambda</font> combinada com o método <font color='blue'>sorted</font> para colocar todos os números múltiplos de 3 na parte esquerda de uma lista, ficando os demais números a direita. Por exemplo, a lista:\n",
        "```python\n",
        "[17, 46, 21, 16, 44, 1, 6, 5, 27, 24]\n",
        "```\n",
        "deve ficar organizada como:\n",
        "```python\n",
        "[21, 6, 27, 24, 17, 46, 16, 44, 1, 5]\n",
        "```\n",
        "onde `21, 6, 27, 24` ficam a esquerda, pois são múltipos de 3, equanto\n",
        "`17, 46, 16, 44, 1, 5` ficam a direita pois não são múltiplos de 3.\n",
        "\n",
        "Como teste para seu código, utilize a lista\n",
        "```python\n",
        "[2, 17, 12, 35, 39, 35, 4, 44, 12, 20, 7, 1, 21, 45, 43, 26, 6, 13, 48, 42]\n",
        "```\n",
        "que deve ficar organizada da seguinte forma:\n",
        "```python\n",
        "[12, 39, 12, 21, 45, 6, 48, 42, 2, 17, 35, 35, 4, 44, 20, 7, 1, 43, 26, 13]\n",
        "```"
      ]
    },
    {
      "cell_type": "code",
      "metadata": {
        "id": "rMrtdXi4FD_g",
        "outputId": "c1870c16-7c7a-466b-f90b-f95a0dfc2f32"
      },
      "source": [
        "n = [2, 17, 12, 35, 39, 35, 4, 44, 12, 20, 7, 1, 21, 45, 43, 26, 6, 13, 48, 42]\n",
        "print(n)\n",
        "print(sorted(n,key=lambda x:0 if x%3==0 else 1))"
      ],
      "execution_count": null,
      "outputs": [
        {
          "output_type": "stream",
          "text": [
            "[2, 17, 12, 35, 39, 35, 4, 44, 12, 20, 7, 1, 21, 45, 43, 26, 6, 13, 48, 42]\n",
            "[12, 39, 12, 21, 45, 6, 48, 42, 2, 17, 35, 35, 4, 44, 20, 7, 1, 43, 26, 13]\n"
          ],
          "name": "stdout"
        }
      ]
    }
  ]
}