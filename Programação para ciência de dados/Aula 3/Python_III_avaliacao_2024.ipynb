{
  "cells": [
    {
      "cell_type": "markdown",
      "metadata": {
        "id": "view-in-github",
        "colab_type": "text"
      },
      "source": [
        "<a href=\"https://colab.research.google.com/github/Biangelica/Data-Science-MBA-CEMEAI/blob/main/Programa%C3%A7%C3%A3o%20para%20ci%C3%AAncia%20de%20dados/Aula%203/Python_III_avaliacao_2024.ipynb\" target=\"_parent\"><img src=\"https://colab.research.google.com/assets/colab-badge.svg\" alt=\"Open In Colab\"/></a>"
      ]
    },
    {
      "cell_type": "markdown",
      "metadata": {
        "id": "ot40VXRWWN4u"
      },
      "source": [
        "# <span style=\"color:blue\"> MBA em Ciência de Dados</span>\n",
        "# <span style=\"color:blue\">Programação para Ciência de Dados</span>\n",
        "\n",
        "## <span style=\"color:blue\">Avaliação Python Parte III</span>\n",
        "**Material Produzido por Luis Gustavo Nonato**<br>\n",
        "**Cemeai - ICMC/USP São Carlos**"
      ]
    },
    {
      "cell_type": "markdown",
      "metadata": {
        "id": "OLGsvr9HWN41"
      },
      "source": [
        "### Exercício 1)\n",
        "Considere a lista `numeros` abaixo. Utilize o comando <font color='blue'>map</font> para gerar uma nova lista `maior_20` contendo valores __True__ ou __Falso__ dependendo se o elemento da lista `numeros` é maior (__True__) ou menor igual (__False__) a 20, respectivamente. Por exemplo:\n",
        "```python\n",
        "numeros = [7, 3, 22, 13,...]\n",
        "maior_20 = [False, False, True, False,...]\n",
        "```\n",
        "\n",
        "A quantidade de valores <font color='blue'>True</font> e <font color='blue'>False</font> na lista `maior_20` são:<br>\n",
        "a) True: 23, False: 27<br>\n",
        "b) True: 24, False: 26<br>\n",
        "c) True: 25, False: 25<br>\n",
        "d) True: 21, False: 21"
      ]
    },
    {
      "cell_type": "code",
      "execution_count": 2,
      "metadata": {
        "id": "aBPuHjUvWN42",
        "colab": {
          "base_uri": "https://localhost:8080/"
        },
        "outputId": "1d59574d-4196-48a3-fe4a-1a28f3c1f33f"
      },
      "outputs": [
        {
          "output_type": "stream",
          "name": "stdout",
          "text": [
            "Quantidade de True na lista: 23\n",
            "Quantidade de False na lista: 27\n"
          ]
        }
      ],
      "source": [
        "numeros = [7, 3, 22, 13, 4, 3, 30, 47, 28, 10, 4, 17, 7, 37, 21, 32, 44, 2, 33, 9, 26,\n",
        "           9, 29, 9, 49, 11, 8, 42, 26, 23, 17, 16, 37, 26, 19, 26, 8, 27, 15, 10, 31,\n",
        "           41, 42, 10, 4, 9, 7, 18, 44, 12]\n",
        "\n",
        "maior_20 = list(map( lambda x: x > 20, numeros))\n",
        "\n",
        "# Contando o número de True e False na lista\n",
        "quantidade_true = maior_20.count(True)\n",
        "quantidade_false = maior_20.count(False)\n",
        "\n",
        "print(\"Quantidade de True na lista:\", quantidade_true)\n",
        "print(\"Quantidade de False na lista:\", quantidade_false)"
      ]
    },
    {
      "cell_type": "markdown",
      "metadata": {
        "id": "0X5CJb0WWN43"
      },
      "source": [
        "### Exercício 2)\n",
        "Considere a lista `numeros_2` abaixo. Utilize o comando <font color='blue'>filter</font> para gerar um nova lista `pares` contendo somente os elementos da lista `numeros_2` que são pares (divisível por 2). A soma dos valores dos números na lista `pares` é:<br>\n",
        "a) 768<br>\n",
        "b) 687<br>\n",
        "c) 876<br>\n",
        "d) 868<br>"
      ]
    },
    {
      "cell_type": "code",
      "execution_count": 6,
      "metadata": {
        "id": "99XJEoJdWN44",
        "colab": {
          "base_uri": "https://localhost:8080/"
        },
        "outputId": "65b09952-ef99-4335-aab9-74ab56700c19"
      },
      "outputs": [
        {
          "output_type": "stream",
          "name": "stdout",
          "text": [
            "768\n"
          ]
        }
      ],
      "source": [
        "from functools import reduce\n",
        "\n",
        "numeros_2 = [7, 3, 2, 13, 44, 3, 30, 47, 28, 10, 4, 12, 7, 32, 21, 32, 44, 2, 36, 9, 26,\n",
        "           6, 29, 36, 49, 11, 8, 42, 26, 20, 6, 16, 38, 26, 19, 26, 8, 22, 14, 10, 30,\n",
        "           41, 42, 10, 4, 9, 2, 18, 44, 12]\n",
        "\n",
        "pares = reduce(lambda x,y: x+y , filter(lambda x: x%2 == 0, numeros_2))\n",
        "\n",
        "print(pares)\n"
      ]
    },
    {
      "cell_type": "markdown",
      "source": [],
      "metadata": {
        "id": "sQAlIeYUvBqf"
      }
    },
    {
      "cell_type": "markdown",
      "metadata": {
        "id": "QedRh0OTWN45"
      },
      "source": [
        "### Exercício 3)\n",
        "Considere a lista `num_2` abaixo. Utilize uma combinação dos comandos\n",
        "<font color='blue'>reduce</font> e <font color='blue'>filter</font> para somar todos os elementos da lista que são menores ou iguais a 10. O valor da soma será:<br>\n",
        "a) 101<br>\n",
        "b) 111<br>\n",
        "c) 120<br>\n",
        "d) 126"
      ]
    },
    {
      "cell_type": "code",
      "execution_count": 7,
      "metadata": {
        "id": "gdLTUMHnWN45",
        "colab": {
          "base_uri": "https://localhost:8080/"
        },
        "outputId": "100495b1-97e0-4365-f23c-ae9eb08e9885"
      },
      "outputs": [
        {
          "output_type": "stream",
          "name": "stdout",
          "text": [
            "126\n"
          ]
        }
      ],
      "source": [
        "from functools import reduce\n",
        "\n",
        "num_2 = [9, 3, 13, 44, 13, 30, 47, 8, 15, 14, 22, 17, 32, 5, 32, 44, 21, 36, 19, 26,\n",
        "           12, 6, 29, 36, 49, 11, 8, 42, 26, 20, 6, 16, 38, 2, 19, 26, 8, 22, 14, 10, 30,\n",
        "           41, 42, 10, 4, 9, 2, 1, 44, 12, 13, 36, 11, 6, 45, 3, 10, 7, 9, 21]\n",
        "\n",
        "menor_igual = reduce(lambda x,y: x+y , filter(lambda x: x <= 10, num_2))\n",
        "\n",
        "print(menor_igual)"
      ]
    },
    {
      "cell_type": "markdown",
      "metadata": {
        "id": "12JHpGqVWN45"
      },
      "source": [
        "### Exercício 4)\n",
        "Assinale a alternativa que melhor explica o que significa `x` e `i` na declaração `x(i)` que está dentro do comando <font color='blue'>map</font> no código abaixo:<br>\n",
        "a) `x` corresponde a lista de números [0,1,2,3,4] e `i` é um dos elementos da lista.<br>\n",
        "\n",
        "b) `x` corresponde a lista `func` e `i` é um dos elementos desta lista.<br>\n",
        "\n",
        "c) `x` corresponde a um dos elementos da lista `func` e `i` é um número da lista [0,1,2,3,4].<br>\n",
        "\n",
        "d)  `x` corresponde a `func` e `i` é um dos elementos de `func`.<br>"
      ]
    },
    {
      "cell_type": "code",
      "execution_count": 8,
      "metadata": {
        "id": "a7yWWRVEWN46",
        "colab": {
          "base_uri": "https://localhost:8080/"
        },
        "outputId": "690fe82d-2ffd-4711-d899-322ace7394bd"
      },
      "outputs": [
        {
          "output_type": "stream",
          "name": "stdout",
          "text": [
            "[0, 0]\n",
            "[1, 1]\n",
            "[4, 8]\n",
            "[9, 27]\n",
            "[16, 64]\n"
          ]
        }
      ],
      "source": [
        "def quadrado(x):\n",
        "    return(x**2)\n",
        "\n",
        "def cubo(x):\n",
        "    return(x**3)\n",
        "\n",
        "funcs = [quadrado, cubo]\n",
        "for i in range(5):\n",
        "    res = map(lambda x: x(i),funcs)\n",
        "    print(list(res))"
      ]
    },
    {
      "cell_type": "markdown",
      "metadata": {
        "id": "M9gU8MJvhPEa"
      },
      "source": [
        "### Exercício 5)\n",
        "A classe <font color='blue'>`EquacaoLinear`</font> definida no código abaixo representa uma equação linear de primeiro grau na forma <font color='blue'>`f(x) = a*x + b`</font>. Os códigos em `(I)`, `(II)` e `(III)` a seguir apresentam três formas distintas de definir os coeficiêntes `a` e `b` da equação como `1` e `2`, respectivamente:<br>\n",
        "<br>\n",
        "I)<br>\n",
        "`el = EquacaoLinear(a=1, b=2)`<br>\n",
        "<br>\n",
        "II)<br>\n",
        "`el = EquacaoLinear()`<br>\n",
        "`el.atualiza_coeficientes(a=1, b=2)`<br>\n",
        "<br>\n",
        "III)<br>\n",
        "`el = EquacaoLinear(a=1)`<br>\n",
        "`el._b = 2`<br>\n",
        "<br>\n",
        "\n",
        "Assinale a alternativa correta:<br>\n",
        "a) Apenas `(I)` é verdadeira.<br>\n",
        "\n",
        "b) Apenas `(II)` e `(III)` são verdadeiras.<br>\n",
        "\n",
        "c) Apenas `(I)` e `(III)` são verdadeiras.<br>\n",
        "\n",
        "d) `(I)`, `(II)` e `(III)` são verdadeiras.<br>"
      ]
    },
    {
      "cell_type": "code",
      "execution_count": 12,
      "metadata": {
        "id": "tjj4t_eehVS8",
        "colab": {
          "base_uri": "https://localhost:8080/"
        },
        "outputId": "91836e94-0df8-4c15-dbab-25ab07e62980"
      },
      "outputs": [
        {
          "output_type": "stream",
          "name": "stdout",
          "text": [
            "(I)\n",
            "Coeficientes: a = 1 b = 2\n",
            "(II)\n",
            "Coeficientes: a = 1 b = 2\n",
            "(III)\n",
            "Coeficientes: a = 1 b = 2\n"
          ]
        }
      ],
      "source": [
        "class EquacaoLinear(object):\n",
        "\n",
        "  def __init__(self, a=None, b=None):\n",
        "    self._a = a\n",
        "    self._b = b\n",
        "\n",
        "  def atualiza_coeficientes(self, a, b):\n",
        "    self._a = a\n",
        "    self._b = b\n",
        "\n",
        "  def resolve(self, x):\n",
        "    return self._a*x + self._b\n",
        "\n",
        "# (I) Criar uma instância com coeficientes definidos na inicialização do objeto\n",
        "print(\"(I)\")\n",
        "el1 = EquacaoLinear(a=1, b=2)\n",
        "print(\"Coeficientes: a =\", el1._a, \"b =\", el1._b)\n",
        "\n",
        "# (II) Criar uma instância e atualizar os coeficientes usando o método atualiza_coeficientes\n",
        "print(\"(II)\")\n",
        "el2 = EquacaoLinear()\n",
        "el2.atualiza_coeficientes(a=1, b=2)\n",
        "print(\"Coeficientes: a =\", el2._a, \"b =\", el2._b)\n",
        "\n",
        "# (III) Criar uma instância e definir um coeficiente diretamente e o outro acessando e modificando o atributo protegido\n",
        "print(\"(III)\")\n",
        "el3 = EquacaoLinear(a=1)\n",
        "el3._b = 2\n",
        "print(\"Coeficientes: a =\", el3._a, \"b =\", el3._b)"
      ]
    }
  ],
  "metadata": {
    "colab": {
      "provenance": [],
      "toc_visible": true,
      "include_colab_link": true
    },
    "kernelspec": {
      "display_name": "Python 3",
      "language": "python",
      "name": "python3"
    },
    "language_info": {
      "codemirror_mode": {
        "name": "ipython",
        "version": 3
      },
      "file_extension": ".py",
      "mimetype": "text/x-python",
      "name": "python",
      "nbconvert_exporter": "python",
      "pygments_lexer": "ipython3",
      "version": "3.8.8"
    }
  },
  "nbformat": 4,
  "nbformat_minor": 0
}