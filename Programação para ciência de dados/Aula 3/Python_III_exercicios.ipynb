{
  "cells": [
    {
      "cell_type": "markdown",
      "metadata": {
        "id": "view-in-github",
        "colab_type": "text"
      },
      "source": [
        "<a href=\"https://colab.research.google.com/github/Biangelica/Data-Science-MBA-CEMEAI/blob/main/Programa%C3%A7%C3%A3o%20para%20ci%C3%AAncia%20de%20dados/Aula%203/Python_III_exercicios.ipynb\" target=\"_parent\"><img src=\"https://colab.research.google.com/assets/colab-badge.svg\" alt=\"Open In Colab\"/></a>"
      ]
    },
    {
      "cell_type": "markdown",
      "metadata": {
        "id": "dNqnMPwSgLtx"
      },
      "source": [
        "# <span style=\"color:blue\"> MBA em Ciência de Dados</span>\n",
        "# <span style=\"color:blue\">Programação para Ciência de Dados</span>\n",
        "\n",
        "## <span style=\"color:blue\">Exercícios Python Parte III</span>\n",
        "**Material Produzido por Luis Gustavo Nonato**<br>\n",
        "**Cemeai - ICMC/USP São Carlos**"
      ]
    },
    {
      "cell_type": "markdown",
      "metadata": {
        "id": "xsXGgBfkgLt1"
      },
      "source": [
        "#### <span style=\"color:red\">Recomenda-se fortemente que os exercícios sejam feitos sem consultar as respostas antecipadamente.</span>"
      ]
    },
    {
      "cell_type": "markdown",
      "metadata": {
        "id": "cQxSPiK6gLt1"
      },
      "source": [
        "### Exercício 1)\n",
        "Considere a lista `palavras` abaixo. Utilizando o funcional <font color='blue'>map</font> construa uma nova lista chamada `palavrasM` contendo todos os elementos de `palavras`, porém, com o primeiro caracter em maiúsculo, ou seja,\n",
        "```python\n",
        "palavras = ['adeus','adoravel','amor',...]\n",
        "palavrasM = ['Adeus','Adoravel','Amor',...]\n",
        "```\n",
        "Todo o código deve estar em uma linha."
      ]
    },
    {
      "cell_type": "code",
      "execution_count": 3,
      "metadata": {
        "colab": {
          "base_uri": "https://localhost:8080/"
        },
        "id": "t4VXbErfgLt2",
        "outputId": "3e8c687d-b4fb-4437-9b8e-76b33a73b691"
      },
      "outputs": [
        {
          "output_type": "stream",
          "name": "stdout",
          "text": [
            "['Adeus', 'Adoravel', 'Amor', 'Caminhos', 'Chuva', 'Coragem', 'Cuidar', 'Equilibrio', 'Esperanca', 'Felicidade', 'Gentilezas', 'Liberdade', 'Melancolia', 'Paz', 'Respeito', 'Riso', 'Saudade', 'Palimpsesto', 'Perfeito', 'Reciproco', 'Recomeçar', 'Resiliente', 'Sentir', 'Silencio', 'Imprescindivel', 'Sublime', 'Tertulias']\n"
          ]
        }
      ],
      "source": [
        "palavras = ['adeus','adoravel','amor','caminhos','chuva','coragem','cuidar','equilibrio',\n",
        "            'esperanca','felicidade','gentilezas','liberdade','melancolia','paz','respeito',\n",
        "            'riso','saudade','palimpsesto','perfeito','reciproco','recomeçar',\n",
        "            'resiliente','sentir','silencio','imprescindivel','sublime','tertulias']\n",
        "\n",
        "palavrasM = list(map(lambda x: x[0].upper() + x[1:],  palavras))\n",
        "print(palavrasM)"
      ]
    },
    {
      "cell_type": "markdown",
      "metadata": {
        "id": "p4kLBY2TgLt3"
      },
      "source": [
        "### Exercício 2)\n",
        "Utilizando o funcional <font color='blue'>filter</font>, construa uma nova lista `palavras5` contendo os elementos da lista `palavras` (definida no exercício 1) que contenham no máximo 5 caracteres. Todo o código deve estar em uma linha."
      ]
    },
    {
      "cell_type": "code",
      "execution_count": 10,
      "metadata": {
        "colab": {
          "base_uri": "https://localhost:8080/"
        },
        "id": "7fd2tB1xgLt4",
        "outputId": "9dd87951-b4a7-41c6-83a1-5921dc0c6f1a"
      },
      "outputs": [
        {
          "output_type": "stream",
          "name": "stdout",
          "text": [
            "['adeus', 'amor', 'chuva', 'paz', 'riso']\n"
          ]
        }
      ],
      "source": [
        "palavras5 = list(filter(lambda x: len(x) < 6, palavras))\n",
        "print(palavras5)"
      ]
    },
    {
      "cell_type": "markdown",
      "metadata": {
        "id": "Qdo4HIhTgLt5"
      },
      "source": [
        "### Exercício 3)\n",
        "Utilize os funcionais <font color='blue'>map</font> e <font color='blue'>filter</font> para gerar uma nova lista `palavrasOS` contendo apenas os elementos da lista `palavras` que terminam com a letra 'o', adicionando a letras 's' no final de cada elemento, ou seja,\n",
        "```python\n",
        "palavrasOS = ['equilibrios', 'respeitos', 'risos', ...]\n",
        "```\n",
        "Todo o código deve estar em uma linha."
      ]
    },
    {
      "cell_type": "code",
      "execution_count": 19,
      "metadata": {
        "colab": {
          "base_uri": "https://localhost:8080/"
        },
        "id": "78GfWyyOgLt6",
        "outputId": "8cd255ce-a8ea-4884-de47-6b7a1f329432"
      },
      "outputs": [
        {
          "output_type": "stream",
          "name": "stdout",
          "text": [
            "['equilibrios', 'respeitos', 'risos', 'palimpsestos', 'perfeitos', 'reciprocos', 'silencios']\n"
          ]
        }
      ],
      "source": [
        "palavrasOS = list(map(lambda x: x + 's', filter(lambda x: x[-1] == 'o', palavras))) # também é possivel usar a função x.endswith('o')\n",
        "print(palavrasOS)"
      ]
    },
    {
      "cell_type": "markdown",
      "metadata": {
        "id": "LVdJoUUYgLt7"
      },
      "source": [
        "### Exercício 4)\n",
        "Utilize os funcionais <font color='blue'>map</font> e <font color='blue'>reduce</font> para calcular o número total de caracteres na lista `palavras`. Todo o código deve estar em uma única linha."
      ]
    },
    {
      "cell_type": "code",
      "execution_count": 25,
      "metadata": {
        "colab": {
          "base_uri": "https://localhost:8080/"
        },
        "id": "2TOWzUhNgLt7",
        "outputId": "59249c55-25f2-4d23-9143-d8d5e788e529"
      },
      "outputs": [
        {
          "output_type": "stream",
          "name": "stdout",
          "text": [
            "214\n"
          ]
        }
      ],
      "source": [
        "from functools import reduce\n",
        "\n",
        "total_len = reduce( lambda x,y: x+y,map(lambda x: len(x), palavras))\n",
        "print(total_len)"
      ]
    },
    {
      "cell_type": "markdown",
      "metadata": {
        "id": "30BV8P4wgLt8"
      },
      "source": [
        "### Exercício 5)\n",
        "Escreva a lista `palavras` em um arquivo chamado 'palavras.txt' de modo que cada linha do arquivo contenha um elemento da lista `palavras` seguido do número de caracteres, ou seja, as linhas do arquivo devem ser da forma:\n",
        "```sys\n",
        "adeus 5\n",
        "adoravel 8\n",
        "amor 4\n",
        ":\n",
        ":\n",
        "```\n",
        "Utilize o método <font color='blue'>write</font> para escrever as linhas do arquivo."
      ]
    },
    {
      "cell_type": "code",
      "execution_count": 31,
      "metadata": {
        "id": "SsdvY6KygLt8"
      },
      "outputs": [],
      "source": [
        "with open('palavras.txt','w') as f:\n",
        "    for i in palavras:\n",
        "        f.write(i + ' ' + str(len(i)) + '\\n')"
      ]
    },
    {
      "cell_type": "markdown",
      "metadata": {
        "id": "Wi-tnpR3gLt9"
      },
      "source": [
        "### Exercício 6)\n",
        "Repita o exercício anterior, porém, utilizando o método <font color='blue'>writelines</font> para escrever o arquivo.\n",
        "\n",
        "__Dica__: prepare uma lista onde cada elemento corresponde a uma linha do arquivo."
      ]
    },
    {
      "cell_type": "code",
      "execution_count": 33,
      "metadata": {
        "id": "AJdtuFPFgLt-"
      },
      "outputs": [],
      "source": [
        "lst = list(map( lambda x: x[:] + '\\n', palavras))\n",
        "\n",
        "with open('palavras2.txt','w') as f:\n",
        "  f.writelines(lst)"
      ]
    },
    {
      "cell_type": "markdown",
      "metadata": {
        "id": "ovncW8wHgLt-"
      },
      "source": [
        "### Exercício 7)\n",
        "Crie uma classe chamada `manipula_arquivo` para concatenar ou dividir arquivos texto.\n",
        "A classe deve possuir as seguintes características:\n",
        "- Um método chamado `concatena` que recebe o nome de dois arquivos como parâmetros e concatena os arquivos em um terceiro arquivo cujo nome também é a concatenação dos nomes enviados. O método deve retornar o nome do novo arquivo criado.\n",
        "- Um método chamado `divide_ao_meio` que recebe o nome de um arquivo como parâmetro e gera um novo arquivo com metade das linhas do arquivo original. O nome do novo arquivo deve ser o mesmo do original adicionando o número 2 no final do nome."
      ]
    },
    {
      "cell_type": "code",
      "execution_count": 55,
      "metadata": {
        "id": "Jc4QxQrEgLt_"
      },
      "outputs": [],
      "source": [
        "class manipula_arquivo:\n",
        "    def concatena(self,arq1,arq2):\n",
        "      with open(arq1, 'r') as f1, open(arq2, 'r') as f2:\n",
        "        conteudo1 = f1.read()\n",
        "        conteudo2 = f2.read()\n",
        "\n",
        "        nome_novo_arquivo = arq1.split('.')[0] + arq2.split('.')[0] + '.txt'\n",
        "        with open(nome_novo_arquivo, 'w') as f_novo:\n",
        "            f_novo.write(conteudo1 + conteudo2)\n",
        "\n",
        "\n",
        "    def divide_ao_meio(self,arq):\n",
        "      with open(arq, 'r') as f:\n",
        "            linhas = f.readlines()\n",
        "            metade_linhas = len(linhas) // 2\n",
        "\n",
        "      nome_novo_arquivo = arq.split('.')[0] + '2.txt'\n",
        "      with open(nome_novo_arquivo, 'w') as f_novo:\n",
        "        f_novo.writelines(linhas[:metade_linhas])\n",
        "\n",
        "        return nome_novo_arquivo\n",
        "\n",
        ""
      ]
    },
    {
      "cell_type": "markdown",
      "metadata": {
        "id": "oAlhKtJ7gLt_"
      },
      "source": [
        "Execute as próximas duas células para gerar os aquivos 'test1.txt' e 'test2.txt'."
      ]
    },
    {
      "cell_type": "code",
      "execution_count": 35,
      "metadata": {
        "colab": {
          "base_uri": "https://localhost:8080/"
        },
        "id": "0XkV8tS2gLt_",
        "outputId": "b1792044-3f17-47dd-ad5f-7904d8a00b5a"
      },
      "outputs": [
        {
          "output_type": "stream",
          "name": "stdout",
          "text": [
            "Writing test1.txt\n"
          ]
        }
      ],
      "source": [
        "%%writefile test1.txt\n",
        "conteudo do arquivo\n",
        "test1.txt para ser\n",
        "utilizado como teste para a\n",
        "classe construida"
      ]
    },
    {
      "cell_type": "code",
      "execution_count": 36,
      "metadata": {
        "colab": {
          "base_uri": "https://localhost:8080/"
        },
        "id": "mZpHdiB6gLuA",
        "outputId": "aa403b05-79bc-468f-f3da-cb7c01b2c25c"
      },
      "outputs": [
        {
          "output_type": "stream",
          "name": "stdout",
          "text": [
            "Writing test2.txt\n"
          ]
        }
      ],
      "source": [
        "%%writefile test2.txt\n",
        "conteudo do arquivo\n",
        "test2.txt para ser\n",
        "utilizado como teste para a\n",
        "classe construida"
      ]
    },
    {
      "cell_type": "code",
      "execution_count": 56,
      "metadata": {
        "colab": {
          "base_uri": "https://localhost:8080/"
        },
        "id": "_WMUHteQgLuA",
        "outputId": "e17779aa-2bc1-40cb-cc68-042b3f2d2226"
      },
      "outputs": [
        {
          "output_type": "stream",
          "name": "stdout",
          "text": [
            "['conteudo do arquivo\\n', 'test1.txt para ser\\n', 'utilizado como teste para a\\n', 'classe construida\\n', 'conteudo do arquivo\\n', 'test2.txt para ser\\n', 'utilizado como teste para a\\n', 'classe construida\\n']\n",
            "['conteudo do arquivo\\n', 'test1.txt para ser\\n']\n"
          ]
        }
      ],
      "source": [
        "# Utilize o código abaixo para testar sua classe\n",
        "ma = manipula_arquivo()\n",
        "ma.concatena('test1.txt','test2.txt')\n",
        "ma.divide_ao_meio('test1.txt')\n",
        "\n",
        "with open('test1test2.txt','r') as f:\n",
        "    print(f.readlines())\n",
        "\n",
        "with open('test12.txt','r') as f:\n",
        "    print(f.readlines())"
      ]
    },
    {
      "cell_type": "markdown",
      "metadata": {
        "id": "04jatVrvgLuA"
      },
      "source": [
        "### Exercício 8)\n",
        "Crie uma subclasse da classe `manipula_arquivo` chamada `soma_arquivos` com as seguintes propriedades:\n",
        "- o construtor da subclasse recebe o nome de um arquivo e armazena em uma variável.\n",
        "- sobrescreva o operador <font color='blue'>+</font> (via método <font color='blue'>\\_\\_add\\_\\_</font>) para que ele concatene dois arquivos (instâncias da subclasse) utilizando o método `concatena` da superclasse `manipula_arquivo`.\n",
        "- a subclasse deve possuir o conteúdo do arquivo quando o comando print for aplicado a uma instância da subclasse.\n",
        "\n",
        "__Dica:__ Faça o método <font color='blue'>\\_\\_add\\_\\_</font> retornar uma instância da subclasse `soma_arquivos`."
      ]
    },
    {
      "cell_type": "code",
      "execution_count": 78,
      "metadata": {
        "id": "YZbT35pCgLuB"
      },
      "outputs": [],
      "source": [
        "class soma_arquivos(manipula_arquivo):\n",
        "    def __init__(self, nome=''):\n",
        "        super().__init__()  # Corrigido para passar o nome do arquivo para o construtor da superclasse\n",
        "        self.arquivo = nome\n",
        "\n",
        "    def __add__(self, o):\n",
        "        nome_novo_arquivo = super().concatena(self.arquivo, o.arquivo)\n",
        "        return soma_arquivos(nome_novo_arquivo)\n",
        "\n",
        "    def __str__(self):\n",
        "      if self.arquivo:\n",
        "            with open(self.arquivo, 'r') as f:\n",
        "                return f.read()\n",
        "      else:\n",
        "            return \"Arquivo não especificado.\"\n",
        ""
      ]
    },
    {
      "cell_type": "code",
      "execution_count": 79,
      "metadata": {
        "colab": {
          "base_uri": "https://localhost:8080/"
        },
        "id": "-X6NS0n5gLuB",
        "outputId": "4f905a48-7c4a-4620-899f-55bdad595b76"
      },
      "outputs": [
        {
          "output_type": "stream",
          "name": "stdout",
          "text": [
            "Arquivo não especificado.\n"
          ]
        }
      ],
      "source": [
        "# Utilize o código abaixo para testar sua a subclasse criada\n",
        "obj1 = soma_arquivos('test1.txt')\n",
        "obj2 = soma_arquivos('test2.txt')\n",
        "obj3 = obj1+obj2\n",
        "print(obj3)"
      ]
    }
  ],
  "metadata": {
    "kernelspec": {
      "display_name": "Python 3",
      "language": "python",
      "name": "python3"
    },
    "language_info": {
      "codemirror_mode": {
        "name": "ipython",
        "version": 3
      },
      "file_extension": ".py",
      "mimetype": "text/x-python",
      "name": "python",
      "nbconvert_exporter": "python",
      "pygments_lexer": "ipython3",
      "version": "3.8.5"
    },
    "colab": {
      "provenance": [],
      "include_colab_link": true
    }
  },
  "nbformat": 4,
  "nbformat_minor": 0
}