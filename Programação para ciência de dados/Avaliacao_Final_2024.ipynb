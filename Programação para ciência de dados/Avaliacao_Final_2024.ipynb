{
  "cells": [
    {
      "cell_type": "markdown",
      "metadata": {
        "id": "view-in-github",
        "colab_type": "text"
      },
      "source": [
        "<a href=\"https://colab.research.google.com/github/Biangelica/Data-Science-MBA-CEMEAI/blob/main/Programa%C3%A7%C3%A3o%20para%20ci%C3%AAncia%20de%20dados/Avaliacao_Final_2024.ipynb\" target=\"_parent\"><img src=\"https://colab.research.google.com/assets/colab-badge.svg\" alt=\"Open In Colab\"/></a>"
      ]
    },
    {
      "cell_type": "markdown",
      "metadata": {
        "id": "LV5UKQxtJ662"
      },
      "source": [
        "# <font color=\"blue\"> MBA em Ciência de Dados</font>\n",
        "# <font color=\"blue\">Programação para Ciência de Dados</font>\n",
        "\n",
        "## <font color=\"blue\">Avaliação Final</font>\n",
        "**Material Produzido por Luis Gustavo Nonato**<br>\n",
        "**Cemeai - ICMC/USP São Carlos**"
      ]
    },
    {
      "cell_type": "markdown",
      "metadata": {
        "id": "znbRtfuRJ664"
      },
      "source": [
        "<font color='red'>**ATENÇÃO:** Quando terminar o exame, você deve fazer um \"upload\" do notebook no _moodle_</font>."
      ]
    },
    {
      "cell_type": "markdown",
      "metadata": {
        "id": "bkiIfeXuJ664"
      },
      "source": [
        "Para responder as questões abaixo será necessário fazer uso do arquivo <font style=\"font-family: monaco\">emendas_p2023.csv</font> disponível para download no _moodle_. O arquivo contém dados sobre emendas parlamentares apresentadas em 2023. Dentre as colunas do conjunto de dados, as que serão relevantes para esta avaliação são:\n",
        "- **Tipo de Emenda**: tipo de emenda\n",
        "- **Autor da emenda**: parlamentar autor da emenda\n",
        "- **Localidade do gasto**: localidade para onde o valor foi enviado\n",
        "- **Numero da emenda**: número associado a emenda para controle interno\n",
        "- **Valor empenhado**: valor empenhado mas não necessariamente pago\n",
        "- **Valor pago**: valor realmente pago"
      ]
    },
    {
      "cell_type": "code",
      "execution_count": null,
      "metadata": {
        "id": "FV4PR2QcJ665"
      },
      "outputs": [],
      "source": [
        "import numpy as np\n",
        "import pandas as pd"
      ]
    },
    {
      "cell_type": "markdown",
      "metadata": {
        "id": "tjqv4A23J665"
      },
      "source": [
        "### Questão 1 (2 pontos)\n",
        "Considerando os dados contidos no arquivo <font style=\"font-family: monaco\">emendas_p2023.csv</font>:\n"
      ]
    },
    {
      "cell_type": "markdown",
      "metadata": {
        "id": "tYzHFi5vJ665"
      },
      "source": [
        "#### a) (1 ponto)\n",
        "Carregue o arquivo <font style=\"font-family: monaco\">emendas_p2023.csv</font> e armazena em um DataFrame. Imprima as 10 primeiras linhas do DataFrame e os rótulos das colunas."
      ]
    },
    {
      "cell_type": "code",
      "execution_count": null,
      "metadata": {
        "id": "eL4ZBOUjJ666"
      },
      "outputs": [],
      "source": [
        "#Solucao\n",
        "\n",
        "df = pd.read_csv('emendas_p2023.csv')\n",
        "\n",
        "df.head(10)"
      ]
    },
    {
      "cell_type": "code",
      "source": [
        "print(df.columns)"
      ],
      "metadata": {
        "id": "8L-q07Tb-Sti"
      },
      "execution_count": null,
      "outputs": []
    },
    {
      "cell_type": "markdown",
      "metadata": {
        "id": "Q3fi5_AkJ666"
      },
      "source": [
        "#### c) (1 ponto)\n",
        "A coluna _'Numero da emenda'_ correponde a um código de controle interno do parlamento, sem utilidade para as analises que serão feitas a seguir, portanto deve ser eliminada. Elimine a coluna _'Numero da emenda'_ do DataFrame."
      ]
    },
    {
      "cell_type": "code",
      "execution_count": 9,
      "metadata": {
        "id": "zoHFAt8PJ666",
        "colab": {
          "base_uri": "https://localhost:8080/"
        },
        "outputId": "44e7ac9b-62c4-4373-c953-58ddf661c012"
      },
      "outputs": [
        {
          "output_type": "stream",
          "name": "stdout",
          "text": [
            "Index(['Ano', 'Tipo de Emenda', 'Autor da emenda', 'Localidade do gasto',\n",
            "       'Funcao', 'Subfuncao', 'Programa Orcamentario', 'Acao Orcamentaria',\n",
            "       'Plano Orcamentario', 'Codigo da emenda', 'Valor empenhado',\n",
            "       'Valor pago'],\n",
            "      dtype='object')\n"
          ]
        }
      ],
      "source": [
        "#Solucao\n",
        "\n",
        "df = df.drop('Numero da emenda', axis=1)\n",
        "print(df.columns)"
      ]
    },
    {
      "cell_type": "markdown",
      "metadata": {
        "id": "Dg5PC8gXJ666"
      },
      "source": [
        "### Questão 2 (2 pontos)\n",
        "Verifique quantos tipos de emendas diferentes exitem na base (coluna _'Tipo de Emenda'_) e aponte qual o tipo de emenda que mais aparece na base."
      ]
    },
    {
      "cell_type": "code",
      "execution_count": 12,
      "metadata": {
        "id": "DDK_ova5J666",
        "colab": {
          "base_uri": "https://localhost:8080/"
        },
        "outputId": "38327e69-3030-4f47-8eed-58d416ba02ae"
      },
      "outputs": [
        {
          "output_type": "stream",
          "name": "stdout",
          "text": [
            "Quantidade de tipos de emendas diferentes: 4\n",
            "Tipo de emenda mais comum: Emenda Individual - Transferências com Finalidade Definida\n"
          ]
        }
      ],
      "source": [
        "#Solucao\n",
        "\n",
        "qtd_Emenda = df['Tipo de Emenda'].nunique()\n",
        "\n",
        "tipo_emenda_mais_comum = df['Tipo de Emenda'].mode()[0]\n",
        "\n",
        "print(\"Quantidade de tipos de emendas diferentes:\", qtd_Emenda)\n",
        "print(\"Tipo de emenda mais comum:\", tipo_emenda_mais_comum)\n"
      ]
    },
    {
      "cell_type": "markdown",
      "metadata": {
        "id": "yMxJKLl9J666"
      },
      "source": [
        "### Questão 3 (3 pontos)\n",
        "#### a) (1 ponto)\n",
        "\n",
        "Encontre os três parlamentares (coluna _'Autor da emenda'_) que apresentaram o maior número de emendas em 2023."
      ]
    },
    {
      "cell_type": "code",
      "execution_count": 30,
      "metadata": {
        "id": "oYSeFev-J666",
        "colab": {
          "base_uri": "https://localhost:8080/"
        },
        "outputId": "66a47e5e-c90e-4c65-ac23-5ff2ed7004a9"
      },
      "outputs": [
        {
          "output_type": "stream",
          "name": "stdout",
          "text": [
            "Os três parlamentares com o maior número de emendas em 2023:\n",
            "FLAVIO BOLSONARO    34\n",
            "MAJOR VITOR HUGO    29\n",
            "CELSO MALDANER      25\n",
            "Name: Autor da emenda, dtype: int64\n"
          ]
        }
      ],
      "source": [
        "#Solucao\n",
        "\n",
        "emendas_parlamentar = df['Autor da emenda'].value_counts()\n",
        "\n",
        "top_3 = emendas_parlamentar.head(3)\n",
        "\n",
        "print(\"Os três parlamentares com o maior número de emendas em 2023:\")\n",
        "\n",
        "print(top_3)"
      ]
    },
    {
      "cell_type": "markdown",
      "metadata": {
        "id": "c6liXj2sJ667"
      },
      "source": [
        "#### b) (2 pontos)\n",
        "\n",
        "Para cada um dos três parlamentares encontrados acima, liste qual foi o valor empenhado (coluna _'Valor empenhado'_) para as emendas por eles apresentadas."
      ]
    },
    {
      "cell_type": "code",
      "execution_count": 31,
      "metadata": {
        "id": "A43UfhFkJ667",
        "colab": {
          "base_uri": "https://localhost:8080/"
        },
        "outputId": "5cc95109-bd06-421d-ce91-454fb78ce200"
      },
      "outputs": [
        {
          "output_type": "stream",
          "name": "stdout",
          "text": [
            "{'FLAVIO BOLSONARO': 55004741.239999995, 'MAJOR VITOR HUGO': 32103146.93, 'CELSO MALDANER': 32103297.0}\n"
          ]
        }
      ],
      "source": [
        "#Solucao\n",
        "resultado = {parlamentar: df.loc[df['Autor da emenda'] == parlamentar, 'Valor empenhado'].sum()\n",
        "             for parlamentar in top_3.index}\n",
        "print(resultado)\n"
      ]
    },
    {
      "cell_type": "markdown",
      "metadata": {
        "id": "aGo2ElBjJ667"
      },
      "source": [
        "### Questão 4 (3 pontos)\n",
        "Encontre as cinco localidades (coluna _'Localidade do gasto'_) que receberam os maiores valores pagos (soma da coluna _'Valor pago'_).\n",
        "\n",
        "**Dica**: Use <font color='blue'>groupby</font> com redução de soma e ordene o resultado em ordem decrescente."
      ]
    },
    {
      "cell_type": "code",
      "execution_count": 32,
      "metadata": {
        "id": "Tke4b04sJ667",
        "colab": {
          "base_uri": "https://localhost:8080/"
        },
        "outputId": "6cbdd88e-eb3f-4175-d327-c9a539423d77"
      },
      "outputs": [
        {
          "output_type": "stream",
          "name": "stdout",
          "text": [
            "Localidade do gasto\n",
            "SÃO PAULO (UF)            1.888881e+09\n",
            "MINAS GERAIS (UF)         1.590244e+09\n",
            "MÚLTIPLO                  1.223649e+09\n",
            "BAHIA (UF)                1.211544e+09\n",
            "RIO GRANDE DO SUL (UF)    9.745816e+08\n",
            "RIO DE JANEIRO (UF)       9.531672e+08\n",
            "Name: Valor pago, dtype: float64\n"
          ]
        }
      ],
      "source": [
        "local_gasto = df.groupby('Localidade do gasto')['Valor pago'].sum()\n",
        "\n",
        "print(local_gasto.sort_values(ascending=False).iloc[:6])"
      ]
    },
    {
      "cell_type": "code",
      "source": [
        "local_gasto = df.groupby('Localidade do gasto')['Valor pago'].sum().sort_values(ascending=False)\n",
        "cinco_maiores_localidades = local_gasto.head(5)\n",
        "\n",
        "print(cinco_maiores_localidades)"
      ],
      "metadata": {
        "colab": {
          "base_uri": "https://localhost:8080/"
        },
        "id": "yKYeSD9KHp7J",
        "outputId": "34ad10a6-b4f1-4a9c-bdba-98da5e540b71"
      },
      "execution_count": 34,
      "outputs": [
        {
          "output_type": "stream",
          "name": "stdout",
          "text": [
            "Localidade do gasto\n",
            "SÃO PAULO (UF)            1.888881e+09\n",
            "MINAS GERAIS (UF)         1.590244e+09\n",
            "MÚLTIPLO                  1.223649e+09\n",
            "BAHIA (UF)                1.211544e+09\n",
            "RIO GRANDE DO SUL (UF)    9.745816e+08\n",
            "Name: Valor pago, dtype: float64\n"
          ]
        }
      ]
    }
  ],
  "metadata": {
    "kernelspec": {
      "display_name": "Python 3 (ipykernel)",
      "language": "python",
      "name": "python3"
    },
    "language_info": {
      "codemirror_mode": {
        "name": "ipython",
        "version": 3
      },
      "file_extension": ".py",
      "mimetype": "text/x-python",
      "name": "python",
      "nbconvert_exporter": "python",
      "pygments_lexer": "ipython3",
      "version": "3.10.9"
    },
    "toc": {
      "base_numbering": 1,
      "nav_menu": {},
      "number_sections": true,
      "sideBar": true,
      "skip_h1_title": false,
      "title_cell": "Table of Contents",
      "title_sidebar": "Contents",
      "toc_cell": false,
      "toc_position": {},
      "toc_section_display": true,
      "toc_window_display": false
    },
    "colab": {
      "provenance": [],
      "include_colab_link": true
    }
  },
  "nbformat": 4,
  "nbformat_minor": 0
}