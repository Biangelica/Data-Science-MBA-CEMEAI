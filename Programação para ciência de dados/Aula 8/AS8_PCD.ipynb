{
  "cells": [
    {
      "cell_type": "markdown",
      "metadata": {
        "id": "view-in-github",
        "colab_type": "text"
      },
      "source": [
        "<a href=\"https://colab.research.google.com/github/Biangelica/Data-Science-MBA-CEMEAI/blob/main/Programa%C3%A7%C3%A3o%20para%20ci%C3%AAncia%20de%20dados/Aula%208/AS8_PCD.ipynb\" target=\"_parent\"><img src=\"https://colab.research.google.com/assets/colab-badge.svg\" alt=\"Open In Colab\"/></a>"
      ]
    },
    {
      "cell_type": "markdown",
      "metadata": {
        "id": "zP9yshAutAIy"
      },
      "source": [
        "# <span style=\"color:blue\"> MBA em Ciência de Dados</span>\n",
        "# <span style=\"color:blue\">Programação para Ciência de Dados</span>\n",
        "\n",
        "## <span style=\"color:blue\">Pandas Parte III - Avaliação </span>\n",
        "**Material Produzido por Luis Gustavo Nonato**<br>\n",
        "**Cemeai - ICMC/USP São Carlos**"
      ]
    },
    {
      "cell_type": "markdown",
      "metadata": {
        "id": "3RiZMF_UtAI2"
      },
      "source": [
        "Os exercícios a seguir farão uso do arquivo <font style=\"font-family: monaco\">sales1000.csv</font> disponível para download no moodle.\n",
        "\n",
        "O arquivo <font style=\"font-family: monaco\">sales1000.csv</font> possui informações relativas à venda de produtos. As colunas abaixo são de particular importância para solução dos exercícios:\n",
        "- *Country*: país da venda\n",
        "- *Item Type*: tipo do produto vendido no país\n",
        "- *Units Sold*: quantidade vendida\n",
        "- *Unit Price*: preço de venda\n",
        "- *Unit Cost*: preço de custo\n",
        "- *Total Profit*: lucro total"
      ]
    },
    {
      "cell_type": "code",
      "execution_count": 3,
      "metadata": {
        "id": "JYScCTnbtAI3"
      },
      "outputs": [],
      "source": [
        "import pandas as pd\n",
        "import numpy as np\n",
        "\n",
        "df = pd.read_csv('sales1000.csv')\n"
      ]
    },
    {
      "cell_type": "markdown",
      "metadata": {
        "id": "qHEM52p1tAI5"
      },
      "source": [
        "### Exercício 1)\n",
        "Agrupe os elementos da base de dados armazenada no arquivo <font style=\"font-family: monaco\">sales1000.csv</font> de acordo com os países.\n",
        "Quantos produtos diferentes o país \"Portugal\" vende?\n",
        "\n",
        "a) 7<br>\n",
        "b) 6<br>\n",
        "c) 5<br>\n",
        "d) 4\n",
        "\n",
        "**Dica:** Utilize os métodos <font color='blue'>groupby</font> e <font color='blue'>get_group</font> do <font color='blue'>pandas</font>."
      ]
    },
    {
      "cell_type": "code",
      "execution_count": 11,
      "metadata": {
        "colab": {
          "base_uri": "https://localhost:8080/"
        },
        "id": "dfewaplbtAI5",
        "outputId": "aa560f5c-d4bf-4490-b260-6f5f6db16e20"
      },
      "outputs": [
        {
          "output_type": "stream",
          "name": "stdout",
          "text": [
            "4\n"
          ]
        }
      ],
      "source": [
        "# Solucao\n",
        "\n",
        "paises = df.groupby('Country')\n",
        "\n",
        "portugal = paises.get_group('Portugal')\n",
        "print(portugal['Item Type'].nunique())"
      ]
    },
    {
      "cell_type": "markdown",
      "metadata": {
        "id": "iFERmYaGtAI6"
      },
      "source": [
        "### Exercício 2)\n",
        "Considerando todas as vendas realizadas por cada país, qual o país com o menor lucro total?\n",
        "\n",
        "a) Cameroon<br>\n",
        "b) Japan<br>\n",
        "c) Australia<br>\n",
        "d) Cuba"
      ]
    },
    {
      "cell_type": "code",
      "execution_count": 19,
      "metadata": {
        "colab": {
          "base_uri": "https://localhost:8080/"
        },
        "id": "FExNBJQutAI6",
        "outputId": "ee13f614-c7dd-43e4-c3c0-c24f1c3b5ea6"
      },
      "outputs": [
        {
          "output_type": "stream",
          "name": "stdout",
          "text": [
            "País com o menor lucro total: Cameroon\n"
          ]
        }
      ],
      "source": [
        "# Solucao\n",
        "\n",
        "menor_total = df.groupby('Country')['Total Profit'].sum()\n",
        "\n",
        "pais = menor_total.idxmin()\n",
        "\n",
        "print(\"País com o menor lucro total:\", pais)"
      ]
    },
    {
      "cell_type": "markdown",
      "metadata": {
        "id": "FxxwrhgQtAI6"
      },
      "source": [
        "### Exercício 3)\n",
        "Quantos países vendem exatamente 7 (sete) produtos distintos?\n",
        "\n",
        "a) 9<br>\n",
        "b) 8<br>\n",
        "c) 7<br>\n",
        "d) 6\n",
        "\n",
        "**Dica:** Utilize os métodos <font color='blue'>groupby</font> e <font color='blue'>nunique</font> do <font color='blue'>pandas</font>."
      ]
    },
    {
      "cell_type": "code",
      "execution_count": 25,
      "metadata": {
        "colab": {
          "base_uri": "https://localhost:8080/"
        },
        "id": "Vs4bmOZ2tAI6",
        "outputId": "474613f9-df45-4421-bb42-b2f093c40554"
      },
      "outputs": [
        {
          "output_type": "stream",
          "name": "stdout",
          "text": [
            "9\n"
          ]
        }
      ],
      "source": [
        "# Solucao\n",
        "\n",
        "paises = df.groupby('Country')['Item Type'].nunique()\n",
        "\n",
        "a = paises[paises == 7]\n",
        "\n",
        "print(len(a))"
      ]
    },
    {
      "cell_type": "markdown",
      "metadata": {
        "id": "noxgar9UtAI7"
      },
      "source": [
        "### Exercício 4)\n",
        "Qual o país com a maior diferença entre a maior quantidade e a menor quantidade de produtos vendidos? Por exemplo, 'Tonga' vende os seguintes quantidades de produtos:\n",
        "```python\n",
        "Household  8635\n",
        "Beverages  9367\n",
        "Meat       9633\n",
        "Fruits     7124\n",
        "Meat       3499\n",
        "```\n",
        "Portando, a diferença entre a maior e a menor quantidade de produtos vendidos é $$9633-3499=6134$$ Qual o país com a maior diferença?\n",
        "\n",
        "a) Tonga<br>\n",
        "b) Cape Verde<br>\n",
        "c) Romania<br>\n",
        "d) Cuba"
      ]
    },
    {
      "cell_type": "code",
      "execution_count": 42,
      "metadata": {
        "colab": {
          "base_uri": "https://localhost:8080/"
        },
        "id": "xUIxdL37tAI7",
        "outputId": "75ad7deb-9576-402d-e4dd-a7ff5430c462"
      },
      "outputs": [
        {
          "output_type": "stream",
          "name": "stdout",
          "text": [
            "País com a maior diferença entre a maior e a menor quantidade de produtos vendidos: Turkey\n"
          ]
        }
      ],
      "source": [
        "# Solucao\n",
        "\n",
        "import pandas as pd\n",
        "\n",
        "# Carregar o arquivo CSV\n",
        "df = pd.read_csv('sales1000.csv')\n",
        "\n",
        "# Agrupar por país e tipo de produto, e calcular a diferença entre a maior e a menor quantidade vendida\n",
        "diff_max_min_quantity = df.groupby(['Country', 'Item Type'])['Units Sold'].agg(lambda x: x.max() - x.min()).reset_index()\n",
        "\n",
        "# Agrupar novamente por país e encontrar a maior diferença\n",
        "max_diff_by_country = diff_max_min_quantity.groupby('Country')['Units Sold'].max()\n",
        "\n",
        "# Encontrar o país com a maior diferença\n",
        "country_with_max_diff = max_diff_by_country.idxmax()\n",
        "\n",
        "print(\"País com a maior diferença entre a maior e a menor quantidade de produtos vendidos:\", country_with_max_diff)\n",
        "\n"
      ]
    },
    {
      "cell_type": "markdown",
      "metadata": {
        "id": "HuwBzbN-tAI8"
      },
      "source": [
        "### Exercício 5)\n",
        "O lucro de um produto é a diferença entre o preço de venda e o de custo. Qual o produto que fornece o menor lucro médio?\n",
        "\n",
        "a) Baby Food<br>\n",
        "b) Fruits<br>\n",
        "c) Household<br>\n",
        "d) Cosmetics\n",
        "\n",
        "**Dica:** Crie uma nova coluna no DataFrame contendo a diferença entre o preço de venda (coluna `Unit Price`) e o de custo (coluna `Unit Cost`) e agrupe os dados por `Item Type` aplicando redução por média na nova coluna criada."
      ]
    },
    {
      "cell_type": "code",
      "execution_count": 43,
      "metadata": {
        "colab": {
          "base_uri": "https://localhost:8080/"
        },
        "id": "_S3ixO5utAI8",
        "outputId": "45f75e91-aa25-4275-f816-43f9f60ae4bc"
      },
      "outputs": [
        {
          "output_type": "stream",
          "name": "stdout",
          "text": [
            "Produto que fornece o menor lucro médio: Fruits\n"
          ]
        }
      ],
      "source": [
        "# Solucao\n",
        "\n",
        "import pandas as pd\n",
        "\n",
        "# Carregar o arquivo CSV\n",
        "df = pd.read_csv('sales1000.csv')\n",
        "\n",
        "# Calcular o lucro (Profit) de cada produto\n",
        "df['Profit'] = df['Unit Price'] - df['Unit Cost']\n",
        "\n",
        "# Agrupar por \"Item Type\" e calcular a média do lucro para cada produto\n",
        "avg_profit_by_product = df.groupby('Item Type')['Profit'].mean()\n",
        "\n",
        "# Encontrar o produto com o menor lucro médio\n",
        "product_with_min_avg_profit = avg_profit_by_product.idxmin()\n",
        "\n",
        "print(\"Produto que fornece o menor lucro médio:\", product_with_min_avg_profit)\n"
      ]
    }
  ],
  "metadata": {
    "kernelspec": {
      "display_name": "Python 3 (ipykernel)",
      "language": "python",
      "name": "python3"
    },
    "language_info": {
      "codemirror_mode": {
        "name": "ipython",
        "version": 3
      },
      "file_extension": ".py",
      "mimetype": "text/x-python",
      "name": "python",
      "nbconvert_exporter": "python",
      "pygments_lexer": "ipython3",
      "version": "3.9.12"
    },
    "colab": {
      "provenance": [],
      "include_colab_link": true
    }
  },
  "nbformat": 4,
  "nbformat_minor": 0
}