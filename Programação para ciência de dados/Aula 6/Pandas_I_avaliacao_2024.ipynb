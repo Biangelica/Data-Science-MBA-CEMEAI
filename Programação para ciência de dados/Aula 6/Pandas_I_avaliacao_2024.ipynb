{
  "cells": [
    {
      "cell_type": "markdown",
      "metadata": {
        "id": "view-in-github",
        "colab_type": "text"
      },
      "source": [
        "<a href=\"https://colab.research.google.com/github/Biangelica/Data-Science-MBA-CEMEAI/blob/main/Programa%C3%A7%C3%A3o%20para%20ci%C3%AAncia%20de%20dados/Aula%206/Pandas_I_avaliacao_2024.ipynb\" target=\"_parent\"><img src=\"https://colab.research.google.com/assets/colab-badge.svg\" alt=\"Open In Colab\"/></a>"
      ]
    },
    {
      "cell_type": "markdown",
      "metadata": {
        "id": "a2GiDzCJlLHA"
      },
      "source": [
        "# <font color=\"blue\"> MBA em Ciência de Dados</font>\n",
        "# <font color=\"blue\">Programação para Ciência de Dados</font>\n",
        "\n",
        "## <font color=\"blue\">Pandas Parte I - Avaliação</font>\n",
        "**Material Produzido por Luis Gustavo Nonato**<br>\n",
        "**Cemeai - ICMC/USP São Carlos**\n",
        "---"
      ]
    },
    {
      "cell_type": "markdown",
      "metadata": {
        "id": "18oEjXxdlLHB"
      },
      "source": [
        "As questões a seguir farão uso do arquivo <font style=\"font-family: monaco\">WorldCupMatches.csv</font>, disponível para download no moodle. Baixe o arquivo no seu diretório de trabalho para responder as questões.\n",
        "\n",
        "O arquivo <font style=\"font-family: monaco\">WorldCupMatches.csv</font> contém informações sobre todas as partidas de copas do mundo entre 1930 e 2018, ou seja, cada linha no arquivo corresponde a uma partida de futebol em copa do mundo.\n",
        "\n",
        "Algumas das colunas que serão importantes para resolver as questões são:\n",
        "- __Year__: indica o ano da copa\n",
        "- __Stage__: em qual fase da copa a partida aconteceu\n",
        "- __HomeTeamName__: nome do time anfitrião da partida\n",
        "- __AwayTeamName__: nome do time adversário na partida\n",
        "- __Attendance__: número de espectadores da partida\n",
        "- __Stadium__: estádio onde a partida foi realizada\n",
        "- __HomeTeamGoals__: número de gols do time anfitrião\n",
        "- __AwayTeamGoals__: número de gols do time adversário"
      ]
    },
    {
      "cell_type": "code",
      "execution_count": 1,
      "metadata": {
        "id": "SNvKIKyAlLHB"
      },
      "outputs": [],
      "source": [
        "import pandas as pd\n",
        "import numpy as np"
      ]
    },
    {
      "cell_type": "markdown",
      "metadata": {
        "id": "WL5EXMwjlLHC"
      },
      "source": [
        "### Exercício 1)\n",
        "Leia o arquivo <font style=\"font-family: monaco\">WorldCupMatches.csv</font>, armazene em uma variável do tipo DataFrame chamada `copa_partidas`. Qual o tipo de dado armazenado nas colunas __Year__ e __Attendance__?\n",
        "\n",
        "a) Year: <font color='blue'>int</font>; Attendance: <font color='blue'>str</font><br>\n",
        "b) Year: <font color='blue'>str</font>; Attendance: <font color='blue'>int</font><br>\n",
        "c) Year: <font color='blue'>float</font>; Attendance: <font color='blue'>float</font><br>\n",
        "d) Year: <font color='blue'>int</font>; Attendance: <font color='blue'>float</font>"
      ]
    },
    {
      "cell_type": "code",
      "execution_count": 2,
      "metadata": {
        "colab": {
          "base_uri": "https://localhost:8080/"
        },
        "id": "rszpyrFSlLHC",
        "outputId": "5bc6f49c-c704-4d2c-dea8-16a1aee87251"
      },
      "outputs": [
        {
          "output_type": "execute_result",
          "data": {
            "text/plain": [
              "Year                   int64\n",
              "Datetime              object\n",
              "Stage                 object\n",
              "Stadium               object\n",
              "City                  object\n",
              "HomeTeamName          object\n",
              "HomeTeamGoals          int64\n",
              "AwayTeamGoals          int64\n",
              "AwayTeamName          object\n",
              "WinConditions         object\n",
              "Attendance           float64\n",
              "HalfTimeHomeGoals      int64\n",
              "HalfTimeAwayGoals      int64\n",
              "Referee               object\n",
              "Assistant1            object\n",
              "Assistant2            object\n",
              "RoundID                int64\n",
              "MatchID                int64\n",
              "HomeTeamInitials      object\n",
              "AwayTeamInitials      object\n",
              "dtype: object"
            ]
          },
          "metadata": {},
          "execution_count": 2
        }
      ],
      "source": [
        "copa_partidas = pd.read_csv('WorldCupMatches.csv')\n",
        "\n",
        "copa_partidas.dtypes"
      ]
    },
    {
      "cell_type": "markdown",
      "source": [
        "**Resposta:**\n",
        "\n",
        "Year int64\n",
        "Attendance float64\n",
        "\n",
        "d) Year: int; Attendance: float"
      ],
      "metadata": {
        "id": "6RVtnL8PlwlW"
      }
    },
    {
      "cell_type": "markdown",
      "metadata": {
        "id": "Nq2aOPAKlLHC"
      },
      "source": [
        "### Exercício 2)\n",
        "O comando abaixo extrai quais são as 'strings' contidas na coluna `Stage`:\n",
        "```python\n",
        "copa_partidas['Stage'].unique()\n",
        "```\n",
        "Dentre as strings resultantes, 'Quarter-finals' indica que a linha corresponde a uma partida de semi-final de uma copa.\n",
        "\n",
        "Utilizando o método <font color='blue'>query</font>, encontre as linhas contendo as partidas de quartas-de-final das copas e construa uma lista com os nomes dos times que disputaram as quartas-de-final da copa de 1994.\n",
        "\n",
        "Qual dos times abaixo não aparece na lista obtida:\n",
        "\n",
        "a) Brazil<br>\n",
        "b) Czechoslovakia<br>\n",
        "c) Netherlands<br>\n",
        "c) Bulgaria<br>\n",
        "\n",
        "__DICA:__ Utilize o método <font color='blue'>query</font> duas vezes, a primeira para obter um DataFrame com os times nas quartas-de-final e a segunda para obter um DataFrame com os times nas quartas-de-final da copa de 1994. Os nomes dos times nas quartas-de-final estão nas colunas `HomeTeamName` e `AwayTeamName`."
      ]
    },
    {
      "cell_type": "code",
      "execution_count": 7,
      "metadata": {
        "colab": {
          "base_uri": "https://localhost:8080/"
        },
        "id": "y0lRFiGDlLHC",
        "outputId": "3a0eaa8e-1fe2-4377-8e70-c33048536dd4"
      },
      "outputs": [
        {
          "output_type": "stream",
          "name": "stdout",
          "text": [
            "['Germany', 'Romania', 'Bulgaria', 'Brazil', 'Sweden', 'Netherlands', 'Spain', 'Italy']\n"
          ]
        }
      ],
      "source": [
        "# SOLUÇÃO\n",
        "\n",
        "quartas_final = copa_partidas.query(\"Stage == 'Quarter-finals'\")\n",
        "\n",
        "quartas_1994 = quartas_final.query(\"Year == 1994\")\n",
        "\n",
        "times_quartas_1994 = list(set(quartas_1994['HomeTeamName']).union(set(quartas_1994['AwayTeamName'])))\n",
        "\n",
        "print(times_quartas_1994)"
      ]
    },
    {
      "cell_type": "markdown",
      "source": [
        "**Resposta**\n",
        "\n",
        "b) Czechoslovakia"
      ],
      "metadata": {
        "id": "Kfip6Uavn79M"
      }
    },
    {
      "cell_type": "markdown",
      "metadata": {
        "id": "EP4hQpU5lLHC"
      },
      "source": [
        "### Exercício 3)\n",
        "Quantas vezes o Brasil jogou contra a França em copas do mundo?\n",
        "\n",
        "a) 7<br>\n",
        "b) 6<br>\n",
        "c) 5<br>\n",
        "d) 4\n",
        "\n",
        "__Dica:__ Utilize o método <font color='blue'>query</font> combinando <font color='blue'>&</font> (AND) e <font color='blue'>|</font> (OR). Os nomes do Brasil e da França no dataset são \"Brazil\" e \"France\", respectivamente."
      ]
    },
    {
      "cell_type": "code",
      "execution_count": 10,
      "metadata": {
        "colab": {
          "base_uri": "https://localhost:8080/"
        },
        "id": "znx_JifElLHC",
        "outputId": "1ebd70f7-1719-41cb-befa-a07bf958fb2c"
      },
      "outputs": [
        {
          "output_type": "stream",
          "name": "stdout",
          "text": [
            "4\n"
          ]
        }
      ],
      "source": [
        "# SOLUÇÃO\n",
        "\n",
        "B_F = copa_partidas.query(\"(HomeTeamName == 'Brazil' & AwayTeamName == 'France') | (HomeTeamName == 'France' & AwayTeamName == 'Brazil')\")\n",
        "\n",
        "print(len(B_F))"
      ]
    },
    {
      "cell_type": "markdown",
      "source": [
        "**Resposta**\n",
        "d) 4"
      ],
      "metadata": {
        "id": "GQ3OKcNso0sS"
      }
    },
    {
      "cell_type": "markdown",
      "metadata": {
        "id": "li3znnKilLHC"
      },
      "source": [
        "### Exercício 4)\n",
        "\n",
        "Qual foi uma das partidas em copa do mundo com o maio número de gols do time adversário?\n",
        "\n",
        "a) Mexico X Paraguay em 1986<br>\n",
        "b) Uruguay X Brazil em 1950<br>\n",
        "c) Brazil X Germany em 2014<br>\n",
        "d) Argentina X England em 1986\n",
        "\n",
        "__DICA:__ Ordene o DataFrame pela coluna `AwayTeamGoals`"
      ]
    },
    {
      "cell_type": "code",
      "execution_count": 31,
      "metadata": {
        "colab": {
          "base_uri": "https://localhost:8080/"
        },
        "id": "-QMeh334lLHD",
        "outputId": "5f504c4f-0d9e-4802-d61a-f5db43c3e580"
      },
      "outputs": [
        {
          "output_type": "stream",
          "name": "stdout",
          "text": [
            "Poland 7 X Haiti em 1974\n",
            "Germany 7 X Brazil em 2014\n",
            "Poland 5 X Brazil em 1938\n",
            "Spain 5 X Denmark em 1986\n",
            "Switzerland 5 X Austria em 1954\n"
          ]
        }
      ],
      "source": [
        "import pandas as pd\n",
        "\n",
        "# Carregar o arquivo CSV\n",
        "df = pd.read_csv('WorldCupMatches.csv')\n",
        "\n",
        "# Encontrar a linha com o maior número de gols do time adversário\n",
        "#max_away_goals_row = df.loc[df['AwayTeamGoals'].idxmax()]\n",
        "\n",
        "# Ordenar as partidas pelo número de gols do time adversário em ordem decrescente\n",
        "sorted_matches = df.sort_values(by='AwayTeamGoals', ascending=False)\n",
        "\n",
        "# Pegar os cinco primeiros resultados\n",
        "top_5_matches = sorted_matches.head(5)\n",
        "\n",
        "# Extrair as informações necessárias\n",
        "away_team = max_away_goals_row['AwayTeamName']\n",
        "home_team = max_away_goals_row['HomeTeamName']\n",
        "year = max_away_goals_row['Year']\n",
        "away_goals = max_away_goals_row['AwayTeamGoals']\n",
        "\n",
        "# Iterar sobre os cinco primeiros resultados e imprimir\n",
        "for index, row in top_5_matches.iterrows():\n",
        "    away_team = row['AwayTeamName']\n",
        "    home_team = row['HomeTeamName']\n",
        "    year = row['Year']\n",
        "    away_goals = row['AwayTeamGoals']\n",
        "\n",
        "    print(f\"{away_team} {away_goals} X {home_team} em {year}\")\n"
      ]
    },
    {
      "cell_type": "markdown",
      "source": [
        "**Resposta**\n",
        "\n",
        "c) Brazil X Germany em 2014"
      ],
      "metadata": {
        "id": "EEnMrZSkqwQC"
      }
    },
    {
      "cell_type": "markdown",
      "source": [],
      "metadata": {
        "id": "fHHl0t1lqzvf"
      }
    },
    {
      "cell_type": "markdown",
      "metadata": {
        "id": "H09-RMq_lLHD"
      },
      "source": [
        "### Exercício 5)\n",
        "Qual foi o estádio com o maior número de partidas?\n",
        "\n",
        "a) Nacional<br>\n",
        "b) Jalisco<br>\n",
        "c) Maracana<br>\n",
        "d) Estadio Azteca\n",
        "\n",
        "__Dica:__ Construa um dicionário onde a chave é o nome do estádio e o valor o número de partidas disputadas naquele estádio. Busque pela tupla (chave,valor) onde o valor é máximo."
      ]
    },
    {
      "cell_type": "code",
      "execution_count": 34,
      "metadata": {
        "colab": {
          "base_uri": "https://localhost:8080/"
        },
        "id": "jKR99GpIlLHD",
        "outputId": "ae1077b8-fefb-4321-b1b0-abc7f1b780a8"
      },
      "outputs": [
        {
          "output_type": "stream",
          "name": "stdout",
          "text": [
            "Os 5 estádios com o maior número de partidas na Copa do Mundo:\n",
            "Estadio Azteca: 19 partidas\n",
            "Olympiastadion: 14 partidas\n",
            "Jalisco: 14 partidas\n",
            "Nou Camp - Estadio Le�n: 11 partidas\n",
            "Estadio Centenario: 10 partidas\n"
          ]
        }
      ],
      "source": [
        "# SOLUÇÃO\n",
        "\n",
        "# Construir o dicionário de contagem de partidas por estádio\n",
        "stadium_counts = df['Stadium'].value_counts()\n",
        "\n",
        "# Pegar os cinco estádios com o maior número de partidas\n",
        "top_5_stadiums = stadium_counts.head(5)\n",
        "\n",
        "# Imprimir os cinco estádios com o maior número de partidas\n",
        "print(\"Os 5 estádios com o maior número de partidas na Copa do Mundo:\")\n",
        "for stadium, count in top_5_stadiums.items():\n",
        "    print(f\"{stadium}: {count} partidas\")"
      ]
    },
    {
      "cell_type": "markdown",
      "source": [
        "d) Estadio Azteca"
      ],
      "metadata": {
        "id": "YFFc_rOIuhXG"
      }
    }
  ],
  "metadata": {
    "kernelspec": {
      "display_name": "Python 3 (ipykernel)",
      "language": "python",
      "name": "python3"
    },
    "language_info": {
      "codemirror_mode": {
        "name": "ipython",
        "version": 3
      },
      "file_extension": ".py",
      "mimetype": "text/x-python",
      "name": "python",
      "nbconvert_exporter": "python",
      "pygments_lexer": "ipython3",
      "version": "3.10.9"
    },
    "colab": {
      "provenance": [],
      "include_colab_link": true
    }
  },
  "nbformat": 4,
  "nbformat_minor": 0
}