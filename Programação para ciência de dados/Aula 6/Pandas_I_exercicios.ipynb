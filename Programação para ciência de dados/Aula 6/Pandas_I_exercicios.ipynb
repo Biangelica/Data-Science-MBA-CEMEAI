{
  "nbformat": 4,
  "nbformat_minor": 0,
  "metadata": {
    "kernelspec": {
      "display_name": "Python 3",
      "language": "python",
      "name": "python3"
    },
    "language_info": {
      "codemirror_mode": {
        "name": "ipython",
        "version": 3
      },
      "file_extension": ".py",
      "mimetype": "text/x-python",
      "name": "python",
      "nbconvert_exporter": "python",
      "pygments_lexer": "ipython3",
      "version": "3.7.1"
    },
    "colab": {
      "provenance": [],
      "include_colab_link": true
    }
  },
  "cells": [
    {
      "cell_type": "markdown",
      "metadata": {
        "id": "view-in-github",
        "colab_type": "text"
      },
      "source": [
        "<a href=\"https://colab.research.google.com/github/Biangelica/Data-Science-MBA-CEMEAI/blob/main/Programa%C3%A7%C3%A3o%20para%20ci%C3%AAncia%20de%20dados/Aula%206/Pandas_I_exercicios.ipynb\" target=\"_parent\"><img src=\"https://colab.research.google.com/assets/colab-badge.svg\" alt=\"Open In Colab\"/></a>"
      ]
    },
    {
      "cell_type": "markdown",
      "metadata": {
        "id": "zMmHU-9ITNR-"
      },
      "source": [
        "# <font color=\"blue\"> MBA em Ciência de Dados</font>\n",
        "# <font color=\"blue\">Programação para Ciência de Dados</font>\n",
        "\n",
        "## <font color=\"blue\">Pandas Parte I - Exercícios</font>\n",
        "**Material Produzido por Luis Gustavo Nonato**<br>\n",
        "**Cemeai - ICMC/USP São Carlos**\n",
        "---"
      ]
    },
    {
      "cell_type": "markdown",
      "metadata": {
        "id": "owft8wpkTNSA"
      },
      "source": [
        "#### <font color=\"red\">Recomenda-se fortemente que os exercícios sejam feitos sem consultar as respostas antecipadamente.</font>"
      ]
    },
    {
      "cell_type": "markdown",
      "metadata": {
        "id": "ooQScKsYTNSA"
      },
      "source": [
        "Os exercícios a seguir farão uso do arquivo <font style=\"font-family: monaco\">WorldCups.csv</font> disponível para download no moodle.\n",
        "\n",
        "O arquivo <font style=\"font-family: monaco\">WorldCups.csv</font> possui as seguintes colunas:\n",
        "- **Year**: ano da copa\n",
        "- **Country**: país sede\n",
        "- **Winner**: campeão\n",
        "- **RunnersUp**: disputou a final com o campeão\n",
        "- **Third**: terceiro colocado\n",
        "- **Fourth**: quarto colocado\n",
        "- **GoalsScored**: número de gols na copa\n",
        "- **QualifiedTeams**: número de times que disputaram a copa\n",
        "- **MatchesPlayed**: número de jogos\n",
        "- **Attendance**: número de espectadores (público)"
      ]
    },
    {
      "cell_type": "code",
      "metadata": {
        "id": "QG0EzGL1TNSB"
      },
      "source": [
        "import numpy as np\n",
        "import pandas as pd"
      ],
      "execution_count": null,
      "outputs": []
    },
    {
      "cell_type": "markdown",
      "metadata": {
        "id": "76IJAeY6TNSB"
      },
      "source": [
        "### Exercício 1)\n",
        "Utilizando o <font color='blue'>pandas</font>, leia o arquivo <font style=\"font-family: monaco\">WorldCups.csv</font>, definindo a coluna 'Year' como índice das linhas, e armazene-o em uma variável tipo DataFrame.\n",
        "- Exiba as 5 primeiras linhas do DataFrame\n",
        "- Exiba o tipo de dado de cada coluna\n",
        "- Imprima o número de linhas do DataFrame"
      ]
    },
    {
      "cell_type": "code",
      "metadata": {
        "id": "XXVgkoOTTNSB",
        "colab": {
          "base_uri": "https://localhost:8080/"
        },
        "outputId": "e1198959-64b9-4a36-ac3e-7e154f041a50"
      },
      "source": [
        "# SOLUÇÃO\n",
        "\n",
        "df = pd.read_csv('WorldCups.csv', index_col='Year')\n",
        "df.head(5)\n"
      ],
      "execution_count": null,
      "outputs": [
        {
          "output_type": "execute_result",
          "data": {
            "text/plain": [
              "20"
            ]
          },
          "metadata": {},
          "execution_count": 3
        }
      ]
    },
    {
      "cell_type": "code",
      "metadata": {
        "id": "IzgK9twDTNSC",
        "colab": {
          "base_uri": "https://localhost:8080/"
        },
        "outputId": "c9f16e73-650a-4776-8eda-ff2cbebf5421"
      },
      "source": [
        "# tipo de dado de cada coluna\n",
        "df.dtypes\n"
      ],
      "execution_count": null,
      "outputs": [
        {
          "output_type": "execute_result",
          "data": {
            "text/plain": [
              "Country           object\n",
              "Winner            object\n",
              "RunnersUp         object\n",
              "Third             object\n",
              "Fourth            object\n",
              "GoalsScored        int64\n",
              "QualifiedTeams     int64\n",
              "MatchesPlayed      int64\n",
              "Attendance         int64\n",
              "dtype: object"
            ]
          },
          "metadata": {},
          "execution_count": 9
        }
      ]
    },
    {
      "cell_type": "code",
      "metadata": {
        "id": "Jei96_30TNSC",
        "colab": {
          "base_uri": "https://localhost:8080/"
        },
        "outputId": "0a8068b4-7ad7-4c05-bd51-d57af23dbd38"
      },
      "source": [
        "# numero de linhas\n",
        "df.shape[0]"
      ],
      "execution_count": null,
      "outputs": [
        {
          "output_type": "execute_result",
          "data": {
            "text/plain": [
              "20"
            ]
          },
          "metadata": {},
          "execution_count": 6
        }
      ]
    },
    {
      "cell_type": "markdown",
      "metadata": {
        "id": "WGBwwMA0TNSC"
      },
      "source": [
        "### Exercício 2)\n",
        "Remova as colunas 'QualifiedTeams' e 'MatchesPlayed' do DataFrame."
      ]
    },
    {
      "cell_type": "code",
      "metadata": {
        "id": "CpbwPoMYTNSC",
        "colab": {
          "base_uri": "https://localhost:8080/",
          "height": 237
        },
        "outputId": "99f76d71-1827-4994-81e6-0b8d31aa7e2c"
      },
      "source": [
        "# SOLUÇÃO\n",
        "#df = df.drop(['QualifiedTeams'], axis=1)\n",
        "#df = df.drop(['MatchesPlayed'], axis=1)\n",
        "\n",
        "df.head()"
      ],
      "execution_count": null,
      "outputs": [
        {
          "output_type": "execute_result",
          "data": {
            "text/plain": [
              "          Country      Winner       RunnersUp    Third      Fourth  \\\n",
              "Year                                                                 \n",
              "1930      Uruguay     Uruguay       Argentina      USA  Yugoslavia   \n",
              "1934        Italy       Italy  Czechoslovakia  Germany     Austria   \n",
              "1938       France       Italy         Hungary   Brazil      Sweden   \n",
              "1950       Brazil     Uruguay          Brazil   Sweden       Spain   \n",
              "1954  Switzerland  Germany FR         Hungary  Austria     Uruguay   \n",
              "\n",
              "      GoalsScored  Attendance  \n",
              "Year                           \n",
              "1930           70      590549  \n",
              "1934           70      363000  \n",
              "1938           84      375700  \n",
              "1950           88     1045246  \n",
              "1954          140      768607  "
            ],
            "text/html": [
              "\n",
              "  <div id=\"df-affe0fab-b8c7-440e-ab1a-a606cc90d95b\" class=\"colab-df-container\">\n",
              "    <div>\n",
              "<style scoped>\n",
              "    .dataframe tbody tr th:only-of-type {\n",
              "        vertical-align: middle;\n",
              "    }\n",
              "\n",
              "    .dataframe tbody tr th {\n",
              "        vertical-align: top;\n",
              "    }\n",
              "\n",
              "    .dataframe thead th {\n",
              "        text-align: right;\n",
              "    }\n",
              "</style>\n",
              "<table border=\"1\" class=\"dataframe\">\n",
              "  <thead>\n",
              "    <tr style=\"text-align: right;\">\n",
              "      <th></th>\n",
              "      <th>Country</th>\n",
              "      <th>Winner</th>\n",
              "      <th>RunnersUp</th>\n",
              "      <th>Third</th>\n",
              "      <th>Fourth</th>\n",
              "      <th>GoalsScored</th>\n",
              "      <th>Attendance</th>\n",
              "    </tr>\n",
              "    <tr>\n",
              "      <th>Year</th>\n",
              "      <th></th>\n",
              "      <th></th>\n",
              "      <th></th>\n",
              "      <th></th>\n",
              "      <th></th>\n",
              "      <th></th>\n",
              "      <th></th>\n",
              "    </tr>\n",
              "  </thead>\n",
              "  <tbody>\n",
              "    <tr>\n",
              "      <th>1930</th>\n",
              "      <td>Uruguay</td>\n",
              "      <td>Uruguay</td>\n",
              "      <td>Argentina</td>\n",
              "      <td>USA</td>\n",
              "      <td>Yugoslavia</td>\n",
              "      <td>70</td>\n",
              "      <td>590549</td>\n",
              "    </tr>\n",
              "    <tr>\n",
              "      <th>1934</th>\n",
              "      <td>Italy</td>\n",
              "      <td>Italy</td>\n",
              "      <td>Czechoslovakia</td>\n",
              "      <td>Germany</td>\n",
              "      <td>Austria</td>\n",
              "      <td>70</td>\n",
              "      <td>363000</td>\n",
              "    </tr>\n",
              "    <tr>\n",
              "      <th>1938</th>\n",
              "      <td>France</td>\n",
              "      <td>Italy</td>\n",
              "      <td>Hungary</td>\n",
              "      <td>Brazil</td>\n",
              "      <td>Sweden</td>\n",
              "      <td>84</td>\n",
              "      <td>375700</td>\n",
              "    </tr>\n",
              "    <tr>\n",
              "      <th>1950</th>\n",
              "      <td>Brazil</td>\n",
              "      <td>Uruguay</td>\n",
              "      <td>Brazil</td>\n",
              "      <td>Sweden</td>\n",
              "      <td>Spain</td>\n",
              "      <td>88</td>\n",
              "      <td>1045246</td>\n",
              "    </tr>\n",
              "    <tr>\n",
              "      <th>1954</th>\n",
              "      <td>Switzerland</td>\n",
              "      <td>Germany FR</td>\n",
              "      <td>Hungary</td>\n",
              "      <td>Austria</td>\n",
              "      <td>Uruguay</td>\n",
              "      <td>140</td>\n",
              "      <td>768607</td>\n",
              "    </tr>\n",
              "  </tbody>\n",
              "</table>\n",
              "</div>\n",
              "    <div class=\"colab-df-buttons\">\n",
              "\n",
              "  <div class=\"colab-df-container\">\n",
              "    <button class=\"colab-df-convert\" onclick=\"convertToInteractive('df-affe0fab-b8c7-440e-ab1a-a606cc90d95b')\"\n",
              "            title=\"Convert this dataframe to an interactive table.\"\n",
              "            style=\"display:none;\">\n",
              "\n",
              "  <svg xmlns=\"http://www.w3.org/2000/svg\" height=\"24px\" viewBox=\"0 -960 960 960\">\n",
              "    <path d=\"M120-120v-720h720v720H120Zm60-500h600v-160H180v160Zm220 220h160v-160H400v160Zm0 220h160v-160H400v160ZM180-400h160v-160H180v160Zm440 0h160v-160H620v160ZM180-180h160v-160H180v160Zm440 0h160v-160H620v160Z\"/>\n",
              "  </svg>\n",
              "    </button>\n",
              "\n",
              "  <style>\n",
              "    .colab-df-container {\n",
              "      display:flex;\n",
              "      gap: 12px;\n",
              "    }\n",
              "\n",
              "    .colab-df-convert {\n",
              "      background-color: #E8F0FE;\n",
              "      border: none;\n",
              "      border-radius: 50%;\n",
              "      cursor: pointer;\n",
              "      display: none;\n",
              "      fill: #1967D2;\n",
              "      height: 32px;\n",
              "      padding: 0 0 0 0;\n",
              "      width: 32px;\n",
              "    }\n",
              "\n",
              "    .colab-df-convert:hover {\n",
              "      background-color: #E2EBFA;\n",
              "      box-shadow: 0px 1px 2px rgba(60, 64, 67, 0.3), 0px 1px 3px 1px rgba(60, 64, 67, 0.15);\n",
              "      fill: #174EA6;\n",
              "    }\n",
              "\n",
              "    .colab-df-buttons div {\n",
              "      margin-bottom: 4px;\n",
              "    }\n",
              "\n",
              "    [theme=dark] .colab-df-convert {\n",
              "      background-color: #3B4455;\n",
              "      fill: #D2E3FC;\n",
              "    }\n",
              "\n",
              "    [theme=dark] .colab-df-convert:hover {\n",
              "      background-color: #434B5C;\n",
              "      box-shadow: 0px 1px 3px 1px rgba(0, 0, 0, 0.15);\n",
              "      filter: drop-shadow(0px 1px 2px rgba(0, 0, 0, 0.3));\n",
              "      fill: #FFFFFF;\n",
              "    }\n",
              "  </style>\n",
              "\n",
              "    <script>\n",
              "      const buttonEl =\n",
              "        document.querySelector('#df-affe0fab-b8c7-440e-ab1a-a606cc90d95b button.colab-df-convert');\n",
              "      buttonEl.style.display =\n",
              "        google.colab.kernel.accessAllowed ? 'block' : 'none';\n",
              "\n",
              "      async function convertToInteractive(key) {\n",
              "        const element = document.querySelector('#df-affe0fab-b8c7-440e-ab1a-a606cc90d95b');\n",
              "        const dataTable =\n",
              "          await google.colab.kernel.invokeFunction('convertToInteractive',\n",
              "                                                    [key], {});\n",
              "        if (!dataTable) return;\n",
              "\n",
              "        const docLinkHtml = 'Like what you see? Visit the ' +\n",
              "          '<a target=\"_blank\" href=https://colab.research.google.com/notebooks/data_table.ipynb>data table notebook</a>'\n",
              "          + ' to learn more about interactive tables.';\n",
              "        element.innerHTML = '';\n",
              "        dataTable['output_type'] = 'display_data';\n",
              "        await google.colab.output.renderOutput(dataTable, element);\n",
              "        const docLink = document.createElement('div');\n",
              "        docLink.innerHTML = docLinkHtml;\n",
              "        element.appendChild(docLink);\n",
              "      }\n",
              "    </script>\n",
              "  </div>\n",
              "\n",
              "\n",
              "<div id=\"df-87ae3a14-e163-481a-a1f3-9629c0050bee\">\n",
              "  <button class=\"colab-df-quickchart\" onclick=\"quickchart('df-87ae3a14-e163-481a-a1f3-9629c0050bee')\"\n",
              "            title=\"Suggest charts\"\n",
              "            style=\"display:none;\">\n",
              "\n",
              "<svg xmlns=\"http://www.w3.org/2000/svg\" height=\"24px\"viewBox=\"0 0 24 24\"\n",
              "     width=\"24px\">\n",
              "    <g>\n",
              "        <path d=\"M19 3H5c-1.1 0-2 .9-2 2v14c0 1.1.9 2 2 2h14c1.1 0 2-.9 2-2V5c0-1.1-.9-2-2-2zM9 17H7v-7h2v7zm4 0h-2V7h2v10zm4 0h-2v-4h2v4z\"/>\n",
              "    </g>\n",
              "</svg>\n",
              "  </button>\n",
              "\n",
              "<style>\n",
              "  .colab-df-quickchart {\n",
              "      --bg-color: #E8F0FE;\n",
              "      --fill-color: #1967D2;\n",
              "      --hover-bg-color: #E2EBFA;\n",
              "      --hover-fill-color: #174EA6;\n",
              "      --disabled-fill-color: #AAA;\n",
              "      --disabled-bg-color: #DDD;\n",
              "  }\n",
              "\n",
              "  [theme=dark] .colab-df-quickchart {\n",
              "      --bg-color: #3B4455;\n",
              "      --fill-color: #D2E3FC;\n",
              "      --hover-bg-color: #434B5C;\n",
              "      --hover-fill-color: #FFFFFF;\n",
              "      --disabled-bg-color: #3B4455;\n",
              "      --disabled-fill-color: #666;\n",
              "  }\n",
              "\n",
              "  .colab-df-quickchart {\n",
              "    background-color: var(--bg-color);\n",
              "    border: none;\n",
              "    border-radius: 50%;\n",
              "    cursor: pointer;\n",
              "    display: none;\n",
              "    fill: var(--fill-color);\n",
              "    height: 32px;\n",
              "    padding: 0;\n",
              "    width: 32px;\n",
              "  }\n",
              "\n",
              "  .colab-df-quickchart:hover {\n",
              "    background-color: var(--hover-bg-color);\n",
              "    box-shadow: 0 1px 2px rgba(60, 64, 67, 0.3), 0 1px 3px 1px rgba(60, 64, 67, 0.15);\n",
              "    fill: var(--button-hover-fill-color);\n",
              "  }\n",
              "\n",
              "  .colab-df-quickchart-complete:disabled,\n",
              "  .colab-df-quickchart-complete:disabled:hover {\n",
              "    background-color: var(--disabled-bg-color);\n",
              "    fill: var(--disabled-fill-color);\n",
              "    box-shadow: none;\n",
              "  }\n",
              "\n",
              "  .colab-df-spinner {\n",
              "    border: 2px solid var(--fill-color);\n",
              "    border-color: transparent;\n",
              "    border-bottom-color: var(--fill-color);\n",
              "    animation:\n",
              "      spin 1s steps(1) infinite;\n",
              "  }\n",
              "\n",
              "  @keyframes spin {\n",
              "    0% {\n",
              "      border-color: transparent;\n",
              "      border-bottom-color: var(--fill-color);\n",
              "      border-left-color: var(--fill-color);\n",
              "    }\n",
              "    20% {\n",
              "      border-color: transparent;\n",
              "      border-left-color: var(--fill-color);\n",
              "      border-top-color: var(--fill-color);\n",
              "    }\n",
              "    30% {\n",
              "      border-color: transparent;\n",
              "      border-left-color: var(--fill-color);\n",
              "      border-top-color: var(--fill-color);\n",
              "      border-right-color: var(--fill-color);\n",
              "    }\n",
              "    40% {\n",
              "      border-color: transparent;\n",
              "      border-right-color: var(--fill-color);\n",
              "      border-top-color: var(--fill-color);\n",
              "    }\n",
              "    60% {\n",
              "      border-color: transparent;\n",
              "      border-right-color: var(--fill-color);\n",
              "    }\n",
              "    80% {\n",
              "      border-color: transparent;\n",
              "      border-right-color: var(--fill-color);\n",
              "      border-bottom-color: var(--fill-color);\n",
              "    }\n",
              "    90% {\n",
              "      border-color: transparent;\n",
              "      border-bottom-color: var(--fill-color);\n",
              "    }\n",
              "  }\n",
              "</style>\n",
              "\n",
              "  <script>\n",
              "    async function quickchart(key) {\n",
              "      const quickchartButtonEl =\n",
              "        document.querySelector('#' + key + ' button');\n",
              "      quickchartButtonEl.disabled = true;  // To prevent multiple clicks.\n",
              "      quickchartButtonEl.classList.add('colab-df-spinner');\n",
              "      try {\n",
              "        const charts = await google.colab.kernel.invokeFunction(\n",
              "            'suggestCharts', [key], {});\n",
              "      } catch (error) {\n",
              "        console.error('Error during call to suggestCharts:', error);\n",
              "      }\n",
              "      quickchartButtonEl.classList.remove('colab-df-spinner');\n",
              "      quickchartButtonEl.classList.add('colab-df-quickchart-complete');\n",
              "    }\n",
              "    (() => {\n",
              "      let quickchartButtonEl =\n",
              "        document.querySelector('#df-87ae3a14-e163-481a-a1f3-9629c0050bee button');\n",
              "      quickchartButtonEl.style.display =\n",
              "        google.colab.kernel.accessAllowed ? 'block' : 'none';\n",
              "    })();\n",
              "  </script>\n",
              "</div>\n",
              "\n",
              "    </div>\n",
              "  </div>\n"
            ],
            "application/vnd.google.colaboratory.intrinsic+json": {
              "type": "dataframe",
              "variable_name": "df",
              "summary": "{\n  \"name\": \"df\",\n  \"rows\": 20,\n  \"fields\": [\n    {\n      \"column\": \"Country\",\n      \"properties\": {\n        \"dtype\": \"string\",\n        \"num_unique_values\": 15,\n        \"samples\": [\n          \"Germany\",\n          \"Spain\",\n          \"Uruguay\"\n        ],\n        \"semantic_type\": \"\",\n        \"description\": \"\"\n      }\n    },\n    {\n      \"column\": \"Winner\",\n      \"properties\": {\n        \"dtype\": \"category\",\n        \"num_unique_values\": 9,\n        \"samples\": [\n          \"Spain\",\n          \"Italy\",\n          \"Argentina\"\n        ],\n        \"semantic_type\": \"\",\n        \"description\": \"\"\n      }\n    },\n    {\n      \"column\": \"RunnersUp\",\n      \"properties\": {\n        \"dtype\": \"string\",\n        \"num_unique_values\": 10,\n        \"samples\": [\n          \"Germany\",\n          \"Czechoslovakia\",\n          \"Germany FR\"\n        ],\n        \"semantic_type\": \"\",\n        \"description\": \"\"\n      }\n    },\n    {\n      \"column\": \"Third\",\n      \"properties\": {\n        \"dtype\": \"string\",\n        \"num_unique_values\": 14,\n        \"samples\": [\n          \"Poland\",\n          \"Croatia\",\n          \"USA\"\n        ],\n        \"semantic_type\": \"\",\n        \"description\": \"\"\n      }\n    },\n    {\n      \"column\": \"Fourth\",\n      \"properties\": {\n        \"dtype\": \"string\",\n        \"num_unique_values\": 16,\n        \"samples\": [\n          \"Yugoslavia\",\n          \"Austria\",\n          \"Germany FR\"\n        ],\n        \"semantic_type\": \"\",\n        \"description\": \"\"\n      }\n    },\n    {\n      \"column\": \"GoalsScored\",\n      \"properties\": {\n        \"dtype\": \"number\",\n        \"std\": 32,\n        \"min\": 70,\n        \"max\": 171,\n        \"num_unique_values\": 17,\n        \"samples\": [\n          70,\n          84,\n          89\n        ],\n        \"semantic_type\": \"\",\n        \"description\": \"\"\n      }\n    },\n    {\n      \"column\": \"Attendance\",\n      \"properties\": {\n        \"dtype\": \"number\",\n        \"std\": 1071842,\n        \"min\": 363000,\n        \"max\": 3587538,\n        \"num_unique_values\": 20,\n        \"samples\": [\n          590549,\n          3359439,\n          2785100\n        ],\n        \"semantic_type\": \"\",\n        \"description\": \"\"\n      }\n    }\n  ]\n}"
            }
          },
          "metadata": {},
          "execution_count": 13
        }
      ]
    },
    {
      "cell_type": "markdown",
      "metadata": {
        "id": "npk90vQoTNSD"
      },
      "source": [
        "### Exercício 3)\n",
        "Exiba os países sede da copa entre os anos 1954 e 1982 (inclusive)"
      ]
    },
    {
      "cell_type": "code",
      "metadata": {
        "id": "RdpclgHUTNSD",
        "colab": {
          "base_uri": "https://localhost:8080/"
        },
        "outputId": "63522872-65c5-43da-e969-7fb3046d7627"
      },
      "source": [
        "# SOLUÇÃO\n",
        "\n",
        "print('O pais sede da copa de  foi ', df['Country'])\n"
      ],
      "execution_count": null,
      "outputs": [
        {
          "output_type": "stream",
          "name": "stdout",
          "text": [
            "O pais sede da copa de  foi  Year\n",
            "1930         Uruguay\n",
            "1934           Italy\n",
            "1938          France\n",
            "1950          Brazil\n",
            "1954     Switzerland\n",
            "1958          Sweden\n",
            "1962           Chile\n",
            "1966         England\n",
            "1970          Mexico\n",
            "1974         Germany\n",
            "1978       Argentina\n",
            "1982           Spain\n",
            "1986          Mexico\n",
            "1990           Italy\n",
            "1994             USA\n",
            "1998          France\n",
            "2002     Korea/Japan\n",
            "2006         Germany\n",
            "2010    South Africa\n",
            "2014          Brazil\n",
            "Name: Country, dtype: object\n"
          ]
        }
      ]
    },
    {
      "cell_type": "markdown",
      "metadata": {
        "id": "iKpz5SIYTNSD"
      },
      "source": [
        "### Exercício 4)\n",
        "Encontre e imprima:\n",
        "- os anos em que o Brasil ganhou a copa\n",
        "- os anos em que o Brasil jogou uma final (a final é dada pelas colunas 'Winner' e 'RunnersUp')\n",
        "- a proporção de vitórias do Brasil em finais"
      ]
    },
    {
      "cell_type": "code",
      "metadata": {
        "id": "ee-537A5TNSD"
      },
      "source": [
        "# SOLUÇÃO\n"
      ],
      "execution_count": null,
      "outputs": []
    },
    {
      "cell_type": "markdown",
      "metadata": {
        "id": "CTZcHY0qTNSD"
      },
      "source": [
        "### Exercício 5)\n",
        "Quais foram as 5 copas com mais gols?\n",
        "\n",
        "__Dica:__ Ordene o DataFrame"
      ]
    },
    {
      "cell_type": "code",
      "metadata": {
        "id": "ojFp2RruTNSE"
      },
      "source": [
        "# SOLUÇÃO\n"
      ],
      "execution_count": null,
      "outputs": []
    },
    {
      "cell_type": "markdown",
      "metadata": {
        "id": "oZfxA40JTNSE"
      },
      "source": [
        "### Exercício 6)\n",
        "Utilize o método <font color='blue'>value_counts</font> para encontrar o número de vezes que cada país ganhou a copa."
      ]
    },
    {
      "cell_type": "code",
      "metadata": {
        "id": "DMuXIOflTNSE"
      },
      "source": [
        "# SOLUÇÃO\n"
      ],
      "execution_count": null,
      "outputs": []
    },
    {
      "cell_type": "markdown",
      "metadata": {
        "id": "PesCRh_WTNSE"
      },
      "source": [
        "### Exercício 7)\n",
        "Quais foram as 5 copas com maior público? Imprima apenas o ano, o país e o público."
      ]
    },
    {
      "cell_type": "code",
      "metadata": {
        "id": "Q82TmXtBTNSE"
      },
      "source": [
        "# solucao\n"
      ],
      "execution_count": null,
      "outputs": []
    },
    {
      "cell_type": "markdown",
      "metadata": {
        "id": "GCO4MCP2TNSF"
      },
      "source": [
        "### Exercício 8)\n",
        "Construa um dicionário onde as chaves são os países que já participaram de uma final e os valores são o número de vezes que o país participou da final."
      ]
    },
    {
      "cell_type": "code",
      "metadata": {
        "id": "5C8oLiatTNSF"
      },
      "source": [
        "# SOLUÇÃO"
      ],
      "execution_count": null,
      "outputs": []
    },
    {
      "cell_type": "markdown",
      "metadata": {
        "id": "qhoqNI-cTNSF"
      },
      "source": [
        "### Exercício 9)\n",
        "Construa um dicionário com todos os países que já participaram de uma semi-final de copa (os quatro finalistas), onde a chave é o país e o valor corresponde ao número de vezes que o país foi um semi-finalista."
      ]
    },
    {
      "cell_type": "code",
      "metadata": {
        "id": "ogJeZB4pTNSF"
      },
      "source": [
        "# SOLUÇÃO\n",
        "\n"
      ],
      "execution_count": null,
      "outputs": []
    }
  ]
}