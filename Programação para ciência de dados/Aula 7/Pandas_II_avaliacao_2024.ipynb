{
  "cells": [
    {
      "cell_type": "markdown",
      "metadata": {
        "id": "view-in-github",
        "colab_type": "text"
      },
      "source": [
        "<a href=\"https://colab.research.google.com/github/Biangelica/Data-Science-MBA-CEMEAI/blob/main/Programa%C3%A7%C3%A3o%20para%20ci%C3%AAncia%20de%20dados/Aula%207/Pandas_II_avaliacao_2024.ipynb\" target=\"_parent\"><img src=\"https://colab.research.google.com/assets/colab-badge.svg\" alt=\"Open In Colab\"/></a>"
      ]
    },
    {
      "cell_type": "markdown",
      "metadata": {
        "id": "erwoa55uw5UX"
      },
      "source": [
        "# <font color=\"blue\"> MBA em Ciência de Dados</font>\n",
        "# <font color=\"blue\">Programação para Ciência de Dados</font>\n",
        "\n",
        "## <font color=\"blue\">Pandas Parte II - Solução da Avaliação</font>\n",
        "**Material Produzido por Luis Gustavo Nonato**<br>\n",
        "**Cemeai - ICMC/USP São Carlos**\n",
        "---"
      ]
    },
    {
      "cell_type": "markdown",
      "metadata": {
        "id": "YNEAES4Fw5UY"
      },
      "source": [
        "Os exercícios a seguir farão uso dos arquivos <font style=\"font-family: monaco\">ESC2013\\_RMSP\\_CEM.csv</font> e <font style=\"font-family: monaco\">ENEM2015.csv</font> disponíveis para download no sistema _Moodle_."
      ]
    },
    {
      "cell_type": "code",
      "execution_count": null,
      "metadata": {
        "id": "fmGmRzdMw5UZ"
      },
      "outputs": [],
      "source": [
        "import numpy as np\n",
        "import pandas as pd"
      ]
    },
    {
      "cell_type": "markdown",
      "metadata": {
        "id": "VVzDn5Wzw5UZ"
      },
      "source": [
        "### Exercício 1)\n",
        "Carregue os arquivos <font style=\"font-family: monaco\">ESC2013\\_RMSP\\_CEM.csv</font> e <font style=\"font-family: monaco\">ENEM2015.csv</font>, armazenando-os em variáveis tipo DataFrame chamadas `escolas` e `enem` respectivamente.\n",
        "Os arquivos <font style=\"font-family: monaco\">ESC2013_RMSP_CEM.csv</font> e <font style=\"font-family: monaco\">ENEM2015.csv</font> possuem em comum o código das escolas, os quais estão armazenados nas colunas CODESC e CODIGO DA ENTIDADE, respectivamente. Desta forma, o código das escolas permitem relacionar os dois conjuntos de dados.\n",
        "\n",
        "Quantas escolas cujo código aparece no arquivo <font style=\"font-family: monaco\">ENEM2015.csv</font> também **aparecem** em <font style=\"font-family: monaco\">ESC2013_RMSP_CEM.csv</font>?\n",
        "\n",
        "a) 1243 escolas <br>\n",
        "b) 1043 escolas <br>\n",
        "c) 10243 escolas <br>\n",
        "d) 1003 escolas\n",
        "\n",
        "**Dica**: Utilize o método <font color='blue'>isin</font> do <font color='blue'>pandas</font>."
      ]
    },
    {
      "cell_type": "code",
      "execution_count": null,
      "metadata": {
        "colab": {
          "base_uri": "https://localhost:8080/"
        },
        "id": "ztUrAB8Ew5UZ",
        "outputId": "9f45ea14-1030-497a-cbe6-0b3312da04a6"
      },
      "outputs": [
        {
          "output_type": "stream",
          "name": "stdout",
          "text": [
            "Número de escolas do ENEM2015 presentes no arquivo ESC2013_RMSP_CEM: 1243\n"
          ]
        }
      ],
      "source": [
        "escolas = pd.read_csv(\"ESC2013_RMSP_CEM.csv\")\n",
        "enem = pd.read_csv(\"ENEM2015.csv\")\n",
        "\n",
        "# Verificar quantas escolas do ENEM2015 estão presentes no arquivo ESC2013_RMSP_CEM\n",
        "escolas_enem = enem['CODIGO DA ENTIDADE'].unique()\n",
        "escolas_presentes = escolas[escolas['CODESC'].isin(escolas_enem)]\n",
        "\n",
        "# Contar o número de escolas\n",
        "numero_escolas = len(escolas_presentes)\n",
        "\n",
        "print(\"Número de escolas do ENEM2015 presentes no arquivo ESC2013_RMSP_CEM:\", numero_escolas)\n"
      ]
    },
    {
      "cell_type": "markdown",
      "metadata": {
        "id": "kUA-Qtg6w5Ua"
      },
      "source": [
        "### Exercício 2)\n",
        "\n",
        "Verifique quantos valores faltantes existem em cada um dos DataFrames:\n",
        "\n",
        "a) `escolas`: 776346 valores faltantes; `enem`: 1 valor faltante <br>\n",
        "b) `escolas`: 776346 valores faltantes; `enem`: 3 valores faltantes <br>\n",
        "c) `escolas`: 7346 valores faltantes; `enem`: 103 valores faltantes <br>\n",
        "d) `escolas`: 7346 valores faltantes; `enem`: 10 valores faltantes  "
      ]
    },
    {
      "cell_type": "code",
      "execution_count": null,
      "metadata": {
        "colab": {
          "base_uri": "https://localhost:8080/"
        },
        "id": "hpIVbcSvw5Ua",
        "outputId": "314317a8-b807-4177-a0b1-2bb5e7cdf2e0"
      },
      "outputs": [
        {
          "output_type": "stream",
          "name": "stdout",
          "text": [
            "Escolas:  776346\n",
            "Enem :  3\n"
          ]
        }
      ],
      "source": [
        "# Solucao\n",
        "\n",
        "print('Escolas: ',sum(escolas.isna().sum()))\n",
        "print('Enem : ',sum(enem.isna().sum()))"
      ]
    },
    {
      "cell_type": "markdown",
      "metadata": {
        "id": "z89YtXeNw5Ua"
      },
      "source": [
        "### Exercício 3)\n",
        "No DataFrame `enem`, quais são as colunas com valores faltantes.\n",
        "\n",
        "a) Classificacao<br>\n",
        "b) CODIGO DA ENTIDADE <br>\n",
        "c) NUMERO DE PARTICIPANTES <br>\n",
        "d) Todas as colunas possuem dados faltantes\n",
        "\n",
        "__Dica__: Utilize uma combinação dos comandos <font color='blue'>isna</font> e <font color='blue'>sum</font> do <font color='blue'>pandas</font>"
      ]
    },
    {
      "cell_type": "code",
      "execution_count": null,
      "metadata": {
        "colab": {
          "base_uri": "https://localhost:8080/"
        },
        "id": "BERPHQR3w5Ua",
        "outputId": "b4c6757a-00e3-49ad-9ae6-8f26a392180a"
      },
      "outputs": [
        {
          "output_type": "stream",
          "name": "stdout",
          "text": [
            "CODIGO DA ENTIDADE         0\n",
            "NUMERO DE PARTICIPANTES    0\n",
            "Classificacao              3\n",
            "dtype: int64\n"
          ]
        }
      ],
      "source": [
        "# Solucao\n",
        "\n",
        "print(enem.isna().sum())"
      ]
    },
    {
      "cell_type": "markdown",
      "metadata": {
        "id": "SRxbaOvuw5Ua"
      },
      "source": [
        "### Exercício 4)\n",
        "\n",
        "O DataFrame `escolas` possui valores faltantes na coluna `INSE_AB`. Preencha os valores faltantes com o valor da 'média' da coluna. O valor aproximado da média utilizada para preencher os valores faltantes é:\n",
        "\n",
        "a) 31.96<br>\n",
        "b) 55.16<br>\n",
        "c) 63.10<br>\n",
        "d) 44.06"
      ]
    },
    {
      "cell_type": "code",
      "execution_count": null,
      "metadata": {
        "colab": {
          "base_uri": "https://localhost:8080/"
        },
        "id": "yEJSXkpTw5Ua",
        "outputId": "c0da24a1-f4e9-4f09-e651-64a39d3b3d15"
      },
      "outputs": [
        {
          "output_type": "stream",
          "name": "stdout",
          "text": [
            "0        50.692100\n",
            "1        55.162703\n",
            "2        55.162703\n",
            "3        47.325300\n",
            "4        49.377800\n",
            "           ...    \n",
            "10932    52.721500\n",
            "10933    51.994700\n",
            "10934    55.162703\n",
            "10935    55.162703\n",
            "10936    55.162703\n",
            "Name: INSE_AB, Length: 10937, dtype: float64\n",
            "0        50.692100\n",
            "1        55.162703\n",
            "2        55.162703\n",
            "3        47.325300\n",
            "4        49.377800\n",
            "           ...    \n",
            "10932    52.721500\n",
            "10933    51.994700\n",
            "10934    55.162703\n",
            "10935    55.162703\n",
            "10936    55.162703\n",
            "Name: INSE_AB, Length: 10937, dtype: float64\n"
          ]
        }
      ],
      "source": [
        "# Solucao\n",
        "\n",
        "print(escolas['INSE_AB'])\n",
        "\n",
        "escolas = escolas.fillna(escolas['INSE_AB'].mean())\n",
        "\n",
        "print(escolas['INSE_AB']) # 55.162703"
      ]
    },
    {
      "cell_type": "markdown",
      "metadata": {
        "id": "_gUq78_rw5Ua"
      },
      "source": [
        "### Exercício 5)\n",
        "Os arquivos <font style=\"font-family: monaco\">ESC2013\\_RMSP\\_CEM.csv</font> e <font style=\"font-family: monaco\">ENEM2015.csv</font> possuem em comum o código das escolas, os quais estão armazenados nas colunas _CODESC_ e _CODIGO DA ENTIDADE_, respectivamente.\n",
        "\n",
        "Busque na coluna 'NUMERO DE PARTICIPANTES' do DataFrame `enem` o código das três escolas com o maior número de participantes no ENEM. Utilizando o código obtido, imprima o nome de tais escolas (armazenado na coluna 'NOMEESC' do DataFrame `escolas`). As escolas com o maior número de participantes são:\n",
        "\n",
        "a) TEOTONIO ALVES PEREIRA, THAMARA CORREA DE MATOS e OSWALDO SAMMARTINO<br>\n",
        "b) INSTITUTO TECNICO DE BARUERI, THAMARA CORREA DE MATOS e RUI BLOEM<br>\n",
        "c) BRASILIO FLORES DE AZEVEDO, BANDEIRANTES COLEGIO EFM e ETAPA COLEGIO DE EFM<br>\n",
        "d) OSWALDO SAMMARTINO, FILINTO MULLER e JOSE VIEIRA DE MORAES"
      ]
    },
    {
      "cell_type": "code",
      "execution_count": null,
      "metadata": {
        "colab": {
          "base_uri": "https://localhost:8080/"
        },
        "id": "Z6TJYnWqw5Ua",
        "outputId": "c09a4ea7-c653-45aa-8467-5ca413a186ba"
      },
      "outputs": [
        {
          "output_type": "stream",
          "name": "stdout",
          "text": [
            "As escolas com o maior número de participantes são:\n",
            "BRASILIO FLORES DE AZEVEDO\n",
            "BANDEIRANTES COLEGIO EFM\n",
            "ETAPA COLEGIO DE EFM\n"
          ]
        }
      ],
      "source": [
        "# Solucao\n",
        "\n",
        "enem_ordenado = enem.sort_values(by='NUMERO DE PARTICIPANTES', ascending=False)\n",
        "\n",
        "# Pegar os códigos das três escolas com o maior número de participantes\n",
        "top_3_escolas_codigos = enem_ordenado.head(3)['CODIGO DA ENTIDADE']\n",
        "\n",
        "# Utilizar os códigos para buscar os nomes das escolas correspondentes no DataFrame 'escolas'\n",
        "top_3_escolas_nomes = escolas.loc[escolas['CODESC'].isin(top_3_escolas_codigos), 'NOMEESC']\n",
        "\n",
        "# Imprimir os nomes das três escolas com o maior número de participantes\n",
        "print(\"As escolas com o maior número de participantes são:\")\n",
        "for nome in top_3_escolas_nomes:\n",
        "    print(nome)"
      ]
    }
  ],
  "metadata": {
    "kernelspec": {
      "display_name": "Python 3 (ipykernel)",
      "language": "python",
      "name": "python3"
    },
    "language_info": {
      "codemirror_mode": {
        "name": "ipython",
        "version": 3
      },
      "file_extension": ".py",
      "mimetype": "text/x-python",
      "name": "python",
      "nbconvert_exporter": "python",
      "pygments_lexer": "ipython3",
      "version": "3.10.9"
    },
    "toc": {
      "base_numbering": 1,
      "nav_menu": {},
      "number_sections": true,
      "sideBar": true,
      "skip_h1_title": false,
      "title_cell": "Table of Contents",
      "title_sidebar": "Contents",
      "toc_cell": false,
      "toc_position": {},
      "toc_section_display": true,
      "toc_window_display": false
    },
    "colab": {
      "provenance": [],
      "include_colab_link": true
    }
  },
  "nbformat": 4,
  "nbformat_minor": 0
}