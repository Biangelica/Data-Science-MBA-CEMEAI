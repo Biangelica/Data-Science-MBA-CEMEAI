{
  "cells": [
    {
      "cell_type": "markdown",
      "metadata": {
        "id": "view-in-github",
        "colab_type": "text"
      },
      "source": [
        "<a href=\"https://colab.research.google.com/github/Biangelica/Data-Science-MBA-CEMEAI/blob/main/Programa%C3%A7%C3%A3o%20para%20ci%C3%AAncia%20de%20dados/Aula%207/Pandas_II_exercicios.ipynb\" target=\"_parent\"><img src=\"https://colab.research.google.com/assets/colab-badge.svg\" alt=\"Open In Colab\"/></a>"
      ]
    },
    {
      "cell_type": "markdown",
      "metadata": {
        "id": "Phbnlu3oAXG7"
      },
      "source": [
        "# <font color=\"blue\"> MBA em Ciência de Dados</font>\n",
        "# <font color=\"blue\">Programação para Ciência de Dados</font>\n",
        "\n",
        "## <font color=\"blue\">Pandas Parte II - Exercícios</font>\n",
        "**Material Produzido por Luis Gustavo Nonato**<br>\n",
        "**Cemeai - ICMC/USP São Carlos**\n",
        "---"
      ]
    },
    {
      "cell_type": "markdown",
      "metadata": {
        "id": "fL1s8WazAXG9"
      },
      "source": [
        "#### <font color=\"red\">Recomenda-se fortemente que os exercícios sejam feitos sem consultar as respostas antecipadamente.</font>"
      ]
    },
    {
      "cell_type": "markdown",
      "metadata": {
        "id": "7hpOE3ndAXG-"
      },
      "source": [
        "Os exercícios a seguir farão uso do arquivo <font style=\"font-family: monaco\">ESC2013\\_RMSP\\_CEM.csv</font> disponível para download no sistema _Moodle_. Este conjunto de dados fornece informações a respeito das escolas de ensino básico, fundamental e médio do estado de São Paulo. O significado de cada coluna pode ser encontrado no arquivo <font style=\"font-family: monaco\">DicionarioESC.pdf</font> também disponível no moodle."
      ]
    },
    {
      "cell_type": "code",
      "execution_count": 3,
      "metadata": {
        "id": "fk9VQf5KAXG_"
      },
      "outputs": [],
      "source": [
        "import numpy as np\n",
        "import pandas as pd\n",
        "import matplotlib.pyplot as plt"
      ]
    },
    {
      "cell_type": "code",
      "execution_count": 4,
      "metadata": {
        "id": "3G4YOVJzAXHA"
      },
      "outputs": [],
      "source": [
        "# Os comandos abaixo são apenas para modificar como as informações serão apresentadas\n",
        "# no notebook\n",
        "\n",
        "# mostra no máximo 50 colunas\n",
        "pd.set_option('display.max_columns', 50)\n",
        "\n",
        "# aumenta o tamanho das figuras geradas pelo matplotlib\n",
        "plt.rcParams['figure.figsize'] = (10.0, 8.0)"
      ]
    },
    {
      "cell_type": "markdown",
      "metadata": {
        "id": "saVjBtqsAXHA"
      },
      "source": [
        "### Exercício 1)\n",
        "Carregue o arquivo <font style=\"font-family: monaco\">ESC2013\\_RMSP\\_CEM.csv</font> e armazene-o em uma variável DataFrame chamada `escolas`. Visualize as primeiras 5 linhas do DataFrame."
      ]
    },
    {
      "cell_type": "code",
      "execution_count": 5,
      "metadata": {
        "colab": {
          "base_uri": "https://localhost:8080/",
          "height": 481
        },
        "id": "YaJRIjUYAXHB",
        "outputId": "fff4e44d-b74d-44d6-b8c3-c285aa1e04c0"
      },
      "outputs": [
        {
          "output_type": "execute_result",
          "data": {
            "text/plain": [
              "    ID  LONGITUDE  LATITUDE    CODESC  CODESCTX  \\\n",
              "0   90  -47143986 -23986886  35080548  35080548   \n",
              "1  398  -47145545 -23985717  35352524  35352524   \n",
              "2  399  -47145560 -23985685  35069929  35069929   \n",
              "3  400  -47146239 -23983873  35036365  35036365   \n",
              "4   97  -47141337 -23964408  35913424  35913424   \n",
              "\n",
              "                                          NOMEESC    NOMEMUN   CODMUN  \\\n",
              "0       BAIRRO DOS BARNABES RECANTO DAS ORQUIDEAS  JUQUITIBA  3526209   \n",
              "1  MARIA CRISTINA BRESSALI CHAMA CRECHE MUNICIPAL  JUQUITIBA  3526209   \n",
              "2                                   TERRA NOVA EM  JUQUITIBA  3526209   \n",
              "3                             BAIRRO DOS BARNABES  JUQUITIBA  3526209   \n",
              "4                          BAIRRO DAS SENHORINHAS  JUQUITIBA  3526209   \n",
              "\n",
              "    NOMDIST      CODDIST  COD_SC  COD_DEP    TIP_DEP               BAIRRO  \\\n",
              "0  BARNABES  352620910.0     NaN        2   Estadual  BAIRRO DOS BARNABES   \n",
              "1  BARNABES  352620910.0     NaN        3  Municipal             BARNABES   \n",
              "2  BARNABES  352620910.0     NaN        3  Municipal             BARNABES   \n",
              "3  BARNABES  352620910.0     NaN        2   Estadual             BARNABES   \n",
              "4  BARNABES  352620910.0     NaN        2   Estadual          SENHORINHAS   \n",
              "\n",
              "         CEP                        END_ESC NUM_ESC DDD  TELEFONE  LOCALIZA  \\\n",
              "0  6950000.0  RUA ANTONIO FRANCISCO PEREIRA     285  11  46841502         1   \n",
              "1  6950000.0     RUA ANTONIO SOARES GODINHO      31  11  46841666         1   \n",
              "2  6950000.0       R ANTONIO SOARES GODINHO      35  11  46841462         1   \n",
              "3  6950000.0       R ANTONIO SOARES GODINHO     413  11  46841155         1   \n",
              "4  6950000.0                  RUA DOS LAGOS      20  11  46812769         1   \n",
              "\n",
              "   LAB_INF  QD_ESP_C  QD_ESP_D  BIBLIO  ENS_REG  ...  MAT07_AF  LP07_AF  \\\n",
              "0        0         0         1       0        1  ...       NaN      NaN   \n",
              "1        0         0         0       0        1  ...       NaN      NaN   \n",
              "2        0         0         0       0        1  ...       NaN      NaN   \n",
              "3        1         0         1       0        1  ...    230.40   220.14   \n",
              "4        0         1         0       0        1  ...    241.29   226.74   \n",
              "\n",
              "   NP07_AF  MAT09_AF  LP09_AF  NP09_AF  MAT11_AF  LP11_AF  NP11_AF  MAT13_AF  \\\n",
              "0      NaN       NaN      NaN      NaN       NaN      NaN      NaN       NaN   \n",
              "1      NaN       NaN      NaN      NaN       NaN      NaN      NaN       NaN   \n",
              "2      NaN       NaN      NaN      NaN       NaN      NaN      NaN       NaN   \n",
              "3     4.18    229.93   229.88     4.33    242.32   248.41     4.85    247.08   \n",
              "4     4.47    172.40   170.80     2.39    249.23   244.94     4.90    244.75   \n",
              "\n",
              "   LP13_AF  NP13_AF  IDEB05AF  IDEB07AF  IDEB09AF  IDEB11AF  IDEB13AF  \\\n",
              "0      NaN      NaN       NaN       NaN       NaN       NaN       NaN   \n",
              "1      NaN      NaN       NaN       NaN       NaN       NaN       NaN   \n",
              "2      NaN      NaN       NaN       NaN       NaN       NaN       NaN   \n",
              "3   238.32     4.76       NaN       3.7       4.2       4.5       4.4   \n",
              "4   231.59     4.61       NaN       4.2       2.3       4.7       4.4   \n",
              "\n",
              "   RED_EN13  LC_EN13  MAT_EN13  CH_EN13  CN_EN13  ENEM2013  INSE_AB  \\\n",
              "0       NaN      NaN       NaN      NaN      NaN       NaN  50.6921   \n",
              "1       NaN      NaN       NaN      NaN      NaN       NaN      NaN   \n",
              "2       NaN      NaN       NaN      NaN      NaN       NaN      NaN   \n",
              "3       NaN      NaN       NaN      NaN      NaN       NaN  47.3253   \n",
              "4    451.33   469.34    480.52   485.11   444.71    469.92  49.3778   \n",
              "\n",
              "      INSE_CL  \n",
              "0  Medio Alto  \n",
              "1         NaN  \n",
              "2         NaN  \n",
              "3       Medio  \n",
              "4       Medio  \n",
              "\n",
              "[5 rows x 136 columns]"
            ],
            "text/html": [
              "\n",
              "  <div id=\"df-8db72b5b-2da8-4506-9e71-e02ab998d3f2\" class=\"colab-df-container\">\n",
              "    <div>\n",
              "<style scoped>\n",
              "    .dataframe tbody tr th:only-of-type {\n",
              "        vertical-align: middle;\n",
              "    }\n",
              "\n",
              "    .dataframe tbody tr th {\n",
              "        vertical-align: top;\n",
              "    }\n",
              "\n",
              "    .dataframe thead th {\n",
              "        text-align: right;\n",
              "    }\n",
              "</style>\n",
              "<table border=\"1\" class=\"dataframe\">\n",
              "  <thead>\n",
              "    <tr style=\"text-align: right;\">\n",
              "      <th></th>\n",
              "      <th>ID</th>\n",
              "      <th>LONGITUDE</th>\n",
              "      <th>LATITUDE</th>\n",
              "      <th>CODESC</th>\n",
              "      <th>CODESCTX</th>\n",
              "      <th>NOMEESC</th>\n",
              "      <th>NOMEMUN</th>\n",
              "      <th>CODMUN</th>\n",
              "      <th>NOMDIST</th>\n",
              "      <th>CODDIST</th>\n",
              "      <th>COD_SC</th>\n",
              "      <th>COD_DEP</th>\n",
              "      <th>TIP_DEP</th>\n",
              "      <th>BAIRRO</th>\n",
              "      <th>CEP</th>\n",
              "      <th>END_ESC</th>\n",
              "      <th>NUM_ESC</th>\n",
              "      <th>DDD</th>\n",
              "      <th>TELEFONE</th>\n",
              "      <th>LOCALIZA</th>\n",
              "      <th>LAB_INF</th>\n",
              "      <th>QD_ESP_C</th>\n",
              "      <th>QD_ESP_D</th>\n",
              "      <th>BIBLIO</th>\n",
              "      <th>ENS_REG</th>\n",
              "      <th>...</th>\n",
              "      <th>MAT07_AF</th>\n",
              "      <th>LP07_AF</th>\n",
              "      <th>NP07_AF</th>\n",
              "      <th>MAT09_AF</th>\n",
              "      <th>LP09_AF</th>\n",
              "      <th>NP09_AF</th>\n",
              "      <th>MAT11_AF</th>\n",
              "      <th>LP11_AF</th>\n",
              "      <th>NP11_AF</th>\n",
              "      <th>MAT13_AF</th>\n",
              "      <th>LP13_AF</th>\n",
              "      <th>NP13_AF</th>\n",
              "      <th>IDEB05AF</th>\n",
              "      <th>IDEB07AF</th>\n",
              "      <th>IDEB09AF</th>\n",
              "      <th>IDEB11AF</th>\n",
              "      <th>IDEB13AF</th>\n",
              "      <th>RED_EN13</th>\n",
              "      <th>LC_EN13</th>\n",
              "      <th>MAT_EN13</th>\n",
              "      <th>CH_EN13</th>\n",
              "      <th>CN_EN13</th>\n",
              "      <th>ENEM2013</th>\n",
              "      <th>INSE_AB</th>\n",
              "      <th>INSE_CL</th>\n",
              "    </tr>\n",
              "  </thead>\n",
              "  <tbody>\n",
              "    <tr>\n",
              "      <th>0</th>\n",
              "      <td>90</td>\n",
              "      <td>-47143986</td>\n",
              "      <td>-23986886</td>\n",
              "      <td>35080548</td>\n",
              "      <td>35080548</td>\n",
              "      <td>BAIRRO DOS BARNABES RECANTO DAS ORQUIDEAS</td>\n",
              "      <td>JUQUITIBA</td>\n",
              "      <td>3526209</td>\n",
              "      <td>BARNABES</td>\n",
              "      <td>352620910.0</td>\n",
              "      <td>NaN</td>\n",
              "      <td>2</td>\n",
              "      <td>Estadual</td>\n",
              "      <td>BAIRRO DOS BARNABES</td>\n",
              "      <td>6950000.0</td>\n",
              "      <td>RUA ANTONIO FRANCISCO PEREIRA</td>\n",
              "      <td>285</td>\n",
              "      <td>11</td>\n",
              "      <td>46841502</td>\n",
              "      <td>1</td>\n",
              "      <td>0</td>\n",
              "      <td>0</td>\n",
              "      <td>1</td>\n",
              "      <td>0</td>\n",
              "      <td>1</td>\n",
              "      <td>...</td>\n",
              "      <td>NaN</td>\n",
              "      <td>NaN</td>\n",
              "      <td>NaN</td>\n",
              "      <td>NaN</td>\n",
              "      <td>NaN</td>\n",
              "      <td>NaN</td>\n",
              "      <td>NaN</td>\n",
              "      <td>NaN</td>\n",
              "      <td>NaN</td>\n",
              "      <td>NaN</td>\n",
              "      <td>NaN</td>\n",
              "      <td>NaN</td>\n",
              "      <td>NaN</td>\n",
              "      <td>NaN</td>\n",
              "      <td>NaN</td>\n",
              "      <td>NaN</td>\n",
              "      <td>NaN</td>\n",
              "      <td>NaN</td>\n",
              "      <td>NaN</td>\n",
              "      <td>NaN</td>\n",
              "      <td>NaN</td>\n",
              "      <td>NaN</td>\n",
              "      <td>NaN</td>\n",
              "      <td>50.6921</td>\n",
              "      <td>Medio Alto</td>\n",
              "    </tr>\n",
              "    <tr>\n",
              "      <th>1</th>\n",
              "      <td>398</td>\n",
              "      <td>-47145545</td>\n",
              "      <td>-23985717</td>\n",
              "      <td>35352524</td>\n",
              "      <td>35352524</td>\n",
              "      <td>MARIA CRISTINA BRESSALI CHAMA CRECHE MUNICIPAL</td>\n",
              "      <td>JUQUITIBA</td>\n",
              "      <td>3526209</td>\n",
              "      <td>BARNABES</td>\n",
              "      <td>352620910.0</td>\n",
              "      <td>NaN</td>\n",
              "      <td>3</td>\n",
              "      <td>Municipal</td>\n",
              "      <td>BARNABES</td>\n",
              "      <td>6950000.0</td>\n",
              "      <td>RUA ANTONIO SOARES GODINHO</td>\n",
              "      <td>31</td>\n",
              "      <td>11</td>\n",
              "      <td>46841666</td>\n",
              "      <td>1</td>\n",
              "      <td>0</td>\n",
              "      <td>0</td>\n",
              "      <td>0</td>\n",
              "      <td>0</td>\n",
              "      <td>1</td>\n",
              "      <td>...</td>\n",
              "      <td>NaN</td>\n",
              "      <td>NaN</td>\n",
              "      <td>NaN</td>\n",
              "      <td>NaN</td>\n",
              "      <td>NaN</td>\n",
              "      <td>NaN</td>\n",
              "      <td>NaN</td>\n",
              "      <td>NaN</td>\n",
              "      <td>NaN</td>\n",
              "      <td>NaN</td>\n",
              "      <td>NaN</td>\n",
              "      <td>NaN</td>\n",
              "      <td>NaN</td>\n",
              "      <td>NaN</td>\n",
              "      <td>NaN</td>\n",
              "      <td>NaN</td>\n",
              "      <td>NaN</td>\n",
              "      <td>NaN</td>\n",
              "      <td>NaN</td>\n",
              "      <td>NaN</td>\n",
              "      <td>NaN</td>\n",
              "      <td>NaN</td>\n",
              "      <td>NaN</td>\n",
              "      <td>NaN</td>\n",
              "      <td>NaN</td>\n",
              "    </tr>\n",
              "    <tr>\n",
              "      <th>2</th>\n",
              "      <td>399</td>\n",
              "      <td>-47145560</td>\n",
              "      <td>-23985685</td>\n",
              "      <td>35069929</td>\n",
              "      <td>35069929</td>\n",
              "      <td>TERRA NOVA EM</td>\n",
              "      <td>JUQUITIBA</td>\n",
              "      <td>3526209</td>\n",
              "      <td>BARNABES</td>\n",
              "      <td>352620910.0</td>\n",
              "      <td>NaN</td>\n",
              "      <td>3</td>\n",
              "      <td>Municipal</td>\n",
              "      <td>BARNABES</td>\n",
              "      <td>6950000.0</td>\n",
              "      <td>R ANTONIO SOARES GODINHO</td>\n",
              "      <td>35</td>\n",
              "      <td>11</td>\n",
              "      <td>46841462</td>\n",
              "      <td>1</td>\n",
              "      <td>0</td>\n",
              "      <td>0</td>\n",
              "      <td>0</td>\n",
              "      <td>0</td>\n",
              "      <td>1</td>\n",
              "      <td>...</td>\n",
              "      <td>NaN</td>\n",
              "      <td>NaN</td>\n",
              "      <td>NaN</td>\n",
              "      <td>NaN</td>\n",
              "      <td>NaN</td>\n",
              "      <td>NaN</td>\n",
              "      <td>NaN</td>\n",
              "      <td>NaN</td>\n",
              "      <td>NaN</td>\n",
              "      <td>NaN</td>\n",
              "      <td>NaN</td>\n",
              "      <td>NaN</td>\n",
              "      <td>NaN</td>\n",
              "      <td>NaN</td>\n",
              "      <td>NaN</td>\n",
              "      <td>NaN</td>\n",
              "      <td>NaN</td>\n",
              "      <td>NaN</td>\n",
              "      <td>NaN</td>\n",
              "      <td>NaN</td>\n",
              "      <td>NaN</td>\n",
              "      <td>NaN</td>\n",
              "      <td>NaN</td>\n",
              "      <td>NaN</td>\n",
              "      <td>NaN</td>\n",
              "    </tr>\n",
              "    <tr>\n",
              "      <th>3</th>\n",
              "      <td>400</td>\n",
              "      <td>-47146239</td>\n",
              "      <td>-23983873</td>\n",
              "      <td>35036365</td>\n",
              "      <td>35036365</td>\n",
              "      <td>BAIRRO DOS BARNABES</td>\n",
              "      <td>JUQUITIBA</td>\n",
              "      <td>3526209</td>\n",
              "      <td>BARNABES</td>\n",
              "      <td>352620910.0</td>\n",
              "      <td>NaN</td>\n",
              "      <td>2</td>\n",
              "      <td>Estadual</td>\n",
              "      <td>BARNABES</td>\n",
              "      <td>6950000.0</td>\n",
              "      <td>R ANTONIO SOARES GODINHO</td>\n",
              "      <td>413</td>\n",
              "      <td>11</td>\n",
              "      <td>46841155</td>\n",
              "      <td>1</td>\n",
              "      <td>1</td>\n",
              "      <td>0</td>\n",
              "      <td>1</td>\n",
              "      <td>0</td>\n",
              "      <td>1</td>\n",
              "      <td>...</td>\n",
              "      <td>230.40</td>\n",
              "      <td>220.14</td>\n",
              "      <td>4.18</td>\n",
              "      <td>229.93</td>\n",
              "      <td>229.88</td>\n",
              "      <td>4.33</td>\n",
              "      <td>242.32</td>\n",
              "      <td>248.41</td>\n",
              "      <td>4.85</td>\n",
              "      <td>247.08</td>\n",
              "      <td>238.32</td>\n",
              "      <td>4.76</td>\n",
              "      <td>NaN</td>\n",
              "      <td>3.7</td>\n",
              "      <td>4.2</td>\n",
              "      <td>4.5</td>\n",
              "      <td>4.4</td>\n",
              "      <td>NaN</td>\n",
              "      <td>NaN</td>\n",
              "      <td>NaN</td>\n",
              "      <td>NaN</td>\n",
              "      <td>NaN</td>\n",
              "      <td>NaN</td>\n",
              "      <td>47.3253</td>\n",
              "      <td>Medio</td>\n",
              "    </tr>\n",
              "    <tr>\n",
              "      <th>4</th>\n",
              "      <td>97</td>\n",
              "      <td>-47141337</td>\n",
              "      <td>-23964408</td>\n",
              "      <td>35913424</td>\n",
              "      <td>35913424</td>\n",
              "      <td>BAIRRO DAS SENHORINHAS</td>\n",
              "      <td>JUQUITIBA</td>\n",
              "      <td>3526209</td>\n",
              "      <td>BARNABES</td>\n",
              "      <td>352620910.0</td>\n",
              "      <td>NaN</td>\n",
              "      <td>2</td>\n",
              "      <td>Estadual</td>\n",
              "      <td>SENHORINHAS</td>\n",
              "      <td>6950000.0</td>\n",
              "      <td>RUA DOS LAGOS</td>\n",
              "      <td>20</td>\n",
              "      <td>11</td>\n",
              "      <td>46812769</td>\n",
              "      <td>1</td>\n",
              "      <td>0</td>\n",
              "      <td>1</td>\n",
              "      <td>0</td>\n",
              "      <td>0</td>\n",
              "      <td>1</td>\n",
              "      <td>...</td>\n",
              "      <td>241.29</td>\n",
              "      <td>226.74</td>\n",
              "      <td>4.47</td>\n",
              "      <td>172.40</td>\n",
              "      <td>170.80</td>\n",
              "      <td>2.39</td>\n",
              "      <td>249.23</td>\n",
              "      <td>244.94</td>\n",
              "      <td>4.90</td>\n",
              "      <td>244.75</td>\n",
              "      <td>231.59</td>\n",
              "      <td>4.61</td>\n",
              "      <td>NaN</td>\n",
              "      <td>4.2</td>\n",
              "      <td>2.3</td>\n",
              "      <td>4.7</td>\n",
              "      <td>4.4</td>\n",
              "      <td>451.33</td>\n",
              "      <td>469.34</td>\n",
              "      <td>480.52</td>\n",
              "      <td>485.11</td>\n",
              "      <td>444.71</td>\n",
              "      <td>469.92</td>\n",
              "      <td>49.3778</td>\n",
              "      <td>Medio</td>\n",
              "    </tr>\n",
              "  </tbody>\n",
              "</table>\n",
              "<p>5 rows × 136 columns</p>\n",
              "</div>\n",
              "    <div class=\"colab-df-buttons\">\n",
              "\n",
              "  <div class=\"colab-df-container\">\n",
              "    <button class=\"colab-df-convert\" onclick=\"convertToInteractive('df-8db72b5b-2da8-4506-9e71-e02ab998d3f2')\"\n",
              "            title=\"Convert this dataframe to an interactive table.\"\n",
              "            style=\"display:none;\">\n",
              "\n",
              "  <svg xmlns=\"http://www.w3.org/2000/svg\" height=\"24px\" viewBox=\"0 -960 960 960\">\n",
              "    <path d=\"M120-120v-720h720v720H120Zm60-500h600v-160H180v160Zm220 220h160v-160H400v160Zm0 220h160v-160H400v160ZM180-400h160v-160H180v160Zm440 0h160v-160H620v160ZM180-180h160v-160H180v160Zm440 0h160v-160H620v160Z\"/>\n",
              "  </svg>\n",
              "    </button>\n",
              "\n",
              "  <style>\n",
              "    .colab-df-container {\n",
              "      display:flex;\n",
              "      gap: 12px;\n",
              "    }\n",
              "\n",
              "    .colab-df-convert {\n",
              "      background-color: #E8F0FE;\n",
              "      border: none;\n",
              "      border-radius: 50%;\n",
              "      cursor: pointer;\n",
              "      display: none;\n",
              "      fill: #1967D2;\n",
              "      height: 32px;\n",
              "      padding: 0 0 0 0;\n",
              "      width: 32px;\n",
              "    }\n",
              "\n",
              "    .colab-df-convert:hover {\n",
              "      background-color: #E2EBFA;\n",
              "      box-shadow: 0px 1px 2px rgba(60, 64, 67, 0.3), 0px 1px 3px 1px rgba(60, 64, 67, 0.15);\n",
              "      fill: #174EA6;\n",
              "    }\n",
              "\n",
              "    .colab-df-buttons div {\n",
              "      margin-bottom: 4px;\n",
              "    }\n",
              "\n",
              "    [theme=dark] .colab-df-convert {\n",
              "      background-color: #3B4455;\n",
              "      fill: #D2E3FC;\n",
              "    }\n",
              "\n",
              "    [theme=dark] .colab-df-convert:hover {\n",
              "      background-color: #434B5C;\n",
              "      box-shadow: 0px 1px 3px 1px rgba(0, 0, 0, 0.15);\n",
              "      filter: drop-shadow(0px 1px 2px rgba(0, 0, 0, 0.3));\n",
              "      fill: #FFFFFF;\n",
              "    }\n",
              "  </style>\n",
              "\n",
              "    <script>\n",
              "      const buttonEl =\n",
              "        document.querySelector('#df-8db72b5b-2da8-4506-9e71-e02ab998d3f2 button.colab-df-convert');\n",
              "      buttonEl.style.display =\n",
              "        google.colab.kernel.accessAllowed ? 'block' : 'none';\n",
              "\n",
              "      async function convertToInteractive(key) {\n",
              "        const element = document.querySelector('#df-8db72b5b-2da8-4506-9e71-e02ab998d3f2');\n",
              "        const dataTable =\n",
              "          await google.colab.kernel.invokeFunction('convertToInteractive',\n",
              "                                                    [key], {});\n",
              "        if (!dataTable) return;\n",
              "\n",
              "        const docLinkHtml = 'Like what you see? Visit the ' +\n",
              "          '<a target=\"_blank\" href=https://colab.research.google.com/notebooks/data_table.ipynb>data table notebook</a>'\n",
              "          + ' to learn more about interactive tables.';\n",
              "        element.innerHTML = '';\n",
              "        dataTable['output_type'] = 'display_data';\n",
              "        await google.colab.output.renderOutput(dataTable, element);\n",
              "        const docLink = document.createElement('div');\n",
              "        docLink.innerHTML = docLinkHtml;\n",
              "        element.appendChild(docLink);\n",
              "      }\n",
              "    </script>\n",
              "  </div>\n",
              "\n",
              "\n",
              "<div id=\"df-de832f85-c0da-467f-b17b-2e3443200005\">\n",
              "  <button class=\"colab-df-quickchart\" onclick=\"quickchart('df-de832f85-c0da-467f-b17b-2e3443200005')\"\n",
              "            title=\"Suggest charts\"\n",
              "            style=\"display:none;\">\n",
              "\n",
              "<svg xmlns=\"http://www.w3.org/2000/svg\" height=\"24px\"viewBox=\"0 0 24 24\"\n",
              "     width=\"24px\">\n",
              "    <g>\n",
              "        <path d=\"M19 3H5c-1.1 0-2 .9-2 2v14c0 1.1.9 2 2 2h14c1.1 0 2-.9 2-2V5c0-1.1-.9-2-2-2zM9 17H7v-7h2v7zm4 0h-2V7h2v10zm4 0h-2v-4h2v4z\"/>\n",
              "    </g>\n",
              "</svg>\n",
              "  </button>\n",
              "\n",
              "<style>\n",
              "  .colab-df-quickchart {\n",
              "      --bg-color: #E8F0FE;\n",
              "      --fill-color: #1967D2;\n",
              "      --hover-bg-color: #E2EBFA;\n",
              "      --hover-fill-color: #174EA6;\n",
              "      --disabled-fill-color: #AAA;\n",
              "      --disabled-bg-color: #DDD;\n",
              "  }\n",
              "\n",
              "  [theme=dark] .colab-df-quickchart {\n",
              "      --bg-color: #3B4455;\n",
              "      --fill-color: #D2E3FC;\n",
              "      --hover-bg-color: #434B5C;\n",
              "      --hover-fill-color: #FFFFFF;\n",
              "      --disabled-bg-color: #3B4455;\n",
              "      --disabled-fill-color: #666;\n",
              "  }\n",
              "\n",
              "  .colab-df-quickchart {\n",
              "    background-color: var(--bg-color);\n",
              "    border: none;\n",
              "    border-radius: 50%;\n",
              "    cursor: pointer;\n",
              "    display: none;\n",
              "    fill: var(--fill-color);\n",
              "    height: 32px;\n",
              "    padding: 0;\n",
              "    width: 32px;\n",
              "  }\n",
              "\n",
              "  .colab-df-quickchart:hover {\n",
              "    background-color: var(--hover-bg-color);\n",
              "    box-shadow: 0 1px 2px rgba(60, 64, 67, 0.3), 0 1px 3px 1px rgba(60, 64, 67, 0.15);\n",
              "    fill: var(--button-hover-fill-color);\n",
              "  }\n",
              "\n",
              "  .colab-df-quickchart-complete:disabled,\n",
              "  .colab-df-quickchart-complete:disabled:hover {\n",
              "    background-color: var(--disabled-bg-color);\n",
              "    fill: var(--disabled-fill-color);\n",
              "    box-shadow: none;\n",
              "  }\n",
              "\n",
              "  .colab-df-spinner {\n",
              "    border: 2px solid var(--fill-color);\n",
              "    border-color: transparent;\n",
              "    border-bottom-color: var(--fill-color);\n",
              "    animation:\n",
              "      spin 1s steps(1) infinite;\n",
              "  }\n",
              "\n",
              "  @keyframes spin {\n",
              "    0% {\n",
              "      border-color: transparent;\n",
              "      border-bottom-color: var(--fill-color);\n",
              "      border-left-color: var(--fill-color);\n",
              "    }\n",
              "    20% {\n",
              "      border-color: transparent;\n",
              "      border-left-color: var(--fill-color);\n",
              "      border-top-color: var(--fill-color);\n",
              "    }\n",
              "    30% {\n",
              "      border-color: transparent;\n",
              "      border-left-color: var(--fill-color);\n",
              "      border-top-color: var(--fill-color);\n",
              "      border-right-color: var(--fill-color);\n",
              "    }\n",
              "    40% {\n",
              "      border-color: transparent;\n",
              "      border-right-color: var(--fill-color);\n",
              "      border-top-color: var(--fill-color);\n",
              "    }\n",
              "    60% {\n",
              "      border-color: transparent;\n",
              "      border-right-color: var(--fill-color);\n",
              "    }\n",
              "    80% {\n",
              "      border-color: transparent;\n",
              "      border-right-color: var(--fill-color);\n",
              "      border-bottom-color: var(--fill-color);\n",
              "    }\n",
              "    90% {\n",
              "      border-color: transparent;\n",
              "      border-bottom-color: var(--fill-color);\n",
              "    }\n",
              "  }\n",
              "</style>\n",
              "\n",
              "  <script>\n",
              "    async function quickchart(key) {\n",
              "      const quickchartButtonEl =\n",
              "        document.querySelector('#' + key + ' button');\n",
              "      quickchartButtonEl.disabled = true;  // To prevent multiple clicks.\n",
              "      quickchartButtonEl.classList.add('colab-df-spinner');\n",
              "      try {\n",
              "        const charts = await google.colab.kernel.invokeFunction(\n",
              "            'suggestCharts', [key], {});\n",
              "      } catch (error) {\n",
              "        console.error('Error during call to suggestCharts:', error);\n",
              "      }\n",
              "      quickchartButtonEl.classList.remove('colab-df-spinner');\n",
              "      quickchartButtonEl.classList.add('colab-df-quickchart-complete');\n",
              "    }\n",
              "    (() => {\n",
              "      let quickchartButtonEl =\n",
              "        document.querySelector('#df-de832f85-c0da-467f-b17b-2e3443200005 button');\n",
              "      quickchartButtonEl.style.display =\n",
              "        google.colab.kernel.accessAllowed ? 'block' : 'none';\n",
              "    })();\n",
              "  </script>\n",
              "</div>\n",
              "\n",
              "    </div>\n",
              "  </div>\n"
            ],
            "application/vnd.google.colaboratory.intrinsic+json": {
              "type": "dataframe",
              "variable_name": "escolas"
            }
          },
          "metadata": {},
          "execution_count": 5
        }
      ],
      "source": [
        "escolas = pd.read_csv('ESC2013_RMSP_CEM.csv')\n",
        "escolas.head(5)"
      ]
    },
    {
      "cell_type": "markdown",
      "metadata": {
        "id": "KlQnICwSAXHB"
      },
      "source": [
        "### Exercício 2)\n",
        "O arquivo <font style=\"font-family: monaco\">ESC2013\\_RMSP\\_CEM.csv</font> possui muitos valores faltantes. Encontre e imprima o nome da coluna com mais valores faltantes. Calcule também o número de valores faltantes em tal coluna.\n",
        "\n",
        "__DICA__: Utilize uma combinação dos métodos do <font color='blue'>pandas</font>:\n",
        "\n",
        "[isna](https://pandas.pydata.org/pandas-docs/stable/reference/api/pandas.DataFrame.isna.html) que retorna uma máscara com True nas posições onde valores faltantes ocorrem<br>\n",
        "[idxmax](https://pandas.pydata.org/pandas-docs/stable/reference/api/pandas.DataFrame.idxmax.html) retorna o rótulo onde o valor máximo que ocorre em um dado eixo (rótulo da linha ou coluna dependento do valor do parâmetro `axis`)<br>\n",
        "[max](https://pandas.pydata.org/pandas-docs/stable/reference/api/pandas.DataFrame.max.html) que retorna o valor máximo em um eixo especificado"
      ]
    },
    {
      "cell_type": "code",
      "execution_count": 6,
      "metadata": {
        "scrolled": true,
        "colab": {
          "base_uri": "https://localhost:8080/"
        },
        "id": "lNrJUZ8SAXHB",
        "outputId": "50804951-f1d6-4b71-cf6c-8a8a639db2a4"
      },
      "outputs": [
        {
          "output_type": "stream",
          "name": "stdout",
          "text": [
            "Nome da coluna com mais valores faltantes:  COD_SC\n",
            "Número de valores faltantes nessa coluna: 10937\n"
          ]
        }
      ],
      "source": [
        "val_null = escolas.isna().sum()\n",
        "\n",
        "print(\"Nome da coluna com mais valores faltantes: \", val_null.idxmax())\n",
        "print(\"Número de valores faltantes nessa coluna:\", val_null.max())"
      ]
    },
    {
      "cell_type": "markdown",
      "metadata": {
        "id": "iFR4hKiVAXHC"
      },
      "source": [
        "### Exercício 3)\n",
        "Verifique se existem linhas duplicadas no conjunto de dados\n",
        "\n",
        "__Dica:__ Utilize o método <font color='blue'>duplicated</font> do <font color='blue'>pandas</font>"
      ]
    },
    {
      "cell_type": "code",
      "execution_count": 7,
      "metadata": {
        "colab": {
          "base_uri": "https://localhost:8080/"
        },
        "id": "Q5QC9-iJAXHC",
        "outputId": "120259a7-0913-4474-b3ad-05dd6b31382f"
      },
      "outputs": [
        {
          "output_type": "stream",
          "name": "stdout",
          "text": [
            "Não há linhas duplicadas no conjunto de dados.\n"
          ]
        }
      ],
      "source": [
        "colunas_duplicadas = escolas.duplicated()\n",
        "\n",
        "if colunas_duplicadas.any():\n",
        "  print(\"Existem linhas duplicadas no conjunto de dados.\")\n",
        "  print(\"Número de linhas duplicadas:\", colunas_duplicadas.sum())\n",
        "else:\n",
        "    print(\"Não há linhas duplicadas no conjunto de dados.\")"
      ]
    },
    {
      "cell_type": "markdown",
      "metadata": {
        "id": "eVI6_vUCAXHC"
      },
      "source": [
        "### Exercício 4)\n",
        "A coluna 'COD_DEP' do DataFrame `escolas` representa o código da dependência administrativa da escola (1 - Federal, 2 - Estadual, 3 - Municipal, 4 - Privada).\n",
        "\n",
        "Calcule quantas escolas federais, estaduais, municipais e particulares existem na base de dados. Armazene a contagem em uma série cujos rótulos são o tipo de dependência e os valores correspondentes o número de ocorrências da dependência administrativa.\n",
        "\n",
        "**DICA**: Utilize o método <font color='blue'>value_counts</font> do <font color='blue'>pandas</font>"
      ]
    },
    {
      "cell_type": "code",
      "execution_count": 8,
      "metadata": {
        "colab": {
          "base_uri": "https://localhost:8080/"
        },
        "id": "QNZsadYuAXHD",
        "outputId": "7dbed97f-9237-4660-8891-0cdf7ab8eedf"
      },
      "outputs": [
        {
          "output_type": "stream",
          "name": "stdout",
          "text": [
            "Número de escolas por tipo de dependência administrativa:\n",
            "Tipo de Dependência\n",
            "Privada      5225\n",
            "Municipal    3405\n",
            "Estadual     2303\n",
            "Federal         4\n",
            "Name: COD_DEP, dtype: int64\n"
          ]
        }
      ],
      "source": [
        "dependencia = escolas['COD_DEP'].value_counts()\n",
        "\n",
        "\n",
        "\n",
        "dependencia.index = dependencia.index.map({\n",
        "    1: 'Federal',\n",
        "    2: 'Estadual',\n",
        "    3: 'Municipal',\n",
        "    4: 'Privada'\n",
        "})\n",
        "\n",
        "# Renomear o nome do índice\n",
        "dependencia.index.name = 'Tipo de Dependência'\n",
        "\n",
        "# Imprimir o resultado\n",
        "print(\"Número de escolas por tipo de dependência administrativa:\")\n",
        "print(dependencia)"
      ]
    },
    {
      "cell_type": "markdown",
      "metadata": {
        "id": "gxNpWLfCAXHD"
      },
      "source": [
        "### Exercício 5)\n",
        "O Pandas também oferece recursos para visualização que são simples de utilizar. Utilize o método <font color='blue'>plot</font> do <font color='blue'>pandas</font> com o parâmetro `bar` para gerar um gráfico de barras com o número de escolas calculadas na célula acima. Para mais informações sobre os recursos gráficos disponíveis no pandas veja documentação [aqui](https://pandas.pydata.org/pandas-docs/version/0.23.4/generated/pandas.DataFrame.plot.html)."
      ]
    },
    {
      "cell_type": "code",
      "execution_count": 9,
      "metadata": {
        "colab": {
          "base_uri": "https://localhost:8080/",
          "height": 583
        },
        "id": "rFIBSVjuAXHD",
        "outputId": "d1be7d0f-250e-4115-ff82-4ca9374fe6c0"
      },
      "outputs": [
        {
          "output_type": "execute_result",
          "data": {
            "text/plain": [
              "<Axes: xlabel='Tipo de Dependência'>"
            ]
          },
          "metadata": {},
          "execution_count": 9
        },
        {
          "output_type": "display_data",
          "data": {
            "text/plain": [
              "<Figure size 1000x800 with 1 Axes>"
            ],
            "image/png": "[encoded data removed]"
          },
          "metadata": {}
        }
      ],
      "source": [
        "dependencia.plot(kind='bar', color='skyblue', edgecolor='black')"
      ]
    },
    {
      "cell_type": "markdown",
      "metadata": {
        "id": "eFJT5baIAXHD"
      },
      "source": [
        "### Exercício 6)\n",
        "Como visto anteriormente, o conjunto de dados do arquivo <font style=\"font-family: monaco\">ESC2013\\_RMSP\\_CEM.csv</font> possui muitos valores faltantes. Utilize uma combinação do método <font color='blue'>map</font> e <font color='blue'>isna</font> para encontrar a porcentagem de linhas do DataFrame que possuem dados faltantes."
      ]
    },
    {
      "cell_type": "code",
      "execution_count": null,
      "metadata": {
        "id": "lX9-ZpFVAXHE"
      },
      "outputs": [],
      "source": []
    },
    {
      "cell_type": "markdown",
      "metadata": {
        "id": "AfoW60YdAXHE"
      },
      "source": [
        "### Exercício 7)\n",
        "\n",
        "O resultado do exercício anterior mostra que todas as linhas do conjunto de dados <font style=\"font-family: monaco\">ESC2013_RMSP_CEM.csv</font> possuem pelo menos um dado faltante. Assim, se adotarmos a estratégia de remover as linhas que possuem dados faltantes, todo o conjunto de dados será descartado.\n",
        "\n",
        "Uma alternativa é remover do conjunto de dados as colunas onde o número de valores faltantes é elevado. Escreva um código que gere um novo DataFrame chamado `escolas30` contendo as colunas do DataFrame `escolas` com no máximo 30% de valores faltantes.\n",
        "\n",
        "__Dica:__ Gere uma série booleana onde os rótulos das linhas são os rótulos das colunas do DataFrame `escolas`, sendo os valores 'True' nas entradas correspondendo às colunas\n",
        "com menos que 30% de valores faltantes. Utilize a série booleana em conjunto com o comando <font color='blue'>loc</font> do <font color='blue'>pandas</font> para extrair as colunas desejadas."
      ]
    },
    {
      "cell_type": "code",
      "execution_count": null,
      "metadata": {
        "id": "c-6sLBmyAXHE"
      },
      "outputs": [],
      "source": []
    },
    {
      "cell_type": "markdown",
      "metadata": {
        "id": "s_UDJkp4AXHF"
      },
      "source": [
        "### Exercício 8)\n",
        "\n",
        "Quantas colunas restaram no DataFrame `escolas30`? Recalcule a porcentagem de linhas com pelo menos um valor faltante."
      ]
    },
    {
      "cell_type": "code",
      "execution_count": null,
      "metadata": {
        "id": "v3uoySJDAXHF"
      },
      "outputs": [],
      "source": []
    },
    {
      "cell_type": "markdown",
      "metadata": {
        "id": "1kEXD1LLAXHF"
      },
      "source": [
        "### Exercício 9)\n",
        "\n",
        "O DataFrame `escolas30` possui poucos valores faltantes. Preencha os valores faltantes com o valor da _moda_  da coluna onde o valor faltante ocorre.\n",
        "\n",
        "__Dica:__ Utilize o método <font color='blue'>mode</font> combinado com <font color='blue'>fillna</font> do <font color='blue'>pandas</font>. Note que o método  <font color='blue'>mode</font> pode retornar vários valores caso haja um empate no cálculo da moda. Escolha o primeiro dentre os valores retornados como o valor da moda."
      ]
    },
    {
      "cell_type": "code",
      "execution_count": null,
      "metadata": {
        "scrolled": false,
        "id": "YKbOQTrqAXHF"
      },
      "outputs": [],
      "source": []
    },
    {
      "cell_type": "markdown",
      "metadata": {
        "id": "vKedrS_kAXHG"
      },
      "source": [
        "### Exercício 10)\n",
        "\n",
        "Certifique que o DataFrame `escolas30` não possui qualquer valor faltante após o tratamento realizado no exercício anterior."
      ]
    },
    {
      "cell_type": "code",
      "execution_count": null,
      "metadata": {
        "id": "fBowBfG7AXHG"
      },
      "outputs": [],
      "source": []
    }
  ],
  "metadata": {
    "kernelspec": {
      "display_name": "Python 3",
      "language": "python",
      "name": "python3"
    },
    "language_info": {
      "codemirror_mode": {
        "name": "ipython",
        "version": 3
      },
      "file_extension": ".py",
      "mimetype": "text/x-python",
      "name": "python",
      "nbconvert_exporter": "python",
      "pygments_lexer": "ipython3",
      "version": "3.7.6"
    },
    "toc": {
      "base_numbering": 1,
      "nav_menu": {},
      "number_sections": true,
      "sideBar": true,
      "skip_h1_title": false,
      "title_cell": "Table of Contents",
      "title_sidebar": "Contents",
      "toc_cell": false,
      "toc_position": {},
      "toc_section_display": true,
      "toc_window_display": false
    },
    "colab": {
      "provenance": [],
      "include_colab_link": true
    }
  },
  "nbformat": 4,
  "nbformat_minor": 0
}