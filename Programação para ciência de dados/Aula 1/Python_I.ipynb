{
  "cells": [
    {
      "cell_type": "markdown",
      "metadata": {
        "id": "view-in-github",
        "colab_type": "text"
      },
      "source": [
        "<a href=\"https://colab.research.google.com/github/Biangelica/Data-Science-MBA-CEMEAI/blob/main/Programa%C3%A7%C3%A3o%20para%20ci%C3%AAncia%20de%20dados/Aula%201/Python_I.ipynb\" target=\"_parent\"><img src=\"https://colab.research.google.com/assets/colab-badge.svg\" alt=\"Open In Colab\"/></a>"
      ]
    },
    {
      "cell_type": "markdown",
      "metadata": {
        "id": "YewqUp7lrvJE"
      },
      "source": [
        "# <span style=\"color:blue\"> MBA em Ciência de Dados</span>\n",
        "# <span style=\"color:blue\">Programação para Ciência de Dados</span>\n",
        "\n",
        "## <span style=\"color:blue\">Python Parte I</span>\n",
        "**Material Produzido por Luis Gustavo Nonato**<br>\n",
        "**Cemeai - ICMC/USP São Carlos**"
      ]
    },
    {
      "cell_type": "markdown",
      "metadata": {
        "id": "v8zcxrhIrvJF"
      },
      "source": [
        "### Conteúdo:\n",
        "- Variáveis e atribuição\n",
        "- Tipos de dados\n",
        "    - Tipos básicos\n",
        "    - Sequênciais\n",
        "    - Dicionários\n",
        "- Estruturas de controle\n",
        "    - Estruturas de controle\n",
        "    - Estruturas de repetição"
      ]
    },
    {
      "cell_type": "markdown",
      "metadata": {
        "id": "JUSJXW3-rvJG"
      },
      "source": [
        "## O que é Python?\n",
        "Python é uma linguagem dinâmica e interpretada. Em outras palavras, muitas taferas são realizadas em tempo de execução e o código é executado diretamente ao invés de ser compilado.\n",
        "\n",
        "Python também é:\n",
        "- _Imperativo_: programas compreendem uma sequência de declarações\n",
        "- _Orientada a objetos_: permite modelos de classes para manipular objetos\n",
        "- _Procedural_: código pode ser agrupado em unidades chamadas funções\n",
        "- _Funcional_: nativamente permite funções, lambdas anônimos, comprehensions e geradores."
      ]
    },
    {
      "cell_type": "markdown",
      "metadata": {
        "id": "tAN_K3VbrvJG"
      },
      "source": [
        "# Variáveis e atribuição\n",
        "Uma variável em Python é uma referência (etiqueta) dada para uma região da memória onde informações são armazenadas.\n",
        "\n",
        "Toda variável possui um tipo associado. Por exemplo, uma variável para ser do tipo número real (float), número inteiro (int), conjunto de caracteres (string), dentre outros.\n",
        "\n",
        "A atribuiçao de variáveis é feita diretamente, sem necessidade de declarar o tipo da variável em questão. O próprio Python se encarrega de descobrir o tipo da variável, diferentemente de linguagens como Java ou C++, onde o tipo deve ser especificado."
      ]
    },
    {
      "cell_type": "code",
      "execution_count": null,
      "metadata": {
        "id": "vaah53A9rvJG",
        "outputId": "6eee6613-5577-47b5-c332-1a7343a55bfd"
      },
      "outputs": [
        {
          "name": "stdout",
          "output_type": "stream",
          "text": [
            "Tipo da variavel x =  <class 'int'>\n",
            "Tipo da variavel y =  <class 'str'>\n",
            "Tipo da variavel z =  <class 'float'>\n"
          ]
        }
      ],
      "source": [
        "# Comentários em Python são definidos pelo síbulo \"#\", isto é,\n",
        "# tudo que vem após o símbolo \"#\" não é interpretado como código\n",
        "\n",
        "x = 36            # Criando e inicializando x como número inteiro (int)\n",
        "y = \"Hello\"       # Criando e inicializando y como um conjunto de caracteres (str)\n",
        "z = 3.45          # Criando e inicializando z como um número real (float)\n",
        "\n",
        "#########\n",
        "# Imprimindo os typos de cada variável\n",
        "#########\n",
        "# O comando \"print\" é utilizada para exibir o conteúdo de variáveis, textos,\n",
        "# ou o resultado de operações e funções\n",
        "# A função \"type()\" retorna o tipo da variável enviada como parâmtro\n",
        "\n",
        "print('Tipo da variavel x = ',type(x))\n",
        "print('Tipo da variavel y = ',type(y))\n",
        "print('Tipo da variavel z = ',type(z))"
      ]
    },
    {
      "cell_type": "markdown",
      "metadata": {
        "id": "sAT3M_LNrvJH"
      },
      "source": [
        "- A atrubuição cria e inicializa as variáveis\n",
        "- Cada tipo de variável admite um conjunto de operações, que podem preservar ou modificar o tipo da variável\n",
        "- Por exemplo, operações aritméticas do tipo ``+ - * /`` podem ser aplicadas em variáveis tipo float (representação de números reais). Quando aplicadas à variáveis do tipo número inteiro (int), as operações ``+ - *`` resultam em números números inteiros, porém, a operação ``/`` produz um tipo número real (float)"
      ]
    },
    {
      "cell_type": "code",
      "execution_count": null,
      "metadata": {
        "id": "xhB6IXndrvJH",
        "outputId": "ef4f4cf1-fd79-44f8-d59c-5b825daeb401"
      },
      "outputs": [
        {
          "name": "stdout",
          "output_type": "stream",
          "text": [
            "x =  37 <class 'int'>\n",
            "y =  Hello World <class 'str'>\n",
            "z =  5.45 <class 'float'>\n",
            "w =  18.5 <class 'float'>\n"
          ]
        }
      ],
      "source": [
        "x = 36\n",
        "y = \"Hello\"\n",
        "z = 3.45\n",
        "\n",
        "x = x + 1        # preserva o tipo int\n",
        "y = y + \" World\" # Concatenação de strings\n",
        "z = 2 + z        # preserva o tipo float\n",
        "w = x / 2        # embora x seja inteiro, a operação de divisão resulta em um float\n",
        "\n",
        "# Imprimindo os resultados\n",
        "print('x = ',x,type(x))\n",
        "print('y = ',y,type(y))\n",
        "print('z = ',z,type(z))\n",
        "print('w = ',w,type(z))"
      ]
    },
    {
      "cell_type": "markdown",
      "metadata": {
        "id": "in6Ts137rvJH"
      },
      "source": [
        "- Variáveis tipo strings (str) suportam os operadores aritméticos ``+`` (concatenação) e ``*`` (replicação)"
      ]
    },
    {
      "cell_type": "code",
      "execution_count": null,
      "metadata": {
        "id": "fYWnHRgmrvJH",
        "outputId": "bbb268e9-3ed6-4a47-c401-16d4ec26408b"
      },
      "outputs": [
        {
          "name": "stdout",
          "output_type": "stream",
          "text": [
            "Concatenacao y + World:  Hello World \n",
            "2*w replica w duas veze:s  Hello World Hello World \n"
          ]
        }
      ],
      "source": [
        "# Exemplo da \"aritmética\" com strings\n",
        "y = \"Hello\"\n",
        "y = y + \" World \"\n",
        "print(\"Concatenacao y + World: \",y)\n",
        "w = 2*y   # A operação de replicação \"*\" asume um número inteiro e uma string como argumentos\n",
        "print(\"2*w replica w duas vezes: \",w)"
      ]
    },
    {
      "cell_type": "markdown",
      "metadata": {
        "id": "t-SGODrMrvJH"
      },
      "source": [
        "__Importante:__\n",
        "- Atribuição cria referências, não cópias\n",
        "- Uma variável é na verdade uma instância de um objeto em Python alocado na memória\n",
        "- Se você tentar acessar uma variável antes que ela tenha sido criada, ocorre um erro\n",
        "- É possível atribuir valores a multiplas variáveis ao mesmo tempo, como por exemplo:\n",
        "```python\n",
        "x, y = 2, 3\n",
        "```"
      ]
    },
    {
      "cell_type": "markdown",
      "metadata": {
        "id": "nkqM7SZ0rvJH"
      },
      "source": [
        "### Nomes de variáveis\n",
        "- Nomes são sensíveis a maiúsculas e minúsculas, isto é, `a=1` e `A=1` são variáveis diferentes com o mesmo valor\n",
        "- Nomes de variáveis não podem começar com números. Por exemplo, se tentarmos criar uma variável chamada `2a`, a atribuição\n",
        "```\n",
        "2a = 3\n",
        "```\n",
        "resultará em uma mensagem de erro\n",
        "- Nomes podem conter letras, números e underline\n",
        "```\n",
        "\tbob   Bob   _bob   _2_bob_   bob_2    Bob\n",
        "```\n",
        "- Existem algumas palavras reservadas que não podem ser utilizadas como nome de variáveis, como por exemplo:\n",
        "\n",
        "<span style=\"color:blue\">and, assert, break, class, continue, def, del, elif, else, except, exec, finally, for, from, global, if, import, in, is, lambda, not, or, pass, print, raise, return, try, while</span>"
      ]
    },
    {
      "cell_type": "markdown",
      "metadata": {
        "id": "eveW1jaYrvJH"
      },
      "source": [
        "# Tipos de dados"
      ]
    },
    {
      "cell_type": "markdown",
      "metadata": {
        "id": "hkIUQ3qsrvJI"
      },
      "source": [
        "## Tipos básicos de dados\n",
        "\n",
        "#### Inteiro - *int*\n",
        "- Ex: 42, int(4/3)\n",
        "\n",
        "#### Ponto flutuante - *float*\n",
        "- Ex: 3.14, 3.14e-10, .0001, 4.\n",
        "\n",
        "#### Booleanos - *bool*\n",
        "- Ex: True, False\n",
        "\n",
        "#### Números complexos\n",
        "- Ex: 3j, 4+5j\n",
        "\n",
        "<hr>\n",
        "\n",
        "__OBS:__ Python fornece funções internas para converter um tipo de variável em outro tipo"
      ]
    },
    {
      "cell_type": "code",
      "execution_count": null,
      "metadata": {
        "id": "9N4S-Cc7rvJI",
        "outputId": "7b9a87ae-2494-45e2-ed4c-1bd6cff91d5d"
      },
      "outputs": [
        {
          "name": "stdout",
          "output_type": "stream",
          "text": [
            "x = 1.76 | tipo: <class 'float'>\n",
            "y = 1 | tipo: <class 'int'>\n",
            "z = True | tipo: <class 'bool'>\n"
          ]
        }
      ],
      "source": [
        "x = 1.76\n",
        "y = int(x) # Convertendo um float (real) para int (inteiro)\n",
        "z = y == 1 # O resultado da comparação y == 1 (que pode ser True ou False) é armazenado em z\n",
        "\n",
        "print(\"x =\", x, \"| tipo:\", type(x))\n",
        "print(\"y =\", y, \"| tipo:\", type(y))\n",
        "print(\"z =\", z, \"| tipo:\", type(z))"
      ]
    },
    {
      "cell_type": "markdown",
      "metadata": {
        "id": "4Zg833mzrvJI"
      },
      "source": [
        "Uma atribuição como\n",
        "```python\n",
        "x = 3.4\n",
        "```\n",
        "é uma maneira de dar um nome a um objeto (o que é chamado binding).\n",
        "- Variáveis em Python não tem um tipo intrínseco, objetos tem tipo\n",
        "- Objetos tem identidade (endereço na memória), um tipo e um valor\n",
        "- O Python determinada o tipo da variável automaticamente baseado no objeto que ela faz referência\n",
        "- A identidade de um objeto e seu tipo não mudam\n",
        "- O valor de um objeto pode mudar"
      ]
    },
    {
      "cell_type": "markdown",
      "metadata": {
        "id": "fT7uwzsMrvJI"
      },
      "source": [
        "## Sequência\n",
        "\n",
        "Existem basicamente três tipos nativos de sequência em Python\n",
        "\n",
        "#### Tupla - *tuple*\n",
        "- Sequência ordenada de elementos\n",
        "- Elementos podem ser de tipos distintos, incluindo outra sequência\n",
        "- Elementos **não** podem ser modificados\n",
        "\n",
        "#### Lista - *list*\n",
        "- Sequência ordenada de elementos de qualquer tipo, incluindo outra sequência\n",
        "- Elementos podem ser modificados, adicionados, removidos, etc.\n",
        "\n",
        "#### String - *int*\n",
        "- Conceitualmente similares a tuplas\n",
        "- Elementos são restritos a caracteres apenas\n",
        "\n",
        "Os elementos de uma tupla, lista ou string podem ser acessados utilizando colchetes [ ] e o índice do elemento.<br>\n",
        "O índice dos elementos vaira de $0$ até $n-1$, onde $n$ é o número de elementos na sequência.\n",
        "\n",
        "<hr>\n",
        "\n",
        "__OBS:__ Tuplas e strings são imutáveis (seus valores são fixos), Listas são mutáveis (é possível alterar seus valores)"
      ]
    },
    {
      "cell_type": "code",
      "execution_count": null,
      "metadata": {
        "id": "6efj3vk1rvJI",
        "outputId": "8d778b0b-3276-4710-d85a-b82e111115bc"
      },
      "outputs": [
        {
          "name": "stdout",
          "output_type": "stream",
          "text": [
            "23\n",
            "abc\n",
            "4.56\n",
            "(2, 3)\n"
          ]
        }
      ],
      "source": [
        "tp = (23, 'abc', 4.56, (2,3))  # Isso é uma tupla, deve ser\n",
        "                              # definida usando parenteses ()\n",
        "print(tp[0])\n",
        "print(tp[1])\n",
        "print(tp[2])\n",
        "print(tp[3])"
      ]
    },
    {
      "cell_type": "code",
      "execution_count": null,
      "metadata": {
        "scrolled": true,
        "id": "qUE21J8HrvJI",
        "outputId": "f1619759-81df-4bfb-a76e-2a1990561342"
      },
      "outputs": [
        {
          "ename": "TypeError",
          "evalue": "'tuple' object does not support item assignment",
          "output_type": "error",
          "traceback": [
            "\u001b[0;31m---------------------------------------------------------------------------\u001b[0m",
            "\u001b[0;31mTypeError\u001b[0m                                 Traceback (most recent call last)",
            "\u001b[0;32m<ipython-input-5-be27fcdbc1a9>\u001b[0m in \u001b[0;36m<module>\u001b[0;34m\u001b[0m\n\u001b[1;32m      1\u001b[0m \u001b[0;31m# Como tuplas são imutáveis, não se pode mudar o valor dos elementos (mensagem de erro é gerada)\u001b[0m\u001b[0;34m\u001b[0m\u001b[0;34m\u001b[0m\u001b[0;34m\u001b[0m\u001b[0m\n\u001b[0;32m----> 2\u001b[0;31m \u001b[0mtp\u001b[0m\u001b[0;34m[\u001b[0m\u001b[0;36m2\u001b[0m\u001b[0;34m]\u001b[0m\u001b[0;34m=\u001b[0m\u001b[0;36m1\u001b[0m\u001b[0;34m\u001b[0m\u001b[0;34m\u001b[0m\u001b[0m\n\u001b[0m",
            "\u001b[0;31mTypeError\u001b[0m: 'tuple' object does not support item assignment"
          ]
        }
      ],
      "source": [
        "# Como tuplas são imutáveis, não se pode mudar o valor dos elementos (mensagem de erro é gerada)\n",
        "tp[2]=1"
      ]
    },
    {
      "cell_type": "code",
      "execution_count": null,
      "metadata": {
        "scrolled": true,
        "id": "m63WyBDorvJI",
        "outputId": "e23eb214-7420-4fe6-e439-f74bd3cbe95e"
      },
      "outputs": [
        {
          "name": "stdout",
          "output_type": "stream",
          "text": [
            "['abc', 34, 4.34, 23, 9, 98]\n",
            "abc\n",
            "34\n",
            "4.34\n",
            "23\n"
          ]
        }
      ],
      "source": [
        "ls = [\"abc\", 34, 4.34, 23, 9, 98]   # Listas são definidas utilizando colchetes [ ]\n",
        "\n",
        "print(ls)\n",
        "print(ls[0])\n",
        "print(ls[1])\n",
        "print(ls[2])\n",
        "print(ls[3])"
      ]
    },
    {
      "cell_type": "code",
      "execution_count": null,
      "metadata": {
        "scrolled": true,
        "id": "3shHn1qmrvJI",
        "outputId": "3764e985-d19b-4bbd-eda0-f50b430eeaad"
      },
      "outputs": [
        {
          "name": "stdout",
          "output_type": "stream",
          "text": [
            "[]\n",
            "['novo elemento na primeira posicao', 'primeiro elemento da lista', 'novo elemento no final']\n",
            "--- Removendo elememtos inseridos\n",
            "['primeiro elemento da lista']\n"
          ]
        }
      ],
      "source": [
        "# Listas são mutáveis, itens podem ser alterados, inseridos ou removidos\n",
        "lsn = []  # cria um lista chamada lsn que é vazia\n",
        "print(lsn)\n",
        "\n",
        "lsn.append('primeiro elemento da lista')\n",
        "lsn.append('novo elemento no final')\n",
        "lsn.insert(0,'novo elemento na primeira posicao')\n",
        "print(lsn)\n",
        "\n",
        "print(3*'-','Removendo elememtos inseridos')\n",
        "del lsn[0]  # remove elemento da primeira posição\n",
        "del lsn[-1] # remove último elemento da lista\n",
        "           # (índices negativos indicam percorrer a lista de forma reversa)\n",
        "print(lsn)"
      ]
    },
    {
      "cell_type": "code",
      "execution_count": null,
      "metadata": {
        "scrolled": true,
        "id": "tysFqC_mrvJI",
        "outputId": "e490491e-566f-43a2-816a-d6bf7e615071"
      },
      "outputs": [
        {
          "name": "stdout",
          "output_type": "stream",
          "text": [
            "I\n",
            "s\n",
            "s\n",
            "o\n"
          ]
        }
      ],
      "source": [
        "st = \"Isso é uma string\"  # Strings são definidas utilizando aspas simples '' ou duplas \"\"\n",
        "print(st[0])\n",
        "print(st[1])\n",
        "print(st[2])\n",
        "print(st[3])"
      ]
    },
    {
      "cell_type": "code",
      "execution_count": null,
      "metadata": {
        "scrolled": true,
        "id": "9256spYprvJJ",
        "outputId": "e5876bf5-bfe3-4c1a-da7c-468b27e51ec0"
      },
      "outputs": [
        {
          "name": "stdout",
          "output_type": "stream",
          "text": [
            "['abc', 'Eu mudei', 4.34, 23, 9, 98]\n",
            "98\n",
            "9\n",
            "23\n"
          ]
        }
      ],
      "source": [
        "# O indice dos elementos pode ser positivo ou negativo\n",
        "# Indices negativos revertem a ordem em que se percorre a sequencia\n",
        "print(ls)\n",
        "print(ls[-1])\n",
        "print(ls[-2])\n",
        "print(ls[-3])"
      ]
    },
    {
      "cell_type": "markdown",
      "metadata": {
        "id": "y8rqYzfyrvJJ"
      },
      "source": [
        "O número de elementos de uma sequência pode ser consultado utilizando a função **len()**"
      ]
    },
    {
      "cell_type": "code",
      "execution_count": null,
      "metadata": {
        "scrolled": true,
        "id": "8d9vzn_4rvJJ",
        "outputId": "79ded7df-7e76-4151-f10e-4089b726db49"
      },
      "outputs": [
        {
          "name": "stdout",
          "output_type": "stream",
          "text": [
            "(23, 'abc', 4.56, (2, 3))\n",
            "4\n",
            "['abc', 'Eu mudei', 4.34, 23, 9, 98]\n",
            "6\n",
            "Isso é uma string\n",
            "17\n"
          ]
        }
      ],
      "source": [
        "print(tp)\n",
        "print(len(tp))\n",
        "print(ls)\n",
        "print(len(ls))\n",
        "print(st)\n",
        "print(len(st))"
      ]
    },
    {
      "cell_type": "markdown",
      "metadata": {
        "id": "1vcSFmumrvJJ"
      },
      "source": [
        "### *Slicing*  (fatiamento)\n",
        "Slicing, ou fatiamento, permite acessar um subconjunto dos elementos da sequência utilizando a sintaxe:\n",
        "```python\n",
        "[i:j]\n",
        "```\n",
        "Os elementos com índices entre i e j-1 são retornados.\n",
        "\n",
        "i e j pode não ser especificados. Se i não é especificado, a recuperação inicia com o primeiro elemento da sequência e vai até j-1. Se j não é especificado, a recuperação inicia em no elemento com índice i e vai até o último elemento da sequência."
      ]
    },
    {
      "cell_type": "code",
      "execution_count": null,
      "metadata": {
        "id": "Jns7mmyDrvJJ",
        "outputId": "d1d351e3-4525-4f49-db21-112b7d1c2519"
      },
      "outputs": [
        {
          "name": "stdout",
          "output_type": "stream",
          "text": [
            "['abc', 'Eu mudei', 4.34, 23, 9, 98]\n",
            "['abc', 'Eu mudei']\n",
            "[4.34, 23, 9, 98]\n",
            "['Eu mudei', 4.34, 23, 9]\n",
            "['abc', 'Eu mudei', 4.34]\n",
            "['abc', 'Eu mudei', 4.34, 23, 9]\n"
          ]
        }
      ],
      "source": [
        "print(ls)\n",
        "print(ls[0:2])  # recupera elementos ls[0],ls[1] (note que o elemento ls[2] não é recuperado)\n",
        "print(ls[2:])   # recupera elementos a partir de ls[2] em diante\n",
        "print(ls[1:5])  # recupera elementos ls[1],ls[2],ls[3],ls[4]\n",
        "print(ls[:3])   # recupera elementos até ls[2]\n",
        "print(ls[:-1])  # recupera todos os elementos menos o último"
      ]
    },
    {
      "cell_type": "markdown",
      "metadata": {
        "id": "a2Nt97lorvJJ"
      },
      "source": [
        "## Dicionários\n",
        "Dicionários guardam um mapeamento entre um conjunto de chaves e um conjunto de valores\n",
        "- Chaves podem ser de qualquer tipo imutável\n",
        "- Valores podem ser de qualquer tipo\n",
        "\n",
        "Um mesmo dicionário pode guardar valores de tipos diferentes\n",
        "\n",
        "É possível definir, modificar, visualizar e apagar os pares chave-valor de um dicionário\n",
        "\n",
        "Dicionários são criados utilizando 'chaves' { }, especificando a chave e o valor. A chave é o índice utilizado para acessar o valore correspondente."
      ]
    },
    {
      "cell_type": "markdown",
      "metadata": {
        "id": "RDae_fZrrvJJ"
      },
      "source": [
        "No exemplo abaixo, <font color='blue'>'c1'</font>,<font color='blue'>'c2'</font> e <font color='blue'>'c3'</font> são as chaves e <font color='blue'>3.0</font>, <font color='blue'>27</font> e <font color='blue'>'O valor da chave tres'</font> são os valores correspondentes."
      ]
    },
    {
      "cell_type": "code",
      "execution_count": null,
      "metadata": {
        "scrolled": true,
        "id": "Is9li4JRrvJJ",
        "outputId": "39793565-f3fe-4e0a-ca7f-d826ccc1d7f9"
      },
      "outputs": [
        {
          "name": "stdout",
          "output_type": "stream",
          "text": [
            "{'c1': 3.0, 'c2': 27, 'c3': 'O valor da chave tres'}\n"
          ]
        }
      ],
      "source": [
        "d = {'c1':3.0,\n",
        "     'c2':27,\n",
        "     'c3':'O valor da chave tres'}\n",
        "\n",
        "print(d)"
      ]
    },
    {
      "cell_type": "code",
      "execution_count": null,
      "metadata": {
        "scrolled": true,
        "id": "15X5RvD0rvJJ",
        "outputId": "abdafe95-9d42-4177-90ec-49f1db2fe940"
      },
      "outputs": [
        {
          "name": "stdout",
          "output_type": "stream",
          "text": [
            "27\n",
            "O valor da chave tres\n"
          ]
        }
      ],
      "source": [
        "print(d['c2']) # recuperando o valor associado a chave 'c2'\n",
        "print(d['c3']) # recuperando o valor associado a chave 'c3'"
      ]
    },
    {
      "cell_type": "markdown",
      "metadata": {
        "id": "1nWGTCLErvJJ"
      },
      "source": [
        "Novos pares chave-valore podem ser adicionados fazendo uma atribuição do valor ao dicionário utilizando a chave como \"índice\"\n",
        "\n",
        "Para remover um par chave-valore utiliza-se o comando **del**"
      ]
    },
    {
      "cell_type": "code",
      "execution_count": null,
      "metadata": {
        "id": "aLrVQnghrvJK",
        "outputId": "a528d9f4-66ab-440e-f1ab-9d5af81ba2f3"
      },
      "outputs": [
        {
          "name": "stdout",
          "output_type": "stream",
          "text": [
            "------  Novo elemento\n",
            "{'c1': 3.0, 'c2': 27, 'c3': 'O valor da chave tres', 'nova_chave': 13}\n",
            "------ Removendo elemento k1\n",
            "{'c2': 27, 'c3': 'O valor da chave tres', 'nova_chave': 13}\n"
          ]
        }
      ],
      "source": [
        "# Novos pares chave-valor podem ser adicionados\n",
        "print(3*'--',' Novo elemento')\n",
        "d['nova_chave'] = 13\n",
        "print(d)\n",
        "\n",
        "\n",
        "# Chave-valor pode ser removido\n",
        "print(3*'--','Removendo elemento k1')\n",
        "del d['c1']\n",
        "print(d)"
      ]
    },
    {
      "cell_type": "markdown",
      "metadata": {
        "id": "YcjLfij9rvJK"
      },
      "source": [
        "Existem métodos para obter as informações de um dicionário:\n",
        "    - .keys() : Retorna todas as chaves do dicionário\n",
        "    - .values() : Retorna todos os valores do dicionário\n",
        "    - .items() : Retorna todos os pares chave-valor do dicionário"
      ]
    },
    {
      "cell_type": "code",
      "execution_count": null,
      "metadata": {
        "id": "sXVWmdaYrvJK",
        "outputId": "30c5ee09-a88e-4437-9803-43bd48967720"
      },
      "outputs": [
        {
          "name": "stdout",
          "output_type": "stream",
          "text": [
            "- Todas as chaves do dicionário\n",
            "dict_keys(['chave2', 'chave3', 'nova_chave'])\n",
            "\n",
            " - Todos os valores do dicionário\n",
            "dict_values([27, 'O valor da chave tres', 13])\n",
            "\n",
            " - Todos os pares chave-valor do dicionário\n",
            "dict_items([('chave2', 27), ('chave3', 'O valor da chave tres'), ('nova_chave', 13)])\n",
            "('chave2', 27)\n"
          ]
        }
      ],
      "source": [
        "# Obtendo todas as chaves\n",
        "print('- Todas as chaves do dicionário')\n",
        "print(d.keys())\n",
        "\n",
        "# Obtendo todos os valores\n",
        "print('\\n - Todos os valores do dicionário')\n",
        "print(d.values())\n",
        "\n",
        "# Obtendo todos os pares chave-valor\n",
        "print('\\n - Todos os pares chave-valor do dicionário')\n",
        "print(d.items())\n",
        "\n",
        "x = list(d.items())\n",
        "print(x[0])"
      ]
    },
    {
      "cell_type": "markdown",
      "metadata": {
        "id": "_gyr97tlrvJK"
      },
      "source": [
        "# Estruturas de controle"
      ]
    },
    {
      "cell_type": "markdown",
      "metadata": {
        "id": "EIs4DbBQrvJK"
      },
      "source": [
        "Antes é preciso falar sobre um assunto muito importante no Python: indentação\n",
        "\n",
        "#### Indentação\n",
        "\n",
        "Indentação denota blocos de código sob cláusulas como _if_, _for_, _def_, ...\n",
        "```python\n",
        "if z == 3.45 or y == \"Hello\":\n",
        "    x = x + 1\n",
        "    y = y + \" World\"\n",
        "```\n",
        "\n",
        "Identação é obrigatória e deve ser utilizada com cuidado, já que, diferente de linguagem como Java e C++, Python utilizada apenas indentação para delimitar blocos.\n",
        "\n",
        "Linhas de código no mesmo nível de indentação formam um bloco"
      ]
    },
    {
      "cell_type": "markdown",
      "metadata": {
        "id": "H_ZUCEMFrvJK"
      },
      "source": [
        "## Comando *if*\n",
        "*__if__* é o principal comando para condicionar o fluxo de execução do programa.\n",
        "\n",
        "```python\n",
        "if condicao:\n",
        "    comandos\n",
        "```\n",
        "\n",
        "Sempre que a condição for verdadeira (__True__) o bloco de código identado abaixo é executado.\n",
        "\n",
        "Também é possível utilizar os comandos __*else*__ (senão) e __*elif*__ (senão se) para controlar o fluxo do programa"
      ]
    },
    {
      "cell_type": "code",
      "execution_count": null,
      "metadata": {
        "id": "iCYz3fK-rvJK",
        "outputId": "bba8eb88-4e9e-4353-d5b5-859ea54b4c05"
      },
      "outputs": [
        {
          "name": "stdout",
          "output_type": "stream",
          "text": [
            "X não vale nem 3 nem 2\n",
            "Este print está fora do 'if'\n"
          ]
        }
      ],
      "source": [
        "x=0   # mude o valor de x para 3 ou 2 e veja o que acontece\n",
        "\n",
        "if x == 3:\n",
        "    print(\"X vale 3\")\n",
        "elif x == 2:\n",
        "    print(\"X vale 2\")\n",
        "else:\n",
        "    print(\"X não vale nem 3 nem 2\")\n",
        "\n",
        "print(\"Este print está fora do 'if'\")"
      ]
    },
    {
      "cell_type": "markdown",
      "metadata": {
        "id": "ComPqhxIrvJK"
      },
      "source": [
        "Python suporta comandos _if_ ternário"
      ]
    },
    {
      "cell_type": "code",
      "execution_count": null,
      "metadata": {
        "id": "2psupv2nrvJL",
        "outputId": "9b4f0d98-10ed-4dde-cd47-d4c9e5694be8"
      },
      "outputs": [
        {
          "name": "stdout",
          "output_type": "stream",
          "text": [
            "other thing\n",
            "other thing\n"
          ]
        }
      ],
      "source": [
        "x = 2\n",
        "\n",
        "# O seguinte trecho de código\n",
        "if x == 3:\n",
        "    y = 'three'\n",
        "else:\n",
        "    y = 'other thing'\n",
        "\n",
        "print(y)\n",
        "\n",
        "# É equivalente a\n",
        "\n",
        "y = 'three' if x == 3 else 'other thing' # isto é um 'if' ternário\n",
        "print(y)\n",
        "\n",
        "# mude o valor de x para 3 e veja o resultado"
      ]
    },
    {
      "cell_type": "markdown",
      "metadata": {
        "id": "kyssVKRNrvJL"
      },
      "source": [
        "## Comando *for*\n",
        "Um laço _for_ é um iterador genério em Python, com a seguinte estrutura:\n",
        "```python\n",
        "for var in sequence:\n",
        "\tstatements\n",
        "```\n",
        "O _for_ pode iterar sobre qualquer sequência, como strings, listas e tuplas.\n",
        "- Os elementos no objeto ``sequence`` são atribuidos a variável ``var`` um por vez\n",
        "\n",
        "O bloco de código `statements` deve estar identado"
      ]
    },
    {
      "cell_type": "code",
      "execution_count": null,
      "metadata": {
        "id": "y6OdYfMYrvJL",
        "outputId": "be90a060-86fc-4d31-c8dc-ffed3b9fb11d"
      },
      "outputs": [
        {
          "name": "stdout",
          "output_type": "stream",
          "text": [
            "numero de elementos na lista:  20\n",
            "[0, 1, 2, 3, 4, 5, 6, 7, 8, 9, 10, 11, 12, 13, 14, 15, 16, 17, 18, 19]\n",
            "1\n",
            "3\n",
            "4\n",
            "5\n",
            "6\n",
            "7\n",
            "8\n",
            "9\n"
          ]
        }
      ],
      "source": [
        "# construindo uma lista com 100 elementos inteiros\n",
        "# o método `range(20)` gera números inteiros de 0 a 19\n",
        "minha_lista1=[]\n",
        "for i in range(20):   # cada número gerado pelo método `range` é atribuido a variável `i`\n",
        "    minha_lista1.append(i)  # os números são adicionados a lista `minha_lista1`\n",
        "\n",
        "print('numero de elementos na lista: ',len(minha_lista1))\n",
        "print(minha_lista1)\n",
        "\n",
        "# imprimindo os elementos da lista a partir do segundo elemento,\n",
        "# pulando o elemento 2, e interrompendo o processo no elemento 10\n",
        "for val in minha_lista1[1:]:\n",
        "    if val == 10:\n",
        "        break    # Interrompe o laço\n",
        "    elif val == 2:\n",
        "        continue  # Pula para a próxima iteração do laço sem executar o restante do código no bloco\n",
        "    print(val)"
      ]
    },
    {
      "cell_type": "markdown",
      "metadata": {
        "id": "PNHVQZYNrvJL"
      },
      "source": [
        "- Se os elementos em *sequence* também são uma sequência *var* pode ser declarada para obter esses elementos\n",
        "```python\n",
        "for key,value in dict.items():\n",
        "     print(key, '->', value)\n",
        "```"
      ]
    },
    {
      "cell_type": "code",
      "execution_count": null,
      "metadata": {
        "id": "AiNNagtFrvJL",
        "outputId": "4576f32b-432b-4104-a1d9-0fb1713d44a2"
      },
      "outputs": [
        {
          "name": "stdout",
          "output_type": "stream",
          "text": [
            "1 --> um\n",
            "2 --> dois\n",
            "3 --> tres\n",
            "------ interando com a tupla (chave,valor)\n",
            "1 --> um\n",
            "2 --> dois\n",
            "3 --> tres\n"
          ]
        }
      ],
      "source": [
        "d = {1:'um',2:'dois',3:'tres'}\n",
        "\n",
        "for k,v in d.items():\n",
        "    print(k, '-->', v)\n",
        "\n",
        "# se não especificar os dois elementos, a variável `var` recebe a tupla (chave,valor)\n",
        "print(3*'--', 'interando com a tupla (chave,valor)')\n",
        "for var in d.items():\n",
        "    print(var[0], '-->',var[1])"
      ]
    },
    {
      "cell_type": "markdown",
      "metadata": {
        "id": "qwskJPYLrvJL"
      },
      "source": [
        "## Comando *while*\n",
        "\n",
        "O laço *while* tem a seguinte estrutura:\n",
        "\n",
        "```python\n",
        "while test:\n",
        "\tstatements\n",
        "```\n",
        "\n",
        "O bloco de código `statements` dentro do laço deve estar identado e é executado até que o valor da expressão em `test` seja falsa\n",
        "\n",
        "<hr>\n",
        "\n",
        "__OBS:__ É possivel utilizar o comando *else* após um  while, seu código é executado após o programa sair do laço associado\n",
        "\n",
        "```python\n",
        "while test:\n",
        "\tstatements\n",
        "else:\n",
        "    statements\n",
        "```\n"
      ]
    },
    {
      "cell_type": "code",
      "execution_count": null,
      "metadata": {
        "id": "5Ici-r3_rvJM",
        "outputId": "4f093b39-6343-4d8c-e8fd-24fce15ad0f0"
      },
      "outputs": [
        {
          "name": "stdout",
          "output_type": "stream",
          "text": [
            "1\n",
            "2\n",
            "3\n",
            "4\n",
            "5\n",
            "6\n",
            "7\n",
            "8\n",
            "9\n",
            "10\n",
            "11\n"
          ]
        }
      ],
      "source": [
        "count = 0\n",
        "while count < 10:\n",
        "    count = count + 1\n",
        "    print(count)\n",
        "\n",
        "print(count+1) # ao final do laço *while* a variável `count` vale 11"
      ]
    }
  ],
  "metadata": {
    "kernelspec": {
      "display_name": "Python 3",
      "language": "python",
      "name": "python3"
    },
    "language_info": {
      "codemirror_mode": {
        "name": "ipython",
        "version": 3
      },
      "file_extension": ".py",
      "mimetype": "text/x-python",
      "name": "python",
      "nbconvert_exporter": "python",
      "pygments_lexer": "ipython3",
      "version": "3.7.1"
    },
    "toc": {
      "base_numbering": 1,
      "nav_menu": {},
      "number_sections": true,
      "sideBar": true,
      "skip_h1_title": false,
      "title_cell": "Table of Contents",
      "title_sidebar": "Contents",
      "toc_cell": false,
      "toc_position": {},
      "toc_section_display": true,
      "toc_window_display": false
    },
    "colab": {
      "provenance": [],
      "include_colab_link": true
    }
  },
  "nbformat": 4,
  "nbformat_minor": 0
}