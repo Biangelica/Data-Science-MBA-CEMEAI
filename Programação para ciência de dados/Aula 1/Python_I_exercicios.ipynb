{
  "cells": [
    {
      "cell_type": "markdown",
      "metadata": {
        "id": "view-in-github",
        "colab_type": "text"
      },
      "source": [
        "<a href=\"https://colab.research.google.com/github/Biangelica/Data-Science-MBA-CEMEAI/blob/main/Programa%C3%A7%C3%A3o%20para%20ci%C3%AAncia%20de%20dados/Aula%201/Python_I_exercicios.ipynb\" target=\"_parent\"><img src=\"https://colab.research.google.com/assets/colab-badge.svg\" alt=\"Open In Colab\"/></a>"
      ]
    },
    {
      "cell_type": "markdown",
      "metadata": {
        "id": "WTyfTI9khNJk"
      },
      "source": [
        "# <span style=\"color:blue\"> MBA em Ciência de Dados</span>\n",
        "# <span style=\"color:blue\">Programação para Ciência de Dados</span>\n",
        "\n",
        "## <span style=\"color:blue\">Exercícios Python Parte I</span>\n",
        "**Material Produzido por Luis Gustavo Nonato**<br>\n",
        "**Cemeai - ICMC/USP São Carlos**"
      ]
    },
    {
      "cell_type": "markdown",
      "metadata": {
        "id": "rnUZ-X5mhNJl"
      },
      "source": [
        "#### <span style=\"color:red\">Recomenda-se fortemente que os exercícios sejam feitos sem consultar as respostas antecipadamente.</span>"
      ]
    },
    {
      "cell_type": "markdown",
      "metadata": {
        "id": "xJllYY_chNJl"
      },
      "source": [
        "### Exercício 1)\n",
        "Declare duas variáveis chamadas *preco_dolar* e *preco_celular_em_dolar* com os valores *5.12* e *849*, respectivamente. Realize a conversão do preço do celular para real e imprima o resultado"
      ]
    },
    {
      "cell_type": "code",
      "execution_count": 2,
      "metadata": {
        "colab": {
          "base_uri": "https://localhost:8080/"
        },
        "id": "frALJSjZhNJm",
        "outputId": "e6ccc5ab-afc2-4e7f-da85-c4e1c1e65e9c"
      },
      "outputs": [
        {
          "output_type": "stream",
          "name": "stdout",
          "text": [
            "4346.88\n"
          ]
        }
      ],
      "source": [
        "# escreva o codigo nesta celular\n",
        "\n",
        "preco_dolar = 5.12\n",
        "preco_celular_em_dolar = 849\n",
        "\n",
        "print(preco_celular_em_dolar * preco_dolar)\n"
      ]
    },
    {
      "cell_type": "markdown",
      "metadata": {
        "id": "vmLOy70HhNJm"
      },
      "source": [
        "### Exercício 2)\n",
        "Considere o conjunto de valores armazenados na lista `valores` descrita abaixo. Utilizando um laço \"_for_\" percorra a lista e calcule:\n",
        "- A média dos valores\n",
        "- O maior valor\n",
        "- O menor valor\n",
        "\n",
        "Armazene os resultados nas variáveis *media*, *maximo* e *minimo*. Imprima os valores obtidos."
      ]
    },
    {
      "cell_type": "code",
      "execution_count": 3,
      "metadata": {
        "colab": {
          "base_uri": "https://localhost:8080/"
        },
        "id": "EsFHDgZihNJm",
        "outputId": "a6677356-e7a9-4b8c-d695-96247504d160"
      },
      "outputs": [
        {
          "output_type": "stream",
          "name": "stdout",
          "text": [
            "Media =  1.9900000000000002\n",
            "Maximo =  0.99\n",
            "Minimo =  -0.97\n"
          ]
        }
      ],
      "source": [
        "valores = [-0.85,-0.64,0.93,0.73,0.34,0.90,0.39,\n",
        "           0.04,0.32,0.99,-0.71,-0.97,0.04,0.30,0.47,0.46,-0.75]\n",
        "media = 0\n",
        "maximo = 0\n",
        "minimo = 0\n",
        "\n",
        "for i in range((len(valores))):\n",
        "  media = media + valores[i]\n",
        "  if maximo < valores[i]:\n",
        "    maximo = valores[i]\n",
        "  elif minimo > valores[i]:\n",
        "    minimo = valores[i]\n",
        "\n",
        "\n",
        "# escreva o codigo aqui\n",
        "\n",
        "print('Media = ',media)\n",
        "print('Maximo = ',maximo)\n",
        "print('Minimo = ',minimo)"
      ]
    },
    {
      "cell_type": "markdown",
      "metadata": {
        "id": "d3PciJuYhNJm"
      },
      "source": [
        "### Exercício 3)\n",
        "Dada a lista `meus_numeros` abaixo, crie uma nova lista chamada `meus_numeros3` contendo apenas elementos de `meus_numeros` que são multiplos de 3.\n",
        "\n",
        "__Dica:__ Utilize o operador binário <font color='blue'>'%'</font> que retorna o resto da divisão de um número por outro. Por exemplo:\n",
        "```python\n",
        "print(22%6)\n",
        "```\n",
        "resulta no valor 4"
      ]
    },
    {
      "cell_type": "code",
      "execution_count": 5,
      "metadata": {
        "colab": {
          "base_uri": "https://localhost:8080/"
        },
        "id": "NbLrV9MihNJm",
        "outputId": "4609b149-e3bb-4d55-ede5-292611a7e949"
      },
      "outputs": [
        {
          "output_type": "stream",
          "name": "stdout",
          "text": [
            "[342, 12, 45, 123, 567]\n"
          ]
        }
      ],
      "source": [
        "meus_numeros = [1, 56, 342, 12, 781, 23, 43, 45, 123, 567]\n",
        "meus_numeros3 = []\n",
        "\n",
        "\n",
        "# escreva o codigo aqui\n",
        "for i in range(len(meus_numeros)):\n",
        "  if meus_numeros[i] % 3 == 0:\n",
        "    meus_numeros3.append(meus_numeros[i])\n",
        "\n",
        "print(meus_numeros3)"
      ]
    },
    {
      "cell_type": "markdown",
      "metadata": {
        "id": "tJ1vW5YHhNJm"
      },
      "source": [
        "### Exercício 4)\n",
        "Considere a lista `minha_lista` declarada abaixo.\n",
        "- Utilizando \"slicing\", imprima o subconjunto de elementos entre o segundo e o quarto elemento (inclusive)\n",
        "- Gere uma nova lista chamada `maiores4` contendo os elementos da lista `minha_lista` que possuam quatro caracteres ou mais.\n",
        "- Gere uma nova lista chamada `j_ou_c` contendo os elementos da lista `minha_lista` que começam com a letra j ou com a letra c."
      ]
    },
    {
      "cell_type": "code",
      "execution_count": 6,
      "metadata": {
        "colab": {
          "base_uri": "https://localhost:8080/"
        },
        "id": "P4wyOx3KhNJm",
        "outputId": "6dc6618e-d95d-4275-fd22-7963e2bb3cd1"
      },
      "outputs": [
        {
          "output_type": "stream",
          "name": "stdout",
          "text": [
            "['java', 'c++', 'javascript']\n",
            "['python', 'java', 'javascript']\n",
            "['java', 'c++', 'javascript', 'c#']\n"
          ]
        }
      ],
      "source": [
        "minha_lista = ['python', 'java', 'c++', 'javascript', 'c#', 'go', 'r']\n",
        "\n",
        "# escreva o codigo aqui\n",
        "\n",
        "subconjunto = minha_lista[1:4]\n",
        "maiores4 = [elemento for elemento in minha_lista if len(elemento) >= 4]\n",
        "j_ou_c = [elemento for elemento in minha_lista if elemento[0] in ['j', 'c']]\n",
        "\n",
        "\n",
        "print(subconjunto)\n",
        "print(maiores4)\n",
        "print(j_ou_c)"
      ]
    },
    {
      "cell_type": "markdown",
      "metadata": {
        "id": "wqLcRzrshNJn"
      },
      "source": [
        "### Exercício 5)\n",
        "Considere a lista `minhas_notas` definida abaixo, onde cada elemento é uma lista que representa notas dadas a um produto. Calcule a média de notas de cada produto, salvando o resultado em uma nova lista chamada `notas_medias`.\n",
        "\n",
        "__Dica:__ Utilize o comando <font color='blue'>'sum'</font> do Python para somar os valores em uma lista. Por exemplo:\n",
        "```python\n",
        "ls = [1,1,1,1,1]\n",
        "print(sum(ls))\n",
        "```\n",
        "resulta no valor 5"
      ]
    },
    {
      "cell_type": "code",
      "execution_count": 7,
      "metadata": {
        "colab": {
          "base_uri": "https://localhost:8080/"
        },
        "id": "hjPPm17PhNJn",
        "outputId": "8952ea1d-4dbc-4224-a3f5-7928f096756f"
      },
      "outputs": [
        {
          "output_type": "stream",
          "name": "stdout",
          "text": [
            "[2.6666666666666665, 5.7749999999999995, 8.16, 8.7, 3.5250000000000004]\n"
          ]
        }
      ],
      "source": [
        "minhas_notas = [[2.3, 4.5, 1.2], # Notas do produto 1\n",
        "                [5.4, 3.6, 7.9, 6.2], # Notas do produto 2\n",
        "                [8.1, 8.9, 6.5, 7.9, 9.4], # ...\n",
        "                [9.8, 7.6],\n",
        "                [3.2, 4.5, 1.6, 4.8]]\n",
        "\n",
        "\n",
        "# escreva o codigo aqui\n",
        "\n",
        "notas_medias = []\n",
        "\n",
        "for notas_produto in minhas_notas:\n",
        "    media_produto = sum(notas_produto) / len(notas_produto) if len(notas_produto) > 0 else 0\n",
        "    notas_medias.append(media_produto)\n",
        "\n",
        "print(notas_medias)"
      ]
    },
    {
      "cell_type": "markdown",
      "metadata": {
        "id": "UVRClxp_hNJn"
      },
      "source": [
        "### Exercício 6)\n",
        "Considerando a lista `nomes` a abaixo. Crie uma nova lista chamada `nomes_o` com os elementos da lista `nomes` que possuam a letra  'o' como parte do nome. Para isso, utilize o comando <font color='blue'>'in'</font> disponível no Python para verificar se uma substring esta contida em outra.\n",
        "\n",
        "Por exemplo, o código abaixo:\n",
        "```python\n",
        "print('us' in 'Gustavo')\n",
        "```\n",
        "imprime como resultado:\n",
        "```python\n",
        "True\n",
        "```"
      ]
    },
    {
      "cell_type": "code",
      "execution_count": 10,
      "metadata": {
        "colab": {
          "base_uri": "https://localhost:8080/"
        },
        "id": "p65kN9f2hNJn",
        "outputId": "b5cce500-3cc7-4f23-c7c1-ef2d9fffb5eb"
      },
      "outputs": [
        {
          "output_type": "stream",
          "name": "stdout",
          "text": [
            "['Gustavo', 'Hugo', 'Ricardo']\n"
          ]
        }
      ],
      "source": [
        "nomes = ['Matheus', 'Gabriel', 'Gustavo', 'Hugo', 'Ricardo', 'Rui', 'Guilherme', 'Luiz']\n",
        "\n",
        "# escreva o codigo aqui\n",
        "\n",
        "nomes_o  = [nome for nome in nomes if 'o' in nome.lower()]\n",
        "print(nomes_o)"
      ]
    },
    {
      "cell_type": "markdown",
      "metadata": {
        "id": "U-DUujIFhNJn"
      },
      "source": [
        "### Exercício 7)\n",
        "Ainda utilizando a lista `nomes` definida acima, crie uma nova lista chamada `concatenados` com os elementos da lista `nomes`, porém, elementos começando com a mesma letra devem ser concatenados em um único elemento, ou seja, a lista resultante deve ser:\n",
        "```python\n",
        "['Matheus', 'GabrielGustavoGuilherme', 'Hugo', 'RicardoRui', 'Luiz']\n",
        "```\n",
        "__Dica:__ Crie um dicionario onde a chave corresponde a uma letra e o valor a uma string que pode ser concatenada caso o valor não seja vazio. Você pode utilizar o comando <font color='blue'>'in'</font> para verificar se uma chave existe em um dicionário. Por exemplo, o código:\n",
        "```python\n",
        "dc = {'c1': 0, 'c2':1, 'c3':2}\n",
        "print('c2' in dc)\n",
        "```\n",
        "imprime como resultado:\n",
        "```python\n",
        "True\n",
        "```"
      ]
    },
    {
      "cell_type": "code",
      "execution_count": 11,
      "metadata": {
        "colab": {
          "base_uri": "https://localhost:8080/"
        },
        "id": "49pK60LvhNJn",
        "outputId": "246ea2ff-45bf-4e9e-a17b-780e226722e8"
      },
      "outputs": [
        {
          "output_type": "stream",
          "name": "stdout",
          "text": [
            "['Matheus', 'Gabriel Gustavo Guilherme', 'Hugo', 'Ricardo Rui', 'Luiz']\n"
          ]
        }
      ],
      "source": [
        "nomes = ['Matheus', 'Gabriel', 'Gustavo', 'Hugo', 'Ricardo', 'Rui', 'Guilherme', 'Luiz']\n",
        "\n",
        "# escreva o codigo aqui\n",
        "\n",
        "concatenados = []\n",
        "letras_utilizadas = set()\n",
        "\n",
        "for nome in nomes:\n",
        "    primeira_letra = nome[0].lower()\n",
        "\n",
        "    if primeira_letra not in letras_utilizadas:\n",
        "        elementos_com_mesma_letra = [n for n in nomes if n[0].lower() == primeira_letra]\n",
        "        concatenados.append(\" \".join(elementos_com_mesma_letra))\n",
        "        letras_utilizadas.add(primeira_letra)\n",
        "\n",
        "print(concatenados)"
      ]
    },
    {
      "cell_type": "markdown",
      "metadata": {
        "id": "ltX3l0uYhNJn"
      },
      "source": [
        "### Exercício 8)\n",
        "Dado o dicionário abaixo, o qual contém valores de imóveis pertencentes a uma pessoa, escreva um código para encontrar qual é o imóvel de maior valor, salvando a chave correspondente em uma variável tipo string."
      ]
    },
    {
      "cell_type": "code",
      "execution_count": 14,
      "metadata": {
        "colab": {
          "base_uri": "https://localhost:8080/"
        },
        "id": "SFC4nxLRhNJo",
        "outputId": "f75327fd-feb4-4911-9204-013ce7d93476"
      },
      "outputs": [
        {
          "output_type": "stream",
          "name": "stdout",
          "text": [
            "Imovel de maior valor:  Sitio com lago\n"
          ]
        }
      ],
      "source": [
        "preco_imoveis = {'Apartamento centro': 1250000,\n",
        "               'Apartamento suburbio': 500000,\n",
        "               'Casa cinco quartos': 750000,\n",
        "               'Casa com garagem': 300000,\n",
        "               'Casa com piscina': 1200000,\n",
        "               'Sitio pequeno': 3000000,\n",
        "               'Sitio com lago': 5500000}\n",
        "\n",
        "# escreva o codigo aqui\n",
        "\n",
        "imovel = max(preco_imoveis, key=preco_imoveis.get)\n",
        "\n",
        "print(\"Imovel de maior valor: \", imovel)"
      ]
    },
    {
      "cell_type": "markdown",
      "metadata": {
        "id": "hUhFwjDIhNJo"
      },
      "source": [
        "### Exercício 9)\n",
        "Repita o exercício anterior de modo a encontrar o imóvel de maior valor, porém, **NÃO** utilizando um laço <font color='blue'>'for'</font><br> no código.\n",
        "\n",
        "__Dica:__ Armazene os pares (chave, valor) em listas e utilize uma combinação do comando <font color='blue'>'max'</font> disponível no python com o método <font color='blue'>.index()</font> presente nos objetos tipo <font color='blue'>'list'</font>."
      ]
    },
    {
      "cell_type": "code",
      "execution_count": null,
      "metadata": {
        "id": "4E2Vd2z5hNJo"
      },
      "outputs": [],
      "source": [
        "# escreva o codigo aqui\n",
        "\n",
        "imovel = max(preco_imoveis, key=preco_imoveis.get)\n",
        "\n",
        "print(\"Imovel de maior valor: \", imovel)"
      ]
    },
    {
      "cell_type": "markdown",
      "metadata": {
        "id": "vdF9ixdzhNJo"
      },
      "source": [
        "### Exercício 10)\n",
        "Escreva um código para contar o número de ocorrências de cada letra na string `minha_string` fornecida abaixo e imprima os resultados.\n",
        "\n",
        "__Dica:__ Utilize um dicionário."
      ]
    },
    {
      "cell_type": "code",
      "execution_count": 15,
      "metadata": {
        "colab": {
          "base_uri": "https://localhost:8080/"
        },
        "id": "x5io1X7mhNJo",
        "outputId": "ac27b9c4-2ddb-423a-c3f0-6a634a2ef8f1"
      },
      "outputs": [
        {
          "output_type": "stream",
          "name": "stdout",
          "text": [
            "A letra 's' aparece 2 vezes.\n",
            "A letra 'c' aparece 2 vezes.\n",
            "A letra 'i' aparece 3 vezes.\n",
            "A letra 'e' aparece 2 vezes.\n",
            "A letra 'n' aparece 2 vezes.\n",
            "A letra 't' aparece 1 vezes.\n",
            "A letra 'a' aparece 1 vezes.\n",
            "A letra 'v' aparece 1 vezes.\n"
          ]
        }
      ],
      "source": [
        "minha_string = \"scientia vinces\"\n",
        "\n",
        "# escreva o codigo aqui\n",
        "\n",
        "contagem_letras = {}\n",
        "\n",
        "for letra in minha_string:\n",
        "    if letra != ' ':\n",
        "        contagem_letras[letra] = contagem_letras.get(letra, 0) + 1\n",
        "\n",
        "for letra, contagem in contagem_letras.items():\n",
        "    print(f\"A letra '{letra}' aparece {contagem} vezes.\")"
      ]
    }
  ],
  "metadata": {
    "kernelspec": {
      "display_name": "Python 3",
      "language": "python",
      "name": "python3"
    },
    "language_info": {
      "codemirror_mode": {
        "name": "ipython",
        "version": 3
      },
      "file_extension": ".py",
      "mimetype": "text/x-python",
      "name": "python",
      "nbconvert_exporter": "python",
      "pygments_lexer": "ipython3",
      "version": "3.8.5"
    },
    "toc": {
      "base_numbering": 1,
      "nav_menu": {},
      "number_sections": true,
      "sideBar": true,
      "skip_h1_title": false,
      "title_cell": "Table of Contents",
      "title_sidebar": "Contents",
      "toc_cell": false,
      "toc_position": {},
      "toc_section_display": true,
      "toc_window_display": false
    },
    "colab": {
      "provenance": [],
      "include_colab_link": true
    }
  },
  "nbformat": 4,
  "nbformat_minor": 0
}