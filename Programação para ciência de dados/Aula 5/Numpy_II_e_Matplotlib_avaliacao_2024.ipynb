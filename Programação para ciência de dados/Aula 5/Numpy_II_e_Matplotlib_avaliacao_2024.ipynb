{
  "cells": [
    {
      "cell_type": "markdown",
      "metadata": {
        "id": "view-in-github",
        "colab_type": "text"
      },
      "source": [
        "<a href=\"https://colab.research.google.com/github/Biangelica/Data-Science-MBA-CEMEAI/blob/main/Programa%C3%A7%C3%A3o%20para%20ci%C3%AAncia%20de%20dados/Aula%205/Numpy_II_e_Matplotlib_avaliacao_2024.ipynb\" target=\"_parent\"><img src=\"https://colab.research.google.com/assets/colab-badge.svg\" alt=\"Open In Colab\"/></a>"
      ]
    },
    {
      "cell_type": "markdown",
      "metadata": {
        "id": "-uLD07DZosSm"
      },
      "source": [
        "# <font color=\"blue\"> MBA em Ciência de Dados</font>\n",
        "# <font color=\"blue\">Programação para Ciência de Dados</font>\n",
        "\n",
        "## <font color=\"blue\">Numpy Parte II e Matplotlib - Avaliação</font>\n",
        "**Material Produzido por Luis Gustavo Nonato**<br>\n",
        "**Cemeai - ICMC/USP São Carlos**\n",
        "---"
      ]
    },
    {
      "cell_type": "code",
      "execution_count": 1,
      "metadata": {
        "id": "31MCYArxosSo"
      },
      "outputs": [],
      "source": [
        "import numpy as np\n",
        "import matplotlib.pyplot as plt"
      ]
    },
    {
      "cell_type": "markdown",
      "metadata": {
        "id": "XU7Izxt6osSp"
      },
      "source": [
        "### Exercício 1)\n",
        "Qual dos códigos abaixo utiliza corretamente broadcasting para somar o vetor `v` em cada **linha** da matriz `A`, sendo que `v` e `A` são definidos como:\n",
        "```python\n",
        "A = np.zeros((4,4))\n",
        "v = np.arange(4)\n",
        "```\n",
        "\n",
        "a) A[:]+v[:]<br>\n",
        "b) A + v<br>\n",
        "c) A = A + v.reshape(1,-1)<br>\n",
        "d) Todas as alternativas estão corretas"
      ]
    },
    {
      "cell_type": "code",
      "execution_count": 2,
      "metadata": {
        "colab": {
          "base_uri": "https://localhost:8080/"
        },
        "id": "YGMgfo0WosSp",
        "outputId": "9e93812f-12e7-4474-ad23-a0936c6695de"
      },
      "outputs": [
        {
          "output_type": "stream",
          "name": "stdout",
          "text": [
            "[[0. 1. 2. 3.]\n",
            " [0. 1. 2. 3.]\n",
            " [0. 1. 2. 3.]\n",
            " [0. 1. 2. 3.]]\n",
            "C [[0. 1. 2. 3.]\n",
            " [0. 1. 2. 3.]\n",
            " [0. 1. 2. 3.]\n",
            " [0. 1. 2. 3.]]\n",
            "D [[0. 1. 2. 3.]\n",
            " [0. 1. 2. 3.]\n",
            " [0. 1. 2. 3.]\n",
            " [0. 1. 2. 3.]]\n",
            "E [[0. 1. 2. 3.]\n",
            " [0. 1. 2. 3.]\n",
            " [0. 1. 2. 3.]\n",
            " [0. 1. 2. 3.]]\n"
          ]
        }
      ],
      "source": [
        "A = np.zeros((4,4))\n",
        "v = np.arange(4)\n",
        "\n",
        "C = A[:]+v[:]\n",
        "D = A + v\n",
        "E = A = A + v.reshape(1,-1)\n",
        "print(A)\n",
        "\n",
        "print('C', C)\n",
        "print('D', D)\n",
        "print('E', E)"
      ]
    },
    {
      "cell_type": "markdown",
      "source": [
        "d) Todas as alternativas estão corretas\n",
        "\n",
        "Explicação:\n",
        "\n",
        "A[:]+v[:]: Isso irá somar v a cada linha de A, porque ambos estão sendo fatiados da mesma forma.\n",
        "\n",
        "A + v: Esta é a forma correta e mais direta de usar broadcasting para somar v a cada linha de A.\n",
        "\n",
        "A = A + v.reshape(1,-1): Esta opção também está correta. Aqui, você está garantindo que v tenha a forma correta para broadcasting, convertendo-o em um vetor de linha com o reshape(1,-1)."
      ],
      "metadata": {
        "id": "YSbewruoqKva"
      }
    },
    {
      "cell_type": "markdown",
      "metadata": {
        "id": "NStKjYwMosSp"
      },
      "source": [
        "### Exercício 2)\n",
        "Qual das alternativas explica corretamente como o array `W` está sendo calculado no código abaixo?\n",
        "```python\n",
        "u = np.random.randint(0,30,7).reshape(1,7)\n",
        "v = np.random.randint(0,30,10).reshape(10,1)\n",
        "\n",
        "W = v * u\n",
        "```\n",
        "\n",
        "a) `W` é um array unidimensional com 10 elementos, resultado da multiplicação dos arrays `u` e `v`, onde `u` é complementado com zeros durante o broadcasting.<br>\n",
        "b) `W` é um array unidimensional com 7 elementos, resultado da multiplicação dos arrays `u` e `v`, onde os três útlimos elementos de `v` são descartados no broadcasting.<br>\n",
        "c) `W` é um array bidimensional com 7 linhas e 10 colunas, resultado da multiplicação do array `v` com broadcasting em 7 linhas e o array `u` com broadcasting em 10 linhas.<br>\n",
        "d) `W` é um array bidimensional com 10 linhas e 7 colunas, resultado da multiplicação do array `v` com broadcasting em 7 colunas e do array `u` com broadcasting em 10 linhas.<br>"
      ]
    },
    {
      "cell_type": "code",
      "execution_count": 4,
      "metadata": {
        "colab": {
          "base_uri": "https://localhost:8080/"
        },
        "id": "_GaT6sR3osSp",
        "outputId": "bccdb146-814e-4130-d065-f47b66145e8a"
      },
      "outputs": [
        {
          "output_type": "stream",
          "name": "stdout",
          "text": [
            "[[ 3  1 13 18 22 27 15]]\n",
            "[[ 7]\n",
            " [29]\n",
            " [ 8]\n",
            " [21]\n",
            " [27]\n",
            " [18]\n",
            " [18]\n",
            " [19]\n",
            " [10]\n",
            " [16]]\n",
            "[[ 21   7  91 126 154 189 105]\n",
            " [ 87  29 377 522 638 783 435]\n",
            " [ 24   8 104 144 176 216 120]\n",
            " [ 63  21 273 378 462 567 315]\n",
            " [ 81  27 351 486 594 729 405]\n",
            " [ 54  18 234 324 396 486 270]\n",
            " [ 54  18 234 324 396 486 270]\n",
            " [ 57  19 247 342 418 513 285]\n",
            " [ 30  10 130 180 220 270 150]\n",
            " [ 48  16 208 288 352 432 240]]\n"
          ]
        }
      ],
      "source": [
        "u = np.random.randint(0,30,7).reshape(1,7)\n",
        "v = np.random.randint(0,30,10).reshape(10,1)\n",
        "\n",
        "W = v * u\n",
        "print(u)\n",
        "print(v)\n",
        "print(W)"
      ]
    },
    {
      "cell_type": "markdown",
      "source": [
        "d) W é um array bidimensional com 10 linhas e 7 colunas, resultado da multiplicação do array v com broadcasting em 7 colunas e do array u com broadcasting em 10 linhas."
      ],
      "metadata": {
        "id": "m1CfnGoNqzpR"
      }
    },
    {
      "cell_type": "markdown",
      "metadata": {
        "id": "Y1BQmf5BosSp"
      },
      "source": [
        "### Exercício 3)\n",
        "Considere a matriz abaixo. Utilizando redução por soma, encontre o **índice da linha** que possui a maior soma dos elementos.\n",
        "```python\n",
        "A = np.array([[5, 2, 3, 6, 1, 5, 7, 7, 8, 9], [8, 8, 3, 5, 0, 1, 4, 8, 3, 7],\n",
        "              [8, 0, 0, 4, 2, 0, 2, 6, 0, 3], [5, 0, 0, 4, 4, 3, 5, 8, 0, 0],\n",
        "              [2, 4, 2, 5, 3, 4, 9, 8, 0, 0], [6, 7, 4, 8, 5, 1, 3, 5, 4, 1],\n",
        "              [6, 8, 0, 5, 2, 9, 3, 6, 1, 6], [5, 5, 2, 9, 0, 5, 5, 8, 2, 4],\n",
        "              [8, 8, 1, 8, 4, 1, 8, 9, 7, 6], [5, 6, 0, 9, 0, 4, 9, 0, 2, 0]])\n",
        "```\n",
        "a) linha 6<br>\n",
        "b) linha 0<br>\n",
        "c) linha 8<br>\n",
        "d) linha 9"
      ]
    },
    {
      "cell_type": "code",
      "execution_count": 7,
      "metadata": {
        "colab": {
          "base_uri": "https://localhost:8080/"
        },
        "id": "O_R1NSEposSp",
        "outputId": "9d5fbae5-fcc3-469b-b710-df3d283cce0c"
      },
      "outputs": [
        {
          "output_type": "stream",
          "name": "stdout",
          "text": [
            "Soma de todos os valores:  421\n",
            "Soma dos valores das linnhas:  8\n"
          ]
        }
      ],
      "source": [
        "A = np.array([[5, 2, 3, 6, 1, 5, 7, 7, 8, 9], [8, 8, 3, 5, 0, 1, 4, 8, 3, 7],\n",
        "              [8, 0, 0, 4, 2, 0, 2, 6, 0, 3], [5, 0, 0, 4, 4, 3, 5, 8, 0, 0],\n",
        "              [2, 4, 2, 5, 3, 4, 9, 8, 0, 0], [6, 7, 4, 8, 5, 1, 3, 5, 4, 1],\n",
        "              [6, 8, 0, 5, 2, 9, 3, 6, 1, 6], [5, 5, 2, 9, 0, 5, 5, 8, 2, 4],\n",
        "              [8, 8, 1, 8, 4, 1, 8, 9, 7, 6], [5, 6, 0, 9, 0, 4, 9, 0, 2, 0]])\n",
        "\n",
        "print('Soma de todos os valores: ', np.sum(A))\n",
        "print('Soma dos valores das linnhas: ', np.argmax(np.sum(A,axis=1)))"
      ]
    },
    {
      "cell_type": "markdown",
      "source": [
        "c) linha 8"
      ],
      "metadata": {
        "id": "cQnLAZM3r7Y1"
      }
    },
    {
      "cell_type": "markdown",
      "metadata": {
        "id": "HrCl6KslosSp"
      },
      "source": [
        "### Exercício 4)\n",
        "Considerando a matriz `A` do exercício anterior, qual o valor da **maior média** calculada sobre os valores das colunas?\n",
        "\n",
        "a) 5.8<br>\n",
        "b) 6.5<br>\n",
        "c) 3.5<br>\n",
        "d) 9.1"
      ]
    },
    {
      "cell_type": "code",
      "execution_count": 8,
      "metadata": {
        "colab": {
          "base_uri": "https://localhost:8080/"
        },
        "id": "8ES1IYJGosSp",
        "outputId": "a6a43870-9171-4a7c-d1d2-3e2365402b0e"
      },
      "outputs": [
        {
          "output_type": "stream",
          "name": "stdout",
          "text": [
            "Media por coluna:  6.5\n"
          ]
        }
      ],
      "source": [
        "# Solucao\n",
        "\n",
        "\n",
        "print('Media por coluna: ',np.max(np.mean(A,axis=0)))"
      ]
    },
    {
      "cell_type": "markdown",
      "source": [
        "b) 6.5"
      ],
      "metadata": {
        "id": "_tfUU9K9sdx1"
      }
    },
    {
      "cell_type": "markdown",
      "metadata": {
        "id": "-x94RrHiosSq"
      },
      "source": [
        "### Exercício 5)\n",
        "Suponha que a variável `A` no código abaixo é um array bidimensional com $n$ linhas e $m$ colunas. O que o código está realizando?\n",
        "```python\n",
        "Aargs = np.argsort(A)\n",
        "A[np.arange(A.shape[0]),Aargs[:,-1]] = -1\n",
        "```\n",
        "a) Substituindo o maior valor de cada coluna por -1<br>\n",
        "b) Substituindo o maior valor de cada linha por -1<br>\n",
        "c) Substituindo o menor valor de cada linha por -1<br>\n",
        "d) Substituindo o menor valor de cada coluna por -1"
      ]
    },
    {
      "cell_type": "code",
      "execution_count": 9,
      "metadata": {
        "colab": {
          "base_uri": "https://localhost:8080/"
        },
        "id": "gF0hwdeWosSq",
        "outputId": "b646ae05-c330-449b-ae07-293bdf647841"
      },
      "outputs": [
        {
          "output_type": "stream",
          "name": "stdout",
          "text": [
            "[[21  9 10  8 13 25 25]\n",
            " [20  0 14  5 19 12 16]\n",
            " [21  0 24  7 24 23  1]\n",
            " [ 9 15 26 26  5  4  5]\n",
            " [ 1 19 28 26 11 28 21]]\n",
            "[[3 1 2 4 0 5 6]\n",
            " [1 3 5 2 6 4 0]\n",
            " [1 6 3 0 5 2 4]\n",
            " [5 4 6 0 1 2 3]\n",
            " [0 4 1 6 3 2 5]]\n",
            "[[21  9 10  8 13 25 -1]\n",
            " [-1  0 14  5 19 12 16]\n",
            " [21  0 24  7 -1 23  1]\n",
            " [ 9 15 26 -1  5  4  5]\n",
            " [ 1 19 28 26 11 -1 21]]\n"
          ]
        }
      ],
      "source": [
        "A = np.random.randint(0,30,size=(5,7))\n",
        "\n",
        "Aargs = np.argsort(A)\n",
        "print(A)\n",
        "print(Aargs)\n",
        "\n",
        "A[np.arange(A.shape[0]),Aargs[:,-1]] = -1\n",
        "print(A)"
      ]
    },
    {
      "cell_type": "markdown",
      "source": [
        "b) Substituindo o maior valor de cada linha por -1"
      ],
      "metadata": {
        "id": "W-TvQgxktzRd"
      }
    }
  ],
  "metadata": {
    "kernelspec": {
      "display_name": "Python 3 (ipykernel)",
      "language": "python",
      "name": "python3"
    },
    "language_info": {
      "codemirror_mode": {
        "name": "ipython",
        "version": 3
      },
      "file_extension": ".py",
      "mimetype": "text/x-python",
      "name": "python",
      "nbconvert_exporter": "python",
      "pygments_lexer": "ipython3",
      "version": "3.10.9"
    },
    "colab": {
      "provenance": [],
      "include_colab_link": true
    }
  },
  "nbformat": 4,
  "nbformat_minor": 0
}