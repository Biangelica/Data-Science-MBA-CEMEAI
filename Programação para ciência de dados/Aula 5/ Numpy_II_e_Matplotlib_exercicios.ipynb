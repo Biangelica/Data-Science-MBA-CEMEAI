{
  "cells": [
    {
      "cell_type": "markdown",
      "metadata": {
        "id": "view-in-github",
        "colab_type": "text"
      },
      "source": [
        "<a href=\"https://colab.research.google.com/github/Biangelica/Data-Science-MBA-CEMEAI/blob/main/Programa%C3%A7%C3%A3o%20para%20ci%C3%AAncia%20de%20dados/Aula%205/%20Numpy_II_e_Matplotlib_exercicios.ipynb\" target=\"_parent\"><img src=\"https://colab.research.google.com/assets/colab-badge.svg\" alt=\"Open In Colab\"/></a>"
      ]
    },
    {
      "cell_type": "markdown",
      "metadata": {
        "id": "B0hzZsdJPMIs"
      },
      "source": [
        "# <span style=\"color:blue\"> MBA em Ciência de Dados</span>\n",
        "# <span style=\"color:blue\">Programação para Ciência de Dados</span>\n",
        "\n",
        "## <span style=\"color:blue\">Numpy Parte II e Matplotlib - Exercícios</span>\n",
        "**Material Produzido por Luis Gustavo Nonato**<br>\n",
        "**Cemeai - ICMC/USP São Carlos**\n",
        "---"
      ]
    },
    {
      "cell_type": "markdown",
      "metadata": {
        "id": "9wUjm8KSPMIu"
      },
      "source": [
        "#### <span style=\"color:red\">Recomenda-se fortemente que os exercícios sejam feitos sem consultar as respostas antecipadamente.</span>"
      ]
    },
    {
      "cell_type": "code",
      "execution_count": 3,
      "metadata": {
        "id": "GNRjBifzPMIu"
      },
      "outputs": [],
      "source": [
        "import numpy as np\n",
        "import random"
      ]
    },
    {
      "cell_type": "markdown",
      "metadata": {
        "id": "v0dC2WtMPMIv"
      },
      "source": [
        "### Exercício 1)\n",
        "Crie uma matriz com <font color='blue'>numpy</font> denominada `A` com 6 linhas e 3 colunas  broadcasting o array [1 2 3 4 5 6].\n",
        "\n",
        "__Dica:__ Construa primeiro uma matriz com dimensões 6x3 e depois emprege broadcasting"
      ]
    },
    {
      "cell_type": "code",
      "execution_count": null,
      "metadata": {
        "colab": {
          "base_uri": "https://localhost:8080/"
        },
        "id": "WYENCTamPMIv",
        "outputId": "34cf8388-aea5-4297-c452-0bf05f48f782"
      },
      "outputs": [
        {
          "output_type": "stream",
          "name": "stdout",
          "text": [
            "[[ 0  1  2]\n",
            " [ 3  4  5]\n",
            " [ 6  7  8]\n",
            " [ 9 10 11]\n",
            " [12 13 14]\n",
            " [15 16 17]]\n",
            "-----\n",
            "[[ 1  2  3]\n",
            " [ 2  4  6]\n",
            " [ 3  6  9]\n",
            " [ 4  8 12]\n",
            " [ 5 10 15]\n",
            " [ 6 12 18]]\n"
          ]
        }
      ],
      "source": [
        "A = np.arange(18).reshape(6,3)\n",
        "\n",
        "print(A)\n",
        "\n",
        "s = np.array([1, 2, 3, 4, 5, 6])\n",
        "\n",
        "A[:, 0] = s\n",
        "A[:, 1] = s * 2\n",
        "A[:, 2] = s * 3\n",
        "\n",
        "print('-----')\n",
        "print(A)"
      ]
    },
    {
      "cell_type": "markdown",
      "metadata": {
        "id": "ZhZ-5pATPMIv"
      },
      "source": [
        "### Exercício 2)\n",
        "Construa uma matriz\n",
        "```python\n",
        "[[0 1 2 3 4 5]\n",
        " [1 2 3 4 5 6]\n",
        " [2 3 4 5 6 7]\n",
        " [3 4 5 6 7 8]\n",
        " [4 5 6 7 8 9]]\n",
        "```\n",
        "partir dos arrays [0 1 2 3 4] e [0 1 2 3 4 5] utilizando broadcasting."
      ]
    },
    {
      "cell_type": "code",
      "execution_count": null,
      "metadata": {
        "colab": {
          "base_uri": "https://localhost:8080/"
        },
        "id": "02iNSVbTPMIw",
        "outputId": "e77d6a01-8caf-494e-ec17-16a325435350"
      },
      "outputs": [
        {
          "output_type": "stream",
          "name": "stdout",
          "text": [
            "[[0 1 2 3 4 5]\n",
            " [1 2 3 4 5 6]\n",
            " [2 3 4 5 6 7]\n",
            " [3 4 5 6 7 8]\n",
            " [4 5 6 7 8 9]]\n"
          ]
        }
      ],
      "source": [
        "a =np.array([0,1, 2, 3, 4])\n",
        "b= np.array([0,1, 2, 3, 4, 5])\n",
        "\n",
        "matriz = a[:, np.newaxis] + b\n",
        "\n",
        "\n",
        "print(matriz)"
      ]
    },
    {
      "cell_type": "markdown",
      "metadata": {
        "id": "z_vjaDRgPMIw"
      },
      "source": [
        "### Exercício 3)\n",
        "Construa uma matriz 10x10 com números randômicos gerados no intervalo entre 0 e 1. Some os valores de cada coluna e encontre a coluna com o maior soma de seus elementos."
      ]
    },
    {
      "cell_type": "code",
      "execution_count": null,
      "metadata": {
        "colab": {
          "base_uri": "https://localhost:8080/"
        },
        "id": "7088DiIIPMIw",
        "outputId": "4843d191-ff20-4b18-e8c4-16fe3573237b"
      },
      "outputs": [
        {
          "output_type": "stream",
          "name": "stdout",
          "text": [
            "Soma dos valores das colunas: [5.45788945 5.04799884 5.0475482  5.37792356 4.79036214 4.11273033\n",
            " 6.61615757 4.4904891  5.9024479  5.62331283]\n",
            "Maior soma das colunas:  6.616157566543682\n"
          ]
        }
      ],
      "source": [
        "A = np.random.rand(10, 10)\n",
        "\n",
        "print('Soma dos valores das colunas:', np.sum(A,0))\n",
        "print('Maior soma das colunas: ',np.max(np.sum(A,0)))\n",
        "\n"
      ]
    },
    {
      "cell_type": "markdown",
      "metadata": {
        "id": "gKISD0w_PMIw"
      },
      "source": [
        "### Exercício 4)\n",
        "Considere uma matriz `A` $n\\times n,\\, n\\geq 2$ . Por exemplo, para $n=4$:\n",
        "$$\n",
        "A=\\left(\\begin{array}[cccc]\\\\\n",
        "1 & 3 & 2 & 6 \\\\\n",
        "3 & 5 & 1 & {7} \\\\\n",
        "{0} & 4 & {2} & {6} \\\\\n",
        "6 & 1 & 3 & {1}\n",
        "\\end{array}\\right)\n",
        "$$\n",
        "Crie uma matriz `B`  2$\\times$2 onde a primeira linha corresponde aos valores mínimo e máximo da soma das linhas da matriz `A` e a segunda linha de `B` corresponde aos valores mínimo e máximo da soma das colunas. Considerando a matriz `A` acima, a matriz `B` resultante seria:\n",
        "\n",
        "$$\n",
        "B=\\left(\\begin{array}[cc]\\\\\n",
        "11 & 16\\\\\n",
        "8 & 20\n",
        "\\end{array}\\right)\n",
        "$$\n",
        "\n",
        "A sua solução deve funcionar para qualquer matriz $n\\times n,\\, n\\geq 2$.<br>"
      ]
    },
    {
      "cell_type": "code",
      "execution_count": null,
      "metadata": {
        "colab": {
          "base_uri": "https://localhost:8080/"
        },
        "id": "8etbJr1tPMIw",
        "outputId": "6570ce48-a913-442d-d44f-648acf69e9a7"
      },
      "outputs": [
        {
          "output_type": "stream",
          "name": "stdout",
          "text": [
            "9\n",
            "[[0 2 5 0 8 4 2 4 6]\n",
            " [5 6 2 6 1 7 7 4 2]\n",
            " [1 1 1 2 0 5 5 6 5]\n",
            " [1 1 5 8 9 7 0 5 1]\n",
            " [7 7 3 9 5 5 0 0 7]\n",
            " [1 3 7 9 6 5 8 5 6]\n",
            " [5 8 5 8 5 5 7 2 4]\n",
            " [4 3 6 0 3 4 7 9 7]\n",
            " [8 1 0 2 6 5 5 2 8]]\n",
            "linha:  [31 40 26 37 43 50 49 43 37]\n",
            "coluna:  [32 32 34 44 43 47 41 37 46]\n",
            "---------\n",
            "[[26 50]\n",
            " [32 47]]\n"
          ]
        }
      ],
      "source": [
        "n = random.randint(2, 10)\n",
        "\n",
        "A = np.random.randint(0, 10, (n,n)) #O primeiro argumento é o valor mínimo, O segundo argumento é o valor máximo,O terceiro argumento é o tamanho da matriz que você deseja gerar.\n",
        "\n",
        "linha = np.sum(A, 1)\n",
        "coluna = np.sum(A, 0)\n",
        "\n",
        "B = np.array([[np.min(linha), np.max(linha)], [np.min(coluna), np.max(coluna)]])\n",
        "\n",
        "print(n)\n",
        "print(A)\n",
        "print('linha: ', linha)\n",
        "print('coluna: ', coluna)\n",
        "print('---------')\n",
        "print(B)"
      ]
    },
    {
      "cell_type": "markdown",
      "metadata": {
        "id": "ABOw887FPMIw"
      },
      "source": [
        "### Exercício 5)\n",
        "Construa uma função chamada `ordena_linhas` que recebe uma matriz como parâmetro e troque as linhas de posição para que fiquem ordenadas de acordo com a primeira coluna. Por exemplo:\n",
        "```python\n",
        "A = np.array([[20, 26, 12],\n",
        "              [8, 3, 26],\n",
        "              [3, 10, 4]])\n",
        "print(ordena_linhas(A))\n",
        "```\n",
        "deve resultar em\n",
        "```python\n",
        "[[ 3 10  4]\n",
        " [ 8  3 26]\n",
        " [20 26 12]]\n",
        "```"
      ]
    },
    {
      "cell_type": "code",
      "execution_count": null,
      "metadata": {
        "colab": {
          "base_uri": "https://localhost:8080/"
        },
        "id": "p8aKPrVdPMIw",
        "outputId": "49779968-73da-48a4-c442-76989b15a4b9"
      },
      "outputs": [
        {
          "output_type": "stream",
          "name": "stdout",
          "text": [
            "[2 1 0]\n",
            "[[ 3 10  4]\n",
            " [ 8  3 26]\n",
            " [20 26 12]]\n"
          ]
        }
      ],
      "source": [
        "import numpy as np\n",
        "\n",
        "def ordena_linhas(matriz):\n",
        "    # Ordena a matriz com base na primeira coluna\n",
        "    indices_ordenados = np.argsort(matriz[:, 0])\n",
        "    print(indices_ordenados)\n",
        "\n",
        "    # Aplica os índices ordenados para reorganizar as linhas\n",
        "    matriz_ordenada = matriz[indices_ordenados]\n",
        "\n",
        "    return matriz_ordenada\n",
        "\n",
        "# Matriz de exemplo\n",
        "A = np.array([[20, 26, 12],\n",
        "              [8, 3, 26],\n",
        "              [3, 10, 4]])\n",
        "\n",
        "# Chamando a função e imprimindo o resultado\n",
        "print(ordena_linhas(A))"
      ]
    },
    {
      "cell_type": "markdown",
      "metadata": {
        "id": "V3gzeB88PMIx"
      },
      "source": [
        "### Exercício 6)\n",
        "O método <font color='blue'>bar</font> do <font color='blue'>matplotlib.pyplot</font> gera um gráfico de barras a partir de um array com as coordenadas horizontais das barras e um array com as alturas das barras, ambos enviados como parâmetros (veja documentação [aqui](https://matplotlib.org/3.1.1/gallery/statistics/barchart_demo.html#sphx-glr-gallery-statistics-barchart-demo-py)). Gere um array de números randômicos no intervalo entre 0 e 1 e utilize o método <font color='blue'>bar</font> para visualizar os valores do array."
      ]
    },
    {
      "cell_type": "code",
      "execution_count": 12,
      "metadata": {
        "id": "k7Jc2wTOPMIx",
        "outputId": "c4968498-f691-419a-f3e7-2e0de072a33a",
        "colab": {
          "base_uri": "https://localhost:8080/",
          "height": 430
        }
      },
      "outputs": [
        {
          "output_type": "display_data",
          "data": {
            "text/plain": [
              "<Figure size 640x480 with 1 Axes>"
            ],
            "image/png": "[encoded data removed]"
          },
          "metadata": {}
        }
      ],
      "source": [
        "import matplotlib.pyplot as plt\n",
        "%matplotlib inline\n",
        "\n",
        "A = np.random.rand(10)\n",
        "\n",
        "x = np.arange(len(A))\n",
        "\n",
        "plt.bar(x, A)\n",
        "\n",
        "plt.show()"
      ]
    },
    {
      "cell_type": "markdown",
      "metadata": {
        "id": "uPGAsZ62PMIx"
      },
      "source": [
        "### Exercício 7)\n",
        "Melhore o gráfico de barras gerado no exercício anterior adicionando um asterisco vermelho no topo da barra mais alta.\n",
        "\n",
        "__Dica:__ Utilize o método <font color='blue'>scatter</font> do <font color='blue'>matplotlib.pyplot</font> para mostrar o asterisco."
      ]
    },
    {
      "cell_type": "code",
      "execution_count": 14,
      "metadata": {
        "id": "obUCVKKcPMIx",
        "outputId": "af45578c-f665-4a81-db46-7615a24e469f",
        "colab": {
          "base_uri": "https://localhost:8080/",
          "height": 430
        }
      },
      "outputs": [
        {
          "output_type": "display_data",
          "data": {
            "text/plain": [
              "<Figure size 640x480 with 1 Axes>"
            ],
            "image/png": "[encoded data removed]"
          },
          "metadata": {}
        }
      ],
      "source": [
        "\n",
        "\n",
        "A = np.random.rand(10)\n",
        "\n",
        "x = np.arange(len(A))\n",
        "\n",
        "plt.bar(x, A)\n",
        "\n",
        "alta = np.argmax(A)\n",
        "\n",
        "plt.scatter(alta, A[alta],\n",
        "            color='red', marker='*', s=200, zorder=3)\n",
        "\n",
        "plt.show()"
      ]
    },
    {
      "cell_type": "markdown",
      "metadata": {
        "id": "CMHawdRbPMIx"
      },
      "source": [
        "### Exercício 8)\n",
        "Dado um conjunto de pontos $(x_0,y_0),(x_1,y_1),\\ldots,(x_n,y_n)$, podemos ajustar uma reta $y=\\alpha_0+\\alpha_1 x$ a esses pontos resolvendo o sistema linear:\n",
        "\n",
        "$$\n",
        "\\left(A^\\top A\\right)\\alpha = A^\\top b\n",
        "$$\n",
        "\n",
        "onde a matriz de $A$ e o vetor $b$ são definidos como:\n",
        "\n",
        "$$\n",
        "A=\\left(\\begin{array}{cc}\n",
        "1 & x_0 \\\\\n",
        "1 & x_1 \\\\\n",
        "\\vdots & \\vdots \\\\\n",
        "1 & x_n\n",
        "\\end{array}\\right),\n",
        "\\qquad\n",
        "\\alpha = \\left(\\begin{array}{c}\n",
        "\\alpha_0 \\\\\n",
        "\\alpha_1\n",
        "\\end{array}\\right),\n",
        "\\qquad\n",
        "b = \\left(\\begin{array}{c}\n",
        "y_0 \\\\\n",
        "y_1 \\\\\n",
        "\\vdots \\\\\n",
        "y_n\n",
        "\\end{array}\\right)\n",
        "$$\n",
        "sendo $A^\\top$ a transposta da matriz de $A$.\n",
        "\n",
        "Suponha que os pontos $(x_i,y_i)$ são gerados pelo código:\n",
        "\n",
        "```python\n",
        "x = np.random.uniform(0,1,100)\n",
        "y = 1.0-x+np.random.uniform(-0.3,0.3,100)\n",
        "```\n",
        "\n",
        "a) Construa uma função que receba o array `x` como parâmtros e retorna a matriz `A` como definida acima.\n",
        "\n",
        "b)  Resolva o sistema linear $\\left(A^\\top A\\right)\\alpha = A^\\top b$ utilizando o métodos \"numpy.linalg.solve\" e imprima o resultado obtido (valores de $\\alpha_0$ e $\\alpha_1$ da reta)."
      ]
    },
    {
      "cell_type": "code",
      "execution_count": 28,
      "metadata": {
        "id": "Udfm9_cMPMIx",
        "outputId": "ffb11897-6c2a-4f9b-b883-4f09849001db",
        "colab": {
          "base_uri": "https://localhost:8080/"
        }
      },
      "outputs": [
        {
          "output_type": "stream",
          "name": "stdout",
          "text": [
            "[ 1.02120697 -1.0420912 ]\n"
          ]
        }
      ],
      "source": [
        "def montar_matriz(x):\n",
        "  tamanho = x.shape[0]\n",
        "  A = np.ones((tamanho,2)) # cria uma matriz de n linhas e 2 colunas, preenchida com 1's.\n",
        "  A[:,1] = x # x substitui os valores da segunda coluna de A pelos valores do array x\n",
        "  return(A)\n",
        "\n",
        "x = np.random.uniform(0,1,100)\n",
        "y = 1.0-x+np.random.uniform(-0.3,0.3,100)\n",
        "\n",
        "A = montar_matriz(x)\n",
        "AtA = np.dot(A.T,A)  # calcula o produto A transposta vezes A\n",
        "Atb = np.dot(A.T,y)  # calcula o produto A transposta vezes b\n",
        "alpha = np.linalg.solve(AtA,Atb)\n",
        "print(alpha)"
      ]
    },
    {
      "cell_type": "markdown",
      "metadata": {
        "id": "kKzGcPkaPMIx"
      },
      "source": [
        "### Exercício 9)\n",
        "Utilizando os valores $\\alpha_0$ e $\\alpha_1$ calculados na questão anterior, faça um gráfico os pontos $(x_i,y_i)$ e da reta encontrada. O seu código deve produzir um gráfico semelhante ao apresentado abaixo:\n",
        "\n",
        "![IMAGEM](https://github.com/Biangelica/Data-Science-MBA-CEMEAI/blob/main/Programa%C3%A7%C3%A3o%20para%20ci%C3%AAncia%20de%20dados/Aula%205/linefit.png?raw=1)\n",
        "\n",
        "__Obs.__ A imagem \"linefit.png\" deve estar no mesmo diretório desse notebook.\n",
        "\n",
        "__Dica:__ Utilize o método <font color='blue'>scatter</font> do <font color='blue'>pyplot</font>"
      ]
    },
    {
      "cell_type": "code",
      "execution_count": 41,
      "metadata": {
        "id": "szrSgDXKPMIx",
        "outputId": "2f90c297-328e-4b02-9213-932808089455",
        "colab": {
          "base_uri": "https://localhost:8080/",
          "height": 430
        }
      },
      "outputs": [
        {
          "output_type": "display_data",
          "data": {
            "text/plain": [
              "<Figure size 640x480 with 1 Axes>"
            ],
            "image/png": "[encoded data removed]"
          },
          "metadata": {}
        }
      ],
      "source": [
        "import matplotlib.pyplot as plt\n",
        "import numpy as np\n",
        "\n",
        "%matplotlib inline\n",
        "\n",
        "plt.scatter(x,y,marker='*') #cria um gráfico de dispersão dos pontos (x, y)\n",
        "b = np.array([0,1])\n",
        "c = alphas[0]+alphas[1]*b\n",
        "plt.plot(b, c)\n",
        "plt.show()"
      ]
    },
    {
      "cell_type": "markdown",
      "metadata": {
        "id": "gQTi2tJuPMIy"
      },
      "source": [
        "### Exercício 10)\n",
        "Melhore o gráfico gerado no exercício anterior incorporando uma legenda e uma anotação na indicando a linha ajustada."
      ]
    },
    {
      "cell_type": "code",
      "execution_count": 43,
      "metadata": {
        "id": "h_7QaNiIPMIy",
        "outputId": "255a61db-060f-4d45-e1d9-4fad39b6ebed",
        "colab": {
          "base_uri": "https://localhost:8080/",
          "height": 447
        }
      },
      "outputs": [
        {
          "output_type": "execute_result",
          "data": {
            "text/plain": [
              "Text(0.2, 0.2, 'Reta Ajustada')"
            ]
          },
          "metadata": {},
          "execution_count": 43
        },
        {
          "output_type": "display_data",
          "data": {
            "text/plain": [
              "<Figure size 640x480 with 1 Axes>"
            ],
            "image/png": "[encoded data removed]"
          },
          "metadata": {}
        }
      ],
      "source": [
        "plt.scatter(x,y,marker='*') #cria um gráfico de dispersão dos pontos (x, y)\n",
        "b = np.array([0,1])\n",
        "c = alpha[0]+alpha[1]*b\n",
        "plt.plot(b, c, color='orange', label=\"Reta ajustada\")\n",
        "plt.legend()\n",
        "\n",
        "plt.annotate('Reta Ajustada', xy=(0.45,0.55), xytext=(0.2,0.2), # gera uma anotação\n",
        "             arrowprops=dict(facecolor='black'))"
      ]
    }
  ],
  "metadata": {
    "kernelspec": {
      "display_name": "Python 3",
      "language": "python",
      "name": "python3"
    },
    "language_info": {
      "codemirror_mode": {
        "name": "ipython",
        "version": 3
      },
      "file_extension": ".py",
      "mimetype": "text/x-python",
      "name": "python",
      "nbconvert_exporter": "python",
      "pygments_lexer": "ipython3",
      "version": "3.7.1"
    },
    "toc": {
      "base_numbering": 1,
      "nav_menu": {},
      "number_sections": true,
      "sideBar": true,
      "skip_h1_title": false,
      "title_cell": "Table of Contents",
      "title_sidebar": "Contents",
      "toc_cell": false,
      "toc_position": {},
      "toc_section_display": true,
      "toc_window_display": false
    },
    "colab": {
      "provenance": [],
      "include_colab_link": true
    }
  },
  "nbformat": 4,
  "nbformat_minor": 0
}