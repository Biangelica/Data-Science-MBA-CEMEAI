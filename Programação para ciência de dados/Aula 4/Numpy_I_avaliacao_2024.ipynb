{
  "cells": [
    {
      "cell_type": "markdown",
      "metadata": {
        "id": "view-in-github",
        "colab_type": "text"
      },
      "source": [
        "<a href=\"https://colab.research.google.com/github/Biangelica/Data-Science-MBA-CEMEAI/blob/main/Programa%C3%A7%C3%A3o%20para%20ci%C3%AAncia%20de%20dados/Aula%204/Numpy_I_avaliacao_2024.ipynb\" target=\"_parent\"><img src=\"https://colab.research.google.com/assets/colab-badge.svg\" alt=\"Open In Colab\"/></a>"
      ]
    },
    {
      "cell_type": "markdown",
      "metadata": {
        "id": "cLOADm9KWhjH"
      },
      "source": [
        "# <span style=\"color:blue\"> MBA em Ciência de Dados</span>\n",
        "# <span style=\"color:blue\">Programação para Ciência de Dados</span>\n",
        "\n",
        "## <span style=\"color:blue\">Numpy Parte I - Avaliação</span>\n",
        "**Material Produzido por Luis Gustavo Nonato**<br>\n",
        "**Cemeai - ICMC/USP São Carlos**"
      ]
    },
    {
      "cell_type": "markdown",
      "metadata": {
        "id": "vhoZxkEzWhjJ"
      },
      "source": [
        "## <font color='red'> As respostas da avaliação devem ser inseridas no moodle </font>"
      ]
    },
    {
      "cell_type": "code",
      "execution_count": null,
      "metadata": {
        "id": "DFko1XznWhjK"
      },
      "outputs": [],
      "source": [
        "import numpy as np"
      ]
    },
    {
      "cell_type": "markdown",
      "metadata": {
        "id": "5PLriJuFWhjK"
      },
      "source": [
        "### Exercício 1)\n",
        "Considere o array `X` como descrito abaixo:\n",
        "```python\n",
        "[[0  1  2  3  4]\n",
        " [5  6  7  8  9]\n",
        " [10 11 12 13 14]\n",
        " [15 16 17 18 19]]\n",
        "```\n",
        "Qual dos códigos abaixo imprime um array com os elementos 13, 18 e 6 a partir de `X`?\n",
        "\n",
        "a) print(X[1,2,3])<br>\n",
        "b) print(X[[2,3,1],[3,3,1]])</font> <br>\n",
        "c) print(X[:,[2,3,1])<br>\n",
        "d) print([1,2,3],:)"
      ]
    },
    {
      "cell_type": "code",
      "execution_count": null,
      "metadata": {
        "colab": {
          "base_uri": "https://localhost:8080/"
        },
        "id": "uGZbebgPWhjK",
        "outputId": "97d2731e-531a-4560-8daf-5cb805eb3ec1"
      },
      "outputs": [
        {
          "output_type": "stream",
          "name": "stdout",
          "text": [
            "[13 18  6]\n"
          ]
        }
      ],
      "source": [
        "X=np.array([[0,  1,  2,  3,  4],\n",
        "            [5,  6,  7,  8,  9],\n",
        "            [10, 11, 12, 13, 14],\n",
        "            [15, 16, 17, 18, 19]])\n",
        "\n",
        "print(X[[2,3,1],[3,3,1]])"
      ]
    },
    {
      "cell_type": "markdown",
      "metadata": {
        "id": "7T0xDfBvWhjK"
      },
      "source": [
        "### Exercício 2)\n",
        "Considerando o array `X` do exercício 1). Qual alternativa descreve corretamente a construção de `Y` no código abaixo?\n",
        "```python\n",
        "Y = X[1:3,[0,2,3]]\n",
        "```\n",
        "\n",
        "a) `Y` é uma _cópia_ dos elementos das linhas 1 e 2 e colunas 0,2 e 3 de `X`<br>\n",
        "b) `Y` é uma _view_ dos elementos das linhas 1 e 2 e colunas 0,2 e 3 de `X`<br>\n",
        "c) `Y` é uma _cópia_ dos elementos das linhas 1,2 e 3 e colunas 0,2 e 3 de `X`<br>\n",
        "d) `Y` é uma _view_ dos elementos das linhas 1,2 e 3 e colunas 0,2 e 3 de `X`"
      ]
    },
    {
      "cell_type": "code",
      "execution_count": null,
      "metadata": {
        "colab": {
          "base_uri": "https://localhost:8080/"
        },
        "id": "tgghiyJeWhjL",
        "outputId": "c540aaa9-72e8-4090-98fc-f6cf486bb95d"
      },
      "outputs": [
        {
          "output_type": "stream",
          "name": "stdout",
          "text": [
            "[[ 5  7  8]\n",
            " [10 12 13]]\n",
            "--------\n",
            "[[ 0  1  2  3  4]\n",
            " [ 5  6  7  8  9]\n",
            " [10 11 12 13 14]\n",
            " [15 16 17 18 19]]\n"
          ]
        }
      ],
      "source": [
        "Y = X[1:3,[0,2,3]]\n",
        "\n",
        "\n",
        "print(Y)\n",
        "print('--------')\n",
        "print(X)\n"
      ]
    },
    {
      "cell_type": "markdown",
      "source": [
        "b) Y é uma view dos elementos das linhas 1 e 2 e colunas 0, 2 e 3 de X\n",
        "\n",
        "Isso porque ao fazer a seleção com X[1:3, [0, 2, 3]], você está selecionando um slice das linhas 1 e 2 e das colunas 0, 2 e 3 de X. Essa operação retorna uma view dos elementos selecionados em X, não uma cópia.\n",
        "\n",
        "\n",
        "No NumPy, quando você usa a notação de slicing 1:3 em um array bidimensional como X, isso seleciona as linhas começando da linha de índice 1 (inclusive) até a linha de índice 3 (exclusive). Portanto, no caso de X[1:3, [0, 2, 3]], você está selecionando as linhas de índice 1 e 2, e as colunas de índice 0, 2 e 3.\n",
        "\n",
        "Esse é um comportamento padrão do slicing em Python e em muitas bibliotecas que trabalham com arrays multidimensionais, incluindo o NumPy. O intervalo é sempre do primeiro índice inclusivo até o segundo índice exclusivo. Por isso, ao usar 1:3, você está selecionando as linhas 1 e 2."
      ],
      "metadata": {
        "id": "g9rIz4K5YdH1"
      }
    },
    {
      "cell_type": "markdown",
      "metadata": {
        "id": "nt7gfFSFWhjL"
      },
      "source": [
        "### Exercício 3)\n",
        "Considere o numpy array `A` abaixo:\n",
        "```python\n",
        "[[ 2 19 16  1 12  7]\n",
        " [ 5 19 18 17  9  3]\n",
        " [16  4 18 11  4  2]\n",
        " [ 6  2 18 14 15 15]\n",
        " [ 4  8  1 14 19 13]]\n",
        "```\n",
        "Qual das alternativas abaixo corresponde ao número de dimensões (ndim), a forma (shape) e ao número de elementos (size) no array, respectivamente?\n",
        "\n",
        "a) (5, 6) 2 2<br>\n",
        "b) 2 (5, 6) 2<br>\n",
        "c) (5, 6) 2 30<br>\n",
        "d) 2 (5, 6) 30"
      ]
    },
    {
      "cell_type": "code",
      "execution_count": null,
      "metadata": {
        "colab": {
          "base_uri": "https://localhost:8080/"
        },
        "id": "LB7xlWCSWhjL",
        "outputId": "aa82434e-3009-463a-ebfb-a32b6d231433"
      },
      "outputs": [
        {
          "output_type": "stream",
          "name": "stdout",
          "text": [
            "A.shape =  (5, 6)\n",
            "A.ndim =  2\n",
            "A.size = 30\n"
          ]
        }
      ],
      "source": [
        "A = np.array([[ 2, 19, 16,  1, 12,  7],\n",
        " [ 5, 19, 18, 17,  9,  3],\n",
        " [16,  4, 18, 11,  4,  2],\n",
        " [ 6,  2, 18, 14, 15, 15],\n",
        " [ 4,  8,  1, 14, 19, 13]])\n",
        "\n",
        "print('A.shape = ',A.shape)\n",
        "print('A.ndim = ',A.ndim)\n",
        "print('A.size =',A.size)"
      ]
    },
    {
      "cell_type": "markdown",
      "source": [
        "c) (5, 6) 2 30"
      ],
      "metadata": {
        "id": "pIS5Ipg8ZOuv"
      }
    },
    {
      "cell_type": "markdown",
      "metadata": {
        "id": "0STNYZ3XWhjL"
      },
      "source": [
        "### Exercício 4)\n",
        "Considere o numpy array `A` do exercício 3). Escreva um código para criar uma máscara para selecionar todos os elementos pares do array e armazena-los em um novo array *unidimensional* `B`. O resultado do comando\n",
        "```python\n",
        "print(B.size)\n",
        "```\n",
        "será:<br>\n",
        "a) 13<br>\n",
        "b) 15<br>\n",
        "c) 16<br>\n",
        "d) 17"
      ]
    },
    {
      "cell_type": "code",
      "source": [
        "B = (A%2 == 0)\n",
        "\n",
        "print(A[B])\n",
        "\n",
        "print(A[B].size)"
      ],
      "metadata": {
        "colab": {
          "base_uri": "https://localhost:8080/"
        },
        "id": "LgzP1u9SZUUm",
        "outputId": "b1532ead-975c-4965-ae31-e038b1614a66"
      },
      "execution_count": null,
      "outputs": [
        {
          "output_type": "stream",
          "name": "stdout",
          "text": [
            "[ 2 16 12 18 16  4 18  4  2  6  2 18 14  4  8 14]\n",
            "16\n"
          ]
        }
      ]
    },
    {
      "cell_type": "code",
      "execution_count": null,
      "metadata": {
        "id": "rJCB86xcWhjL"
      },
      "outputs": [],
      "source": [
        "#Solucao\n"
      ]
    },
    {
      "cell_type": "markdown",
      "metadata": {
        "id": "tyhycD7NWhjL"
      },
      "source": [
        "### Exercício 5)\n",
        "Ainda considerando o array `A` do exercício 3), que alternativa melhor explica o que o código abaixo está realizando:\n",
        "```python\n",
        "l_mask = [(i%2!=0) and (j%2!=0) for i in range(A.shape[0]) for j in range(A.shape[1])]\n",
        "mask = np.array(l_mask).reshape(A.shape)\n",
        "A[mask] = -1\n",
        "```\n",
        "a) insere elementos -1 nas linhas e colunas ímpares de `A` utilizando uma máscara booleana<br>\n",
        "b) insere elementos -1 nas posições com índices ímpares (linha e coluna) de `A` utilizando uma máscara booleana<br>\n",
        "c) insere elementos -1 nas linhas com índices ímpares e colunas pares de `A` utilizando uma máscara booleana<br>\n",
        "d) troca os elementos impares da matriz por -1 utilizando uma máscara booleana"
      ]
    },
    {
      "cell_type": "code",
      "execution_count": null,
      "metadata": {
        "colab": {
          "base_uri": "https://localhost:8080/"
        },
        "id": "jNNbCIYVWhjL",
        "outputId": "319984ee-972d-4042-9e52-195f9757cd9e"
      },
      "outputs": [
        {
          "output_type": "stream",
          "name": "stdout",
          "text": [
            "[[ 2 19 16  1 12  7]\n",
            " [ 5 -1 18 -1  9 -1]\n",
            " [16  4 18 11  4  2]\n",
            " [ 6 -1 18 -1 15 -1]\n",
            " [ 4  8  1 14 19 13]]\n"
          ]
        }
      ],
      "source": [
        "l_mask = [(i%2!=0) and (j%2!=0) for i in range(A.shape[0]) for j in range(A.shape[1])]\n",
        "mask = np.array(l_mask).reshape(A.shape)\n",
        "A[mask] = -1\n",
        "print(A)"
      ]
    },
    {
      "cell_type": "markdown",
      "source": [
        "b) insere elementos -1 nas posições com índices ímpares (linha e coluna) de A utilizando uma máscara booleana\n",
        "\n",
        "Isso porque o código cria uma máscara booleana que identifica as posições com índices ímpares (tanto de linha quanto de coluna) na matriz A. Em seguida, ele usa essa máscara para atribuir o valor -1 nessas posições específicas."
      ],
      "metadata": {
        "id": "r6ZSdMMdaqtJ"
      }
    }
  ],
  "metadata": {
    "kernelspec": {
      "display_name": "Python 3 (ipykernel)",
      "language": "python",
      "name": "python3"
    },
    "language_info": {
      "codemirror_mode": {
        "name": "ipython",
        "version": 3
      },
      "file_extension": ".py",
      "mimetype": "text/x-python",
      "name": "python",
      "nbconvert_exporter": "python",
      "pygments_lexer": "ipython3",
      "version": "3.10.9"
    },
    "colab": {
      "provenance": [],
      "include_colab_link": true
    }
  },
  "nbformat": 4,
  "nbformat_minor": 0
}