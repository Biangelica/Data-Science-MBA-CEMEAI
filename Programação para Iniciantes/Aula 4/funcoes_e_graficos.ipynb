{
  "cells": [
    {
      "cell_type": "markdown",
      "metadata": {
        "id": "view-in-github",
        "colab_type": "text"
      },
      "source": [
        "<a href=\"https://colab.research.google.com/github/Biangelica/Data-Science-MBA-CEMEAI/blob/main/Programa%C3%A7%C3%A3o%20para%20Iniciantes/Aula%204/funcoes_e_graficos.ipynb\" target=\"_parent\"><img src=\"https://colab.research.google.com/assets/colab-badge.svg\" alt=\"Open In Colab\"/></a>"
      ]
    },
    {
      "cell_type": "markdown",
      "id": "aeac7d78",
      "metadata": {
        "id": "aeac7d78"
      },
      "source": [
        "# <font color='blue'> Introdução a Programação com Python </font>\n",
        "    \n",
        "## <font color='blue'> Funções e Recursos Gráficos </font>\n",
        "\n",
        "### Material produzido por Luis Gustavo Nonato"
      ]
    },
    {
      "cell_type": "markdown",
      "id": "370d2b12",
      "metadata": {
        "id": "370d2b12"
      },
      "source": [
        "### Conteúdo\n",
        "- Funções\n",
        "- Recursos Gráficos\n",
        "    - Módulo <font color='blue'> pyplot </font> do pacote <font color='blue'> Matplotlib </font>"
      ]
    },
    {
      "cell_type": "markdown",
      "id": "6f0b0952",
      "metadata": {
        "id": "6f0b0952"
      },
      "source": [
        "### Funções\n",
        "\n",
        "Funções são um importante recurso de programação, pois permite que um bloco de código que realiza uma determinada tarefa seja utilizado em diferentes locais do programa.\n",
        "\n",
        "Por exemplo, suponha que você esteja escrevendo um programa em Python para analisar quando a bolsa de valores está subindo ou descendo. Uma forma de fazer isso é calcular os pontos de máximo e mínimo da série que descreve o comportamento da bolsa. Para saber se um ponto é de máximo, mínimo ou um ponto comum (nem máximo nem mínimo) você precisa aplicar um conjunto de operações de modo a classificar cada ponto da série como máximo, mínimo ou comum. Desta forma, o conjunto de operações que classifica cada ponto é repetida muitas vezes. Além disso, o mesmo conjunto de operações podem ser utilizadas para analisar não a bolsa como um todo, mas sim ações de empresas específicas. Neste caso, é melhor implementarmos as operações que classificam os pontos da série em uma função, que pode ser utilizada em qualquer parte de um programa e até mesmo ser reutilizada em outros códigos."
      ]
    },
    {
      "cell_type": "markdown",
      "id": "b4c6f87d",
      "metadata": {
        "id": "b4c6f87d"
      },
      "source": [
        "O comando <font color='blue'> def </font> é um dos principais mecanismos para se criar uma função. A sintaxe para declarar uma função em Python é:\n",
        "```python\n",
        "def <nome_da_funcao>(parametro_1,parametro_2,...):\n",
        "    bloco de código realiza uma operação\n",
        "    return(<conteudo_retornado>)\n",
        "```\n",
        "\n",
        "- `<nome_da_funcao>`: toda função deve ter um nome, sendo este nome utilizado para invocar a função\n",
        "- `parametro_1,parametro_2,...`: tipicamente uma função recebe um conjunto de parâmetros que são utilizados internamente\n",
        "- `return`: o comando <font color='blue'> return </font> é utilizado para retornar algum conteúdo calculado pela função para ser utilizada no código a partir do qual a função foi invocada."
      ]
    },
    {
      "cell_type": "markdown",
      "id": "6581c9cb",
      "metadata": {
        "id": "6581c9cb"
      },
      "source": [
        "Vamos fazer um exemplo, imprimir a taboada de um número de 1 a 9."
      ]
    },
    {
      "cell_type": "code",
      "execution_count": null,
      "id": "c2818448",
      "metadata": {
        "id": "c2818448"
      },
      "outputs": [],
      "source": [
        "def taboada(i): # i é o número que queremos imprimir a taboada\n",
        "    if i < 1 or i > 9:\n",
        "        print('Esta função calcula apenas a taboada de números entre 1 e 9')\n",
        "        return()\n",
        "\n",
        "    for j in range(1,11):\n",
        "        print(\"{0} * {1} = {2}\".format(i, j, i * j))\n",
        "        #print(i,'*',j,'=',i*j)\n",
        "\n",
        "    return()"
      ]
    },
    {
      "cell_type": "code",
      "execution_count": null,
      "id": "e9a91b90",
      "metadata": {
        "id": "e9a91b90",
        "outputId": "2b609c48-02ef-4ff6-c321-e3c798abfc1e"
      },
      "outputs": [
        {
          "name": "stdout",
          "output_type": "stream",
          "text": [
            "Esta função calcula apenas a taboada de números entre 1 e 9\n"
          ]
        },
        {
          "data": {
            "text/plain": [
              "()"
            ]
          },
          "execution_count": 4,
          "metadata": {},
          "output_type": "execute_result"
        }
      ],
      "source": [
        "taboada(15)"
      ]
    },
    {
      "cell_type": "markdown",
      "id": "b55e9f94",
      "metadata": {
        "id": "b55e9f94"
      },
      "source": [
        "A quantidade de parâmetros de uma função varia de acordo com o problema, pondendo, inclusive, a função não receber parâmetro algum.\n",
        "\n",
        "**Importante:** Como nas estruturas de decisão e repetição, a indentação é muito importante, pois marca o bloco de código que pertence a função."
      ]
    },
    {
      "cell_type": "markdown",
      "id": "e2510543",
      "metadata": {
        "id": "e2510543"
      },
      "source": [
        "Vejamos outro exemplo, a função abaixo ordena 3 valores e os retorna na forma de lista."
      ]
    },
    {
      "cell_type": "code",
      "execution_count": null,
      "id": "16f0185d",
      "metadata": {
        "id": "16f0185d"
      },
      "outputs": [],
      "source": [
        "def ordena_3v(a,b,c):\n",
        "    if a > b:\n",
        "        a, b = b, a  # Este é um recurso do python que evita o uso de uma variável auxiliar\n",
        "    if a > c:\n",
        "        a, b, c = c, a, b\n",
        "    elif b > c:\n",
        "        b, c = c, b\n",
        "\n",
        "    return([a,b,c])"
      ]
    },
    {
      "cell_type": "code",
      "execution_count": null,
      "id": "1239fbdb",
      "metadata": {
        "scrolled": true,
        "id": "1239fbdb",
        "outputId": "68fd7661-d8ca-40ba-d880-e3a09b16d93b"
      },
      "outputs": [
        {
          "name": "stdout",
          "output_type": "stream",
          "text": [
            "97 48 60\n",
            "[48, 60, 97]\n"
          ]
        }
      ],
      "source": [
        "import random\n",
        "\n",
        "x = random.randint(0,100)\n",
        "y = random.randint(0,100)\n",
        "z = random.randint(0,100)\n",
        "\n",
        "print(x,y,z)\n",
        "lst = ordena_3v(x,y,z) # aqui invocamos a função com os valores que serão ordenados\n",
        "print(lst)"
      ]
    },
    {
      "cell_type": "markdown",
      "id": "25a6a6d5",
      "metadata": {
        "id": "25a6a6d5"
      },
      "source": [
        "Quando enviamos os parâmetros para uma função, se a identificação dos parâmetros não for feita na chamada da função, a ordem em que os parâmetros são enviados é importante.\n",
        "\n",
        "A função abaixo calcula o valor a ser pago pelas horas extras de um colaborador a partir do valor da hora extra e do número de horas extras trabalhadas. Porém, se o colaborador trabalhou menos de 30 min, nada é pago e se trabalhou de 30 min a 1 hora, o valor pago é de 1 hora trabalhada. O código assume que o número de horas é fornecido no formato _hora.minuto_ e converte os minutos em uma proporção de hora."
      ]
    },
    {
      "cell_type": "code",
      "execution_count": null,
      "id": "ee2c6354",
      "metadata": {
        "id": "ee2c6354"
      },
      "outputs": [],
      "source": [
        "def valor_horas_extras(valor_hora, num_horas):\n",
        "    # convertendo os minutos em proporção da hora\n",
        "    hora = int(num_horas)\n",
        "    minuto = num_horas - hora\n",
        "\n",
        "    if minuto > 0.59:\n",
        "        print('O formato fornecido para numero de horas esta incorreto')\n",
        "        print('O formato deve ser HORA.MINUTOS, onde MINUTOS vai de 0 a 59')\n",
        "        print('Exemplo: Se o quantidade de horas for 2 horas e 45 min, o valor deve ser 2.45')\n",
        "        return(-1)\n",
        "\n",
        "    prop_hora = minuto*0.99/0.59\n",
        "\n",
        "    if num_horas <= 0.3:\n",
        "        return(0.0)\n",
        "    elif num_horas > 0.3 and num_horas < 1.0:\n",
        "        return(valor_hora)\n",
        "    else:\n",
        "        return(valor_hora*(hora+prop_hora))"
      ]
    },
    {
      "cell_type": "code",
      "execution_count": null,
      "id": "3529d709",
      "metadata": {
        "id": "3529d709",
        "outputId": "53cc28c9-69e2-4360-cfd4-12709ff8892c"
      },
      "outputs": [
        {
          "name": "stdout",
          "output_type": "stream",
          "text": [
            "82.65254237288136\n"
          ]
        }
      ],
      "source": [
        "# vamos invocar a função com o valor da hora trabalhada = 30 e numero de horas = 2.45\n",
        "\n",
        "print(valor_horas_extras(30,2.45))"
      ]
    },
    {
      "cell_type": "markdown",
      "id": "643dd5ef",
      "metadata": {
        "id": "643dd5ef"
      },
      "source": [
        "Se invertermos a ordem dos parâmetros, o código não apresenta qualquer erro, mas fornece uma resultado errado."
      ]
    },
    {
      "cell_type": "code",
      "execution_count": null,
      "id": "0818d7d7",
      "metadata": {
        "id": "0818d7d7",
        "outputId": "7f0895a8-4070-4c59-8e6f-b07920d3eb8f"
      },
      "outputs": [
        {
          "name": "stdout",
          "output_type": "stream",
          "text": [
            "73.5\n"
          ]
        }
      ],
      "source": [
        "print(valor_horas_extras(2.45,30))"
      ]
    },
    {
      "cell_type": "markdown",
      "id": "f92d5096",
      "metadata": {
        "id": "f92d5096"
      },
      "source": [
        "Se quisermos certificar que os parâmetros estão sendo enviados corretamente, podemos explicitamente informar os nomes dos parâmetros na chamada. Quando informamos os nomes dos parâmetros, a ordem deixa de ser relevante."
      ]
    },
    {
      "cell_type": "code",
      "execution_count": null,
      "id": "7e740803",
      "metadata": {
        "id": "7e740803",
        "outputId": "f8f44b31-8c1f-405b-dcd3-db87e1368954"
      },
      "outputs": [
        {
          "name": "stdout",
          "output_type": "stream",
          "text": [
            "82.65254237288136\n",
            "82.65254237288136\n"
          ]
        }
      ],
      "source": [
        "print(valor_horas_extras(valor_hora=30,num_horas=2.45))\n",
        "print(valor_horas_extras(num_horas=2.45,valor_hora=30))"
      ]
    },
    {
      "cell_type": "markdown",
      "id": "59c9d696",
      "metadata": {
        "id": "59c9d696"
      },
      "source": [
        "### Recursos Gráficos"
      ]
    },
    {
      "cell_type": "markdown",
      "id": "4dc3e295",
      "metadata": {
        "id": "4dc3e295"
      },
      "source": [
        "O Python possui um conjunto de bibliotecas (também chamdas de pacotes) dedicadas à representações gráficas. Dentre estes pacotes, o <font color='blue'> matplotlib </font> é um dos mais importantes. Em particular, o pacote <font color='blue'> matplotlib </font> possui um submódulo chamado de <font color='blue'> pyplot </font> que facilita bastante construção de gráficos como curvas, histogramas e diagrama de pontos.\n",
        "\n",
        "Para que se possa utilizar um pacote do Python, ele precisa ser importado dentro do código por meio do comando <font color='blue'> import </font>, da mesma forma como fizemos com o pacote <font color='blue'> random </font> nas aulas anteriores. Para importarmos o pacote <font color='blue'> matplotlib </font> todo podemos fazemos:\n",
        "```python\n",
        "import matplotlib\n",
        "````\n",
        "Porém, não é recomendado importar todo <font color='blue'> matplotlib</font>, pois é um pacote pesado que consome bastante memória. Uma solução é importar somente o subpacote <font color='blue'> pyplot </font> do <font color='blue'> matplotlib </font>. Para isso podemos utilizar o seguinte comando:\n",
        "```python\n",
        "from matplotlib import pyplot\n",
        "````\n",
        "ou alternativamente\n",
        "```python\n",
        "import matplotlib.pyplot\n",
        "````\n",
        "Podemos ainda dar um \"apelido\" para o pacote importando a fim de facilitar a utilização durante a codificação. A sintaxe para atribuir um apelido é (esta é a forma mais comum de se importar o <font color='blue'> pyplot</font>):\n",
        "```python\n",
        "import matplotlib.pyplot as plt\n",
        "````"
      ]
    },
    {
      "cell_type": "code",
      "execution_count": null,
      "id": "658503a0",
      "metadata": {
        "id": "658503a0",
        "outputId": "2686f042-2d3b-4eb3-e10b-df36d3c11aa9"
      },
      "outputs": [
        {
          "data": {
            "text/plain": [
              "[<matplotlib.lines.Line2D at 0x7fe6c9da9c40>]"
            ]
          },
          "execution_count": 15,
          "metadata": {},
          "output_type": "execute_result"
        },
        {
          "data": {
            "image/png": "[encoded data removed]",
            "text/plain": [
              "<Figure size 432x288 with 1 Axes>"
            ]
          },
          "metadata": {
            "needs_background": "light"
          },
          "output_type": "display_data"
        }
      ],
      "source": [
        "from matplotlib import pyplot\n",
        "\n",
        "pyplot.plot(range(5,15))  # veremos logo mais como o método 'plot' do pyplot funciona"
      ]
    },
    {
      "cell_type": "markdown",
      "id": "194e15a7",
      "metadata": {
        "id": "194e15a7"
      },
      "source": [
        "No exemplo abaixo, vamos importar o <font color='blue'> pyplot </font> atribuindo o apelido \"plt\" para facilitar o uso."
      ]
    },
    {
      "cell_type": "code",
      "execution_count": null,
      "id": "4f9e8714",
      "metadata": {
        "id": "4f9e8714",
        "outputId": "fad8a3c0-bd05-475e-b0f6-7bd8f2a11139"
      },
      "outputs": [
        {
          "data": {
            "text/plain": [
              "[<matplotlib.lines.Line2D at 0x7fe6a8070eb0>]"
            ]
          },
          "execution_count": 16,
          "metadata": {},
          "output_type": "execute_result"
        },
        {
          "data": {
            "image/png": "[encoded data removed]",
            "text/plain": [
              "<Figure size 432x288 with 1 Axes>"
            ]
          },
          "metadata": {
            "needs_background": "light"
          },
          "output_type": "display_data"
        }
      ],
      "source": [
        "import matplotlib.pyplot as plt\n",
        "\n",
        "plt.plot(range(10))"
      ]
    },
    {
      "cell_type": "markdown",
      "id": "70641fd7",
      "metadata": {
        "id": "70641fd7"
      },
      "source": [
        "### Método <font color='blue'> plot </font>\n",
        "O método <font color='blue'>plot</font> gera gráficos a partir de duas listas de valores, uma correspondendo às coordenadas no eixo horizontal e a outra às coordenadas no eixo vertical.\n",
        "\n",
        "O método <font color='blue'>plot</font> assume que as listas enviadas como parâmetros correspondem a valores discretos para os eixos horizontal e vertical\n",
        "\n",
        "- se apenas uma lista é fornecida, o método automaticamente assume valores inteiros igualmente espaçados no eixo horizontal\n",
        "- as duas listas devem ter o mesmo número de elementos, caso contrário uma mensagem de erro é gerada"
      ]
    },
    {
      "cell_type": "markdown",
      "id": "dd47a0b0",
      "metadata": {
        "id": "dd47a0b0"
      },
      "source": [
        "Vamos utilizar o método <font color='blue'> plot </font> para desenhar o gráfico de $y=x^2$ no intervalo entre -1 e 1.\n",
        "Para isso, precisamos construir uma lista contendo a discretização de x e de y."
      ]
    },
    {
      "cell_type": "code",
      "execution_count": null,
      "id": "78e0b602",
      "metadata": {
        "id": "78e0b602",
        "outputId": "d8242c25-584c-4868-f14a-d21d0f627ab1"
      },
      "outputs": [
        {
          "name": "stdout",
          "output_type": "stream",
          "text": [
            "[-1.0, -0.9, -0.8, -0.7, -0.6, -0.5, -0.4, -0.3, -0.2, -0.1, -0.0, 0.1, 0.2, 0.3, 0.4, 0.5, 0.6, 0.7, 0.8, 0.9, 1.0]\n",
            "[1.0, 0.81, 0.64, 0.49, 0.36, 0.25, 0.16, 0.09, 0.04, 0.01, 0.0, 0.01, 0.04, 0.09, 0.16, 0.25, 0.36, 0.49, 0.64, 0.81, 1.0]\n"
          ]
        }
      ],
      "source": [
        "x = []       # lista com valores no intervalo entre -1 e 1 espaçados de 0.1\n",
        "dx = -1\n",
        "while dx <= 1:\n",
        "    x.append(dx)\n",
        "    dx = dx + 0.1\n",
        "\n",
        "y = []       # lista com valores y^2\n",
        "for t in x:\n",
        "    y.append(t**2)\n",
        "\n",
        "print([float(\"%8.2f\"%i) for i in x])\n",
        "print([float(\"%8.2f\"%i) for i in y])"
      ]
    },
    {
      "cell_type": "code",
      "execution_count": null,
      "id": "0e3d3c51",
      "metadata": {
        "id": "0e3d3c51",
        "outputId": "dc6711fd-2f32-4517-a3e7-c5dd946097f3"
      },
      "outputs": [
        {
          "data": {
            "text/plain": [
              "[<matplotlib.lines.Line2D at 0x7fe688030400>]"
            ]
          },
          "execution_count": 19,
          "metadata": {},
          "output_type": "execute_result"
        },
        {
          "data": {
            "image/png": "[encoded data removed]",
            "text/plain": [
              "<Figure size 432x288 with 1 Axes>"
            ]
          },
          "metadata": {
            "needs_background": "light"
          },
          "output_type": "display_data"
        }
      ],
      "source": [
        "plt.plot(x,y)"
      ]
    },
    {
      "cell_type": "code",
      "execution_count": null,
      "id": "d7dafe9b",
      "metadata": {
        "id": "d7dafe9b",
        "outputId": "29a5a474-cb1b-4429-8323-e338b7b2fbfb"
      },
      "outputs": [
        {
          "data": {
            "text/plain": [
              "[<matplotlib.lines.Line2D at 0x7fe6a0027ac0>]"
            ]
          },
          "execution_count": 20,
          "metadata": {},
          "output_type": "execute_result"
        },
        {
          "data": {
            "image/png": "[encoded data removed]",
            "text/plain": [
              "<Figure size 432x288 with 1 Axes>"
            ]
          },
          "metadata": {
            "needs_background": "light"
          },
          "output_type": "display_data"
        }
      ],
      "source": [
        "x = [0,0.2,0.5,0.3,0.1]\n",
        "y = [-1,3,-2,0,1]\n",
        "plt.plot(x,y)"
      ]
    },
    {
      "cell_type": "markdown",
      "id": "bb20be5b",
      "metadata": {
        "id": "bb20be5b"
      },
      "source": [
        "O que o comando <font color='blue'> plot </font> no exemplo acima está fazendo é conectando cada par de valores $(x,y)$ percorrendo as duas listas em ordem.\n",
        "\n",
        "Desta forma, podemos desenhar qualquer curva, desde que especifiquemos quais são os pares de pontos na curva."
      ]
    },
    {
      "cell_type": "markdown",
      "id": "756c347b",
      "metadata": {
        "id": "756c347b"
      },
      "source": [
        "Vamos construir uma função para desenhar elipses. As equações que geram pontos sobre uma elipse são:\n",
        "\n",
        "$$\n",
        "x = a+r_x\\cos(t)\\\\\n",
        "y = b+r_y\\sin(t)\n",
        "$$\n",
        "\n",
        "onde $a,b$ são as coordenadas  $x$ e $y$ do centro da elipse do centro da elipse, $r_x,r_y$ são os raios na direção horizontal e vertical e o parâmetro $t\\in[0,2\\pi]$.\n",
        "\n",
        "A função irá receber como parâmetros o centro da elipse e os raios, retornando duas listas, uma com as coordenas $x$ e a outra com as coordenadas $y$ dos pontos na elipse.\n",
        "\n",
        "Vamos ainda utilizar o pacote <font color='blue'> math </font> do Python que contém as funções seno e cosseno, além do valor de $\\pi$ pré-definido."
      ]
    },
    {
      "cell_type": "markdown",
      "id": "cfb9e548",
      "metadata": {
        "id": "cfb9e548"
      },
      "source": [
        "Se quisermos ligar o último ponto com o primeiro, basta repetirmos o primeiro ponto no final das listas."
      ]
    },
    {
      "cell_type": "code",
      "execution_count": null,
      "id": "3993bdaa",
      "metadata": {
        "id": "3993bdaa"
      },
      "outputs": [],
      "source": [
        "import math\n",
        "\n",
        "def elipse(a,b,rx,ry):\n",
        "    x = []\n",
        "    y = []\n",
        "    t = 0.0\n",
        "    while t <= 2*math.pi:\n",
        "        x.append(a+rx*math.cos(t))\n",
        "        y.append(b+ry*math.sin(t))\n",
        "        t = t+0.1\n",
        "\n",
        "    # adicionando o primeiro ponto ao final da lista para que a curva fique fechada\n",
        "    x.append(x[0])\n",
        "    y.append(y[0])\n",
        "    return(x,y)"
      ]
    },
    {
      "cell_type": "code",
      "execution_count": null,
      "id": "8439aebe",
      "metadata": {
        "id": "8439aebe",
        "outputId": "c49a3479-d80e-4bf6-e7f4-b0f0389c13cf"
      },
      "outputs": [
        {
          "data": {
            "text/plain": [
              "[<matplotlib.lines.Line2D at 0x7fe69806c280>]"
            ]
          },
          "execution_count": 25,
          "metadata": {},
          "output_type": "execute_result"
        },
        {
          "data": {
            "image/png": "[encoded data removed]",
            "text/plain": [
              "<Figure size 432x288 with 1 Axes>"
            ]
          },
          "metadata": {
            "needs_background": "light"
          },
          "output_type": "display_data"
        }
      ],
      "source": [
        "cx1,cy1 = elipse(0.0,0.0,5.0,5.0)\n",
        "plt.plot(cx1,cy1)\n",
        "\n",
        "cx2,cy2 = elipse(-2.0,2.0,1.0,0.5)\n",
        "plt.plot(cx2,cy2)\n",
        "\n",
        "cx3,cy3 = elipse(2.0,2.0,1.0,0.5)\n",
        "plt.plot(cx3,cy3)\n",
        "\n",
        "cx4,cy4 = elipse(0.0,0.5,0.2,0.5)\n",
        "plt.plot(cx4,cy4)\n",
        "\n",
        "cx5,cy5 = elipse(0.0,-2.5,4.0,0.5)\n",
        "plt.plot(cx5,cy5)"
      ]
    },
    {
      "cell_type": "markdown",
      "id": "efdfa938",
      "metadata": {
        "id": "efdfa938"
      },
      "source": [
        "### Método <font color='blue'> hist </font>"
      ]
    },
    {
      "cell_type": "markdown",
      "id": "d182b9e9",
      "metadata": {
        "id": "d182b9e9"
      },
      "source": [
        "O método <font color='blue'> hist </font> gera um histograma a partir de uma lista de valores.\n",
        "\n",
        "No exemplo abaixo geramos 100 valores no intervalo $[-1,1]$ de forma randômica, e então utilizamos o método <font color='blue'> hist </font> para gerar um histograma destes valores."
      ]
    },
    {
      "cell_type": "code",
      "execution_count": null,
      "id": "9a4cf664",
      "metadata": {
        "id": "9a4cf664",
        "outputId": "dab10347-96a4-4d27-c9eb-b1833bcaff65"
      },
      "outputs": [
        {
          "data": {
            "text/plain": [
              "(array([12., 10., 11., 10., 12.,  8.,  7., 10.,  7., 13.]),\n",
              " array([-0.99865203, -0.80184084, -0.60502966, -0.40821847, -0.21140729,\n",
              "        -0.0145961 ,  0.18221509,  0.37902627,  0.57583746,  0.77264864,\n",
              "         0.96945983]),\n",
              " <BarContainer object of 10 artists>)"
            ]
          },
          "execution_count": 27,
          "metadata": {},
          "output_type": "execute_result"
        },
        {
          "data": {
            "image/png": "[encoded data removed]",
            "text/plain": [
              "<Figure size 432x288 with 1 Axes>"
            ]
          },
          "metadata": {
            "needs_background": "light"
          },
          "output_type": "display_data"
        }
      ],
      "source": [
        "import random\n",
        "\n",
        "h = []\n",
        "for i in range(100):\n",
        "    h.append(random.uniform(-1,1))\n",
        "\n",
        "plt.hist(h)"
      ]
    },
    {
      "cell_type": "markdown",
      "id": "6cc5b3ac",
      "metadata": {
        "id": "6cc5b3ac"
      },
      "source": [
        "Se o número de bins não for especificado, 10 bins são utilizados na construção do histograma. O número de bins pode ser alterado por meio do parâmetro ''bins'' no método <font color='blue'> hist </font>."
      ]
    },
    {
      "cell_type": "code",
      "execution_count": null,
      "id": "3220679e",
      "metadata": {
        "id": "3220679e",
        "outputId": "a27e266e-8420-421e-ff9c-76ee0311b828"
      },
      "outputs": [
        {
          "data": {
            "text/plain": [
              "(array([6., 3., 3., 1., 4., 5., 4., 4., 3., 3., 3., 4., 3., 5., 4., 5., 1.,\n",
              "        2., 2., 2., 3., 3., 3., 4., 2., 1., 4., 5., 4., 4.]),\n",
              " array([-0.99865203, -0.9330483 , -0.86744457, -0.80184084, -0.73623711,\n",
              "        -0.67063338, -0.60502966, -0.53942593, -0.4738222 , -0.40821847,\n",
              "        -0.34261474, -0.27701101, -0.21140729, -0.14580356, -0.08019983,\n",
              "        -0.0145961 ,  0.05100763,  0.11661136,  0.18221509,  0.24781881,\n",
              "         0.31342254,  0.37902627,  0.44463   ,  0.51023373,  0.57583746,\n",
              "         0.64144118,  0.70704491,  0.77264864,  0.83825237,  0.9038561 ,\n",
              "         0.96945983]),\n",
              " <BarContainer object of 30 artists>)"
            ]
          },
          "execution_count": 29,
          "metadata": {},
          "output_type": "execute_result"
        },
        {
          "data": {
            "image/png": "[encoded data removed]",
            "text/plain": [
              "<Figure size 432x288 with 1 Axes>"
            ]
          },
          "metadata": {
            "needs_background": "light"
          },
          "output_type": "display_data"
        }
      ],
      "source": [
        "plt.hist(h,bins=30)"
      ]
    }
  ],
  "metadata": {
    "kernelspec": {
      "display_name": "Python 3",
      "language": "python",
      "name": "python3"
    },
    "language_info": {
      "codemirror_mode": {
        "name": "ipython",
        "version": 3
      },
      "file_extension": ".py",
      "mimetype": "text/x-python",
      "name": "python",
      "nbconvert_exporter": "python",
      "pygments_lexer": "ipython3",
      "version": "3.8.8"
    },
    "colab": {
      "provenance": [],
      "include_colab_link": true
    }
  },
  "nbformat": 4,
  "nbformat_minor": 5
}