{
  "cells": [
    {
      "cell_type": "markdown",
      "metadata": {
        "id": "view-in-github",
        "colab_type": "text"
      },
      "source": [
        "<a href=\"https://colab.research.google.com/github/Biangelica/Data-Science-MBA-CEMEAI/blob/main/Programa%C3%A7%C3%A3o%20para%20Iniciantes/Aula%204/funcoes_e_graficos_exercicios.ipynb\" target=\"_parent\"><img src=\"https://colab.research.google.com/assets/colab-badge.svg\" alt=\"Open In Colab\"/></a>"
      ]
    },
    {
      "cell_type": "markdown",
      "id": "10e82871",
      "metadata": {
        "id": "10e82871"
      },
      "source": [
        "# <font color='blue'> Introdução a Programação com Python </font>\n",
        "    \n",
        "## <font color='blue'> Funções e Recursos Gráficos - Exercícios</font>\n",
        "\n",
        "### Material produzido por Luis Gustavo Nonato"
      ]
    },
    {
      "cell_type": "markdown",
      "id": "4c020b7f",
      "metadata": {
        "id": "4c020b7f"
      },
      "source": [
        "### Exercício 1\n",
        "Escreva uma função que receba como parâmetro um número inteiro e retorne o fatorial deste número, lembrando que o fatorial de um número $n$ é dado por:\n",
        "\n",
        "$$\n",
        "n! = n\\cdot(n-1)\\cdot(n-2)\\cdots 2\\cdot1\n",
        "$$"
      ]
    },
    {
      "cell_type": "code",
      "execution_count": null,
      "id": "e908867b",
      "metadata": {
        "id": "e908867b"
      },
      "outputs": [],
      "source": [
        "# Solucao"
      ]
    },
    {
      "cell_type": "markdown",
      "id": "66c1b1ce",
      "metadata": {
        "id": "66c1b1ce"
      },
      "source": [
        "### Exercício 2\n",
        "A função trigonométrica seno ($\\sin$) pode ser aproximada utilizando a expressão:\n",
        "\n",
        "$$\n",
        "\\sin(t) \\approx \\sum_{i=0}^n \\frac{(-1)^i}{(2i+1)!}t^{\\,2i+1}\n",
        "$$\n",
        "\n",
        "onde, quanto maior o $n$, melhor é a aproximação.\n",
        "\n",
        "Escreva uma função que receba como parâmetro um valor $t$ e o número $n$ de termos a serem utilizados na aproximação e retorna a aproximação da função trigonométrica seno."
      ]
    },
    {
      "cell_type": "code",
      "execution_count": null,
      "id": "534c0f80",
      "metadata": {
        "id": "534c0f80"
      },
      "outputs": [],
      "source": [
        "# Solucao"
      ]
    },
    {
      "cell_type": "markdown",
      "id": "c696b337",
      "metadata": {
        "id": "c696b337"
      },
      "source": [
        "### Exercício 3\n",
        "Escreva um código que gere o gráfico da função trigonométrica seno utilizando a biblioteca <font color='blue'> math </font> no intervalo $[0,2\\pi]$ e compare com o gráfico da aproximação gerada no exercício anterior."
      ]
    },
    {
      "cell_type": "code",
      "execution_count": null,
      "id": "331e6b74",
      "metadata": {
        "id": "331e6b74"
      },
      "outputs": [],
      "source": [
        "# Solucao"
      ]
    },
    {
      "cell_type": "markdown",
      "id": "aabdcda6",
      "metadata": {
        "id": "aabdcda6"
      },
      "source": [
        "### Exercício 4\n",
        "Cadeias DNA e RNA são sequências de nucleotídeos. O DNA é formado por: adenina (A), citosina (C), guanina (G) e timina (T). O RNA é formado por: adenina (A), citosina (C), guanina (G) e uracila (U).\n",
        "\n",
        "Dada uma cadeia de DNA, o RNA transcrito é formado substituindo um nucleotídeo pelo seu complemento:\n",
        "\n",
        "G -> C<br>\n",
        "C -> G<br>\n",
        "T -> A<br>\n",
        "A -> U\n",
        "\n",
        "Implemente uma função que receba uma cadeia de DNA como string e retorne o RNA complementar."
      ]
    },
    {
      "cell_type": "code",
      "execution_count": null,
      "id": "1c4c7fe6",
      "metadata": {
        "id": "1c4c7fe6"
      },
      "outputs": [],
      "source": [
        "# Solucao"
      ]
    },
    {
      "cell_type": "markdown",
      "id": "51a2e64c",
      "metadata": {
        "id": "51a2e64c"
      },
      "source": [
        "### Exercício 5\n",
        "Implemente uma função que conte quantas vezes um certo nucleotídeo aparece em uma cadeia de DNA. Para isso, sua função deve receber uma string representando o DNA e outra representando o nucleotídeo. Caso o nucleotídeo ou o DNA não seja válido, retorne uma mensagem de erro."
      ]
    },
    {
      "cell_type": "code",
      "execution_count": null,
      "id": "db2e81a6",
      "metadata": {
        "id": "db2e81a6"
      },
      "outputs": [],
      "source": [
        "# Solucao"
      ]
    },
    {
      "cell_type": "markdown",
      "id": "c54ab19d",
      "metadata": {
        "id": "c54ab19d"
      },
      "source": [
        "### Exercicio 6\n",
        "Implemente uma função que desenhe um conjunto de 10 círculos onde as coordenadas dos centros são números definidos aleatoriamente entre 0 e 10 e os raios também são números definidos aleatoriamente entre 1 e 3. Para gerar números aleatórios no intervalo entre $a$ e $b$ utilize o método <font color='blue'> uniform(a,b) </font> do pacote <font color='blue'> random </font>."
      ]
    },
    {
      "cell_type": "code",
      "execution_count": null,
      "id": "930a6201",
      "metadata": {
        "id": "930a6201"
      },
      "outputs": [],
      "source": [
        "# Solucao"
      ]
    },
    {
      "cell_type": "markdown",
      "id": "5b09ad0b",
      "metadata": {
        "id": "5b09ad0b"
      },
      "source": [
        "### Exercício 7\n",
        "Construa uma função que receba uma string como entrada e imprima quantas vezes cada caracter aparece na string. Por exemplo:\n",
        "\n",
        "\"ajdkcadjikiakeeij\"\n",
        "\n",
        "deve imprimir:\n",
        "\n",
        "a -> 3<br>\n",
        "j -> 3<br>\n",
        "k -> 3<br>\n",
        "i -> 3<br>\n",
        "d -> 2<br>\n",
        "e -> 2<br>\n",
        "c -> 1"
      ]
    },
    {
      "cell_type": "code",
      "execution_count": null,
      "id": "120ba75a",
      "metadata": {
        "id": "120ba75a",
        "outputId": "413c0662-c7be-465c-f784-5268e05aa481"
      },
      "outputs": [
        {
          "name": "stdout",
          "output_type": "stream",
          "text": [
            "Counter({'a': 3, 'j': 3, 'k': 3, 'i': 3, 'd': 2, 'e': 2, 'c': 1})\n"
          ]
        }
      ],
      "source": [
        "# Solucao"
      ]
    },
    {
      "cell_type": "markdown",
      "id": "e628cba2",
      "metadata": {
        "id": "e628cba2"
      },
      "source": [
        "### Exercício 8\n",
        "Construa uma função que receba como entrada um número inteiro positivo e retorne uma lista de strings onde os elementos da lista são os dígitos do número fornecido convertidos em texto. Por exemplo, se o número for 10353, a lista deve ser\n",
        "\n",
        "['um','zero','tres','cinco','tres']"
      ]
    },
    {
      "cell_type": "code",
      "execution_count": null,
      "id": "fde6edfb",
      "metadata": {
        "id": "fde6edfb"
      },
      "outputs": [],
      "source": [
        "# Solucao"
      ]
    },
    {
      "cell_type": "markdown",
      "id": "e8b46ceb",
      "metadata": {
        "id": "e8b46ceb"
      },
      "source": [
        "### Exercício 9\n",
        "Uma cardeóide pode ser expressa pela equação:\n",
        "\n",
        "$$\n",
        "r = a(1 + \\cos(t))\n",
        "$$\n",
        "\n",
        "onde $r$ corresponde a distância do ponto da cardeóide até a origem $(0,0)$ do sistema de coordenadas cartesiano e $t$ é o ângulo a partir do eixo horizontal até a reta ligando o ponto à origem, como mostra a figura gerada no código abaixo.\n",
        "\n",
        "Escreva uma função que recebe como parâmetro a variável $a$ e o valor do ângulo $t$ e retorna as coordenadas $x$ e $y$ de um ponto na cardeóide."
      ]
    },
    {
      "cell_type": "code",
      "execution_count": null,
      "id": "9319e9da",
      "metadata": {
        "id": "9319e9da",
        "outputId": "ab0ddde2-fb3b-4450-b173-c4c62ae805ed"
      },
      "outputs": [
        {
          "data": {
            "text/plain": [
              "Text(0.2, 0.11, '$t$')"
            ]
          },
          "execution_count": 29,
          "metadata": {},
          "output_type": "execute_result"
        },
        {
          "data": {
            "image/png": "[encoded data removed]",
            "text/plain": [
              "<Figure size 432x288 with 1 Axes>"
            ]
          },
          "metadata": {
            "needs_background": "light"
          },
          "output_type": "display_data"
        }
      ],
      "source": [
        "import matplotlib.pyplot as plt\n",
        "import numpy as np\n",
        "\n",
        "plt.plot([-0.1,1],[0,0],color='black')\n",
        "plt.plot([0,0],[-0.1,1],color='black')\n",
        "plt.plot([0,0.5],[0,0.8],color='blue')\n",
        "plt.plot([0.2*np.cos(t) for t in np.linspace(0,np.pi/3.1)],[0.2*np.sin(t) for t in np.linspace(0,np.pi/3.1)])\n",
        "plt.scatter(0.5,0.8,color='red')\n",
        "plt.text(0.2, 0.45,r'$r$',size = 18)\n",
        "plt.text(0.2, 0.11,r'$t$',size = 18)"
      ]
    },
    {
      "cell_type": "code",
      "execution_count": null,
      "id": "c4ea6df6",
      "metadata": {
        "id": "c4ea6df6"
      },
      "outputs": [],
      "source": [
        "# Solucao"
      ]
    },
    {
      "cell_type": "markdown",
      "id": "412a9c6f",
      "metadata": {
        "id": "412a9c6f"
      },
      "source": [
        "### Exercício 10\n",
        "Faça o gráfico de duas cardeóides quando $a=1$ e $a=3$, assumindo $t\\in[0,2\\pi]$."
      ]
    },
    {
      "cell_type": "code",
      "execution_count": null,
      "id": "c581fed8",
      "metadata": {
        "id": "c581fed8"
      },
      "outputs": [],
      "source": [
        "# Solucao"
      ]
    }
  ],
  "metadata": {
    "kernelspec": {
      "display_name": "Python 3",
      "language": "python",
      "name": "python3"
    },
    "language_info": {
      "codemirror_mode": {
        "name": "ipython",
        "version": 3
      },
      "file_extension": ".py",
      "mimetype": "text/x-python",
      "name": "python",
      "nbconvert_exporter": "python",
      "pygments_lexer": "ipython3",
      "version": "3.8.8"
    },
    "colab": {
      "provenance": [],
      "include_colab_link": true
    }
  },
  "nbformat": 4,
  "nbformat_minor": 5
}