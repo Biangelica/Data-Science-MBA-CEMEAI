{
  "cells": [
    {
      "cell_type": "markdown",
      "metadata": {
        "id": "view-in-github",
        "colab_type": "text"
      },
      "source": [
        "<a href=\"https://colab.research.google.com/github/Biangelica/Data-Science-MBA-CEMEAI/blob/main/Programa%C3%A7%C3%A3o%20para%20Iniciantes/Aula%202/estrutura_de_controle_exercicios.ipynb\" target=\"_parent\"><img src=\"https://colab.research.google.com/assets/colab-badge.svg\" alt=\"Open In Colab\"/></a>"
      ]
    },
    {
      "cell_type": "markdown",
      "id": "28662109",
      "metadata": {
        "id": "28662109"
      },
      "source": [
        "# <font color='blue'> Introdução a Programação com Python </font>\n",
        "    \n",
        "## <font color='blue'> Estrutura de Controle - Exercícios</font>\n",
        "\n",
        "### Material produzido por Luis Gustavo Nonato"
      ]
    },
    {
      "cell_type": "markdown",
      "id": "b8bb5dd0",
      "metadata": {
        "id": "b8bb5dd0"
      },
      "source": [
        "### Exercício 1\n",
        "Considere as variáveis como declaradas abaixo:\n",
        "```python\n",
        "a = TRUE\n",
        "b = FALSE\n",
        "c = TRUE\n",
        "```\n",
        "Escreva um código para imprimir todas as comparações booleanas das varáveis a, b e c que resultem em <font color='blue'> TRUE</font>. Por exemplo, a comparação abaixo:\n",
        "```python\n",
        "a or b\n",
        "```\n",
        "resulta em um valor TRUE."
      ]
    },
    {
      "cell_type": "code",
      "execution_count": null,
      "id": "ed91b8d0",
      "metadata": {
        "id": "ed91b8d0"
      },
      "outputs": [],
      "source": [
        "# Solucao"
      ]
    },
    {
      "cell_type": "markdown",
      "id": "c51cb0f3",
      "metadata": {
        "id": "c51cb0f3"
      },
      "source": [
        "### Exercício 2\n",
        "Considere três números quaisquer armazenados nas variáveis $x$, $y$ e $z$. Escreva um código para imprimir os números em ordem crescente. Por exemplo, se:\n",
        "```python\n",
        "x = 5\n",
        "y = -1\n",
        "z = 3\n",
        "```\n",
        "seu código deve imprimir\n",
        "```python\n",
        "-1 3 5\n",
        "```"
      ]
    },
    {
      "cell_type": "code",
      "execution_count": null,
      "id": "71f51033",
      "metadata": {
        "id": "71f51033"
      },
      "outputs": [],
      "source": [
        "# Solucao"
      ]
    },
    {
      "cell_type": "markdown",
      "id": "1cfe43eb",
      "metadata": {
        "id": "1cfe43eb"
      },
      "source": [
        "### Exercício 3\n",
        "O operador <font color='blue'> % </font> retorna o resto da divisão entre dois números inteiros. Por exemplo:\n",
        "```python\n",
        "print(7%2)\n",
        "```\n",
        "irá imprimir o valor 1, que é o resto da divisão de 7 por 2. Dado um número inteiro qualquer, utilize o operador <font color='blue'> % </font> para decidir se o número é par ou ímpar. Se o número for par, o código deve imprimir a frase:\n",
        "```python\n",
        "O número ?? é par\n",
        "```\n",
        "e a frase\n",
        "```python\n",
        "O número ?? é impar\n",
        "```\n",
        "caso o número seja ímpar. O símbolo ?? dever ser substituído pelo valor do número. Por exemplo, se o número for 33 a frase impressa será\n",
        "```python\n",
        "O número 33 é impar\n",
        "```"
      ]
    },
    {
      "cell_type": "code",
      "execution_count": null,
      "id": "0d0cca6b",
      "metadata": {
        "id": "0d0cca6b"
      },
      "outputs": [],
      "source": [
        "# Solucao"
      ]
    },
    {
      "cell_type": "markdown",
      "id": "1f5f9fc2",
      "metadata": {
        "id": "1f5f9fc2"
      },
      "source": [
        "### Exercício 4\n",
        "Para ser bissexto, um ano deve satisfazer uma das seguintes condições:\n",
        "\n",
        "1. ser divisível por 4 mas não ser divisível por 100;\n",
        "\n",
        "2. ser divisível por 4, por 100 e por 400 simultaneamente.\n",
        "\n",
        "Lembre-se que um número é divisível por outro se o resto da divisão é zero.\n",
        "\n",
        "Escreva um código para verificar se um dado ano é bissexto. Quais dos anos abaixo é bissexto?\n",
        "\n",
        "1900, 1988, 1992, 1996, 2000, 2100"
      ]
    },
    {
      "cell_type": "code",
      "execution_count": null,
      "id": "7e18202e",
      "metadata": {
        "id": "7e18202e"
      },
      "outputs": [],
      "source": [
        "# Solucao"
      ]
    },
    {
      "cell_type": "markdown",
      "id": "17b41a72",
      "metadata": {
        "id": "17b41a72"
      },
      "source": [
        "### Exercício 5\n",
        "Considere a frase abaixo:\n",
        "```os\n",
        "O MBA em Ciencias de Dados oferecido pelo Centro de Ciencias Matematicas Aplicadas à Industria (CeMEAI) e pelo Instituto de Ciências Matematicas e de Computacao (ICMC/USP) foi o primeiro da area a ser oferecido a distancia por uma universidade publica.\n",
        "```\n",
        "Escreva um código para verificar se as substrings 'ere' e 'oi' aparecem na frase. Em caso afirmativo, imprima quantas vezes elas aparecem."
      ]
    },
    {
      "cell_type": "code",
      "execution_count": null,
      "id": "2a4d71b4",
      "metadata": {
        "id": "2a4d71b4"
      },
      "outputs": [],
      "source": [
        "# Solucao"
      ]
    },
    {
      "cell_type": "markdown",
      "id": "c7dfa848",
      "metadata": {
        "id": "c7dfa848"
      },
      "source": [
        "### Exercício 6\n",
        "Laranjas custam 0,30 centavos cada se forem compradas menos do que uma dúzia, e custam 0,25 centavos se forem compradas doze ou mais.\t Escreva um\tprograma que, dado o número de laranjas, calcule e imprima o valor da compra."
      ]
    },
    {
      "cell_type": "code",
      "execution_count": null,
      "id": "76da8645",
      "metadata": {
        "id": "76da8645"
      },
      "outputs": [],
      "source": [
        "# Solucao\n",
        "\n",
        "num_laranjas = 7  # mude este valor para se certificar que seu código está correto"
      ]
    },
    {
      "cell_type": "markdown",
      "id": "18e9d26b",
      "metadata": {
        "id": "18e9d26b"
      },
      "source": [
        "### Exercício 7\n",
        "Escreva um código que considere 3 números quaisquer e imprima o menor deles."
      ]
    },
    {
      "cell_type": "code",
      "execution_count": null,
      "id": "e4b45a30",
      "metadata": {
        "id": "e4b45a30"
      },
      "outputs": [],
      "source": [
        "# Solucao"
      ]
    },
    {
      "cell_type": "markdown",
      "id": "8809b6b5",
      "metadata": {
        "id": "8809b6b5"
      },
      "source": [
        "### Exercício 8\n",
        "Escreva\t um\t programa que\t receba\t as\t medidas\t dos\t lados\t de\t um\t triângulo\t e\timprima\tse\tele\té Equilátero,\tIsósceles\tou\tEscaleno, sendo\tque:\n",
        "− Triângulo\tEquilátero:\tpossui\tos\t3\tlados\tiguais.\n",
        "− Triângulo\tIsóscele:\tpossui\t2\tlados\tiguais.\n",
        "− Triângulo\tEscaleno:\tpossui\t3\tlados\tdiferentes."
      ]
    },
    {
      "cell_type": "code",
      "execution_count": null,
      "id": "604faeaa",
      "metadata": {
        "id": "604faeaa"
      },
      "outputs": [],
      "source": [
        "# Solucao"
      ]
    },
    {
      "cell_type": "markdown",
      "id": "687f81f0",
      "metadata": {
        "id": "687f81f0"
      },
      "source": [
        "### Exercício 9\n",
        "Escreva um código para, dados os valores $a$, $b$ e $c$ da equação do segunda grau\n",
        "\n",
        "$$\n",
        "ax^2+bx+c=0\n",
        "$$\n",
        "\n",
        "encontrar os valores de $x$ que resolvem a equação. Lembrando que a solução é dada pela fórmula de Bháskara\n",
        "\n",
        "$$\n",
        "x=\\frac{-b\\pm\\sqrt{b^2-4ac}}{2a}\n",
        "$$\n",
        "\n",
        "seu código deve imprimir a mensagem _\"Não existe solução real\"_ caso a expressão dentro da raiz quadrada seja negativa."
      ]
    },
    {
      "cell_type": "code",
      "execution_count": null,
      "id": "6665dfc7",
      "metadata": {
        "id": "6665dfc7"
      },
      "outputs": [],
      "source": [
        "# Solucao"
      ]
    },
    {
      "cell_type": "markdown",
      "id": "41f8f326",
      "metadata": {
        "id": "41f8f326"
      },
      "source": [
        "### Exercício 10\n",
        "Dados as coordenadas $(a,b)$ do canto inferior esquerdo de um retângulo e o comprimento $d$ de sua diagonal, escreva um código para verificar se um ponto $(x,y)$ qualquer está dentro ou fora do retângulo."
      ]
    },
    {
      "cell_type": "code",
      "source": [
        "# Solucao"
      ],
      "metadata": {
        "id": "1xlBvd6K81wD"
      },
      "id": "1xlBvd6K81wD",
      "execution_count": null,
      "outputs": []
    },
    {
      "cell_type": "markdown",
      "metadata": {
        "id": "97SoyjAY8y-1"
      },
      "source": [
        "### Exercício 11\n",
        "\n",
        "Escreva um código que simule um sorteio de 100 valores e que compare o número sorteado com um número apostado. O programa deve apresentar ao usuário se o número apostado é menor ou maior que o número sorteado."
      ],
      "id": "97SoyjAY8y-1"
    },
    {
      "cell_type": "code",
      "execution_count": null,
      "id": "651ff5f2",
      "metadata": {
        "id": "651ff5f2"
      },
      "outputs": [],
      "source": [
        "# Solucao"
      ]
    }
  ],
  "metadata": {
    "kernelspec": {
      "display_name": "Python 3",
      "language": "python",
      "name": "python3"
    },
    "language_info": {
      "codemirror_mode": {
        "name": "ipython",
        "version": 3
      },
      "file_extension": ".py",
      "mimetype": "text/x-python",
      "name": "python",
      "nbconvert_exporter": "python",
      "pygments_lexer": "ipython3",
      "version": "3.8.8"
    },
    "colab": {
      "provenance": [],
      "include_colab_link": true
    }
  },
  "nbformat": 4,
  "nbformat_minor": 5
}