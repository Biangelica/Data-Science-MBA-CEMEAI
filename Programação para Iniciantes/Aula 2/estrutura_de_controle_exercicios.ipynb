{
  "cells": [
    {
      "cell_type": "markdown",
      "metadata": {
        "id": "view-in-github",
        "colab_type": "text"
      },
      "source": [
        "<a href=\"https://colab.research.google.com/github/Biangelica/Data-Science-MBA-CEMEAI/blob/main/Programa%C3%A7%C3%A3o%20para%20Iniciantes/Aula%202/estrutura_de_controle_exercicios.ipynb\" target=\"_parent\"><img src=\"https://colab.research.google.com/assets/colab-badge.svg\" alt=\"Open In Colab\"/></a>"
      ]
    },
    {
      "cell_type": "markdown",
      "id": "28662109",
      "metadata": {
        "id": "28662109"
      },
      "source": [
        "# <font color='blue'> Introdução a Programação com Python </font>\n",
        "    \n",
        "## <font color='blue'> Estrutura de Controle - Exercícios</font>\n",
        "\n",
        "### Material produzido por Luis Gustavo Nonato"
      ]
    },
    {
      "cell_type": "markdown",
      "id": "b8bb5dd0",
      "metadata": {
        "id": "b8bb5dd0"
      },
      "source": [
        "### Exercício 1\n",
        "Considere as variáveis como declaradas abaixo:\n",
        "```python\n",
        "a = TRUE\n",
        "b = FALSE\n",
        "c = TRUE\n",
        "```\n",
        "Escreva um código para imprimir todas as comparações booleanas das varáveis a, b e c que resultem em <font color='blue'> TRUE</font>. Por exemplo, a comparação abaixo:\n",
        "```python\n",
        "a or b\n",
        "```\n",
        "resulta em um valor TRUE."
      ]
    },
    {
      "cell_type": "code",
      "execution_count": 1,
      "id": "ed91b8d0",
      "metadata": {
        "id": "ed91b8d0",
        "outputId": "fdb03c05-d013-4b73-dea1-09e306d55b43",
        "colab": {
          "base_uri": "https://localhost:8080/",
          "height": 254
        }
      },
      "outputs": [
        {
          "output_type": "error",
          "ename": "NameError",
          "evalue": "name 'TRUE' is not defined",
          "traceback": [
            "\u001b[0;31m---------------------------------------------------------------------------\u001b[0m",
            "\u001b[0;31mNameError\u001b[0m                                 Traceback (most recent call last)",
            "\u001b[0;32m<ipython-input-1-3abe0edef9a7>\u001b[0m in \u001b[0;36m<cell line: 3>\u001b[0;34m()\u001b[0m\n\u001b[1;32m      1\u001b[0m \u001b[0;31m# Solucao\u001b[0m\u001b[0;34m\u001b[0m\u001b[0;34m\u001b[0m\u001b[0m\n\u001b[1;32m      2\u001b[0m \u001b[0;34m\u001b[0m\u001b[0m\n\u001b[0;32m----> 3\u001b[0;31m \u001b[0ma\u001b[0m \u001b[0;34m=\u001b[0m \u001b[0mTRUE\u001b[0m\u001b[0;34m\u001b[0m\u001b[0;34m\u001b[0m\u001b[0m\n\u001b[0m\u001b[1;32m      4\u001b[0m \u001b[0mb\u001b[0m \u001b[0;34m=\u001b[0m \u001b[0mFALSE\u001b[0m\u001b[0;34m\u001b[0m\u001b[0;34m\u001b[0m\u001b[0m\n\u001b[1;32m      5\u001b[0m \u001b[0mc\u001b[0m \u001b[0;34m=\u001b[0m \u001b[0mTRUE\u001b[0m\u001b[0;34m\u001b[0m\u001b[0;34m\u001b[0m\u001b[0m\n",
            "\u001b[0;31mNameError\u001b[0m: name 'TRUE' is not defined"
          ]
        }
      ],
      "source": [
        "# Solucao\n",
        "\n",
        "# a or b\n",
        "## a or c\n",
        "## c or b\n",
        "## a or b or c\n",
        "## a and c\n",
        "## (a and c) or b"
      ]
    },
    {
      "cell_type": "markdown",
      "id": "c51cb0f3",
      "metadata": {
        "id": "c51cb0f3"
      },
      "source": [
        "### Exercício 2\n",
        "Considere três números quaisquer armazenados nas variáveis $x$, $y$ e $z$. Escreva um código para imprimir os números em ordem crescente. Por exemplo, se:\n",
        "```python\n",
        "x = 5\n",
        "y = -1\n",
        "z = 3\n",
        "```\n",
        "seu código deve imprimir\n",
        "```python\n",
        "-1 3 5\n",
        "```"
      ]
    },
    {
      "cell_type": "code",
      "execution_count": 2,
      "id": "71f51033",
      "metadata": {
        "id": "71f51033",
        "outputId": "d6253d31-e4ba-4812-8941-5d1c7ce3cdf9",
        "colab": {
          "base_uri": "https://localhost:8080/"
        }
      },
      "outputs": [
        {
          "output_type": "stream",
          "name": "stdout",
          "text": [
            "-1 3 5\n"
          ]
        }
      ],
      "source": [
        "# Solucao\n",
        "\n",
        "x = 5\n",
        "y = -1\n",
        "z = 3\n",
        "\n",
        "# Encontrando a ordem crescente\n",
        "if x <= y <= z:\n",
        "    print(x, y, z)\n",
        "elif x <= z <= y:\n",
        "    print(x, z, y)\n",
        "elif y <= x <= z:\n",
        "    print(y, x, z)\n",
        "elif y <= z <= x:\n",
        "    print(y, z, x)\n",
        "elif z <= x <= y:\n",
        "    print(z, x, y)\n",
        "else:\n",
        "    print(z, y, x)"
      ]
    },
    {
      "cell_type": "markdown",
      "id": "1cfe43eb",
      "metadata": {
        "id": "1cfe43eb"
      },
      "source": [
        "### Exercício 3\n",
        "O operador <font color='blue'> % </font> retorna o resto da divisão entre dois números inteiros. Por exemplo:\n",
        "```python\n",
        "print(7%2)\n",
        "```\n",
        "irá imprimir o valor 1, que é o resto da divisão de 7 por 2. Dado um número inteiro qualquer, utilize o operador <font color='blue'> % </font> para decidir se o número é par ou ímpar. Se o número for par, o código deve imprimir a frase:\n",
        "```python\n",
        "O número ?? é par\n",
        "```\n",
        "e a frase\n",
        "```python\n",
        "O número ?? é impar\n",
        "```\n",
        "caso o número seja ímpar. O símbolo ?? dever ser substituído pelo valor do número. Por exemplo, se o número for 33 a frase impressa será\n",
        "```python\n",
        "O número 33 é impar\n",
        "```"
      ]
    },
    {
      "cell_type": "code",
      "execution_count": 9,
      "id": "0d0cca6b",
      "metadata": {
        "id": "0d0cca6b",
        "outputId": "de624bcf-2724-4d34-d971-9c7bc223a015",
        "colab": {
          "base_uri": "https://localhost:8080/"
        }
      },
      "outputs": [
        {
          "output_type": "stream",
          "name": "stdout",
          "text": [
            "88  é par\n"
          ]
        }
      ],
      "source": [
        "# Solucao\n",
        "import random\n",
        "\n",
        "num = random.randint(0, 100)\n",
        "\n",
        "if(num%2 == 0):\n",
        "  print(num, ' é par')\n",
        "else:\n",
        "  print(num, 'é impar')"
      ]
    },
    {
      "cell_type": "markdown",
      "id": "1f5f9fc2",
      "metadata": {
        "id": "1f5f9fc2"
      },
      "source": [
        "### Exercício 4\n",
        "Para ser bissexto, um ano deve satisfazer uma das seguintes condições:\n",
        "\n",
        "1. ser divisível por 4 mas não ser divisível por 100;\n",
        "\n",
        "2. ser divisível por 4, por 100 e por 400 simultaneamente.\n",
        "\n",
        "Lembre-se que um número é divisível por outro se o resto da divisão é zero.\n",
        "\n",
        "Escreva um código para verificar se um dado ano é bissexto. Quais dos anos abaixo é bissexto?\n",
        "\n",
        "1900, 1988, 1992, 1996, 2000, 2100"
      ]
    },
    {
      "cell_type": "code",
      "execution_count": 10,
      "id": "7e18202e",
      "metadata": {
        "id": "7e18202e",
        "outputId": "78b7c891-eb68-4e64-cad3-f15a1d1351d7",
        "colab": {
          "base_uri": "https://localhost:8080/"
        }
      },
      "outputs": [
        {
          "output_type": "stream",
          "name": "stdout",
          "text": [
            "1900 não é bissexto.\n",
            "1988 é bissexto.\n",
            "1992 é bissexto.\n",
            "1996 é bissexto.\n",
            "2000 é bissexto.\n",
            "2100 não é bissexto.\n"
          ]
        }
      ],
      "source": [
        "# Solucao\n",
        "anos = [1900, 1988, 1992, 1996, 2000, 2100]\n",
        "\n",
        "for ano in anos:\n",
        "  if (ano % 4 == 0 and ano % 100 != 0) or (ano % 400 == 0):\n",
        "    print(f\"{ano} é bissexto.\")\n",
        "  else:\n",
        "        print(f\"{ano} não é bissexto.\")"
      ]
    },
    {
      "cell_type": "markdown",
      "id": "17b41a72",
      "metadata": {
        "id": "17b41a72"
      },
      "source": [
        "### Exercício 5\n",
        "Considere a frase abaixo:\n",
        "```os\n",
        "O MBA em Ciencias de Dados oferecido pelo Centro de Ciencias Matematicas Aplicadas à Industria (CeMEAI) e pelo Instituto de Ciências Matematicas e de Computacao (ICMC/USP) foi o primeiro da area a ser oferecido a distancia por uma universidade publica.\n",
        "```\n",
        "Escreva um código para verificar se as substrings 'ere' e 'oi' aparecem na frase. Em caso afirmativo, imprima quantas vezes elas aparecem."
      ]
    },
    {
      "cell_type": "code",
      "execution_count": 11,
      "id": "2a4d71b4",
      "metadata": {
        "id": "2a4d71b4",
        "outputId": "27080c80-322d-4c27-afb1-cf878d4ee281",
        "colab": {
          "base_uri": "https://localhost:8080/"
        }
      },
      "outputs": [
        {
          "output_type": "stream",
          "name": "stdout",
          "text": [
            "TRUE\n"
          ]
        }
      ],
      "source": [
        "# Solucao\n",
        "\n",
        "frase = 'O MBA em Ciencias de Dados oferecido pelo Centro de Ciencias Matematicas Aplicadas à Industria (CeMEAI) e pelo Instituto de Ciências Matematicas e de Computacao (ICMC/USP) foi o primeiro da area a ser oferecido a distancia por uma universidade publica.'\n",
        "\n",
        "if('ere' in frase and 'oi' in frase):\n",
        "  print('TRUE')\n",
        "else:\n",
        "  print('FALSE')"
      ]
    },
    {
      "cell_type": "markdown",
      "id": "c7dfa848",
      "metadata": {
        "id": "c7dfa848"
      },
      "source": [
        "### Exercício 6\n",
        "Laranjas custam 0,30 centavos cada se forem compradas menos do que uma dúzia, e custam 0,25 centavos se forem compradas doze ou mais.\t Escreva um\tprograma que, dado o número de laranjas, calcule e imprima o valor da compra."
      ]
    },
    {
      "cell_type": "code",
      "execution_count": 15,
      "id": "76da8645",
      "metadata": {
        "id": "76da8645",
        "outputId": "40a9e048-db17-4e9a-a92a-bcd7669c467e",
        "colab": {
          "base_uri": "https://localhost:8080/"
        }
      },
      "outputs": [
        {
          "output_type": "stream",
          "name": "stdout",
          "text": [
            "13 custarão 0,25 centavos cada\n"
          ]
        }
      ],
      "source": [
        "# Solucao\n",
        "\n",
        "num_laranjas =   random.randint(0, 20)\n",
        "\n",
        "if(num_laranjas < 12):\n",
        "  print(num_laranjas, 'custarão 0,30 centavos cada')\n",
        "else:\n",
        "  print(num_laranjas, 'custarão 0,25 centavos cada')\n"
      ]
    },
    {
      "cell_type": "markdown",
      "id": "18e9d26b",
      "metadata": {
        "id": "18e9d26b"
      },
      "source": [
        "### Exercício 7\n",
        "Escreva um código que considere 3 números quaisquer e imprima o menor deles."
      ]
    },
    {
      "cell_type": "code",
      "execution_count": 16,
      "id": "e4b45a30",
      "metadata": {
        "id": "e4b45a30",
        "outputId": "0239af34-9f07-434c-e12d-7ebc8dab4a5b",
        "colab": {
          "base_uri": "https://localhost:8080/"
        }
      },
      "outputs": [
        {
          "output_type": "stream",
          "name": "stdout",
          "text": [
            "Entre  32 15 42  o menor é  15\n"
          ]
        }
      ],
      "source": [
        "# Solucao\n",
        "\n",
        "num1 = random.randint(0, 100)\n",
        "num2 = random.randint(0, 100)\n",
        "num3 = random.randint(0, 100)\n",
        "\n",
        "print('Entre ', num1, num2, num3, ' o menor é ', min(num1, num2, num3))"
      ]
    },
    {
      "cell_type": "markdown",
      "id": "8809b6b5",
      "metadata": {
        "id": "8809b6b5"
      },
      "source": [
        "### Exercício 8\n",
        "Escreva\t um\t programa que\t receba\t as\t medidas\t dos\t lados\t de\t um\t triângulo\t e\timprima\tse\tele\té Equilátero,\tIsósceles\tou\tEscaleno, sendo\tque:\n",
        "− Triângulo\tEquilátero:\tpossui\tos\t3\tlados\tiguais.\n",
        "− Triângulo\tIsóscele:\tpossui\t2\tlados\tiguais.\n",
        "− Triângulo\tEscaleno:\tpossui\t3\tlados\tdiferentes."
      ]
    },
    {
      "cell_type": "code",
      "execution_count": 32,
      "id": "604faeaa",
      "metadata": {
        "id": "604faeaa",
        "outputId": "982b89bf-1bfb-4457-d7d5-2a84781e7dbe",
        "colab": {
          "base_uri": "https://localhost:8080/"
        }
      },
      "outputs": [
        {
          "output_type": "stream",
          "name": "stdout",
          "text": [
            "Isósceles\n"
          ]
        }
      ],
      "source": [
        "# Solucao\n",
        "\n",
        "x = random.randint(0, 2)\n",
        "y = random.randint(0, 2)\n",
        "z = random.randint(0, 2)\n",
        "\n",
        "if x == y == z:\n",
        "   print(\"Equilátero\")\n",
        "elif x == y or x == z or z == y:\n",
        "    print(\"Isósceles\")\n",
        "else:\n",
        "    print(\"Escaleno\")"
      ]
    },
    {
      "cell_type": "markdown",
      "id": "687f81f0",
      "metadata": {
        "id": "687f81f0"
      },
      "source": [
        "### Exercício 9\n",
        "Escreva um código para, dados os valores $a$, $b$ e $c$ da equação do segunda grau\n",
        "\n",
        "$$\n",
        "ax^2+bx+c=0\n",
        "$$\n",
        "\n",
        "encontrar os valores de $x$ que resolvem a equação. Lembrando que a solução é dada pela fórmula de Bháskara\n",
        "\n",
        "$$\n",
        "x=\\frac{-b\\pm\\sqrt{b^2-4ac}}{2a}\n",
        "$$\n",
        "\n",
        "seu código deve imprimir a mensagem _\"Não existe solução real\"_ caso a expressão dentro da raiz quadrada seja negativa."
      ]
    },
    {
      "cell_type": "code",
      "execution_count": 37,
      "id": "6665dfc7",
      "metadata": {
        "id": "6665dfc7",
        "outputId": "e1cfba91-e9c2-4781-c13a-a93eae994060",
        "colab": {
          "base_uri": "https://localhost:8080/"
        }
      },
      "outputs": [
        {
          "output_type": "stream",
          "name": "stdout",
          "text": [
            "As soluções da equação são: x1 = -0.0268013788800496, x2 = -0.5922462401675694\n"
          ]
        }
      ],
      "source": [
        "# Solucao\n",
        "import math\n",
        "\n",
        "# Recebendo os coeficientes da equação quadrática\n",
        "a = float(random.randint(0, 100))\n",
        "b = float(random.randint(0, 100))\n",
        "c = float(random.randint(0, 100))\n",
        "\n",
        "# Calculando o discriminante\n",
        "delta = b**2 - 4*a*c\n",
        "\n",
        "# Verificando se existe solução real\n",
        "if delta < 0:\n",
        "    print(\"Não existe solução real.\")\n",
        "else:\n",
        "    # Calculando as soluções usando a fórmula de Bhaskara\n",
        "    x1 = (-b + math.sqrt(delta)) / (2*a)\n",
        "    x2 = (-b - math.sqrt(delta)) / (2*a)\n",
        "\n",
        "    # Exibindo as soluções\n",
        "    print(f\"As soluções da equação são: x1 = {x1}, x2 = {x2}\")\n"
      ]
    },
    {
      "cell_type": "markdown",
      "id": "41f8f326",
      "metadata": {
        "id": "41f8f326"
      },
      "source": [
        "### Exercício 10\n",
        "Dados as coordenadas $(a,b)$ do canto inferior esquerdo de um retângulo e o comprimento $d$ de sua diagonal, escreva um código para verificar se um ponto $(x,y)$ qualquer está dentro ou fora do retângulo."
      ]
    },
    {
      "cell_type": "code",
      "source": [
        "# Solucao\n",
        "import math\n",
        "\n",
        "# Coordenadas do canto inferior esquerdo do retângulo\n",
        "a = float(random.randint(0, 100))\n",
        "b = float(random.randint(0, 100))\n",
        "\n",
        "# Comprimento da diagonal do retângulo\n",
        "\n",
        "d=float(random.randint(0, 100))\n",
        "\n",
        "# Coordenadas do ponto\n",
        "x = float(random.randint(0, 100))\n",
        "y = float(random.randint(0, 100))\n",
        "\n",
        "\n",
        "dx = d / math.sqrt(2)\n",
        "x_superior = a + dx\n",
        "y_superior = b + dx\n",
        "\n",
        "\n",
        "if a <= x <= x_superior and b <= y <= y_superior:\n",
        "      print(\"O ponto está dentro do retângulo.\")\n",
        "else:\n",
        "    print(\"O ponto está fora do retângulo.\")\n"
      ],
      "metadata": {
        "id": "1xlBvd6K81wD",
        "outputId": "38f26d29-8808-4ad6-9213-c9b52dc342f6",
        "colab": {
          "base_uri": "https://localhost:8080/"
        }
      },
      "id": "1xlBvd6K81wD",
      "execution_count": 44,
      "outputs": [
        {
          "output_type": "stream",
          "name": "stdout",
          "text": [
            "O ponto está fora do retângulo.\n"
          ]
        }
      ]
    },
    {
      "cell_type": "markdown",
      "metadata": {
        "id": "97SoyjAY8y-1"
      },
      "source": [
        "### Exercício 11\n",
        "\n",
        "Escreva um código que simule um sorteio de 100 valores e que compare o número sorteado com um número apostado. O programa deve apresentar ao usuário se o número apostado é menor ou maior que o número sorteado."
      ],
      "id": "97SoyjAY8y-1"
    },
    {
      "cell_type": "code",
      "execution_count": 47,
      "id": "651ff5f2",
      "metadata": {
        "id": "651ff5f2",
        "outputId": "ae8b41a7-1894-47fc-dcdd-bd94b26f6abe",
        "colab": {
          "base_uri": "https://localhost:8080/"
        }
      },
      "outputs": [
        {
          "output_type": "stream",
          "name": "stdout",
          "text": [
            "Faça sua aposta (um número entre 1 e 100): 25\n",
            "Infelizmente, o número sorteado é maior que sua aposta (61).\n",
            "O número sorteado foi: 61\n"
          ]
        }
      ],
      "source": [
        "# Solucao\n",
        "import random\n",
        "\n",
        "# Simulação do sorteio de 100 valores\n",
        "numero_sorteado = random.randint(1, 100)\n",
        "\n",
        "# Recebendo a aposta do usuário\n",
        "aposta = int(input(\"Faça sua aposta (um número entre 1 e 100): \"))\n",
        "\n",
        "# Comparando a aposta com o número sorteado\n",
        "if aposta == numero_sorteado:\n",
        "    print(\"Parabéns! Você acertou o número sorteado.\")\n",
        "elif aposta < numero_sorteado:\n",
        "    print(f\"Infelizmente, o número sorteado é maior que sua aposta ({numero_sorteado}).\")\n",
        "else:\n",
        "    print(f\"Infelizmente, o número sorteado é menor que sua aposta ({numero_sorteado}).\")\n",
        "\n",
        "# Exibindo o número sorteado\n",
        "print(f\"O número sorteado foi: {numero_sorteado}\")"
      ]
    }
  ],
  "metadata": {
    "kernelspec": {
      "display_name": "Python 3",
      "language": "python",
      "name": "python3"
    },
    "language_info": {
      "codemirror_mode": {
        "name": "ipython",
        "version": 3
      },
      "file_extension": ".py",
      "mimetype": "text/x-python",
      "name": "python",
      "nbconvert_exporter": "python",
      "pygments_lexer": "ipython3",
      "version": "3.8.8"
    },
    "colab": {
      "provenance": [],
      "include_colab_link": true
    }
  },
  "nbformat": 4,
  "nbformat_minor": 5
}