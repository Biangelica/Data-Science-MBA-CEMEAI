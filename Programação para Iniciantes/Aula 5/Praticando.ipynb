{
  "cells": [
    {
      "cell_type": "markdown",
      "metadata": {
        "id": "view-in-github",
        "colab_type": "text"
      },
      "source": [
        "<a href=\"https://colab.research.google.com/github/Biangelica/Data-Science-MBA-CEMEAI/blob/main/Programa%C3%A7%C3%A3o%20para%20Iniciantes/Aula%205/Praticando.ipynb\" target=\"_parent\"><img src=\"https://colab.research.google.com/assets/colab-badge.svg\" alt=\"Open In Colab\"/></a>"
      ]
    },
    {
      "cell_type": "markdown",
      "id": "b6e6a8e2",
      "metadata": {
        "id": "b6e6a8e2"
      },
      "source": [
        "# <font color='blue'> Introdução a Programação com Python </font>\n",
        "    \n",
        "## <font color='blue'> Praticando </font>\n",
        "\n",
        "### Material produzido por Luis Gustavo Nonato"
      ]
    },
    {
      "cell_type": "code",
      "execution_count": null,
      "id": "7dae3f24",
      "metadata": {
        "id": "7dae3f24"
      },
      "outputs": [],
      "source": [
        "import math\n",
        "import random\n",
        "import matplotlib.pyplot as plt"
      ]
    },
    {
      "cell_type": "markdown",
      "id": "71c3e713",
      "metadata": {
        "id": "71c3e713"
      },
      "source": [
        "### Exercício 1)\n",
        "O problema ABACABA é definido da seguinte maneira. Comece com a letra \"A\" do alfabeto. Considere agora a letra \"B\" e forme a string copiando a letra \"A\" antes e depois do \"B\", resultando em \"ABA\". Considere a letra \"C\" e copie a string anterior antes e depois do \"C\", resultando em \"ABACABA\". Você pode continuar este processo até que todas as letras do alfabeto tenham sido incluidas. Escreva uma função para construir a sequência ABACABA com as $k$ primeiras letras do alfabeto, onde $k$ é um parâmetro de entrada da função."
      ]
    },
    {
      "cell_type": "code",
      "execution_count": null,
      "id": "2bba4e2a",
      "metadata": {
        "id": "2bba4e2a"
      },
      "outputs": [],
      "source": [
        "# Solucao\n",
        "def abacaba(k):\n",
        "  # escreva seu código aqui"
      ]
    },
    {
      "cell_type": "markdown",
      "id": "30e1bc35",
      "metadata": {
        "id": "30e1bc35"
      },
      "source": [
        "### Exercício 2)\n",
        "Dada uma lista formada apenas por 0s e 1s (lista binária), construa uma outra lista descrevendo a quantidade de 1's consecutivos (um 1 isolado corresponde a um único 1 consecutivo) que aparece na lista, por exemplo:\n",
        "\n",
        "[1,1,0,1,0,0,1,1,1,0,0] -> [2,1,3]\n",
        "\n",
        "A função `gera_lista_binaria` abaixo gera uma lista binária de tamanho $n$. Utilize a função `gera_lista_binaria`  para testar seu código."
      ]
    },
    {
      "cell_type": "code",
      "execution_count": null,
      "id": "f8ce9479",
      "metadata": {
        "id": "f8ce9479"
      },
      "outputs": [],
      "source": [
        "def gera_lista_binaria(n):\n",
        "    binaries = [0,1]\n",
        "    lb = [random.choice(binaries) for i in range(n)]\n",
        "\n",
        "    return(lb)"
      ]
    },
    {
      "cell_type": "code",
      "execution_count": null,
      "id": "00f19cde",
      "metadata": {
        "id": "00f19cde"
      },
      "outputs": [],
      "source": [
        "# Solucao\n"
      ]
    },
    {
      "cell_type": "markdown",
      "id": "725d7a6b",
      "metadata": {
        "id": "725d7a6b"
      },
      "source": [
        "### Exercício 3)\n",
        "Dado um número inteiro positivo qualquer, escreva um código para gerar outro número que seja a soma de 1 em cada um dos dígitos do número fornecido. Por exemplo\n",
        "```os\n",
        "795 --> 8106\n",
        "````\n",
        "**Dica**: Você pode transformar o número para string com o comando <font color='blue'> str( )</font>, percorrer a string adicionando 1 a cada algarismo e depois converter o resultado de volta para inteiro com o comando <font color='blue'> int( ) </font>."
      ]
    },
    {
      "cell_type": "code",
      "execution_count": null,
      "id": "74a18875",
      "metadata": {
        "id": "74a18875"
      },
      "outputs": [],
      "source": [
        "# Solucao\n"
      ]
    },
    {
      "cell_type": "markdown",
      "id": "fdf92a03",
      "metadata": {
        "id": "fdf92a03"
      },
      "source": [
        "### Exercício 4)\n",
        "Uma forma simples de calcular a raiz de uma função $f:\\mathbb{R}\\rightarrow\\mathbb{R}$ (raiz da $f$ é onde $f$ tem valor zero) é encontrar um intervalo $[a,b]$ tal que $f(a)f(b)<0$ e repetir o seguinte procedimento:\n",
        "```os\n",
        "1. calcule m=(a+b)/2\n",
        "2. se f(m) != 0\n",
        "3.    se f(a)f(m) < 0 faça b = m e volte ao passo 1\n",
        "4.    senão faça a=m e volte ao passo 1\n",
        "5. senão m é a raiz procurada\n",
        "```\n",
        "\n",
        "Sabendo que a função\n",
        "\n",
        "$$\n",
        "f(x)=1-\\exp(\\cos(x^2))\n",
        "$$\n",
        "\n",
        "tem uma raiz no intervalo entre $1$ e $\\frac{3}{2}$, escreva um código para encontar a raiz de $f$ neste intervalo. Faça o gráfico de $f$ e mostre o ponto encontrado."
      ]
    },
    {
      "cell_type": "code",
      "execution_count": null,
      "id": "09952f8c",
      "metadata": {
        "id": "09952f8c"
      },
      "outputs": [],
      "source": [
        "# Solucao\n"
      ]
    },
    {
      "cell_type": "markdown",
      "id": "5ac8e76a",
      "metadata": {
        "id": "5ac8e76a"
      },
      "source": [
        "### Exercício 5)\n",
        "Construa um código para gerar um conjunto de $n$, onde $n$ é um inteiro positivo qualquer, de circulos com centros escolhidos aleatoriamente no intervalo $[-1,1]\\times[-1,1]$ e raio também escolhido aleatoriamente no intervalo $[0.1,0.5]$. Armazene as informações de cada círculo em uma tupla com três elementos, sendo os dois primeiros o centro e o terceiro elemento da tupla o raio do círuclo, armazenando todas as tuplas em uma lista.\n",
        "\n",
        "Faça o gráfico dos círculos gerados."
      ]
    },
    {
      "cell_type": "code",
      "execution_count": null,
      "id": "78c5188d",
      "metadata": {
        "id": "78c5188d"
      },
      "outputs": [],
      "source": [
        "# Solucao\n",
        "\n"
      ]
    },
    {
      "cell_type": "markdown",
      "id": "1f1d16c3",
      "metadata": {
        "id": "1f1d16c3"
      },
      "source": [
        "### Exercício 6)\n",
        "Dada a lista de círculos gerada no exercício anterior, verique quais círculos contém outros círculos no seu interior. Por exemplo, se o círculo $(cx_k,cy_k,r_k)$ contém os círculos $(cx_i,cy_i,r_i)$ e $(cx_j,cy_j,r_j)$ em seu interior, seu código deve imprimir:\n",
        "\n",
        "$$\n",
        "(cx_k,cy_k,r_k) \\mbox{ contém }\\\\\n",
        "\\qquad (cx_i,cy_i,r_i)\\\\\n",
        "\\qquad (cx_j,cy_j,r_j)\n",
        "$$\n"
      ]
    },
    {
      "cell_type": "code",
      "execution_count": null,
      "id": "5dae3cbd",
      "metadata": {
        "id": "5dae3cbd"
      },
      "outputs": [],
      "source": [
        "# Solucao"
      ]
    }
  ],
  "metadata": {
    "colab": {
      "provenance": [],
      "include_colab_link": true
    },
    "kernelspec": {
      "display_name": "Python 3",
      "language": "python",
      "name": "python3"
    },
    "language_info": {
      "codemirror_mode": {
        "name": "ipython",
        "version": 3
      },
      "file_extension": ".py",
      "mimetype": "text/x-python",
      "name": "python",
      "nbconvert_exporter": "python",
      "pygments_lexer": "ipython3",
      "version": "3.8.8"
    }
  },
  "nbformat": 4,
  "nbformat_minor": 5
}