{
  "cells": [
    {
      "cell_type": "markdown",
      "id": "41e1ba46",
      "metadata": {
        "id": "41e1ba46"
      },
      "source": [
        "# <font color='blue'> Introdução a Programação com Python </font>\n",
        "    \n",
        "## <font color='blue'> Hello World, Variáveis e Operações - Exercícios</font>\n",
        "\n",
        "### Material produzido por Luis Gustavo Nonato"
      ]
    },
    {
      "cell_type": "markdown",
      "id": "b895355a",
      "metadata": {
        "id": "b895355a"
      },
      "source": [
        "### Exercício 1\n",
        "Supondo que a cotação do dólar esteja em R\\$ 5.30, escreva um código para converter `x` dólares para reais, onde `x` é uma variável definida no seu código. Por exemplo, supondo que `x` tem o valor US\\$ 73.50, utilizando o comando <font color='blue'> print </font>, apresente o resultado como na frase abaixo:\n",
        "```\n",
        "US$ 73.50 corresponde a R$ ???\n",
        "```\n",
        "onde ??? é o valor que você calculou. Escreva o comando <font color='blue'> print </font> de modo que se você alterar o valor de `x`, a frase mostrada refletirá o novo valor. Por exemplo, se o valor 37 for atribuido a `x`, o resultado do <font color='blue'> print </font> será:\n",
        "```\n",
        "US$ 37.00 corresponde a R$ ???\n",
        "```"
      ]
    },
    {
      "cell_type": "code",
      "execution_count": 1,
      "id": "2aa08543",
      "metadata": {
        "id": "2aa08543",
        "outputId": "fd444b52-588c-44cb-b3cf-295336cb196c",
        "colab": {
          "base_uri": "https://localhost:8080/"
        }
      },
      "outputs": [
        {
          "output_type": "stream",
          "name": "stdout",
          "text": [
            "US$  37.0 corresponde a R$  196.1\n"
          ]
        }
      ],
      "source": [
        "# solução\n",
        "x = 37.00\n",
        "print('US$ ', x ,  'corresponde a R$ ', x*5.3)\n"
      ]
    },
    {
      "cell_type": "markdown",
      "id": "d5f517b7",
      "metadata": {
        "id": "d5f517b7"
      },
      "source": [
        "### Exercício 2\n",
        "Um professor pode calcular a média final de seus alunos utilizando média aritmética (MA), média geométrica (MG) ou média harmônica (MH), de acordo com as fórmulas abaixo:\n",
        "$$\n",
        "MA = \\frac{P_1+P_2+P_3+P_4}{4},\\quad\n",
        "MG = (P_1P_2P_3P_4)^{\\frac{1}{4}},\\quad\n",
        "MH = \\frac{4}{\\frac{1}{P_1}+\\frac{1}{P_2}+\\frac{1}{P_3}+\\frac{1}{P_4}}\n",
        "$$\n",
        "\n",
        "onde $P_1,P_2,P_3,P_4$ são as notas das quatro provas do semestre. Supondo que um aluno tenha obtido notas $7.5, 6.3, 2.5, 6.2$, escreva um código em Python que calcule tais médias e as apresente (<font color = 'blue'>print</font>)."
      ]
    },
    {
      "cell_type": "code",
      "execution_count": 3,
      "id": "9a247140",
      "metadata": {
        "id": "9a247140",
        "outputId": "41d175e8-b033-4405-d764-3d7d71b57aea",
        "colab": {
          "base_uri": "https://localhost:8080/"
        }
      },
      "outputs": [
        {
          "output_type": "stream",
          "name": "stdout",
          "text": [
            "MA =  5.625 MG:  183.09375 MH:  4.68738749549982\n"
          ]
        }
      ],
      "source": [
        "# solução\n",
        "p1 = 7.5\n",
        "p2 = 6.3\n",
        "p3 = 2.5\n",
        "p4 = 6.2\n",
        "\n",
        "print('MA = ', (p1+p2+p3+p4)/4, 'MG = ', (p1*p2*p3*p4)**1/4 , 'MH= ', 4/(1/p1+1/p2+1/p3+1/p4))"
      ]
    },
    {
      "cell_type": "markdown",
      "id": "4f370da7",
      "metadata": {
        "id": "4f370da7"
      },
      "source": [
        "### Exercício 3\n",
        "Escreva um código para criar três variáveis inteiras denominadas `hora`, `minuto` e `segundo`, onde `hora` só pode receber valores entre 0 e 24, enquanto `minuto` e `segundo` podem receber valores entre 0 e 60.\n",
        "Escreva um código para calcular e apresentar quantos segundos existem em $h$ horas, $m$ minutos e $s$ segundos, onde $h$, $m$ e $s$ são os valores fornecidos para as variáveis `hora`, `minuto` e `segundo`."
      ]
    },
    {
      "cell_type": "code",
      "execution_count": 5,
      "id": "471ff291",
      "metadata": {
        "id": "471ff291",
        "outputId": "039c05a0-5cde-4474-c975-6c6697a03f78",
        "colab": {
          "base_uri": "https://localhost:8080/"
        }
      },
      "outputs": [
        {
          "output_type": "stream",
          "name": "stdout",
          "text": [
            "Valores gerados - Hora: 20, Minuto: 16, Segundo: 6\n",
            "Total de segundos: 72966 segundos\n"
          ]
        }
      ],
      "source": [
        "# solução\n",
        "import random\n",
        "\n",
        "# Gerando valores aleatórios para hora (entre 0 e 24), minuto (entre 0 e 60) e segundo (entre 0 e 60)\n",
        "hora = random.randint(0, 24)\n",
        "minuto = random.randint(0, 60)\n",
        "segundo = random.randint(0, 60)\n",
        "\n",
        "total_segundos = hora * 3600 + minuto * 60 + segundo\n",
        "\n",
        "print(f\"Valores gerados - Hora: {hora}, Minuto: {minuto}, Segundo: {segundo}\")\n",
        "print(f\"Total de segundos: {total_segundos} segundos\")"
      ]
    },
    {
      "cell_type": "markdown",
      "source": [
        "## Exercício 4\n",
        "Uma padaria vende diariamente uma certa quantidade de pães franceses e uma quantidade de broas. Cada pãozinho custa R$ 0,80 e a broa custa R\\$ 2.50. João, dono da padaria, converte 15% do total arrecadado com as vendas em Euros para sua viagem anual. Sabe-se que 1 Euro custa R\\$ 6.50. Com base nestes fatos, faça um programa para calcular aproximadamente quantos dias  João precisará trabalhar para ir à Europa, sabendo que ele vende, por dia, 300 pães e 150 broas e que ele precisa de 2500 Euros para realizar sua viagem.\n",
        "\n",
        "\n"
      ],
      "metadata": {
        "id": "kDPYQ8etSn3T"
      },
      "id": "kDPYQ8etSn3T"
    },
    {
      "cell_type": "code",
      "source": [
        "# Solucao\n",
        "pao = 300 * 0.8\n",
        "broa = 150 * 2.5\n",
        "\n",
        "faturamentoDiario = (pao + broa)\n",
        "\n",
        "euro =  (faturamentoDiario * 0.15)/ 6.5\n",
        "\n",
        "print('João precisaria de ', 2500/euro, ' dias para juntar 2500 euros')\n"
      ],
      "metadata": {
        "id": "14UfenY7Twpg",
        "outputId": "a2bcc673-fe04-48bb-af02-bcdfd444f6ea",
        "colab": {
          "base_uri": "https://localhost:8080/"
        }
      },
      "id": "14UfenY7Twpg",
      "execution_count": 15,
      "outputs": [
        {
          "output_type": "stream",
          "name": "stdout",
          "text": [
            "João precisaria de  176.15176151761517  dias para juntar 2500 euros\n",
            "João precisará trabalhar aproximadamente 176.15 dias para atingir a meta de 2500 Euros.\n"
          ]
        }
      ]
    },
    {
      "cell_type": "markdown",
      "source": [
        "## Exercício 5\n",
        "\n",
        "Faça um programa para calcular aproximadamente quanto custa pintar uma parede de 3m de altura por 8m de comprimento. Considere que a cobertura da tinta é de 1 litro para cada 3 metros quadrados e que a tinta é vendida em latas de 4 litros, que custam R$ 107,00."
      ],
      "metadata": {
        "id": "RUaeLsuVU3Bd"
      },
      "id": "RUaeLsuVU3Bd"
    },
    {
      "cell_type": "code",
      "source": [
        "# solucao\n",
        "volumeTinta =  (3 * 8)/ 3\n",
        "latas = volumeTinta /4\n",
        "\n",
        "print('Para pintar a parede de 3 metros de altura por 8m de comprimento, precisaria de ', latas, ' latas dando um total de R$', latas*107)"
      ],
      "metadata": {
        "id": "MbvBtL4TVfht",
        "outputId": "bd606b67-0bdd-4d54-f651-3698ebca49bf",
        "colab": {
          "base_uri": "https://localhost:8080/"
        }
      },
      "id": "MbvBtL4TVfht",
      "execution_count": 16,
      "outputs": [
        {
          "output_type": "stream",
          "name": "stdout",
          "text": [
            "Para pintar a parede de 3 metros de altura por 8m de comprimento, precisaria de  2.0  latas dando um total de R$ 214.0\n"
          ]
        }
      ]
    },
    {
      "cell_type": "markdown",
      "source": [
        "## Exercício 6\n",
        "Converta as seguintes expressões matemáticas para Python, armazenando-as em variáveis denominadas de forma válida:\n",
        "- $\\cfrac{(10^3 + 2^3) \\cdot (3^2 + 3^{10})}{3 + 2}$\n",
        "- $4^{3^{2}}$\n",
        "- $\\cfrac{(4^5)}{(2^{3})(3^{4})}$"
      ],
      "metadata": {
        "id": "iRE5Sh68fDwA"
      },
      "id": "iRE5Sh68fDwA"
    },
    {
      "cell_type": "code",
      "source": [
        "# solucao\n",
        "\n",
        "exp1 = (10**3 + 2**3) * (3**2 + 3 **10)/ (3+2)\n",
        "exp2 = (4**(3**2))\n",
        "exp3 = (4**5)/((2**3)*(3**4))\n",
        "\n",
        "print(\"Resultado da Expressão 1:\", exp1)\n",
        "print(\"Resultado da Expressão 2:\", exp2)\n",
        "print(\"Resultado da Expressão 3:\", exp3)"
      ],
      "metadata": {
        "id": "YiUgKz1tf53m",
        "outputId": "ef73879a-b775-46ec-82c1-e864eab93bda",
        "colab": {
          "base_uri": "https://localhost:8080/"
        }
      },
      "id": "YiUgKz1tf53m",
      "execution_count": 21,
      "outputs": [
        {
          "output_type": "stream",
          "name": "stdout",
          "text": [
            "Resultado da Expressão 1: 11906092.8\n",
            "Resultado da Expressão 2: 262144\n",
            "Resultado da Expressão 3: 1.5802469135802468\n"
          ]
        }
      ]
    },
    {
      "cell_type": "markdown",
      "source": [
        "## Exercício 7\n",
        "\n",
        "Verifique se as expressões matemáticas ```4/(2+2)/4```  e ```4/2+2/4``` em Python exibem o mesmo resultado."
      ],
      "metadata": {
        "id": "jHvvHgvXi_h8"
      },
      "id": "jHvvHgvXi_h8"
    },
    {
      "cell_type": "code",
      "source": [
        "# solucao\n",
        "\n",
        "exp1 = 4/(2+2)/4\n",
        "exp2 = 4/2+2/4\n",
        "\n",
        "print (exp1, exp2)"
      ],
      "metadata": {
        "id": "yixA4LvGjOmJ",
        "outputId": "74174eb9-cb7a-4a7d-fc2d-098f9d5da9a9",
        "colab": {
          "base_uri": "https://localhost:8080/"
        }
      },
      "id": "yixA4LvGjOmJ",
      "execution_count": 22,
      "outputs": [
        {
          "output_type": "stream",
          "name": "stdout",
          "text": [
            "0.25 2.5\n"
          ]
        }
      ]
    },
    {
      "cell_type": "markdown",
      "source": [
        "## Exercício 8\n",
        "\n",
        "Um termostato mede 212 graus Fahrenheit. Escreva um código em Python que converta o valor para graus Celsius com base na fórmula abaixo:\n",
        "\n",
        "$T_\\text{Celsius} = 5 \\cdot \\left(\\cfrac{T_\\text{Fahrenheit} - 32}{9}\\right)$\n",
        "\n",
        "em que $T_\\text{Celsius}$ indica a temperatura em graus Celsius e $T_\\text{Fahrenheit}$ a temperatura em graus Fahrenheit."
      ],
      "metadata": {
        "id": "HZUhuS3Hjb-8"
      },
      "id": "HZUhuS3Hjb-8"
    },
    {
      "cell_type": "code",
      "source": [
        "# solucao\n",
        "termostatoF = 212\n",
        "\n",
        "celsius = 5 * ((termostatoF - 32)/9)\n",
        "\n",
        "print(celsius)"
      ],
      "metadata": {
        "id": "72KfVmVJkPKg",
        "outputId": "b3a9c9d0-c877-45f5-9952-59ad6228bbc6",
        "colab": {
          "base_uri": "https://localhost:8080/"
        }
      },
      "id": "72KfVmVJkPKg",
      "execution_count": 23,
      "outputs": [
        {
          "output_type": "stream",
          "name": "stdout",
          "text": [
            "100.0\n"
          ]
        }
      ]
    },
    {
      "cell_type": "markdown",
      "source": [
        "## Exercício 9\n",
        "O custo de um carro novo ao consumidor é a soma do custo de fábrica com a porcentagem do distribuidor e dos impostos (aplicados ao custo de fábrica). Supondo que o percentual do distribuidor seja de 28% e os impostos de 45%, escrever um algoritmo que exiba o valor final de um veículo ao consumidor sabendo que o custo de fabricação do automóvel é de R\\$12.000."
      ],
      "metadata": {
        "id": "P-q-B0WdkbLa"
      },
      "id": "P-q-B0WdkbLa"
    },
    {
      "cell_type": "code",
      "source": [
        "# Solucao\n",
        "CustoFabricacao = 12000\n",
        "total = CustoFabricacao + (CustoFabricacao*0.28) + (CustoFabricacao*0.45)\n",
        "\n",
        "print(total)\n"
      ],
      "metadata": {
        "id": "dtpUZu1_lCFP",
        "outputId": "23760eb5-9d3c-4f0d-e714-ea0a9c0b6a85",
        "colab": {
          "base_uri": "https://localhost:8080/"
        }
      },
      "id": "dtpUZu1_lCFP",
      "execution_count": 25,
      "outputs": [
        {
          "output_type": "stream",
          "name": "stdout",
          "text": [
            "20760.0\n",
            "O valor final do veículo ao consumidor é de R$ 20760.00\n"
          ]
        }
      ]
    },
    {
      "cell_type": "markdown",
      "source": [
        "## Exercício 10\n",
        "\n"
      ],
      "metadata": {
        "id": "4U0p68UolEGP"
      },
      "id": "4U0p68UolEGP"
    },
    {
      "cell_type": "markdown",
      "source": [
        "Uma empresa de telefonia oferece uma opção de plano de dados (Plano 1) que custa R\\$ 50.00 por mês por 5GB de internet mais R\\$ 4.50 por GB adicional utilizado. A mesma empresa possui uma segunda opção de plano (Plano 2), que custa R\\$ 20.00 por mês pelos mesmos 5GB de dados mais R\\$ 7.50 por GB adicional. Considere uma pessoa que utiliza 15GB de internet por mês: faça um algoritmo que exiba 'True' se é mais compesativo para esse usuário aderir ao Plano 1 e 'False' se for mais compensativo aderir ao Plano 2."
      ],
      "metadata": {
        "id": "JzuxdXKElQ1X"
      },
      "id": "JzuxdXKElQ1X"
    },
    {
      "cell_type": "code",
      "source": [
        "# Solucao\n",
        "plano1 = 50 + (4.5 * 10)\n",
        "plano2 = 20 + (7.5 *10)\n",
        "\n",
        "if(plano2 > plano1):\n",
        "  print('TRUE')\n",
        "else:\n",
        "  print('FALSE')\n"
      ],
      "metadata": {
        "id": "xC56iaBbnZlT",
        "outputId": "d0f375c0-2222-4ca2-e47e-5b5779c3ea6c",
        "colab": {
          "base_uri": "https://localhost:8080/"
        }
      },
      "id": "xC56iaBbnZlT",
      "execution_count": 29,
      "outputs": [
        {
          "output_type": "stream",
          "name": "stdout",
          "text": [
            "FALSE\n",
            "False\n"
          ]
        }
      ]
    },
    {
      "cell_type": "markdown",
      "source": [
        "## Exercício 11\n"
      ],
      "metadata": {
        "id": "d0WYMl0A1bCd"
      },
      "id": "d0WYMl0A1bCd"
    },
    {
      "cell_type": "markdown",
      "source": [
        "Observe e execute os três trechos de códigos a seguir:"
      ],
      "metadata": {
        "id": "SYkPzI2Y1gC7"
      },
      "id": "SYkPzI2Y1gC7"
    },
    {
      "cell_type": "code",
      "source": [
        "#--------------------\n",
        "# Trecho 1\n",
        "#--------------------\n",
        "\n",
        "x = 1\n",
        "y = 1\n",
        "z = x*y"
      ],
      "metadata": {
        "id": "_UcLhHN803JB"
      },
      "id": "_UcLhHN803JB",
      "execution_count": 30,
      "outputs": []
    },
    {
      "cell_type": "code",
      "source": [
        "#--------------------\n",
        "# Trecho 2\n",
        "#--------------------\n",
        "\n",
        "p = 1\n",
        "q = 1.0\n",
        "r = p*q"
      ],
      "metadata": {
        "id": "Ij972CcH9IHH"
      },
      "id": "Ij972CcH9IHH",
      "execution_count": 31,
      "outputs": []
    },
    {
      "cell_type": "code",
      "source": [
        "#--------------------\n",
        "# Trecho 3\n",
        "#--------------------\n",
        "\n",
        "a = 1\n",
        "b = 1\n",
        "c = a/b"
      ],
      "metadata": {
        "id": "S4fgaIPl1Kro"
      },
      "id": "S4fgaIPl1Kro",
      "execution_count": 32,
      "outputs": []
    },
    {
      "cell_type": "markdown",
      "source": [
        "Com respeito a estes trechos de códigos:\n",
        "\n",
        "(a) Quais os tipos das variáveis `x`, `y`, `z`, `p`, `q`, `r`, `a`, `b` e `c`? Tente responder sem o uso de códigos.\n",
        "\n",
        "(b) Escreva um trecho de código que apresente os tipos destas variáveis e compare com sua resposta em (a)."
      ],
      "metadata": {
        "id": "BeBjm1CO2oe7"
      },
      "id": "BeBjm1CO2oe7"
    },
    {
      "cell_type": "code",
      "source": [
        "# Solução\n",
        "\n",
        "#A) X,Y,Z, P, A, B = INT, Q,R,C = FLOAT\n",
        "\n",
        "#B)\n",
        "print(\"Tipo de x:\", type(x))\n",
        "print(\"Tipo de y:\", type(y))\n",
        "print(\"Tipo de z:\", type(z))\n",
        "print(\"Tipo de p:\", type(p))\n",
        "print(\"Tipo de q:\", type(q))\n",
        "print(\"Tipo de r:\", type(r))\n",
        "print(\"Tipo de a:\", type(a))\n",
        "print(\"Tipo de b:\", type(b))\n",
        "print(\"Tipo de c:\", type(c))\n"
      ],
      "metadata": {
        "id": "FN36VL8Z9WTN",
        "outputId": "6407839f-09bb-4671-c78e-d07a609742bc",
        "colab": {
          "base_uri": "https://localhost:8080/"
        }
      },
      "id": "FN36VL8Z9WTN",
      "execution_count": 33,
      "outputs": [
        {
          "output_type": "stream",
          "name": "stdout",
          "text": [
            "Tipo de x: <class 'int'>\n",
            "Tipo de y: <class 'int'>\n",
            "Tipo de z: <class 'int'>\n",
            "Tipo de p: <class 'int'>\n",
            "Tipo de q: <class 'float'>\n",
            "Tipo de r: <class 'float'>\n",
            "Tipo de a: <class 'int'>\n",
            "Tipo de b: <class 'int'>\n",
            "Tipo de c: <class 'float'>\n"
          ]
        }
      ]
    }
  ],
  "metadata": {
    "kernelspec": {
      "display_name": "Python 3",
      "language": "python",
      "name": "python3"
    },
    "language_info": {
      "codemirror_mode": {
        "name": "ipython",
        "version": 3
      },
      "file_extension": ".py",
      "mimetype": "text/x-python",
      "name": "python",
      "nbconvert_exporter": "python",
      "pygments_lexer": "ipython3",
      "version": "3.8.8"
    },
    "colab": {
      "name": "hello world e variaveis - exercícios.ipynb",
      "provenance": []
    }
  },
  "nbformat": 4,
  "nbformat_minor": 5
}