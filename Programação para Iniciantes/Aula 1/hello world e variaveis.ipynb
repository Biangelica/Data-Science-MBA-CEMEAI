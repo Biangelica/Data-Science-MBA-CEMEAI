{
 "cells": [
  {
   "cell_type": "markdown",
   "id": "2cd93549",
   "metadata": {},
   "source": [
    "# <font color='blue'> Introdução a Programação com Python </font>\n",
    "    \n",
    "## <font color='blue'> Hello World, Variaveis e Operações</font>\n",
    "\n",
    "### Material produzido por Luis Gustavo Nonato"
   ]
  },
  {
   "cell_type": "markdown",
   "id": "4eb9bc87",
   "metadata": {},
   "source": [
    "### Conteúdo\n",
    "- Comando <font color='blue'> print </font>\n",
    "- Atribuição de variáveis\n",
    "- Tipos de variáveis básicas\n",
    "- Operações aritméticas e booleanas utilizando variáveis"
   ]
  },
  {
   "cell_type": "markdown",
   "id": "c14ad7d9",
   "metadata": {},
   "source": [
    "### <font color='blue'> print( ) </font>\n",
    "O comando <font color='blue'> print </font> é utilizado para mostrar um conteúdo que é passado como parâmetro. O conteúdo pode ser:\n",
    "- uma frase (chamada de string) compreendida entre aspas duplas ou aspas simples\n",
    "- uma variável (veremos o que é uma variável mais adiante)"
   ]
  },
  {
   "cell_type": "code",
   "execution_count": 1,
   "id": "751a350c",
   "metadata": {},
   "outputs": [
    {
     "name": "stdout",
     "output_type": "stream",
     "text": [
      "Hello World\n"
     ]
    }
   ],
   "source": [
    "print(\"Hello World\")"
   ]
  },
  {
   "cell_type": "code",
   "execution_count": 2,
   "id": "4a7a842c",
   "metadata": {},
   "outputs": [
    {
     "name": "stdout",
     "output_type": "stream",
     "text": [
      "Hello World\n"
     ]
    }
   ],
   "source": [
    "print('Hello World')"
   ]
  },
  {
   "cell_type": "markdown",
   "id": "186730c2",
   "metadata": {},
   "source": [
    "Se colocar as aspas duplas dentro das aspas simples, aspas duplas passam a fazer parte do conteúdo que é apresentado. O mesmo vale para aspas simples."
   ]
  },
  {
   "cell_type": "code",
   "execution_count": 1,
   "id": "7a67cd8a",
   "metadata": {},
   "outputs": [
    {
     "name": "stdout",
     "output_type": "stream",
     "text": [
      "\"Hello World\" com aspas duplas\n",
      "'Hello World' com aspas simples\n",
      "Hello World\" com uma aspas dupla no final\n",
      "'Hello World com uma aspas simples no começo\n"
     ]
    }
   ],
   "source": [
    "print('\"Hello World\" com aspas duplas')\n",
    "print(\"'Hello World' com aspas simples\")\n",
    "print('Hello World\" com uma aspas dupla no final')\n",
    "print(\"'Hello World com uma aspas simples no começo\")"
   ]
  },
  {
   "cell_type": "markdown",
   "id": "60b17ada",
   "metadata": {},
   "source": [
    "**Importante:** Você precisa colocar as aspas (duplas ou simples) no início e no final do texto que pretende mostrar, caso não abra e feche as aspas corretamente, uma mensagem de erro irá ocorrer."
   ]
  },
  {
   "cell_type": "code",
   "execution_count": 2,
   "id": "a9f70c3b",
   "metadata": {},
   "outputs": [
    {
     "ename": "SyntaxError",
     "evalue": "EOL while scanning string literal (<ipython-input-2-69ef97eb7c7b>, line 1)",
     "output_type": "error",
     "traceback": [
      "\u001b[0;36m  File \u001b[0;32m\"<ipython-input-2-69ef97eb7c7b>\"\u001b[0;36m, line \u001b[0;32m1\u001b[0m\n\u001b[0;31m    print(\"Hello World)\u001b[0m\n\u001b[0m                       ^\u001b[0m\n\u001b[0;31mSyntaxError\u001b[0m\u001b[0;31m:\u001b[0m EOL while scanning string literal\n"
     ]
    }
   ],
   "source": [
    "print(\"Hello World)"
   ]
  },
  {
   "cell_type": "markdown",
   "id": "bdc0c919",
   "metadata": {},
   "source": [
    "### <font color='blue'> Atribuição de Variáveis </font>"
   ]
  },
  {
   "cell_type": "markdown",
   "id": "a26fe68c",
   "metadata": {},
   "source": [
    "O comando <font color='blue'> print </font> é muito utilizado para mostrar o conteúdo de uma variável.\n",
    "\n",
    "Uma variável é simplesmente um \"apelido\" que damos a um conteúdo, por exemplo:\n",
    "```python\n",
    "a = 'Hello'\n",
    "b = \"World\" \n",
    "```\n",
    "No exemplo acima, estamos chamando de `a` a palavra `Hello` e de `b` a palavra `World`. Note que sempre que um conteudo textual (string) for atribuído a uma variável, o texto deve estar compreendido entre aspas (duplas ou simples). \n",
    "\n",
    "O símbolo `=` significa atribuição, ou seja, estamos atribuindo um conteúdo a uma variável. \n",
    "\n",
    "**Importante**: Variáveis só são criadas quando inicializadas por meio de uma atribuição."
   ]
  },
  {
   "cell_type": "code",
   "execution_count": 3,
   "id": "851a7274",
   "metadata": {},
   "outputs": [],
   "source": [
    "a = 'Hello'\n",
    "b = \"World\""
   ]
  },
  {
   "cell_type": "code",
   "execution_count": 8,
   "id": "fa3ad5ec",
   "metadata": {},
   "outputs": [
    {
     "name": "stdout",
     "output_type": "stream",
     "text": [
      "Hello\n",
      "World\n"
     ]
    }
   ],
   "source": [
    "print(a)\n",
    "print(b)"
   ]
  },
  {
   "cell_type": "markdown",
   "id": "07830af9",
   "metadata": {},
   "source": [
    "Variáveis, obviamente, podem assumir valores numéricos."
   ]
  },
  {
   "cell_type": "code",
   "execution_count": 8,
   "id": "07e689f7",
   "metadata": {},
   "outputs": [
    {
     "name": "stdout",
     "output_type": "stream",
     "text": [
      "1 1.5\n"
     ]
    }
   ],
   "source": [
    "um = 1\n",
    "um_e_meio = 1.5\n",
    "\n",
    "# o conteúdo de mais de uma variável pode ser apresentado em um único print, usando vírgula para separá-las\n",
    "print(um, um_e_meio) "
   ]
  },
  {
   "cell_type": "markdown",
   "id": "15f484c3",
   "metadata": {},
   "source": [
    "Uma variável pode ter qualquer nome, porém, não pode iniciar por números ou conter caracteres especiais (símbolos) como *, -, +, /, ?, @,... O símbolo `_` (underscore) é uma exceção. O nome da variável também não pode ter espaços em branco. Letras maiúsculas e minúsculas dão oritem a variáveis diferentes."
   ]
  },
  {
   "cell_type": "code",
   "execution_count": 15,
   "id": "9ef8ca93",
   "metadata": {},
   "outputs": [
    {
     "name": "stdout",
     "output_type": "stream",
     "text": [
      "Hello World\n",
      "Hello World com Hzao\n"
     ]
    }
   ],
   "source": [
    "helloworld = 'Hello World' # helloworld é a variável que quarda o conteúdo 'Hello World'\n",
    "Helloworld = 'Hello World com Hzao' # Helloworld com H maiúsculo é outra variável, que quarda o conteúdo 'Hello World  com Hzao'\n",
    "print(helloworld)\n",
    "print(Helloworld)"
   ]
  },
  {
   "cell_type": "markdown",
   "id": "9782911a",
   "metadata": {},
   "source": [
    "Variáveis também não podem ter nomes que são reservados do Python. Os principais nomes reservados são:\n",
    "<font color='blue'>\n",
    "False, def,\tif,\traise, None, del, import, return, True, elif, in, try, and, else, is, while, as, except, lambda, with, assert, finally, nonlocal, yield, break, for, not, class, from, or, continue, global, pass\n",
    "</font>"
   ]
  },
  {
   "cell_type": "markdown",
   "id": "3006329a",
   "metadata": {},
   "source": [
    "### <font color='blue'> Tipos de Variáveis </font>"
   ]
  },
  {
   "cell_type": "markdown",
   "id": "065b85cf",
   "metadata": {},
   "source": [
    "Variáveis podem representar valores textuais e numéricos, como vimos acima (na verdade variáveis também podem representar sequência de valores, veremos isso mais adiante). No caso de variáveis numéricas elas podem ser, basicamente, de dois tipos básicos:\n",
    "- números inteiros: <font color='blue'> int </font>\n",
    "- números reais (representados computacionalmente): <font color='blue'> float </font>\n",
    "\n",
    "Quando a variável é inicializada por um número com casas decimais explicitamente fornecidas, a variável é automaticamente interpretada como um número real. Se casas decimais não são fornecidas, a variável é interpretada como um número inteiro.\n",
    "\n",
    "O tipo da variável pode ser verificado por meio da função <font color='blue'> type </font> do Python."
   ]
  },
  {
   "cell_type": "code",
   "execution_count": 9,
   "id": "b804db40",
   "metadata": {},
   "outputs": [
    {
     "name": "stdout",
     "output_type": "stream",
     "text": [
      "5 3.2 Hello World\n",
      "<class 'int'> <class 'float'> <class 'str'>\n"
     ]
    }
   ],
   "source": [
    "i = 5\n",
    "x = 3.2\n",
    "s = 'Hello World'\n",
    "\n",
    "print(i,x,s)\n",
    "print(type(i),type(x),type(s))"
   ]
  },
  {
   "cell_type": "markdown",
   "id": "3c8e7b34",
   "metadata": {},
   "source": [
    "### <font color='blue'> Operações Aritméticas e Booleanas </font>"
   ]
  },
  {
   "cell_type": "markdown",
   "id": "01fc32eb",
   "metadata": {},
   "source": [
    "Uma vez que variáveis tenham sido definidas, podemos realizar operações aritméticas com elas. O resultado de tais operações podem ser atribuídos a outras variáveis. Os operadores aritméticos mais comuns são: `+`, `-`, `*`, `/`."
   ]
  },
  {
   "cell_type": "code",
   "execution_count": 10,
   "id": "74ba1e76",
   "metadata": {},
   "outputs": [
    {
     "name": "stdout",
     "output_type": "stream",
     "text": [
      "19.0 60.2\n"
     ]
    }
   ],
   "source": [
    "# na célula acima definimos as variáveis i e x\n",
    "# podemos agora utilizar estas variáveis para realizar cálculos\n",
    "\n",
    "y = i*x + 3\n",
    "z = x + 3*y\n",
    "print(y,z)"
   ]
  },
  {
   "cell_type": "markdown",
   "id": "116588ff",
   "metadata": {},
   "source": [
    "Outra operação muito utilizada no Python é a exponenciação, dada pelo operador `**`. "
   ]
  },
  {
   "cell_type": "code",
   "execution_count": 11,
   "id": "c430c952",
   "metadata": {},
   "outputs": [
    {
     "name": "stdout",
     "output_type": "stream",
     "text": [
      "O valor de x ao quadrado é  10.240000000000002\n",
      "A raiz quadrada de x é  1.7888543819998317\n"
     ]
    }
   ],
   "source": [
    "print('O valor de x ao quadrado é ',x**2)\n",
    "print('A raiz quadrada de x é ',x**0.5)"
   ]
  },
  {
   "cell_type": "markdown",
   "id": "99908b7c",
   "metadata": {},
   "source": [
    "Se tentarmos utilizar uma variável que não tenha sido inicializada por meio de uma atribuição, uma mensagem de erro será lançada."
   ]
  },
  {
   "cell_type": "code",
   "execution_count": 12,
   "id": "3a4a7123",
   "metadata": {},
   "outputs": [
    {
     "ename": "NameError",
     "evalue": "name 'h' is not defined",
     "output_type": "error",
     "traceback": [
      "\u001b[0;31m---------------------------------------------------------------------------\u001b[0m",
      "\u001b[0;31mNameError\u001b[0m                                 Traceback (most recent call last)",
      "\u001b[0;32m<ipython-input-12-2773411110dd>\u001b[0m in \u001b[0;36m<module>\u001b[0;34m\u001b[0m\n\u001b[1;32m      2\u001b[0m \u001b[0;31m# Porém, a variável h não foi inicializada, portanto, um erro é lançado.\u001b[0m\u001b[0;34m\u001b[0m\u001b[0;34m\u001b[0m\u001b[0;34m\u001b[0m\u001b[0m\n\u001b[1;32m      3\u001b[0m \u001b[0;34m\u001b[0m\u001b[0m\n\u001b[0;32m----> 4\u001b[0;31m \u001b[0mw\u001b[0m \u001b[0;34m=\u001b[0m \u001b[0mx\u001b[0m\u001b[0;34m*\u001b[0m\u001b[0my\u001b[0m \u001b[0;34m+\u001b[0m \u001b[0mh\u001b[0m\u001b[0;34m\u001b[0m\u001b[0;34m\u001b[0m\u001b[0m\n\u001b[0m",
      "\u001b[0;31mNameError\u001b[0m: name 'h' is not defined"
     ]
    }
   ],
   "source": [
    "# O cálculo abaixo utiliza as variáveis x e y inicializadas nas células acima.\n",
    "# Porém, a variável h não foi inicializada, portanto, um erro é lançado.\n",
    "\n",
    "w = x*y + h"
   ]
  },
  {
   "cell_type": "markdown",
   "id": "4850d77e",
   "metadata": {},
   "source": [
    "Além das variáveis textuais e numéricas, existe ainda variáveis do tipo booleanas, cujo conteúdo pode ser apenas dois valores <font color='blue'> True </font> (verdadeiro) ou <font color='blue'> False </font> (falso).\n",
    "\n",
    "Por exemplo, no código abaixo estamos verificando se o conteúdo das variáveis _x_ e _y_ são iguais, utilizando para isso o operador `==`. Caso os conteúdos sejam iguais, o operador retornará <font color='blue'> True </font>, caso sejam diferentes, o resultado será <font color='blue'> False </font>.\n",
    "\n",
    "**Importante:** O operador `=` corresponde a uma atribuição, enquanto que o operador `==` corresponde a uma comparação."
   ]
  },
  {
   "cell_type": "code",
   "execution_count": 19,
   "id": "dc7186ad",
   "metadata": {},
   "outputs": [
    {
     "name": "stdout",
     "output_type": "stream",
     "text": [
      "O valor  3.2 é igual a  19.0 ? False\n"
     ]
    }
   ],
   "source": [
    "booleana = (x == y)\n",
    "\n",
    "print('O valor ',x,'é igual a ',y,'?',booleana)"
   ]
  },
  {
   "cell_type": "markdown",
   "id": "f1693957",
   "metadata": {},
   "source": [
    "Outros operadores de comparação são: `<`,`>`,`<=`,`>=`,`!=`"
   ]
  },
  {
   "cell_type": "code",
   "execution_count": 13,
   "id": "ba0eaf55",
   "metadata": {},
   "outputs": [
    {
     "name": "stdout",
     "output_type": "stream",
     "text": [
      "O valor  3.2 é menor que  19.0 ? True\n",
      "O valor  3.2 é maior ou igual que  19.0 ? False\n",
      "O valor  3.2 é diferente de  19.0 ? True\n"
     ]
    }
   ],
   "source": [
    "booleana_m = (x < y)\n",
    "booleana_mi = (x >= y)\n",
    "booleana_d = (x != y)\n",
    "\n",
    "print('O valor ',x,'é menor que ',y,'?',booleana_m)\n",
    "print('O valor ',x,'é maior ou igual que ',y,'?',booleana_mi)\n",
    "print('O valor ',x,'é diferente de ',y,'?',booleana_d)"
   ]
  },
  {
   "cell_type": "markdown",
   "id": "aa8e7c9b",
   "metadata": {},
   "source": [
    "Um recurso bastante útil é saber quais são as variáveis que foram inicializadas em todas as células do notebook. Para isso, basta digitar <font color='blue'> %whos </font> e executar a célula do notebook."
   ]
  },
  {
   "cell_type": "code",
   "execution_count": 15,
   "id": "86932f21",
   "metadata": {},
   "outputs": [
    {
     "name": "stdout",
     "output_type": "stream",
     "text": [
      "Variable      Type     Data/Info\n",
      "--------------------------------\n",
      "a             str      Hello\n",
      "b             str      World\n",
      "booleana_d    bool     True\n",
      "booleana_m    bool     True\n",
      "booleana_mi   bool     False\n",
      "i             int      5\n",
      "s             str      Hello World\n",
      "um            int      1\n",
      "um_e_meio     float    1.5\n",
      "x             float    3.2\n",
      "y             float    19.0\n",
      "z             float    60.2\n"
     ]
    }
   ],
   "source": [
    "%whos"
   ]
  },
  {
   "cell_type": "code",
   "execution_count": 21,
   "id": "2e870e45",
   "metadata": {},
   "outputs": [
    {
     "name": "stdout",
     "output_type": "stream",
     "text": [
      "<class 'str'> <class 'float'> <class 'int'> 1\n"
     ]
    }
   ],
   "source": [
    "h = \"1.23\"\n",
    "c = float(h)\n",
    "d = int(booleana_m)\n",
    "print(type(h),type(c),type(d),d)"
   ]
  }
 ],
 "metadata": {
  "kernelspec": {
   "display_name": "Python 3",
   "language": "python",
   "name": "python3"
  },
  "language_info": {
   "codemirror_mode": {
    "name": "ipython",
    "version": 3
   },
   "file_extension": ".py",
   "mimetype": "text/x-python",
   "name": "python",
   "nbconvert_exporter": "python",
   "pygments_lexer": "ipython3",
   "version": "3.8.8"
  }
 },
 "nbformat": 4,
 "nbformat_minor": 5
}
