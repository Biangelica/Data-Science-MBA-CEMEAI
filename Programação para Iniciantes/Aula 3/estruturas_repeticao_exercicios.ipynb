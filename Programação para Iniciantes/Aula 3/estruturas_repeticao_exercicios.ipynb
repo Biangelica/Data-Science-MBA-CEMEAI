{
  "cells": [
    {
      "cell_type": "markdown",
      "metadata": {
        "id": "view-in-github",
        "colab_type": "text"
      },
      "source": [
        "<a href=\"https://colab.research.google.com/github/Biangelica/Data-Science-MBA-CEMEAI/blob/main/Programa%C3%A7%C3%A3o%20para%20Iniciantes/Aula%203/estruturas_repeticao_exercicios.ipynb\" target=\"_parent\"><img src=\"https://colab.research.google.com/assets/colab-badge.svg\" alt=\"Open In Colab\"/></a>"
      ]
    },
    {
      "cell_type": "markdown",
      "id": "075eeb3b",
      "metadata": {
        "id": "075eeb3b"
      },
      "source": [
        "# <font color='blue'> Introdução a Programação com Python </font>\n",
        "    \n",
        "## <font color='blue'> Estruturas de Repetição - Exercícios</font>\n",
        "\n",
        "### Material produzido por Luis Gustavo Nonato"
      ]
    },
    {
      "cell_type": "markdown",
      "id": "46a97e19",
      "metadata": {
        "id": "46a97e19"
      },
      "source": [
        "### Exercício 1\n",
        "Gere um número inteiro entre 0 e 9 de forma aleatória e imprima os 10 primeiros elementos da taboada deste número gerado."
      ]
    },
    {
      "cell_type": "code",
      "execution_count": 3,
      "id": "638d1015",
      "metadata": {
        "id": "638d1015",
        "colab": {
          "base_uri": "https://localhost:8080/"
        },
        "outputId": "e90f75c8-b516-473a-c848-0be3420322b1"
      },
      "outputs": [
        {
          "output_type": "stream",
          "name": "stdout",
          "text": [
            "O número é  8\n",
            "0\n",
            "8\n",
            "16\n",
            "24\n",
            "32\n",
            "40\n",
            "48\n",
            "56\n",
            "64\n",
            "72\n"
          ]
        }
      ],
      "source": [
        "# Solucao\n",
        "\n",
        "import random\n",
        "\n",
        "num = random.randint(1, 10)\n",
        "print('O número é ', num)\n",
        "\n",
        "for i in range(10):\n",
        "  print(num*i)\n"
      ]
    },
    {
      "cell_type": "markdown",
      "id": "a971c80c",
      "metadata": {
        "id": "a971c80c"
      },
      "source": [
        "### Exercício 2\n",
        "Considere a string\n",
        "```python\n",
        "\"MBA em ciencia de dados no ICMC/USP\"\n",
        "```\n",
        "escreva um código para imprimir a string em ordem inversa, ou seja,\n",
        "```python\n",
        "\"PSU/CMCI on sodad ed aicneic me ABM\"\n",
        "```"
      ]
    },
    {
      "cell_type": "code",
      "execution_count": 4,
      "id": "44bc3a1b",
      "metadata": {
        "scrolled": true,
        "id": "44bc3a1b",
        "colab": {
          "base_uri": "https://localhost:8080/"
        },
        "outputId": "f04029a1-c1de-4682-c93b-64afb124ae75"
      },
      "outputs": [
        {
          "output_type": "stream",
          "name": "stdout",
          "text": [
            "PSU/CMCI on sodad ed aicneic me ABM\n"
          ]
        }
      ],
      "source": [
        "# Solucao\n",
        "\n",
        "texto = \"MBA em ciencia de dados no ICMC/USP\"\n",
        "\n",
        "print(texto[::-1])"
      ]
    },
    {
      "cell_type": "markdown",
      "id": "fceadfa7",
      "metadata": {
        "id": "fceadfa7"
      },
      "source": [
        "### Exercício 3\n",
        "Utilize o pacote <font color='blue'> random </font> para construir uma lista com $n$ números inteiros gerados aleatóriamente, onde $n$ é um número inteiro qualquer."
      ]
    },
    {
      "cell_type": "code",
      "execution_count": 8,
      "id": "f76636e8",
      "metadata": {
        "id": "f76636e8",
        "colab": {
          "base_uri": "https://localhost:8080/"
        },
        "outputId": "502013bb-e8b0-4bb5-ddcd-3acfbf8ad798"
      },
      "outputs": [
        {
          "output_type": "stream",
          "name": "stdout",
          "text": [
            "o numero é 10\n",
            "Lista de números inteiros aleatórios: [35, 35, 59, 24, 56, 43, 18, 18, 46, 81]\n"
          ]
        }
      ],
      "source": [
        "# Solucao\n",
        "\n",
        "n = random.randint(1, 10)\n",
        "\n",
        "lista_aleatoria = [random.randint(1, 100) for _ in range(n)]\n",
        "\n",
        "print('o numero é', n)\n",
        "print(\"Lista de números inteiros aleatórios:\", lista_aleatoria)"
      ]
    },
    {
      "cell_type": "markdown",
      "id": "7543f1fe",
      "metadata": {
        "id": "7543f1fe"
      },
      "source": [
        "### Exercício 4\n",
        "Calcule a média dos valores contidos na lista gerada no exercício 3."
      ]
    },
    {
      "cell_type": "code",
      "execution_count": 12,
      "id": "168ece26",
      "metadata": {
        "id": "168ece26",
        "colab": {
          "base_uri": "https://localhost:8080/"
        },
        "outputId": "b28fc389-d916-440b-ee6b-a4c287e08420"
      },
      "outputs": [
        {
          "output_type": "stream",
          "name": "stdout",
          "text": [
            "o numero é 9\n",
            "Lista de números inteiros aleatórios: [29, 63, 24, 81, 54, 44, 45, 100, 31]\n",
            "Média dos valores: 52.333333333333336\n"
          ]
        }
      ],
      "source": [
        "# Solucao\n",
        "\n",
        "\n",
        "n = random.randint(1, 10)\n",
        "\n",
        "lista_aleatoria = [random.randint(1, 100) for _ in range(n)]\n",
        "\n",
        "print('o numero é', n)\n",
        "print(\"Lista de números inteiros aleatórios:\", lista_aleatoria)\n",
        "\n",
        "media = sum(lista_aleatoria) / len(lista_aleatoria)\n",
        "\n",
        "print(\"Média dos valores:\", media)\n"
      ]
    },
    {
      "cell_type": "markdown",
      "id": "7188f7b0",
      "metadata": {
        "id": "7188f7b0"
      },
      "source": [
        "### Exercício 5\n",
        "Escreva um código que imprima uma pirâmide de astericos cuja altura é dada por um número inteiro qualquer maior do que 1. Por exemplo, se a altura for 4, o código deve imprimir:\n",
        "```os\n",
        "   *\n",
        "  * *\n",
        " * * *\n",
        "* * * *\n",
        "```"
      ]
    },
    {
      "cell_type": "code",
      "execution_count": 14,
      "id": "e1f93d01",
      "metadata": {
        "id": "e1f93d01",
        "colab": {
          "base_uri": "https://localhost:8080/"
        },
        "outputId": "1469746c-2aaf-43c0-fc8d-a25261841a8b"
      },
      "outputs": [
        {
          "output_type": "stream",
          "name": "stdout",
          "text": [
            "7\n",
            "      *\n",
            "     ***\n",
            "    *****\n",
            "   *******\n",
            "  *********\n",
            " ***********\n",
            "*************\n"
          ]
        }
      ],
      "source": [
        "# Solucao\n",
        "\n",
        "n = random.randint(1, 10)\n",
        "print(n)\n",
        "for i in range(1, n + 1):\n",
        "  espacos = n - i\n",
        "  asteriscos = 2 * i - 1\n",
        "  print(\" \" * espacos + \"*\" * asteriscos)"
      ]
    },
    {
      "cell_type": "markdown",
      "id": "e3e38609",
      "metadata": {
        "id": "e3e38609"
      },
      "source": [
        "### Exercício 6\n",
        "Considere o código abaixo que soma os números de 1 a 99.\n",
        "```python\n",
        "soma = 0\n",
        "for i in range(1,100):\n",
        "    soma = soma + i\n",
        "```\n",
        "Reescreva o código acima utilizando um laço <font color='blue'> while </font> ao invés do laço <font color='blue'> for </font>."
      ]
    },
    {
      "cell_type": "code",
      "execution_count": 17,
      "id": "14a5f425",
      "metadata": {
        "id": "14a5f425",
        "colab": {
          "base_uri": "https://localhost:8080/"
        },
        "outputId": "8b741a06-d89c-4afa-fcf4-16b29b35360a"
      },
      "outputs": [
        {
          "output_type": "stream",
          "name": "stdout",
          "text": [
            "100\n"
          ]
        }
      ],
      "source": [
        "# Solucao\n",
        "\n",
        "soma = 0\n",
        "i = 0\n",
        "\n",
        "while(i < 100):\n",
        "  soma += 1\n",
        "  i += 1\n",
        "\n",
        "print(soma)"
      ]
    },
    {
      "cell_type": "markdown",
      "id": "6f534772",
      "metadata": {
        "id": "6f534772"
      },
      "source": [
        "### Exercício 7\n",
        "Dada uma lista qualquer, escreva um código que imprima o número de elementos na lista sem utilizar o comando <font color='blue'> len </font>."
      ]
    },
    {
      "cell_type": "code",
      "execution_count": 30,
      "id": "b62fdeac",
      "metadata": {
        "id": "b62fdeac",
        "colab": {
          "base_uri": "https://localhost:8080/"
        },
        "outputId": "c0d317c4-52e1-4098-a0df-88e243e3f656"
      },
      "outputs": [
        {
          "output_type": "stream",
          "name": "stdout",
          "text": [
            "Número de elementos na lista: 7\n"
          ]
        }
      ],
      "source": [
        "# Solucao\n",
        "\n",
        "lista_aleatoria = [random.randint(1, 100) for _ in range(n)]\n",
        "\n",
        "\n",
        "contador = 0\n",
        "\n",
        "# Percorrendo a lista e incrementando o contador para cada elemento\n",
        "for elemento in lista_aleatoria:\n",
        "    contador += 1\n",
        "\n",
        "# Exibindo o número de elementos na lista\n",
        "print(\"Número de elementos na lista:\", contador)"
      ]
    },
    {
      "cell_type": "markdown",
      "id": "c8170067",
      "metadata": {
        "id": "c8170067"
      },
      "source": [
        "### Exercício 8\n",
        "Escreva um código para\n",
        "\n",
        "(a) verificar se um dado número é um número primo.\n",
        "\n",
        "(b) calcular todos os números primos de 1 a 100.\n",
        "\n",
        "**Obs.**: Um número primo é aquele que é diferente de 1 e só é divisível por 1 e por ele mesmo."
      ]
    },
    {
      "cell_type": "code",
      "execution_count": null,
      "id": "fe091ce9",
      "metadata": {
        "id": "fe091ce9"
      },
      "outputs": [],
      "source": [
        "# Solucao\n",
        "\n",
        "# Parte (a)\n",
        "numero_verificar = int(input(\"Digite um número para verificar se é primo: \"))\n",
        "\n",
        "if numero_verificar < 2:\n",
        "    print(f\"{numero_verificar} não é um número primo.\")\n",
        "else:\n",
        "    eh_primo = True\n",
        "    for i in range(2, int(numero_verificar**0.5) + 1):\n",
        "        if numero_verificar % i == 0:\n",
        "            eh_primo = False\n",
        "            break\n",
        "\n",
        "    if eh_primo:\n",
        "        print(f\"{numero_verificar} é um número primo.\")\n",
        "    else:\n",
        "        print(f\"{numero_verificar} não é um número primo.\")"
      ]
    },
    {
      "cell_type": "code",
      "source": [
        "primos_ate_100 = []\n",
        "for numero in range(2, 101):\n",
        "    eh_primo = True\n",
        "    for i in range(2, int(numero**0.5) + 1):\n",
        "        if numero % i == 0:\n",
        "            eh_primo = False\n",
        "            break\n",
        "\n",
        "    if eh_primo:\n",
        "        primos_ate_100.append(numero)\n",
        "\n",
        "print(\"Números primos de 1 a 100:\", primos_ate_100)"
      ],
      "metadata": {
        "id": "CmfpaG5S2wP1"
      },
      "id": "CmfpaG5S2wP1",
      "execution_count": null,
      "outputs": []
    },
    {
      "cell_type": "markdown",
      "id": "0dca6f4a",
      "metadata": {
        "id": "0dca6f4a"
      },
      "source": [
        "### Exercício 9\n",
        "Escreva um código que recebe duas strings e construa uma lista cujos elementos são a intercalação dos caracteres que aparecem nas duas strings. Por exemplo, se as strings são \"MBA USP\" e \"SAO CARLOS JA\", a lista gerada pelo seu código deve ser:\n",
        "```python\n",
        "['M', 'S', 'B', 'A', 'A', 'O', ' ', ' ', 'U', 'C', 'S', 'A', 'P', 'R', 'L', 'O', 'S', ' ', 'J', 'A']\n",
        "```\n",
        "Note que a intercalação é feita até que a string de menor tamanho seja totalmente precorrida, após terminar de percorrer a menor string, os caracteres da string maior vão diretamente para a lista sem intercalações."
      ]
    },
    {
      "cell_type": "code",
      "execution_count": null,
      "id": "c9b581c4",
      "metadata": {
        "id": "c9b581c4"
      },
      "outputs": [],
      "source": [
        "# Solucao"
      ]
    },
    {
      "cell_type": "markdown",
      "id": "54530087",
      "metadata": {
        "id": "54530087"
      },
      "source": [
        "### Exercício 10\n",
        "Considere duas listas de números inteiros com o mesmo número de elementos. Escreva um código que, a partir das duas listas, crie uma nova lista onde cada elemento é uma tupla com dois elementos, sendo um de cada uma das lista fornecdias. Por exemplo, se as listas fornecidas são:\n",
        "```os\n",
        "[2,8,-7,9]\n",
        "[3,18,9,13]\n",
        "```\n",
        "o resultado deve ser\n",
        "```os\n",
        "[(2,3),(8,18),(-7,9),(9,13)]\n",
        "```\n",
        "O código da célua abaixo gera duas listas de números inteiros com $n$ elementos, onde $n$ é um número dado. Utilize as listas `lst_a` e `lst_b` para testar seu código."
      ]
    },
    {
      "cell_type": "code",
      "execution_count": 32,
      "id": "a1b436a8",
      "metadata": {
        "id": "a1b436a8",
        "outputId": "d8edc351-1f65-42bf-f3f8-e89498656d3a",
        "colab": {
          "base_uri": "https://localhost:8080/"
        }
      },
      "outputs": [
        {
          "output_type": "stream",
          "name": "stdout",
          "text": [
            "[49, 32, 83, 61, 89, 16, 54, 7, 55, 60]\n",
            "[7, 62, 58, 41, 1, 26, 1, 27, 14, 9]\n",
            "Lista combinada: [(49, 7), (32, 62), (83, 58), (61, 41), (89, 1), (16, 26), (54, 1), (7, 27), (55, 14), (60, 9)]\n"
          ]
        }
      ],
      "source": [
        "import random\n",
        "\n",
        "n = 10\n",
        "lst_a = [random.randint(0,100) for i in range(n)]\n",
        "lst_b = [random.randint(0,100) for i in range(n)]\n",
        "print(lst_a)\n",
        "print(lst_b)\n",
        "\n",
        "\n",
        "lista_combinada = list(zip(lst_a, lst_b))\n",
        "\n",
        "print(\"Lista combinada:\", lista_combinada)"
      ]
    },
    {
      "cell_type": "markdown",
      "id": "4fda7f53",
      "metadata": {
        "id": "4fda7f53"
      },
      "source": [
        "### Exercício 11\n",
        "Considere duas listas de números ordenadas de forma crescente, sendo que as listas podem ter tamanhos diferentes. Escreva um código para juntar as duas listas em uma única de modo que os elementos permaneçam ordenados. Por exemplo, dadas as listas:\n",
        "\n",
        "[2, 3, 6, 11, 18, 23]\n",
        "\n",
        "e\n",
        "\n",
        "[13, 20, 25, 28, 29, 29, 33]\n",
        "\n",
        "o resultado do seu código deve ser:\n",
        "\n",
        "[2, 3, 6, 11, 13, 18, 20, 23, 25, 28, 29, 29, 33]\n",
        "\n",
        "A célula abaixo gera duas listas `lst1` e `lst2` ordenas. Utilize as listas `lst1` e `lst2` para testar a corretude de seu código.\n",
        "\n",
        "**OBS**: Você não precisa entender como o código abaixo gera as lista ordenadas, apenas utilize as lista geradas."
      ]
    },
    {
      "cell_type": "code",
      "execution_count": 33,
      "id": "65bb59c7",
      "metadata": {
        "id": "65bb59c7",
        "outputId": "a8e1ac1b-2297-4666-b8a9-106aea2fd96b",
        "colab": {
          "base_uri": "https://localhost:8080/"
        }
      },
      "outputs": [
        {
          "output_type": "stream",
          "name": "stdout",
          "text": [
            "[7, 14, 25, 34, 45, 51, 55, 76, 80, 87]\n",
            "[18, 18, 26, 28, 32, 34, 37, 47, 53, 53, 63, 63, 71, 84, 100]\n"
          ]
        }
      ],
      "source": [
        "n = 10 # numero de elementos na lista lst1\n",
        "m = 15 # numero de elementos na lista lst2\n",
        "\n",
        "lst1 = sorted([random.randint(0,100) for i in range(n)])\n",
        "lst2 = sorted([random.randint(0,100) for i in range(m)])\n",
        "\n",
        "print(lst1)\n",
        "print(lst2)"
      ]
    },
    {
      "cell_type": "code",
      "execution_count": 34,
      "id": "585641db",
      "metadata": {
        "id": "585641db",
        "colab": {
          "base_uri": "https://localhost:8080/"
        },
        "outputId": "9555129d-ad48-4bb8-95be-e6070114454c"
      },
      "outputs": [
        {
          "output_type": "stream",
          "name": "stdout",
          "text": [
            "Lista combinada: [(49, 7), (32, 62), (83, 58), (61, 41), (89, 1), (16, 26), (54, 1), (7, 27), (55, 14), (60, 9), 7, 14, 18, 18, 25, 26, 28, 32, 34, 34, 37, 45, 47, 51, 53, 53, 55, 63, 63, 71, 76, 80, 84, 87, 100]\n"
          ]
        }
      ],
      "source": [
        "# Solucao\n",
        "\n",
        "i, j = 0, 0\n",
        "\n",
        "# Percorrendo ambas as listas\n",
        "while i < len(lst1) and j < len(lst2):\n",
        "    if lst1[i] < lst2[j]:\n",
        "        lista_combinada.append(lst1[i])\n",
        "        i += 1\n",
        "    else:\n",
        "        lista_combinada.append(lst2[j])\n",
        "        j += 1\n",
        "\n",
        "# Adicionando os elementos restantes, se houver\n",
        "lista_combinada.extend(lst1[i:])\n",
        "lista_combinada.extend(lst2[j:])\n",
        "\n",
        "print(\"Lista combinada:\", lista_combinada)"
      ]
    }
  ],
  "metadata": {
    "kernelspec": {
      "display_name": "Python 3",
      "language": "python",
      "name": "python3"
    },
    "language_info": {
      "codemirror_mode": {
        "name": "ipython",
        "version": 3
      },
      "file_extension": ".py",
      "mimetype": "text/x-python",
      "name": "python",
      "nbconvert_exporter": "python",
      "pygments_lexer": "ipython3",
      "version": "3.8.8"
    },
    "colab": {
      "provenance": [],
      "include_colab_link": true
    }
  },
  "nbformat": 4,
  "nbformat_minor": 5
}