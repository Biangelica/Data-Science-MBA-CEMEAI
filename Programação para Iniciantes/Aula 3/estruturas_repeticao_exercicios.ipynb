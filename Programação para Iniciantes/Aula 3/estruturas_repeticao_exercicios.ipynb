{
  "cells": [
    {
      "cell_type": "markdown",
      "metadata": {
        "id": "view-in-github",
        "colab_type": "text"
      },
      "source": [
        "<a href=\"https://colab.research.google.com/github/Biangelica/Data-Science-MBA-CEMEAI/blob/main/Programa%C3%A7%C3%A3o%20para%20Iniciantes/Aula%203/estruturas_repeticao_exercicios.ipynb\" target=\"_parent\"><img src=\"https://colab.research.google.com/assets/colab-badge.svg\" alt=\"Open In Colab\"/></a>"
      ]
    },
    {
      "cell_type": "markdown",
      "id": "075eeb3b",
      "metadata": {
        "id": "075eeb3b"
      },
      "source": [
        "# <font color='blue'> Introdução a Programação com Python </font>\n",
        "    \n",
        "## <font color='blue'> Estruturas de Repetição - Exercícios</font>\n",
        "\n",
        "### Material produzido por Luis Gustavo Nonato"
      ]
    },
    {
      "cell_type": "markdown",
      "id": "46a97e19",
      "metadata": {
        "id": "46a97e19"
      },
      "source": [
        "### Exercício 1\n",
        "Gere um número inteiro entre 0 e 9 de forma aleatória e imprima os 10 primeiros elementos da taboada deste número gerado."
      ]
    },
    {
      "cell_type": "code",
      "execution_count": null,
      "id": "638d1015",
      "metadata": {
        "id": "638d1015"
      },
      "outputs": [],
      "source": [
        "# Solucao"
      ]
    },
    {
      "cell_type": "markdown",
      "id": "a971c80c",
      "metadata": {
        "id": "a971c80c"
      },
      "source": [
        "### Exercício 2\n",
        "Considere a string\n",
        "```python\n",
        "\"MBA em ciencia de dados no ICMC/USP\"\n",
        "```\n",
        "escreva um código para imprimir a string em ordem inversa, ou seja,\n",
        "```python\n",
        "\"PSU/CMCI on sodad ed aicneic me ABM\"\n",
        "```"
      ]
    },
    {
      "cell_type": "code",
      "execution_count": null,
      "id": "44bc3a1b",
      "metadata": {
        "scrolled": true,
        "id": "44bc3a1b"
      },
      "outputs": [],
      "source": [
        "# Solucao"
      ]
    },
    {
      "cell_type": "markdown",
      "id": "fceadfa7",
      "metadata": {
        "id": "fceadfa7"
      },
      "source": [
        "### Exercício 3\n",
        "Utilize o pacote <font color='blue'> random </font> para construir uma lista com $n$ números inteiros gerados aleatóriamente, onde $n$ é um número inteiro qualquer."
      ]
    },
    {
      "cell_type": "code",
      "execution_count": null,
      "id": "f76636e8",
      "metadata": {
        "id": "f76636e8"
      },
      "outputs": [],
      "source": [
        "# Solucao"
      ]
    },
    {
      "cell_type": "markdown",
      "id": "7543f1fe",
      "metadata": {
        "id": "7543f1fe"
      },
      "source": [
        "### Exercício 4\n",
        "Calcule a média dos valores contidos na lista gerada no exercício 3."
      ]
    },
    {
      "cell_type": "code",
      "execution_count": null,
      "id": "168ece26",
      "metadata": {
        "id": "168ece26"
      },
      "outputs": [],
      "source": [
        "# Solucao"
      ]
    },
    {
      "cell_type": "markdown",
      "id": "7188f7b0",
      "metadata": {
        "id": "7188f7b0"
      },
      "source": [
        "### Exercício 5\n",
        "Escreva um código que imprima uma pirâmide de astericos cuja altura é dada por um número inteiro qualquer maior do que 1. Por exemplo, se a altura for 4, o código deve imprimir:\n",
        "```os\n",
        "   *\n",
        "  * *\n",
        " * * *\n",
        "* * * *\n",
        "```"
      ]
    },
    {
      "cell_type": "code",
      "execution_count": null,
      "id": "e1f93d01",
      "metadata": {
        "id": "e1f93d01"
      },
      "outputs": [],
      "source": [
        "# Solucao"
      ]
    },
    {
      "cell_type": "markdown",
      "id": "e3e38609",
      "metadata": {
        "id": "e3e38609"
      },
      "source": [
        "### Exercício 6\n",
        "Considere o código abaixo que soma os números de 1 a 99.\n",
        "```python\n",
        "soma = 0\n",
        "for i in range(1,100):\n",
        "    soma = soma + i\n",
        "```\n",
        "Reescreva o código acima utilizando um laço <font color='blue'> while </font> ao invés do laço <font color='blue'> for </font>."
      ]
    },
    {
      "cell_type": "code",
      "execution_count": null,
      "id": "14a5f425",
      "metadata": {
        "id": "14a5f425"
      },
      "outputs": [],
      "source": [
        "# Solucao"
      ]
    },
    {
      "cell_type": "markdown",
      "id": "6f534772",
      "metadata": {
        "id": "6f534772"
      },
      "source": [
        "### Exercício 7\n",
        "Dada uma lista qualquer, escreva um código que imprima o número de elementos na lista sem utilizar o comando <font color='blue'> len </font>."
      ]
    },
    {
      "cell_type": "code",
      "execution_count": null,
      "id": "b62fdeac",
      "metadata": {
        "id": "b62fdeac"
      },
      "outputs": [],
      "source": [
        "# Solucao"
      ]
    },
    {
      "cell_type": "markdown",
      "id": "c8170067",
      "metadata": {
        "id": "c8170067"
      },
      "source": [
        "### Exercício 8\n",
        "Escreva um código para\n",
        "\n",
        "(a) verificar se um dado número é um número primo.\n",
        "\n",
        "(b) calcular todos os números primos de 1 a 100.\n",
        "\n",
        "**Obs.**: Um número primo é aquele que é diferente de 1 e só é divisível por 1 e por ele mesmo."
      ]
    },
    {
      "cell_type": "code",
      "execution_count": null,
      "id": "fe091ce9",
      "metadata": {
        "id": "fe091ce9"
      },
      "outputs": [],
      "source": [
        "# Solucao"
      ]
    },
    {
      "cell_type": "markdown",
      "id": "0dca6f4a",
      "metadata": {
        "id": "0dca6f4a"
      },
      "source": [
        "### Exercício 9\n",
        "Escreva um código que recebe duas strings e construa uma lista cujos elementos são a intercalação dos caracteres que aparecem nas duas strings. Por exemplo, se as strings são \"MBA USP\" e \"SAO CARLOS JA\", a lista gerada pelo seu código deve ser:\n",
        "```python\n",
        "['M', 'S', 'B', 'A', 'A', 'O', ' ', ' ', 'U', 'C', 'S', 'A', 'P', 'R', 'L', 'O', 'S', ' ', 'J', 'A']\n",
        "```\n",
        "Note que a intercalação é feita até que a string de menor tamanho seja totalmente precorrida, após terminar de percorrer a menor string, os caracteres da string maior vão diretamente para a lista sem intercalações."
      ]
    },
    {
      "cell_type": "code",
      "execution_count": null,
      "id": "c9b581c4",
      "metadata": {
        "id": "c9b581c4"
      },
      "outputs": [],
      "source": [
        "# Solucao"
      ]
    },
    {
      "cell_type": "markdown",
      "id": "54530087",
      "metadata": {
        "id": "54530087"
      },
      "source": [
        "### Exercício 10\n",
        "Considere duas listas de números inteiros com o mesmo número de elementos. Escreva um código que, a partir das duas listas, crie uma nova lista onde cada elemento é uma tupla com dois elementos, sendo um de cada uma das lista fornecdias. Por exemplo, se as listas fornecidas são:\n",
        "```os\n",
        "[2,8,-7,9]\n",
        "[3,18,9,13]\n",
        "```\n",
        "o resultado deve ser\n",
        "```os\n",
        "[(2,3),(8,18),(-7,9),(9,13)]\n",
        "```\n",
        "O código da célua abaixo gera duas listas de números inteiros com $n$ elementos, onde $n$ é um número dado. Utilize as listas `lst_a` e `lst_b` para testar seu código."
      ]
    },
    {
      "cell_type": "code",
      "execution_count": null,
      "id": "a1b436a8",
      "metadata": {
        "id": "a1b436a8",
        "outputId": "cce016fa-c7cd-4619-d8fd-3c877b6e3e36"
      },
      "outputs": [
        {
          "name": "stdout",
          "output_type": "stream",
          "text": [
            "[31, 9, 84, 47, 54, 14, 87, 99, 24, 3]\n",
            "[12, 84, 12, 61, 40, 14, 30, 23, 50, 60]\n"
          ]
        }
      ],
      "source": [
        "import random\n",
        "\n",
        "n = 10\n",
        "lst_a = [random.randint(0,100) for i in range(n)]\n",
        "lst_b = [random.randint(0,100) for i in range(n)]\n",
        "print(lst_a)\n",
        "print(lst_b)"
      ]
    },
    {
      "cell_type": "markdown",
      "id": "4fda7f53",
      "metadata": {
        "id": "4fda7f53"
      },
      "source": [
        "### Exercício 11\n",
        "Considere duas listas de números ordenadas de forma crescente, sendo que as listas podem ter tamanhos diferentes. Escreva um código para juntar as duas listas em uma única de modo que os elementos permaneçam ordenados. Por exemplo, dadas as listas:\n",
        "\n",
        "[2, 3, 6, 11, 18, 23]\n",
        "\n",
        "e\n",
        "\n",
        "[13, 20, 25, 28, 29, 29, 33]\n",
        "\n",
        "o resultado do seu código deve ser:\n",
        "\n",
        "[2, 3, 6, 11, 13, 18, 20, 23, 25, 28, 29, 29, 33]\n",
        "\n",
        "A célula abaixo gera duas listas `lst1` e `lst2` ordenas. Utilize as listas `lst1` e `lst2` para testar a corretude de seu código.\n",
        "\n",
        "**OBS**: Você não precisa entender como o código abaixo gera as lista ordenadas, apenas utilize as lista geradas."
      ]
    },
    {
      "cell_type": "code",
      "execution_count": null,
      "id": "65bb59c7",
      "metadata": {
        "id": "65bb59c7",
        "outputId": "66eddb00-7d27-4c2f-baa2-e4ba982b1603"
      },
      "outputs": [
        {
          "name": "stdout",
          "output_type": "stream",
          "text": [
            "[2, 6, 6, 12, 38, 39, 53, 67, 71, 72]\n",
            "[1, 4, 7, 10, 13, 13, 21, 21, 30, 50, 69, 75, 76, 80, 82]\n"
          ]
        }
      ],
      "source": [
        "n = 10 # numero de elementos na lista lst1\n",
        "m = 15 # numero de elementos na lista lst2\n",
        "\n",
        "lst1 = sorted([random.randint(0,100) for i in range(n)])\n",
        "lst2 = sorted([random.randint(0,100) for i in range(m)])\n",
        "\n",
        "print(lst1)\n",
        "print(lst2)"
      ]
    },
    {
      "cell_type": "code",
      "execution_count": null,
      "id": "585641db",
      "metadata": {
        "id": "585641db"
      },
      "outputs": [],
      "source": [
        "# Solucao"
      ]
    }
  ],
  "metadata": {
    "kernelspec": {
      "display_name": "Python 3",
      "language": "python",
      "name": "python3"
    },
    "language_info": {
      "codemirror_mode": {
        "name": "ipython",
        "version": 3
      },
      "file_extension": ".py",
      "mimetype": "text/x-python",
      "name": "python",
      "nbconvert_exporter": "python",
      "pygments_lexer": "ipython3",
      "version": "3.8.8"
    },
    "colab": {
      "provenance": [],
      "include_colab_link": true
    }
  },
  "nbformat": 4,
  "nbformat_minor": 5
}